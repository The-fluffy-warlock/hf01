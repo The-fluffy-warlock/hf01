{
    "metadata": {
        "kernelspec": {
            "name": "SQL",
            "display_name": "SQL",
            "language": "sql"
        },
        "language_info": {
            "name": "sql",
            "version": ""
        }
    },
    "nbformat_minor": 2,
    "nbformat": 4,
    "cells": [
        {
            "cell_type": "code",
            "source": [
                "SELECT * ,\r\n",
                "LEFT(SZAMLA_CIM,4)\r\n",
                "From Rendeles\r\n",
                "where [LOGIN] = 'peter4'\r\n",
                ""
            ],
            "metadata": {
                "azdata_cell_guid": "e00d39f7-b08b-4788-9c7b-60ce5cec9523",
                "language": "sql"
            },
            "outputs": [
                {
                    "output_type": "display_data",
                    "data": {
                        "text/html": "(852 rows affected)"
                    },
                    "metadata": {}
                },
                {
                    "output_type": "display_data",
                    "data": {
                        "text/html": "Total execution time: 00:00:00.131"
                    },
                    "metadata": {}
                },
                {
                    "output_type": "execute_result",
                    "metadata": {},
                    "execution_count": 29,
                    "data": {
                        "application/vnd.dataresource+json": {
                            "schema": {
                                "fields": [
                                    {
                                        "name": "SORSZAM"
                                    },
                                    {
                                        "name": "LOGIN"
                                    },
                                    {
                                        "name": "REND_DATUM"
                                    },
                                    {
                                        "name": "SZALL_DATUM"
                                    },
                                    {
                                        "name": "SZALL_CIM"
                                    },
                                    {
                                        "name": "SZALL_MOD"
                                    },
                                    {
                                        "name": "FIZ_MOD"
                                    },
                                    {
                                        "name": "SZAMLA_CIM"
                                    },
                                    {
                                        "name": "(No column name)"
                                    }
                                ]
                            },
                            "data": [
                                {
                                    "SORSZAM": "55",
                                    "LOGIN": "peter4",
                                    "REND_DATUM": "2015-05-02",
                                    "SZALL_DATUM": "2015-05-08",
                                    "SZALL_CIM": "NULL",
                                    "SZALL_MOD": "Személyes átvétel",
                                    "FIZ_MOD": "Átutalás",
                                    "SZAMLA_CIM": "NULL",
                                    "(No column name)": "NULL"
                                },
                                {
                                    "SORSZAM": "74",
                                    "LOGIN": "peter4",
                                    "REND_DATUM": "2015-05-02",
                                    "SZALL_DATUM": "2015-05-06",
                                    "SZALL_CIM": "NULL",
                                    "SZALL_MOD": "Személyes átvétel",
                                    "FIZ_MOD": "Bankkártya",
                                    "SZAMLA_CIM": "NULL",
                                    "(No column name)": "NULL"
                                },
                                {
                                    "SORSZAM": "335",
                                    "LOGIN": "peter4",
                                    "REND_DATUM": "2015-05-09",
                                    "SZALL_DATUM": "2015-05-19",
                                    "SZALL_CIM": "NULL",
                                    "SZALL_MOD": "GLS",
                                    "FIZ_MOD": "Bankkártya",
                                    "SZAMLA_CIM": "NULL",
                                    "(No column name)": "NULL"
                                },
                                {
                                    "SORSZAM": "344",
                                    "LOGIN": "peter4",
                                    "REND_DATUM": "2015-05-09",
                                    "SZALL_DATUM": "2015-05-19",
                                    "SZALL_CIM": "NULL",
                                    "SZALL_MOD": "Posta",
                                    "FIZ_MOD": "Átutalás",
                                    "SZAMLA_CIM": "NULL",
                                    "(No column name)": "NULL"
                                },
                                {
                                    "SORSZAM": "402",
                                    "LOGIN": "peter4",
                                    "REND_DATUM": "2015-05-11",
                                    "SZALL_DATUM": "2015-05-20",
                                    "SZALL_CIM": "NULL",
                                    "SZALL_MOD": "Személyes átvétel",
                                    "FIZ_MOD": "Átutalás",
                                    "SZAMLA_CIM": "NULL",
                                    "(No column name)": "NULL"
                                },
                                {
                                    "SORSZAM": "523",
                                    "LOGIN": "peter4",
                                    "REND_DATUM": "2015-05-14",
                                    "SZALL_DATUM": "2015-05-18",
                                    "SZALL_CIM": "NULL",
                                    "SZALL_MOD": "Személyes átvétel",
                                    "FIZ_MOD": "Átutalás",
                                    "SZAMLA_CIM": "NULL",
                                    "(No column name)": "NULL"
                                },
                                {
                                    "SORSZAM": "702",
                                    "LOGIN": "peter4",
                                    "REND_DATUM": "2015-05-18",
                                    "SZALL_DATUM": "2015-05-24",
                                    "SZALL_CIM": "Jászkisér, Fő u. 2.",
                                    "SZALL_MOD": "Posta",
                                    "FIZ_MOD": "Bankkártya",
                                    "SZAMLA_CIM": "5137 Jászkisér, Fő u. 2.",
                                    "(No column name)": "5137"
                                },
                                {
                                    "SORSZAM": "973",
                                    "LOGIN": "peter4",
                                    "REND_DATUM": "2015-05-26",
                                    "SZALL_DATUM": "2015-06-05",
                                    "SZALL_CIM": "NULL",
                                    "SZALL_MOD": "Személyes átvétel",
                                    "FIZ_MOD": "Átutalás",
                                    "SZAMLA_CIM": "NULL",
                                    "(No column name)": "NULL"
                                },
                                {
                                    "SORSZAM": "1291",
                                    "LOGIN": "peter4",
                                    "REND_DATUM": "2015-06-03",
                                    "SZALL_DATUM": "2015-06-11",
                                    "SZALL_CIM": "NULL",
                                    "SZALL_MOD": "GLS",
                                    "FIZ_MOD": "Készpénz",
                                    "SZAMLA_CIM": "NULL",
                                    "(No column name)": "NULL"
                                },
                                {
                                    "SORSZAM": "1341",
                                    "LOGIN": "peter4",
                                    "REND_DATUM": "2015-06-04",
                                    "SZALL_DATUM": "2015-06-06",
                                    "SZALL_CIM": "Jászkisér, Fő u. 2.",
                                    "SZALL_MOD": "GLS",
                                    "FIZ_MOD": "Bankkártya",
                                    "SZAMLA_CIM": "NULL",
                                    "(No column name)": "NULL"
                                },
                                {
                                    "SORSZAM": "1588",
                                    "LOGIN": "peter4",
                                    "REND_DATUM": "2015-06-11",
                                    "SZALL_DATUM": "2015-06-17",
                                    "SZALL_CIM": "NULL",
                                    "SZALL_MOD": "Posta",
                                    "FIZ_MOD": "Átutalás",
                                    "SZAMLA_CIM": "NULL",
                                    "(No column name)": "NULL"
                                },
                                {
                                    "SORSZAM": "1608",
                                    "LOGIN": "peter4",
                                    "REND_DATUM": "2015-06-11",
                                    "SZALL_DATUM": "2015-06-14",
                                    "SZALL_CIM": "NULL",
                                    "SZALL_MOD": "Személyes átvétel",
                                    "FIZ_MOD": "Bankkártya",
                                    "SZAMLA_CIM": "NULL",
                                    "(No column name)": "NULL"
                                },
                                {
                                    "SORSZAM": "1622",
                                    "LOGIN": "peter4",
                                    "REND_DATUM": "2015-06-11",
                                    "SZALL_DATUM": "2015-06-13",
                                    "SZALL_CIM": "NULL",
                                    "SZALL_MOD": "GLS",
                                    "FIZ_MOD": "Átutalás",
                                    "SZAMLA_CIM": "NULL",
                                    "(No column name)": "NULL"
                                },
                                {
                                    "SORSZAM": "1627",
                                    "LOGIN": "peter4",
                                    "REND_DATUM": "2015-06-11",
                                    "SZALL_DATUM": "2015-06-16",
                                    "SZALL_CIM": "NULL",
                                    "SZALL_MOD": "Személyes átvétel",
                                    "FIZ_MOD": "Bankkártya",
                                    "SZAMLA_CIM": "NULL",
                                    "(No column name)": "NULL"
                                },
                                {
                                    "SORSZAM": "1653",
                                    "LOGIN": "peter4",
                                    "REND_DATUM": "2015-06-12",
                                    "SZALL_DATUM": "2015-06-21",
                                    "SZALL_CIM": "NULL",
                                    "SZALL_MOD": "Személyes átvétel",
                                    "FIZ_MOD": "Bankkártya",
                                    "SZAMLA_CIM": "NULL",
                                    "(No column name)": "NULL"
                                },
                                {
                                    "SORSZAM": "1739",
                                    "LOGIN": "peter4",
                                    "REND_DATUM": "2015-06-14",
                                    "SZALL_DATUM": "2015-06-23",
                                    "SZALL_CIM": "NULL",
                                    "SZALL_MOD": "Posta",
                                    "FIZ_MOD": "Átutalás",
                                    "SZAMLA_CIM": "NULL",
                                    "(No column name)": "NULL"
                                },
                                {
                                    "SORSZAM": "1798",
                                    "LOGIN": "peter4",
                                    "REND_DATUM": "2015-06-16",
                                    "SZALL_DATUM": "2015-06-21",
                                    "SZALL_CIM": "NULL",
                                    "SZALL_MOD": "GLS",
                                    "FIZ_MOD": "Bankkártya",
                                    "SZAMLA_CIM": "NULL",
                                    "(No column name)": "NULL"
                                },
                                {
                                    "SORSZAM": "1896",
                                    "LOGIN": "peter4",
                                    "REND_DATUM": "2015-06-19",
                                    "SZALL_DATUM": "2015-06-22",
                                    "SZALL_CIM": "NULL",
                                    "SZALL_MOD": "GLS",
                                    "FIZ_MOD": "Bankkártya",
                                    "SZAMLA_CIM": "NULL",
                                    "(No column name)": "NULL"
                                },
                                {
                                    "SORSZAM": "1912",
                                    "LOGIN": "peter4",
                                    "REND_DATUM": "2015-06-19",
                                    "SZALL_DATUM": "2015-06-24",
                                    "SZALL_CIM": "NULL",
                                    "SZALL_MOD": "GLS",
                                    "FIZ_MOD": "Átutalás",
                                    "SZAMLA_CIM": "NULL",
                                    "(No column name)": "NULL"
                                },
                                {
                                    "SORSZAM": "1940",
                                    "LOGIN": "peter4",
                                    "REND_DATUM": "2015-06-20",
                                    "SZALL_DATUM": "2015-06-27",
                                    "SZALL_CIM": "NULL",
                                    "SZALL_MOD": "Személyes átvétel",
                                    "FIZ_MOD": "Készpénz",
                                    "SZAMLA_CIM": "NULL",
                                    "(No column name)": "NULL"
                                },
                                {
                                    "SORSZAM": "1961",
                                    "LOGIN": "peter4",
                                    "REND_DATUM": "2015-06-20",
                                    "SZALL_DATUM": "2015-06-26",
                                    "SZALL_CIM": "NULL",
                                    "SZALL_MOD": "Posta",
                                    "FIZ_MOD": "Bankkártya",
                                    "SZAMLA_CIM": "NULL",
                                    "(No column name)": "NULL"
                                },
                                {
                                    "SORSZAM": "1969",
                                    "LOGIN": "peter4",
                                    "REND_DATUM": "2015-06-21",
                                    "SZALL_DATUM": "2015-06-25",
                                    "SZALL_CIM": "NULL",
                                    "SZALL_MOD": "Posta",
                                    "FIZ_MOD": "Bankkártya",
                                    "SZAMLA_CIM": "NULL",
                                    "(No column name)": "NULL"
                                },
                                {
                                    "SORSZAM": "2030",
                                    "LOGIN": "peter4",
                                    "REND_DATUM": "2015-06-22",
                                    "SZALL_DATUM": "2015-06-30",
                                    "SZALL_CIM": "NULL",
                                    "SZALL_MOD": "Posta",
                                    "FIZ_MOD": "Átutalás",
                                    "SZAMLA_CIM": "NULL",
                                    "(No column name)": "NULL"
                                },
                                {
                                    "SORSZAM": "2039",
                                    "LOGIN": "peter4",
                                    "REND_DATUM": "2015-06-22",
                                    "SZALL_DATUM": "2015-06-25",
                                    "SZALL_CIM": "NULL",
                                    "SZALL_MOD": "Személyes átvétel",
                                    "FIZ_MOD": "Készpénz",
                                    "SZAMLA_CIM": "NULL",
                                    "(No column name)": "NULL"
                                },
                                {
                                    "SORSZAM": "2041",
                                    "LOGIN": "peter4",
                                    "REND_DATUM": "2015-06-22",
                                    "SZALL_DATUM": "2015-06-28",
                                    "SZALL_CIM": "Jászkisér, Kiss u. 32.",
                                    "SZALL_MOD": "GLS",
                                    "FIZ_MOD": "Bankkártya",
                                    "SZAMLA_CIM": "NULL",
                                    "(No column name)": "NULL"
                                },
                                {
                                    "SORSZAM": "2053",
                                    "LOGIN": "peter4",
                                    "REND_DATUM": "2015-06-23",
                                    "SZALL_DATUM": "2015-06-30",
                                    "SZALL_CIM": "NULL",
                                    "SZALL_MOD": "Személyes átvétel",
                                    "FIZ_MOD": "Bankkártya",
                                    "SZAMLA_CIM": "NULL",
                                    "(No column name)": "NULL"
                                },
                                {
                                    "SORSZAM": "2129",
                                    "LOGIN": "peter4",
                                    "REND_DATUM": "2015-06-24",
                                    "SZALL_DATUM": "2015-06-26",
                                    "SZALL_CIM": "NULL",
                                    "SZALL_MOD": "Posta",
                                    "FIZ_MOD": "Átutalás",
                                    "SZAMLA_CIM": "NULL",
                                    "(No column name)": "NULL"
                                },
                                {
                                    "SORSZAM": "2159",
                                    "LOGIN": "peter4",
                                    "REND_DATUM": "2015-06-25",
                                    "SZALL_DATUM": "2015-06-28",
                                    "SZALL_CIM": "Jászkisér, Nagy u.14.",
                                    "SZALL_MOD": "GLS",
                                    "FIZ_MOD": "Bankkártya",
                                    "SZAMLA_CIM": "NULL",
                                    "(No column name)": "NULL"
                                },
                                {
                                    "SORSZAM": "2163",
                                    "LOGIN": "peter4",
                                    "REND_DATUM": "2015-06-25",
                                    "SZALL_DATUM": "2015-06-30",
                                    "SZALL_CIM": "NULL",
                                    "SZALL_MOD": "Posta",
                                    "FIZ_MOD": "Bankkártya",
                                    "SZAMLA_CIM": "NULL",
                                    "(No column name)": "NULL"
                                },
                                {
                                    "SORSZAM": "2237",
                                    "LOGIN": "peter4",
                                    "REND_DATUM": "2015-06-27",
                                    "SZALL_DATUM": "2015-07-04",
                                    "SZALL_CIM": "NULL",
                                    "SZALL_MOD": "GLS",
                                    "FIZ_MOD": "Átutalás",
                                    "SZAMLA_CIM": "NULL",
                                    "(No column name)": "NULL"
                                },
                                {
                                    "SORSZAM": "2272",
                                    "LOGIN": "peter4",
                                    "REND_DATUM": "2015-06-28",
                                    "SZALL_DATUM": "2015-06-30",
                                    "SZALL_CIM": "NULL",
                                    "SZALL_MOD": "Posta",
                                    "FIZ_MOD": "Bankkártya",
                                    "SZAMLA_CIM": "NULL",
                                    "(No column name)": "NULL"
                                },
                                {
                                    "SORSZAM": "2292",
                                    "LOGIN": "peter4",
                                    "REND_DATUM": "2015-06-29",
                                    "SZALL_DATUM": "2015-07-02",
                                    "SZALL_CIM": "NULL",
                                    "SZALL_MOD": "GLS",
                                    "FIZ_MOD": "Készpénz",
                                    "SZAMLA_CIM": "NULL",
                                    "(No column name)": "NULL"
                                },
                                {
                                    "SORSZAM": "2326",
                                    "LOGIN": "peter4",
                                    "REND_DATUM": "2015-06-30",
                                    "SZALL_DATUM": "2015-07-07",
                                    "SZALL_CIM": "NULL",
                                    "SZALL_MOD": "GLS",
                                    "FIZ_MOD": "Bankkártya",
                                    "SZAMLA_CIM": "NULL",
                                    "(No column name)": "NULL"
                                },
                                {
                                    "SORSZAM": "2357",
                                    "LOGIN": "peter4",
                                    "REND_DATUM": "2015-06-30",
                                    "SZALL_DATUM": "2015-07-03",
                                    "SZALL_CIM": "NULL",
                                    "SZALL_MOD": "Posta",
                                    "FIZ_MOD": "Bankkártya",
                                    "SZAMLA_CIM": "NULL",
                                    "(No column name)": "NULL"
                                },
                                {
                                    "SORSZAM": "2372",
                                    "LOGIN": "peter4",
                                    "REND_DATUM": "2015-07-01",
                                    "SZALL_DATUM": "2015-07-04",
                                    "SZALL_CIM": "NULL",
                                    "SZALL_MOD": "Személyes átvétel",
                                    "FIZ_MOD": "Bankkártya",
                                    "SZAMLA_CIM": "NULL",
                                    "(No column name)": "NULL"
                                },
                                {
                                    "SORSZAM": "2378",
                                    "LOGIN": "peter4",
                                    "REND_DATUM": "2015-07-01",
                                    "SZALL_DATUM": "2015-07-04",
                                    "SZALL_CIM": "NULL",
                                    "SZALL_MOD": "Személyes átvétel",
                                    "FIZ_MOD": "Készpénz",
                                    "SZAMLA_CIM": "NULL",
                                    "(No column name)": "NULL"
                                },
                                {
                                    "SORSZAM": "2385",
                                    "LOGIN": "peter4",
                                    "REND_DATUM": "2015-07-01",
                                    "SZALL_DATUM": "2015-07-10",
                                    "SZALL_CIM": "Jászkisér, Fő u. 2.",
                                    "SZALL_MOD": "GLS",
                                    "FIZ_MOD": "Átutalás",
                                    "SZAMLA_CIM": "NULL",
                                    "(No column name)": "NULL"
                                },
                                {
                                    "SORSZAM": "2394",
                                    "LOGIN": "peter4",
                                    "REND_DATUM": "2015-07-01",
                                    "SZALL_DATUM": "2015-07-04",
                                    "SZALL_CIM": "Jászkisér, Fő u. 2.",
                                    "SZALL_MOD": "GLS",
                                    "FIZ_MOD": "Bankkártya",
                                    "SZAMLA_CIM": "NULL",
                                    "(No column name)": "NULL"
                                },
                                {
                                    "SORSZAM": "2395",
                                    "LOGIN": "peter4",
                                    "REND_DATUM": "2015-07-01",
                                    "SZALL_DATUM": "2015-07-06",
                                    "SZALL_CIM": "NULL",
                                    "SZALL_MOD": "Posta",
                                    "FIZ_MOD": "Átutalás",
                                    "SZAMLA_CIM": "NULL",
                                    "(No column name)": "NULL"
                                },
                                {
                                    "SORSZAM": "2429",
                                    "LOGIN": "peter4",
                                    "REND_DATUM": "2015-07-02",
                                    "SZALL_DATUM": "2015-07-04",
                                    "SZALL_CIM": "NULL",
                                    "SZALL_MOD": "Személyes átvétel",
                                    "FIZ_MOD": "Bankkártya",
                                    "SZAMLA_CIM": "NULL",
                                    "(No column name)": "NULL"
                                },
                                {
                                    "SORSZAM": "2446",
                                    "LOGIN": "peter4",
                                    "REND_DATUM": "2015-07-03",
                                    "SZALL_DATUM": "2015-07-13",
                                    "SZALL_CIM": "NULL",
                                    "SZALL_MOD": "Személyes átvétel",
                                    "FIZ_MOD": "Készpénz",
                                    "SZAMLA_CIM": "NULL",
                                    "(No column name)": "NULL"
                                },
                                {
                                    "SORSZAM": "2505",
                                    "LOGIN": "peter4",
                                    "REND_DATUM": "2015-07-04",
                                    "SZALL_DATUM": "2015-07-12",
                                    "SZALL_CIM": "NULL",
                                    "SZALL_MOD": "Posta",
                                    "FIZ_MOD": "Bankkártya",
                                    "SZAMLA_CIM": "NULL",
                                    "(No column name)": "NULL"
                                },
                                {
                                    "SORSZAM": "2507",
                                    "LOGIN": "peter4",
                                    "REND_DATUM": "2015-07-05",
                                    "SZALL_DATUM": "2015-07-09",
                                    "SZALL_CIM": "NULL",
                                    "SZALL_MOD": "Személyes átvétel",
                                    "FIZ_MOD": "Bankkártya",
                                    "SZAMLA_CIM": "NULL",
                                    "(No column name)": "NULL"
                                },
                                {
                                    "SORSZAM": "2518",
                                    "LOGIN": "peter4",
                                    "REND_DATUM": "2015-07-05",
                                    "SZALL_DATUM": "2015-07-14",
                                    "SZALL_CIM": "NULL",
                                    "SZALL_MOD": "Posta",
                                    "FIZ_MOD": "Átutalás",
                                    "SZAMLA_CIM": "NULL",
                                    "(No column name)": "NULL"
                                },
                                {
                                    "SORSZAM": "2602",
                                    "LOGIN": "peter4",
                                    "REND_DATUM": "2015-07-07",
                                    "SZALL_DATUM": "2015-07-13",
                                    "SZALL_CIM": "NULL",
                                    "SZALL_MOD": "Személyes átvétel",
                                    "FIZ_MOD": "Átutalás",
                                    "SZAMLA_CIM": "NULL",
                                    "(No column name)": "NULL"
                                },
                                {
                                    "SORSZAM": "2604",
                                    "LOGIN": "peter4",
                                    "REND_DATUM": "2015-07-07",
                                    "SZALL_DATUM": "2015-07-14",
                                    "SZALL_CIM": "NULL",
                                    "SZALL_MOD": "GLS",
                                    "FIZ_MOD": "Bankkártya",
                                    "SZAMLA_CIM": "NULL",
                                    "(No column name)": "NULL"
                                },
                                {
                                    "SORSZAM": "2608",
                                    "LOGIN": "peter4",
                                    "REND_DATUM": "2015-07-07",
                                    "SZALL_DATUM": "2015-07-17",
                                    "SZALL_CIM": "NULL",
                                    "SZALL_MOD": "GLS",
                                    "FIZ_MOD": "Átutalás",
                                    "SZAMLA_CIM": "NULL",
                                    "(No column name)": "NULL"
                                },
                                {
                                    "SORSZAM": "2619",
                                    "LOGIN": "peter4",
                                    "REND_DATUM": "2015-07-07",
                                    "SZALL_DATUM": "2015-07-09",
                                    "SZALL_CIM": "Jászkisér, Fő u. 2.",
                                    "SZALL_MOD": "Személyes átvétel",
                                    "FIZ_MOD": "Bankkártya",
                                    "SZAMLA_CIM": "5137 Jászkisér, Fő u. 2.",
                                    "(No column name)": "5137"
                                },
                                {
                                    "SORSZAM": "2621",
                                    "LOGIN": "peter4",
                                    "REND_DATUM": "2015-07-07",
                                    "SZALL_DATUM": "2015-07-11",
                                    "SZALL_CIM": "NULL",
                                    "SZALL_MOD": "Posta",
                                    "FIZ_MOD": "Átutalás",
                                    "SZAMLA_CIM": "NULL",
                                    "(No column name)": "NULL"
                                },
                                {
                                    "SORSZAM": "2647",
                                    "LOGIN": "peter4",
                                    "REND_DATUM": "2015-07-08",
                                    "SZALL_DATUM": "2015-07-11",
                                    "SZALL_CIM": "NULL",
                                    "SZALL_MOD": "Posta",
                                    "FIZ_MOD": "Bankkártya",
                                    "SZAMLA_CIM": "NULL",
                                    "(No column name)": "NULL"
                                },
                                {
                                    "SORSZAM": "2721",
                                    "LOGIN": "peter4",
                                    "REND_DATUM": "2015-07-10",
                                    "SZALL_DATUM": "2015-07-15",
                                    "SZALL_CIM": "NULL",
                                    "SZALL_MOD": "Személyes átvétel",
                                    "FIZ_MOD": "Átutalás",
                                    "SZAMLA_CIM": "NULL",
                                    "(No column name)": "NULL"
                                },
                                {
                                    "SORSZAM": "2750",
                                    "LOGIN": "peter4",
                                    "REND_DATUM": "2015-07-11",
                                    "SZALL_DATUM": "2015-07-16",
                                    "SZALL_CIM": "NULL",
                                    "SZALL_MOD": "GLS",
                                    "FIZ_MOD": "Bankkártya",
                                    "SZAMLA_CIM": "NULL",
                                    "(No column name)": "NULL"
                                },
                                {
                                    "SORSZAM": "2752",
                                    "LOGIN": "peter4",
                                    "REND_DATUM": "2015-07-11",
                                    "SZALL_DATUM": "2015-07-13",
                                    "SZALL_CIM": "NULL",
                                    "SZALL_MOD": "GLS",
                                    "FIZ_MOD": "Átutalás",
                                    "SZAMLA_CIM": "NULL",
                                    "(No column name)": "NULL"
                                },
                                {
                                    "SORSZAM": "2755",
                                    "LOGIN": "peter4",
                                    "REND_DATUM": "2015-07-11",
                                    "SZALL_DATUM": "2015-07-16",
                                    "SZALL_CIM": "NULL",
                                    "SZALL_MOD": "Személyes átvétel",
                                    "FIZ_MOD": "Átutalás",
                                    "SZAMLA_CIM": "NULL",
                                    "(No column name)": "NULL"
                                },
                                {
                                    "SORSZAM": "2777",
                                    "LOGIN": "peter4",
                                    "REND_DATUM": "2015-07-11",
                                    "SZALL_DATUM": "2015-07-14",
                                    "SZALL_CIM": "NULL",
                                    "SZALL_MOD": "GLS",
                                    "FIZ_MOD": "Átutalás",
                                    "SZAMLA_CIM": "NULL",
                                    "(No column name)": "NULL"
                                },
                                {
                                    "SORSZAM": "2806",
                                    "LOGIN": "peter4",
                                    "REND_DATUM": "2015-07-12",
                                    "SZALL_DATUM": "2015-07-14",
                                    "SZALL_CIM": "NULL",
                                    "SZALL_MOD": "Személyes átvétel",
                                    "FIZ_MOD": "Átutalás",
                                    "SZAMLA_CIM": "NULL",
                                    "(No column name)": "NULL"
                                },
                                {
                                    "SORSZAM": "2829",
                                    "LOGIN": "peter4",
                                    "REND_DATUM": "2015-07-13",
                                    "SZALL_DATUM": "2015-07-22",
                                    "SZALL_CIM": "NULL",
                                    "SZALL_MOD": "Posta",
                                    "FIZ_MOD": "Bankkártya",
                                    "SZAMLA_CIM": "NULL",
                                    "(No column name)": "NULL"
                                },
                                {
                                    "SORSZAM": "2830",
                                    "LOGIN": "peter4",
                                    "REND_DATUM": "2015-07-13",
                                    "SZALL_DATUM": "2015-07-15",
                                    "SZALL_CIM": "NULL",
                                    "SZALL_MOD": "GLS",
                                    "FIZ_MOD": "Bankkártya",
                                    "SZAMLA_CIM": "NULL",
                                    "(No column name)": "NULL"
                                },
                                {
                                    "SORSZAM": "2841",
                                    "LOGIN": "peter4",
                                    "REND_DATUM": "2015-07-13",
                                    "SZALL_DATUM": "2015-07-16",
                                    "SZALL_CIM": "NULL",
                                    "SZALL_MOD": "Személyes átvétel",
                                    "FIZ_MOD": "Átutalás",
                                    "SZAMLA_CIM": "NULL",
                                    "(No column name)": "NULL"
                                },
                                {
                                    "SORSZAM": "2911",
                                    "LOGIN": "peter4",
                                    "REND_DATUM": "2015-07-14",
                                    "SZALL_DATUM": "2015-07-23",
                                    "SZALL_CIM": "NULL",
                                    "SZALL_MOD": "Személyes átvétel",
                                    "FIZ_MOD": "Bankkártya",
                                    "SZAMLA_CIM": "NULL",
                                    "(No column name)": "NULL"
                                },
                                {
                                    "SORSZAM": "2952",
                                    "LOGIN": "peter4",
                                    "REND_DATUM": "2015-07-16",
                                    "SZALL_DATUM": "2015-07-23",
                                    "SZALL_CIM": "Jászkisér, Fő u. 2.",
                                    "SZALL_MOD": "GLS",
                                    "FIZ_MOD": "Készpénz",
                                    "SZAMLA_CIM": "NULL",
                                    "(No column name)": "NULL"
                                },
                                {
                                    "SORSZAM": "2998",
                                    "LOGIN": "peter4",
                                    "REND_DATUM": "2015-07-17",
                                    "SZALL_DATUM": "2015-07-26",
                                    "SZALL_CIM": "NULL",
                                    "SZALL_MOD": "Személyes átvétel",
                                    "FIZ_MOD": "Készpénz",
                                    "SZAMLA_CIM": "NULL",
                                    "(No column name)": "NULL"
                                },
                                {
                                    "SORSZAM": "3014",
                                    "LOGIN": "peter4",
                                    "REND_DATUM": "2015-07-17",
                                    "SZALL_DATUM": "2015-07-26",
                                    "SZALL_CIM": "NULL",
                                    "SZALL_MOD": "Személyes átvétel",
                                    "FIZ_MOD": "Bankkártya",
                                    "SZAMLA_CIM": "NULL",
                                    "(No column name)": "NULL"
                                },
                                {
                                    "SORSZAM": "3100",
                                    "LOGIN": "peter4",
                                    "REND_DATUM": "2015-07-19",
                                    "SZALL_DATUM": "2015-07-27",
                                    "SZALL_CIM": "NULL",
                                    "SZALL_MOD": "Posta",
                                    "FIZ_MOD": "Átutalás",
                                    "SZAMLA_CIM": "NULL",
                                    "(No column name)": "NULL"
                                },
                                {
                                    "SORSZAM": "3182",
                                    "LOGIN": "peter4",
                                    "REND_DATUM": "2015-07-22",
                                    "SZALL_DATUM": "2015-07-31",
                                    "SZALL_CIM": "NULL",
                                    "SZALL_MOD": "GLS",
                                    "FIZ_MOD": "Átutalás",
                                    "SZAMLA_CIM": "NULL",
                                    "(No column name)": "NULL"
                                },
                                {
                                    "SORSZAM": "3197",
                                    "LOGIN": "peter4",
                                    "REND_DATUM": "2015-07-22",
                                    "SZALL_DATUM": "2015-07-30",
                                    "SZALL_CIM": "NULL",
                                    "SZALL_MOD": "GLS",
                                    "FIZ_MOD": "Bankkártya",
                                    "SZAMLA_CIM": "NULL",
                                    "(No column name)": "NULL"
                                },
                                {
                                    "SORSZAM": "3199",
                                    "LOGIN": "peter4",
                                    "REND_DATUM": "2015-07-22",
                                    "SZALL_DATUM": "2015-07-31",
                                    "SZALL_CIM": "NULL",
                                    "SZALL_MOD": "Személyes átvétel",
                                    "FIZ_MOD": "Bankkártya",
                                    "SZAMLA_CIM": "NULL",
                                    "(No column name)": "NULL"
                                },
                                {
                                    "SORSZAM": "3243",
                                    "LOGIN": "peter4",
                                    "REND_DATUM": "2015-07-23",
                                    "SZALL_DATUM": "2015-07-26",
                                    "SZALL_CIM": "NULL",
                                    "SZALL_MOD": "Posta",
                                    "FIZ_MOD": "Bankkártya",
                                    "SZAMLA_CIM": "NULL",
                                    "(No column name)": "NULL"
                                },
                                {
                                    "SORSZAM": "3447",
                                    "LOGIN": "peter4",
                                    "REND_DATUM": "2015-07-28",
                                    "SZALL_DATUM": "2015-08-01",
                                    "SZALL_CIM": "Jászkisér, Fő u. 2.",
                                    "SZALL_MOD": "Személyes átvétel",
                                    "FIZ_MOD": "Készpénz",
                                    "SZAMLA_CIM": "NULL",
                                    "(No column name)": "NULL"
                                },
                                {
                                    "SORSZAM": "3486",
                                    "LOGIN": "peter4",
                                    "REND_DATUM": "2015-07-29",
                                    "SZALL_DATUM": "2015-08-06",
                                    "SZALL_CIM": "NULL",
                                    "SZALL_MOD": "Személyes átvétel",
                                    "FIZ_MOD": "Készpénz",
                                    "SZAMLA_CIM": "NULL",
                                    "(No column name)": "NULL"
                                },
                                {
                                    "SORSZAM": "3512",
                                    "LOGIN": "peter4",
                                    "REND_DATUM": "2015-07-29",
                                    "SZALL_DATUM": "2015-08-05",
                                    "SZALL_CIM": "NULL",
                                    "SZALL_MOD": "GLS",
                                    "FIZ_MOD": "Átutalás",
                                    "SZAMLA_CIM": "NULL",
                                    "(No column name)": "NULL"
                                },
                                {
                                    "SORSZAM": "3518",
                                    "LOGIN": "peter4",
                                    "REND_DATUM": "2015-07-30",
                                    "SZALL_DATUM": "2015-08-08",
                                    "SZALL_CIM": "NULL",
                                    "SZALL_MOD": "Személyes átvétel",
                                    "FIZ_MOD": "Átutalás",
                                    "SZAMLA_CIM": "NULL",
                                    "(No column name)": "NULL"
                                },
                                {
                                    "SORSZAM": "3521",
                                    "LOGIN": "peter4",
                                    "REND_DATUM": "2015-07-30",
                                    "SZALL_DATUM": "2015-08-06",
                                    "SZALL_CIM": "NULL",
                                    "SZALL_MOD": "Személyes átvétel",
                                    "FIZ_MOD": "Átutalás",
                                    "SZAMLA_CIM": "NULL",
                                    "(No column name)": "NULL"
                                },
                                {
                                    "SORSZAM": "3543",
                                    "LOGIN": "peter4",
                                    "REND_DATUM": "2015-07-30",
                                    "SZALL_DATUM": "2015-08-01",
                                    "SZALL_CIM": "NULL",
                                    "SZALL_MOD": "Személyes átvétel",
                                    "FIZ_MOD": "Bankkártya",
                                    "SZAMLA_CIM": "NULL",
                                    "(No column name)": "NULL"
                                },
                                {
                                    "SORSZAM": "3552",
                                    "LOGIN": "peter4",
                                    "REND_DATUM": "2015-07-31",
                                    "SZALL_DATUM": "2015-08-03",
                                    "SZALL_CIM": "NULL",
                                    "SZALL_MOD": "Személyes átvétel",
                                    "FIZ_MOD": "Átutalás",
                                    "SZAMLA_CIM": "NULL",
                                    "(No column name)": "NULL"
                                },
                                {
                                    "SORSZAM": "3572",
                                    "LOGIN": "peter4",
                                    "REND_DATUM": "2015-07-31",
                                    "SZALL_DATUM": "2015-08-06",
                                    "SZALL_CIM": "NULL",
                                    "SZALL_MOD": "GLS",
                                    "FIZ_MOD": "Bankkártya",
                                    "SZAMLA_CIM": "NULL",
                                    "(No column name)": "NULL"
                                },
                                {
                                    "SORSZAM": "3577",
                                    "LOGIN": "peter4",
                                    "REND_DATUM": "2015-07-31",
                                    "SZALL_DATUM": "2015-08-04",
                                    "SZALL_CIM": "NULL",
                                    "SZALL_MOD": "Személyes átvétel",
                                    "FIZ_MOD": "Bankkártya",
                                    "SZAMLA_CIM": "NULL",
                                    "(No column name)": "NULL"
                                },
                                {
                                    "SORSZAM": "3610",
                                    "LOGIN": "peter4",
                                    "REND_DATUM": "2015-08-01",
                                    "SZALL_DATUM": "2015-08-03",
                                    "SZALL_CIM": "NULL",
                                    "SZALL_MOD": "Posta",
                                    "FIZ_MOD": "Átutalás",
                                    "SZAMLA_CIM": "NULL",
                                    "(No column name)": "NULL"
                                },
                                {
                                    "SORSZAM": "3637",
                                    "LOGIN": "peter4",
                                    "REND_DATUM": "2015-08-01",
                                    "SZALL_DATUM": "2015-08-08",
                                    "SZALL_CIM": "NULL",
                                    "SZALL_MOD": "Posta",
                                    "FIZ_MOD": "Átutalás",
                                    "SZAMLA_CIM": "NULL",
                                    "(No column name)": "NULL"
                                },
                                {
                                    "SORSZAM": "3685",
                                    "LOGIN": "peter4",
                                    "REND_DATUM": "2015-08-03",
                                    "SZALL_DATUM": "2015-08-06",
                                    "SZALL_CIM": "NULL",
                                    "SZALL_MOD": "Posta",
                                    "FIZ_MOD": "Bankkártya",
                                    "SZAMLA_CIM": "NULL",
                                    "(No column name)": "NULL"
                                },
                                {
                                    "SORSZAM": "3694",
                                    "LOGIN": "peter4",
                                    "REND_DATUM": "2015-08-03",
                                    "SZALL_DATUM": "2015-08-09",
                                    "SZALL_CIM": "NULL",
                                    "SZALL_MOD": "Személyes átvétel",
                                    "FIZ_MOD": "Átutalás",
                                    "SZAMLA_CIM": "NULL",
                                    "(No column name)": "NULL"
                                },
                                {
                                    "SORSZAM": "3735",
                                    "LOGIN": "peter4",
                                    "REND_DATUM": "2015-08-04",
                                    "SZALL_DATUM": "2015-08-08",
                                    "SZALL_CIM": "Jászkisér, Fő u. 2.",
                                    "SZALL_MOD": "GLS",
                                    "FIZ_MOD": "Átutalás",
                                    "SZAMLA_CIM": "NULL",
                                    "(No column name)": "NULL"
                                },
                                {
                                    "SORSZAM": "3742",
                                    "LOGIN": "peter4",
                                    "REND_DATUM": "2015-08-04",
                                    "SZALL_DATUM": "2015-08-07",
                                    "SZALL_CIM": "NULL",
                                    "SZALL_MOD": "Posta",
                                    "FIZ_MOD": "Bankkártya",
                                    "SZAMLA_CIM": "NULL",
                                    "(No column name)": "NULL"
                                },
                                {
                                    "SORSZAM": "3753",
                                    "LOGIN": "peter4",
                                    "REND_DATUM": "2015-08-04",
                                    "SZALL_DATUM": "2015-08-07",
                                    "SZALL_CIM": "Jászkisér, Fő u. 2.",
                                    "SZALL_MOD": "Posta",
                                    "FIZ_MOD": "Bankkártya",
                                    "SZAMLA_CIM": "5137 Jászkisér, Fő u. 2.",
                                    "(No column name)": "5137"
                                },
                                {
                                    "SORSZAM": "3813",
                                    "LOGIN": "peter4",
                                    "REND_DATUM": "2015-08-06",
                                    "SZALL_DATUM": "2015-08-08",
                                    "SZALL_CIM": "NULL",
                                    "SZALL_MOD": "Posta",
                                    "FIZ_MOD": "Bankkártya",
                                    "SZAMLA_CIM": "NULL",
                                    "(No column name)": "NULL"
                                },
                                {
                                    "SORSZAM": "3818",
                                    "LOGIN": "peter4",
                                    "REND_DATUM": "2015-08-06",
                                    "SZALL_DATUM": "2015-08-14",
                                    "SZALL_CIM": "NULL",
                                    "SZALL_MOD": "Posta",
                                    "FIZ_MOD": "Bankkártya",
                                    "SZAMLA_CIM": "NULL",
                                    "(No column name)": "NULL"
                                },
                                {
                                    "SORSZAM": "3959",
                                    "LOGIN": "peter4",
                                    "REND_DATUM": "2015-08-09",
                                    "SZALL_DATUM": "2015-08-16",
                                    "SZALL_CIM": "NULL",
                                    "SZALL_MOD": "Személyes átvétel",
                                    "FIZ_MOD": "Átutalás",
                                    "SZAMLA_CIM": "NULL",
                                    "(No column name)": "NULL"
                                },
                                {
                                    "SORSZAM": "3993",
                                    "LOGIN": "peter4",
                                    "REND_DATUM": "2015-08-10",
                                    "SZALL_DATUM": "2015-08-12",
                                    "SZALL_CIM": "NULL",
                                    "SZALL_MOD": "Személyes átvétel",
                                    "FIZ_MOD": "Bankkártya",
                                    "SZAMLA_CIM": "NULL",
                                    "(No column name)": "NULL"
                                },
                                {
                                    "SORSZAM": "4008",
                                    "LOGIN": "peter4",
                                    "REND_DATUM": "2015-08-10",
                                    "SZALL_DATUM": "2015-08-17",
                                    "SZALL_CIM": "NULL",
                                    "SZALL_MOD": "Posta",
                                    "FIZ_MOD": "Átutalás",
                                    "SZAMLA_CIM": "NULL",
                                    "(No column name)": "NULL"
                                },
                                {
                                    "SORSZAM": "4038",
                                    "LOGIN": "peter4",
                                    "REND_DATUM": "2015-08-11",
                                    "SZALL_DATUM": "2015-08-14",
                                    "SZALL_CIM": "NULL",
                                    "SZALL_MOD": "GLS",
                                    "FIZ_MOD": "Bankkártya",
                                    "SZAMLA_CIM": "NULL",
                                    "(No column name)": "NULL"
                                },
                                {
                                    "SORSZAM": "4057",
                                    "LOGIN": "peter4",
                                    "REND_DATUM": "2015-08-12",
                                    "SZALL_DATUM": "2015-08-22",
                                    "SZALL_CIM": "NULL",
                                    "SZALL_MOD": "Személyes átvétel",
                                    "FIZ_MOD": "Bankkártya",
                                    "SZAMLA_CIM": "NULL",
                                    "(No column name)": "NULL"
                                },
                                {
                                    "SORSZAM": "4062",
                                    "LOGIN": "peter4",
                                    "REND_DATUM": "2015-08-12",
                                    "SZALL_DATUM": "2015-08-22",
                                    "SZALL_CIM": "NULL",
                                    "SZALL_MOD": "Posta",
                                    "FIZ_MOD": "Átutalás",
                                    "SZAMLA_CIM": "NULL",
                                    "(No column name)": "NULL"
                                },
                                {
                                    "SORSZAM": "4076",
                                    "LOGIN": "peter4",
                                    "REND_DATUM": "2015-08-12",
                                    "SZALL_DATUM": "2015-08-20",
                                    "SZALL_CIM": "NULL",
                                    "SZALL_MOD": "Posta",
                                    "FIZ_MOD": "Készpénz",
                                    "SZAMLA_CIM": "NULL",
                                    "(No column name)": "NULL"
                                },
                                {
                                    "SORSZAM": "4118",
                                    "LOGIN": "peter4",
                                    "REND_DATUM": "2015-08-13",
                                    "SZALL_DATUM": "2015-08-17",
                                    "SZALL_CIM": "NULL",
                                    "SZALL_MOD": "Személyes átvétel",
                                    "FIZ_MOD": "Készpénz",
                                    "SZAMLA_CIM": "NULL",
                                    "(No column name)": "NULL"
                                },
                                {
                                    "SORSZAM": "4151",
                                    "LOGIN": "peter4",
                                    "REND_DATUM": "2015-08-14",
                                    "SZALL_DATUM": "2015-08-24",
                                    "SZALL_CIM": "NULL",
                                    "SZALL_MOD": "Személyes átvétel",
                                    "FIZ_MOD": "Bankkártya",
                                    "SZAMLA_CIM": "NULL",
                                    "(No column name)": "NULL"
                                },
                                {
                                    "SORSZAM": "4198",
                                    "LOGIN": "peter4",
                                    "REND_DATUM": "2015-08-15",
                                    "SZALL_DATUM": "2015-08-20",
                                    "SZALL_CIM": "NULL",
                                    "SZALL_MOD": "Posta",
                                    "FIZ_MOD": "Átutalás",
                                    "SZAMLA_CIM": "NULL",
                                    "(No column name)": "NULL"
                                },
                                {
                                    "SORSZAM": "4201",
                                    "LOGIN": "peter4",
                                    "REND_DATUM": "2015-08-15",
                                    "SZALL_DATUM": "2015-08-19",
                                    "SZALL_CIM": "NULL",
                                    "SZALL_MOD": "Posta",
                                    "FIZ_MOD": "Készpénz",
                                    "SZAMLA_CIM": "NULL",
                                    "(No column name)": "NULL"
                                },
                                {
                                    "SORSZAM": "4248",
                                    "LOGIN": "peter4",
                                    "REND_DATUM": "2015-08-17",
                                    "SZALL_DATUM": "2015-08-27",
                                    "SZALL_CIM": "Jászkisér, Fő u. 2.",
                                    "SZALL_MOD": "Személyes átvétel",
                                    "FIZ_MOD": "Átutalás",
                                    "SZAMLA_CIM": "NULL",
                                    "(No column name)": "NULL"
                                },
                                {
                                    "SORSZAM": "4251",
                                    "LOGIN": "peter4",
                                    "REND_DATUM": "2015-08-17",
                                    "SZALL_DATUM": "2015-08-20",
                                    "SZALL_CIM": "Jászkisér, Kiss u. 32.",
                                    "SZALL_MOD": "Személyes átvétel",
                                    "FIZ_MOD": "Bankkártya",
                                    "SZAMLA_CIM": "NULL",
                                    "(No column name)": "NULL"
                                },
                                {
                                    "SORSZAM": "4258",
                                    "LOGIN": "peter4",
                                    "REND_DATUM": "2015-08-17",
                                    "SZALL_DATUM": "2015-08-24",
                                    "SZALL_CIM": "NULL",
                                    "SZALL_MOD": "GLS",
                                    "FIZ_MOD": "Bankkártya",
                                    "SZAMLA_CIM": "NULL",
                                    "(No column name)": "NULL"
                                },
                                {
                                    "SORSZAM": "4352",
                                    "LOGIN": "peter4",
                                    "REND_DATUM": "2015-08-19",
                                    "SZALL_DATUM": "2015-08-24",
                                    "SZALL_CIM": "Jászkisér, Nagy u.14.",
                                    "SZALL_MOD": "GLS",
                                    "FIZ_MOD": "Átutalás",
                                    "SZAMLA_CIM": "NULL",
                                    "(No column name)": "NULL"
                                },
                                {
                                    "SORSZAM": "4358",
                                    "LOGIN": "peter4",
                                    "REND_DATUM": "2015-08-19",
                                    "SZALL_DATUM": "2015-08-26",
                                    "SZALL_CIM": "NULL",
                                    "SZALL_MOD": "GLS",
                                    "FIZ_MOD": "Bankkártya",
                                    "SZAMLA_CIM": "NULL",
                                    "(No column name)": "NULL"
                                },
                                {
                                    "SORSZAM": "4361",
                                    "LOGIN": "peter4",
                                    "REND_DATUM": "2015-08-19",
                                    "SZALL_DATUM": "2015-08-26",
                                    "SZALL_CIM": "NULL",
                                    "SZALL_MOD": "Posta",
                                    "FIZ_MOD": "Átutalás",
                                    "SZAMLA_CIM": "NULL",
                                    "(No column name)": "NULL"
                                },
                                {
                                    "SORSZAM": "4383",
                                    "LOGIN": "peter4",
                                    "REND_DATUM": "2015-08-20",
                                    "SZALL_DATUM": "2015-08-22",
                                    "SZALL_CIM": "Jászkisér, Fő u. 2.",
                                    "SZALL_MOD": "Személyes átvétel",
                                    "FIZ_MOD": "Átutalás",
                                    "SZAMLA_CIM": "NULL",
                                    "(No column name)": "NULL"
                                },
                                {
                                    "SORSZAM": "4461",
                                    "LOGIN": "peter4",
                                    "REND_DATUM": "2015-08-22",
                                    "SZALL_DATUM": "2015-09-01",
                                    "SZALL_CIM": "NULL",
                                    "SZALL_MOD": "Posta",
                                    "FIZ_MOD": "Átutalás",
                                    "SZAMLA_CIM": "NULL",
                                    "(No column name)": "NULL"
                                },
                                {
                                    "SORSZAM": "4486",
                                    "LOGIN": "peter4",
                                    "REND_DATUM": "2015-08-22",
                                    "SZALL_DATUM": "2015-08-31",
                                    "SZALL_CIM": "NULL",
                                    "SZALL_MOD": "GLS",
                                    "FIZ_MOD": "Átutalás",
                                    "SZAMLA_CIM": "NULL",
                                    "(No column name)": "NULL"
                                },
                                {
                                    "SORSZAM": "4517",
                                    "LOGIN": "peter4",
                                    "REND_DATUM": "2015-08-23",
                                    "SZALL_DATUM": "2015-08-30",
                                    "SZALL_CIM": "NULL",
                                    "SZALL_MOD": "GLS",
                                    "FIZ_MOD": "Bankkártya",
                                    "SZAMLA_CIM": "NULL",
                                    "(No column name)": "NULL"
                                },
                                {
                                    "SORSZAM": "4547",
                                    "LOGIN": "peter4",
                                    "REND_DATUM": "2015-08-24",
                                    "SZALL_DATUM": "2015-08-30",
                                    "SZALL_CIM": "NULL",
                                    "SZALL_MOD": "GLS",
                                    "FIZ_MOD": "Átutalás",
                                    "SZAMLA_CIM": "NULL",
                                    "(No column name)": "NULL"
                                },
                                {
                                    "SORSZAM": "4559",
                                    "LOGIN": "peter4",
                                    "REND_DATUM": "2015-08-24",
                                    "SZALL_DATUM": "2015-09-02",
                                    "SZALL_CIM": "NULL",
                                    "SZALL_MOD": "Személyes átvétel",
                                    "FIZ_MOD": "Készpénz",
                                    "SZAMLA_CIM": "NULL",
                                    "(No column name)": "NULL"
                                },
                                {
                                    "SORSZAM": "4603",
                                    "LOGIN": "peter4",
                                    "REND_DATUM": "2015-08-25",
                                    "SZALL_DATUM": "2015-08-30",
                                    "SZALL_CIM": "NULL",
                                    "SZALL_MOD": "Személyes átvétel",
                                    "FIZ_MOD": "Bankkártya",
                                    "SZAMLA_CIM": "NULL",
                                    "(No column name)": "NULL"
                                },
                                {
                                    "SORSZAM": "4607",
                                    "LOGIN": "peter4",
                                    "REND_DATUM": "2015-08-25",
                                    "SZALL_DATUM": "2015-09-04",
                                    "SZALL_CIM": "Jászkisér, Nagy u.14.",
                                    "SZALL_MOD": "GLS",
                                    "FIZ_MOD": "Átutalás",
                                    "SZAMLA_CIM": "NULL",
                                    "(No column name)": "NULL"
                                },
                                {
                                    "SORSZAM": "4608",
                                    "LOGIN": "peter4",
                                    "REND_DATUM": "2015-08-25",
                                    "SZALL_DATUM": "2015-08-31",
                                    "SZALL_CIM": "Jászkisér, Fő u. 2.",
                                    "SZALL_MOD": "GLS",
                                    "FIZ_MOD": "Bankkártya",
                                    "SZAMLA_CIM": "NULL",
                                    "(No column name)": "NULL"
                                },
                                {
                                    "SORSZAM": "4617",
                                    "LOGIN": "peter4",
                                    "REND_DATUM": "2015-08-25",
                                    "SZALL_DATUM": "2015-09-01",
                                    "SZALL_CIM": "Jászkisér, Fő u. 2.",
                                    "SZALL_MOD": "Posta",
                                    "FIZ_MOD": "Bankkártya",
                                    "SZAMLA_CIM": "5137 Jászkisér, Fő u. 2.",
                                    "(No column name)": "5137"
                                },
                                {
                                    "SORSZAM": "4637",
                                    "LOGIN": "peter4",
                                    "REND_DATUM": "2015-08-26",
                                    "SZALL_DATUM": "2015-08-28",
                                    "SZALL_CIM": "NULL",
                                    "SZALL_MOD": "GLS",
                                    "FIZ_MOD": "Átutalás",
                                    "SZAMLA_CIM": "NULL",
                                    "(No column name)": "NULL"
                                },
                                {
                                    "SORSZAM": "4755",
                                    "LOGIN": "peter4",
                                    "REND_DATUM": "2015-08-29",
                                    "SZALL_DATUM": "2015-09-06",
                                    "SZALL_CIM": "NULL",
                                    "SZALL_MOD": "Személyes átvétel",
                                    "FIZ_MOD": "Átutalás",
                                    "SZAMLA_CIM": "NULL",
                                    "(No column name)": "NULL"
                                },
                                {
                                    "SORSZAM": "4793",
                                    "LOGIN": "peter4",
                                    "REND_DATUM": "2015-08-30",
                                    "SZALL_DATUM": "2015-09-07",
                                    "SZALL_CIM": "NULL",
                                    "SZALL_MOD": "Posta",
                                    "FIZ_MOD": "Bankkártya",
                                    "SZAMLA_CIM": "NULL",
                                    "(No column name)": "NULL"
                                },
                                {
                                    "SORSZAM": "4813",
                                    "LOGIN": "peter4",
                                    "REND_DATUM": "2015-08-30",
                                    "SZALL_DATUM": "2015-09-08",
                                    "SZALL_CIM": "NULL",
                                    "SZALL_MOD": "Személyes átvétel",
                                    "FIZ_MOD": "Átutalás",
                                    "SZAMLA_CIM": "NULL",
                                    "(No column name)": "NULL"
                                },
                                {
                                    "SORSZAM": "4904",
                                    "LOGIN": "peter4",
                                    "REND_DATUM": "2015-09-01",
                                    "SZALL_DATUM": "2015-09-07",
                                    "SZALL_CIM": "NULL",
                                    "SZALL_MOD": "Posta",
                                    "FIZ_MOD": "Átutalás",
                                    "SZAMLA_CIM": "NULL",
                                    "(No column name)": "NULL"
                                },
                                {
                                    "SORSZAM": "4958",
                                    "LOGIN": "peter4",
                                    "REND_DATUM": "2015-09-03",
                                    "SZALL_DATUM": "2015-09-12",
                                    "SZALL_CIM": "NULL",
                                    "SZALL_MOD": "Személyes átvétel",
                                    "FIZ_MOD": "Bankkártya",
                                    "SZAMLA_CIM": "NULL",
                                    "(No column name)": "NULL"
                                },
                                {
                                    "SORSZAM": "4963",
                                    "LOGIN": "peter4",
                                    "REND_DATUM": "2015-09-03",
                                    "SZALL_DATUM": "2015-09-07",
                                    "SZALL_CIM": "NULL",
                                    "SZALL_MOD": "Személyes átvétel",
                                    "FIZ_MOD": "Átutalás",
                                    "SZAMLA_CIM": "NULL",
                                    "(No column name)": "NULL"
                                },
                                {
                                    "SORSZAM": "4980",
                                    "LOGIN": "peter4",
                                    "REND_DATUM": "2015-09-03",
                                    "SZALL_DATUM": "2015-09-07",
                                    "SZALL_CIM": "NULL",
                                    "SZALL_MOD": "Személyes átvétel",
                                    "FIZ_MOD": "Bankkártya",
                                    "SZAMLA_CIM": "NULL",
                                    "(No column name)": "NULL"
                                },
                                {
                                    "SORSZAM": "4998",
                                    "LOGIN": "peter4",
                                    "REND_DATUM": "2015-09-04",
                                    "SZALL_DATUM": "2015-09-13",
                                    "SZALL_CIM": "Jászkisér, Nagy u.14.",
                                    "SZALL_MOD": "GLS",
                                    "FIZ_MOD": "Bankkártya",
                                    "SZAMLA_CIM": "5137 Jászkisér, Nagy u.14.",
                                    "(No column name)": "5137"
                                },
                                {
                                    "SORSZAM": "5018",
                                    "LOGIN": "peter4",
                                    "REND_DATUM": "2015-09-04",
                                    "SZALL_DATUM": "2015-09-08",
                                    "SZALL_CIM": "Jászkisér, Kiss u. 32.",
                                    "SZALL_MOD": "Posta",
                                    "FIZ_MOD": "Átutalás",
                                    "SZAMLA_CIM": "5137 Jászkisér, Kiss u. 32.",
                                    "(No column name)": "5137"
                                },
                                {
                                    "SORSZAM": "5027",
                                    "LOGIN": "peter4",
                                    "REND_DATUM": "2015-09-05",
                                    "SZALL_DATUM": "2015-09-08",
                                    "SZALL_CIM": "NULL",
                                    "SZALL_MOD": "Posta",
                                    "FIZ_MOD": "Átutalás",
                                    "SZAMLA_CIM": "NULL",
                                    "(No column name)": "NULL"
                                },
                                {
                                    "SORSZAM": "5035",
                                    "LOGIN": "peter4",
                                    "REND_DATUM": "2015-09-05",
                                    "SZALL_DATUM": "2015-09-11",
                                    "SZALL_CIM": "NULL",
                                    "SZALL_MOD": "Posta",
                                    "FIZ_MOD": "Átutalás",
                                    "SZAMLA_CIM": "NULL",
                                    "(No column name)": "NULL"
                                },
                                {
                                    "SORSZAM": "5045",
                                    "LOGIN": "peter4",
                                    "REND_DATUM": "2015-09-05",
                                    "SZALL_DATUM": "2015-09-11",
                                    "SZALL_CIM": "NULL",
                                    "SZALL_MOD": "GLS",
                                    "FIZ_MOD": "Átutalás",
                                    "SZAMLA_CIM": "NULL",
                                    "(No column name)": "NULL"
                                },
                                {
                                    "SORSZAM": "5062",
                                    "LOGIN": "peter4",
                                    "REND_DATUM": "2015-09-05",
                                    "SZALL_DATUM": "2015-09-07",
                                    "SZALL_CIM": "NULL",
                                    "SZALL_MOD": "Posta",
                                    "FIZ_MOD": "Bankkártya",
                                    "SZAMLA_CIM": "NULL",
                                    "(No column name)": "NULL"
                                },
                                {
                                    "SORSZAM": "5077",
                                    "LOGIN": "peter4",
                                    "REND_DATUM": "2015-09-06",
                                    "SZALL_DATUM": "2015-09-08",
                                    "SZALL_CIM": "NULL",
                                    "SZALL_MOD": "Személyes átvétel",
                                    "FIZ_MOD": "Átutalás",
                                    "SZAMLA_CIM": "NULL",
                                    "(No column name)": "NULL"
                                },
                                {
                                    "SORSZAM": "5109",
                                    "LOGIN": "peter4",
                                    "REND_DATUM": "2015-09-07",
                                    "SZALL_DATUM": "2015-09-12",
                                    "SZALL_CIM": "Jászkisér, Kiss u. 32.",
                                    "SZALL_MOD": "Személyes átvétel",
                                    "FIZ_MOD": "Átutalás",
                                    "SZAMLA_CIM": "NULL",
                                    "(No column name)": "NULL"
                                },
                                {
                                    "SORSZAM": "5125",
                                    "LOGIN": "peter4",
                                    "REND_DATUM": "2015-09-07",
                                    "SZALL_DATUM": "2015-09-16",
                                    "SZALL_CIM": "NULL",
                                    "SZALL_MOD": "Személyes átvétel",
                                    "FIZ_MOD": "Átutalás",
                                    "SZAMLA_CIM": "NULL",
                                    "(No column name)": "NULL"
                                },
                                {
                                    "SORSZAM": "5173",
                                    "LOGIN": "peter4",
                                    "REND_DATUM": "2015-09-08",
                                    "SZALL_DATUM": "2015-09-17",
                                    "SZALL_CIM": "NULL",
                                    "SZALL_MOD": "Posta",
                                    "FIZ_MOD": "Átutalás",
                                    "SZAMLA_CIM": "NULL",
                                    "(No column name)": "NULL"
                                },
                                {
                                    "SORSZAM": "5196",
                                    "LOGIN": "peter4",
                                    "REND_DATUM": "2015-09-09",
                                    "SZALL_DATUM": "2015-09-11",
                                    "SZALL_CIM": "NULL",
                                    "SZALL_MOD": "Posta",
                                    "FIZ_MOD": "Átutalás",
                                    "SZAMLA_CIM": "NULL",
                                    "(No column name)": "NULL"
                                },
                                {
                                    "SORSZAM": "5215",
                                    "LOGIN": "peter4",
                                    "REND_DATUM": "2015-09-09",
                                    "SZALL_DATUM": "2015-09-12",
                                    "SZALL_CIM": "NULL",
                                    "SZALL_MOD": "Személyes átvétel",
                                    "FIZ_MOD": "Bankkártya",
                                    "SZAMLA_CIM": "NULL",
                                    "(No column name)": "NULL"
                                },
                                {
                                    "SORSZAM": "5287",
                                    "LOGIN": "peter4",
                                    "REND_DATUM": "2015-09-11",
                                    "SZALL_DATUM": "2015-09-20",
                                    "SZALL_CIM": "Jászkisér, Nagy u.14.",
                                    "SZALL_MOD": "GLS",
                                    "FIZ_MOD": "Bankkártya",
                                    "SZAMLA_CIM": "NULL",
                                    "(No column name)": "NULL"
                                },
                                {
                                    "SORSZAM": "5329",
                                    "LOGIN": "peter4",
                                    "REND_DATUM": "2015-09-12",
                                    "SZALL_DATUM": "2015-09-19",
                                    "SZALL_CIM": "NULL",
                                    "SZALL_MOD": "GLS",
                                    "FIZ_MOD": "Bankkártya",
                                    "SZAMLA_CIM": "NULL",
                                    "(No column name)": "NULL"
                                },
                                {
                                    "SORSZAM": "5385",
                                    "LOGIN": "peter4",
                                    "REND_DATUM": "2015-09-14",
                                    "SZALL_DATUM": "2015-09-17",
                                    "SZALL_CIM": "NULL",
                                    "SZALL_MOD": "GLS",
                                    "FIZ_MOD": "Bankkártya",
                                    "SZAMLA_CIM": "NULL",
                                    "(No column name)": "NULL"
                                },
                                {
                                    "SORSZAM": "5390",
                                    "LOGIN": "peter4",
                                    "REND_DATUM": "2015-09-14",
                                    "SZALL_DATUM": "2015-09-19",
                                    "SZALL_CIM": "NULL",
                                    "SZALL_MOD": "GLS",
                                    "FIZ_MOD": "Bankkártya",
                                    "SZAMLA_CIM": "NULL",
                                    "(No column name)": "NULL"
                                },
                                {
                                    "SORSZAM": "5403",
                                    "LOGIN": "peter4",
                                    "REND_DATUM": "2015-09-14",
                                    "SZALL_DATUM": "2015-09-18",
                                    "SZALL_CIM": "NULL",
                                    "SZALL_MOD": "GLS",
                                    "FIZ_MOD": "Készpénz",
                                    "SZAMLA_CIM": "NULL",
                                    "(No column name)": "NULL"
                                },
                                {
                                    "SORSZAM": "5405",
                                    "LOGIN": "peter4",
                                    "REND_DATUM": "2015-09-14",
                                    "SZALL_DATUM": "2015-09-24",
                                    "SZALL_CIM": "NULL",
                                    "SZALL_MOD": "Személyes átvétel",
                                    "FIZ_MOD": "Átutalás",
                                    "SZAMLA_CIM": "NULL",
                                    "(No column name)": "NULL"
                                },
                                {
                                    "SORSZAM": "5408",
                                    "LOGIN": "peter4",
                                    "REND_DATUM": "2015-09-14",
                                    "SZALL_DATUM": "2015-09-24",
                                    "SZALL_CIM": "Jászkisér, Kiss u. 32.",
                                    "SZALL_MOD": "GLS",
                                    "FIZ_MOD": "Készpénz",
                                    "SZAMLA_CIM": "5137 Jászkisér, Kiss u. 32.",
                                    "(No column name)": "5137"
                                },
                                {
                                    "SORSZAM": "5417",
                                    "LOGIN": "peter4",
                                    "REND_DATUM": "2015-09-14",
                                    "SZALL_DATUM": "2015-09-23",
                                    "SZALL_CIM": "NULL",
                                    "SZALL_MOD": "GLS",
                                    "FIZ_MOD": "Átutalás",
                                    "SZAMLA_CIM": "NULL",
                                    "(No column name)": "NULL"
                                },
                                {
                                    "SORSZAM": "5499",
                                    "LOGIN": "peter4",
                                    "REND_DATUM": "2015-09-16",
                                    "SZALL_DATUM": "2015-09-24",
                                    "SZALL_CIM": "Jászkisér, Fő u. 2.",
                                    "SZALL_MOD": "Személyes átvétel",
                                    "FIZ_MOD": "Bankkártya",
                                    "SZAMLA_CIM": "NULL",
                                    "(No column name)": "NULL"
                                },
                                {
                                    "SORSZAM": "5503",
                                    "LOGIN": "peter4",
                                    "REND_DATUM": "2015-09-16",
                                    "SZALL_DATUM": "2015-09-19",
                                    "SZALL_CIM": "NULL",
                                    "SZALL_MOD": "GLS",
                                    "FIZ_MOD": "Átutalás",
                                    "SZAMLA_CIM": "NULL",
                                    "(No column name)": "NULL"
                                },
                                {
                                    "SORSZAM": "5506",
                                    "LOGIN": "peter4",
                                    "REND_DATUM": "2015-09-16",
                                    "SZALL_DATUM": "2015-09-26",
                                    "SZALL_CIM": "NULL",
                                    "SZALL_MOD": "Személyes átvétel",
                                    "FIZ_MOD": "Bankkártya",
                                    "SZAMLA_CIM": "NULL",
                                    "(No column name)": "NULL"
                                },
                                {
                                    "SORSZAM": "5515",
                                    "LOGIN": "peter4",
                                    "REND_DATUM": "2015-09-17",
                                    "SZALL_DATUM": "2015-09-23",
                                    "SZALL_CIM": "NULL",
                                    "SZALL_MOD": "GLS",
                                    "FIZ_MOD": "Bankkártya",
                                    "SZAMLA_CIM": "NULL",
                                    "(No column name)": "NULL"
                                },
                                {
                                    "SORSZAM": "5561",
                                    "LOGIN": "peter4",
                                    "REND_DATUM": "2015-09-18",
                                    "SZALL_DATUM": "2015-09-25",
                                    "SZALL_CIM": "NULL",
                                    "SZALL_MOD": "Posta",
                                    "FIZ_MOD": "Bankkártya",
                                    "SZAMLA_CIM": "NULL",
                                    "(No column name)": "NULL"
                                },
                                {
                                    "SORSZAM": "5566",
                                    "LOGIN": "peter4",
                                    "REND_DATUM": "2015-09-18",
                                    "SZALL_DATUM": "2015-09-20",
                                    "SZALL_CIM": "NULL",
                                    "SZALL_MOD": "Személyes átvétel",
                                    "FIZ_MOD": "Átutalás",
                                    "SZAMLA_CIM": "NULL",
                                    "(No column name)": "NULL"
                                },
                                {
                                    "SORSZAM": "5648",
                                    "LOGIN": "peter4",
                                    "REND_DATUM": "2015-09-20",
                                    "SZALL_DATUM": "2015-09-28",
                                    "SZALL_CIM": "NULL",
                                    "SZALL_MOD": "Posta",
                                    "FIZ_MOD": "Készpénz",
                                    "SZAMLA_CIM": "NULL",
                                    "(No column name)": "NULL"
                                },
                                {
                                    "SORSZAM": "5658",
                                    "LOGIN": "peter4",
                                    "REND_DATUM": "2015-09-20",
                                    "SZALL_DATUM": "2015-09-29",
                                    "SZALL_CIM": "NULL",
                                    "SZALL_MOD": "GLS",
                                    "FIZ_MOD": "Átutalás",
                                    "SZAMLA_CIM": "NULL",
                                    "(No column name)": "NULL"
                                },
                                {
                                    "SORSZAM": "5670",
                                    "LOGIN": "peter4",
                                    "REND_DATUM": "2015-09-21",
                                    "SZALL_DATUM": "2015-09-27",
                                    "SZALL_CIM": "Jászkisér, Fő u. 2.",
                                    "SZALL_MOD": "Személyes átvétel",
                                    "FIZ_MOD": "Átutalás",
                                    "SZAMLA_CIM": "5137 Jászkisér, Fő u. 2.",
                                    "(No column name)": "5137"
                                },
                                {
                                    "SORSZAM": "5676",
                                    "LOGIN": "peter4",
                                    "REND_DATUM": "2015-09-21",
                                    "SZALL_DATUM": "2015-09-24",
                                    "SZALL_CIM": "NULL",
                                    "SZALL_MOD": "Személyes átvétel",
                                    "FIZ_MOD": "Készpénz",
                                    "SZAMLA_CIM": "NULL",
                                    "(No column name)": "NULL"
                                },
                                {
                                    "SORSZAM": "5696",
                                    "LOGIN": "peter4",
                                    "REND_DATUM": "2015-09-21",
                                    "SZALL_DATUM": "2015-09-25",
                                    "SZALL_CIM": "NULL",
                                    "SZALL_MOD": "Személyes átvétel",
                                    "FIZ_MOD": "Átutalás",
                                    "SZAMLA_CIM": "NULL",
                                    "(No column name)": "NULL"
                                },
                                {
                                    "SORSZAM": "5697",
                                    "LOGIN": "peter4",
                                    "REND_DATUM": "2015-09-21",
                                    "SZALL_DATUM": "2015-09-29",
                                    "SZALL_CIM": "Jászkisér, Fő u. 2.",
                                    "SZALL_MOD": "Személyes átvétel",
                                    "FIZ_MOD": "Átutalás",
                                    "SZAMLA_CIM": "5137 Jászkisér, Fő u. 2.",
                                    "(No column name)": "5137"
                                },
                                {
                                    "SORSZAM": "5707",
                                    "LOGIN": "peter4",
                                    "REND_DATUM": "2015-09-21",
                                    "SZALL_DATUM": "2015-09-26",
                                    "SZALL_CIM": "Jászkisér, Kiss u. 32.",
                                    "SZALL_MOD": "GLS",
                                    "FIZ_MOD": "Bankkártya",
                                    "SZAMLA_CIM": "NULL",
                                    "(No column name)": "NULL"
                                },
                                {
                                    "SORSZAM": "5735",
                                    "LOGIN": "peter4",
                                    "REND_DATUM": "2015-09-22",
                                    "SZALL_DATUM": "2015-09-30",
                                    "SZALL_CIM": "NULL",
                                    "SZALL_MOD": "Posta",
                                    "FIZ_MOD": "Átutalás",
                                    "SZAMLA_CIM": "NULL",
                                    "(No column name)": "NULL"
                                },
                                {
                                    "SORSZAM": "5754",
                                    "LOGIN": "peter4",
                                    "REND_DATUM": "2015-09-23",
                                    "SZALL_DATUM": "2015-09-26",
                                    "SZALL_CIM": "NULL",
                                    "SZALL_MOD": "Posta",
                                    "FIZ_MOD": "Bankkártya",
                                    "SZAMLA_CIM": "NULL",
                                    "(No column name)": "NULL"
                                },
                                {
                                    "SORSZAM": "5776",
                                    "LOGIN": "peter4",
                                    "REND_DATUM": "2015-09-23",
                                    "SZALL_DATUM": "2015-09-29",
                                    "SZALL_CIM": "NULL",
                                    "SZALL_MOD": "Személyes átvétel",
                                    "FIZ_MOD": "Bankkártya",
                                    "SZAMLA_CIM": "NULL",
                                    "(No column name)": "NULL"
                                },
                                {
                                    "SORSZAM": "5819",
                                    "LOGIN": "peter4",
                                    "REND_DATUM": "2015-09-24",
                                    "SZALL_DATUM": "2015-09-27",
                                    "SZALL_CIM": "NULL",
                                    "SZALL_MOD": "Posta",
                                    "FIZ_MOD": "Bankkártya",
                                    "SZAMLA_CIM": "NULL",
                                    "(No column name)": "NULL"
                                },
                                {
                                    "SORSZAM": "5865",
                                    "LOGIN": "peter4",
                                    "REND_DATUM": "2015-09-25",
                                    "SZALL_DATUM": "2015-09-28",
                                    "SZALL_CIM": "Jászkisér, Nagy u.14.",
                                    "SZALL_MOD": "Posta",
                                    "FIZ_MOD": "Átutalás",
                                    "SZAMLA_CIM": "5137 Jászkisér, Nagy u.14.",
                                    "(No column name)": "5137"
                                },
                                {
                                    "SORSZAM": "5874",
                                    "LOGIN": "peter4",
                                    "REND_DATUM": "2015-09-26",
                                    "SZALL_DATUM": "2015-09-29",
                                    "SZALL_CIM": "NULL",
                                    "SZALL_MOD": "Személyes átvétel",
                                    "FIZ_MOD": "Átutalás",
                                    "SZAMLA_CIM": "NULL",
                                    "(No column name)": "NULL"
                                },
                                {
                                    "SORSZAM": "5954",
                                    "LOGIN": "peter4",
                                    "REND_DATUM": "2015-09-27",
                                    "SZALL_DATUM": "2015-10-01",
                                    "SZALL_CIM": "Jászkisér, Kiss u. 32.",
                                    "SZALL_MOD": "Posta",
                                    "FIZ_MOD": "Bankkártya",
                                    "SZAMLA_CIM": "5137 Jászkisér, Kiss u. 32.",
                                    "(No column name)": "5137"
                                },
                                {
                                    "SORSZAM": "5993",
                                    "LOGIN": "peter4",
                                    "REND_DATUM": "2015-09-28",
                                    "SZALL_DATUM": "2015-09-30",
                                    "SZALL_CIM": "Jászkisér, Kiss u. 32.",
                                    "SZALL_MOD": "GLS",
                                    "FIZ_MOD": "Átutalás",
                                    "SZAMLA_CIM": "NULL",
                                    "(No column name)": "NULL"
                                },
                                {
                                    "SORSZAM": "6039",
                                    "LOGIN": "peter4",
                                    "REND_DATUM": "2015-09-29",
                                    "SZALL_DATUM": "2015-10-02",
                                    "SZALL_CIM": "Jászkisér, Fő u. 2.",
                                    "SZALL_MOD": "Posta",
                                    "FIZ_MOD": "Bankkártya",
                                    "SZAMLA_CIM": "NULL",
                                    "(No column name)": "NULL"
                                },
                                {
                                    "SORSZAM": "6067",
                                    "LOGIN": "peter4",
                                    "REND_DATUM": "2015-09-30",
                                    "SZALL_DATUM": "2015-10-09",
                                    "SZALL_CIM": "NULL",
                                    "SZALL_MOD": "Posta",
                                    "FIZ_MOD": "Bankkártya",
                                    "SZAMLA_CIM": "NULL",
                                    "(No column name)": "NULL"
                                },
                                {
                                    "SORSZAM": "6070",
                                    "LOGIN": "peter4",
                                    "REND_DATUM": "2015-09-30",
                                    "SZALL_DATUM": "2015-10-10",
                                    "SZALL_CIM": "NULL",
                                    "SZALL_MOD": "Személyes átvétel",
                                    "FIZ_MOD": "Bankkártya",
                                    "SZAMLA_CIM": "NULL",
                                    "(No column name)": "NULL"
                                },
                                {
                                    "SORSZAM": "6079",
                                    "LOGIN": "peter4",
                                    "REND_DATUM": "2015-10-01",
                                    "SZALL_DATUM": "2015-10-04",
                                    "SZALL_CIM": "NULL",
                                    "SZALL_MOD": "GLS",
                                    "FIZ_MOD": "Átutalás",
                                    "SZAMLA_CIM": "NULL",
                                    "(No column name)": "NULL"
                                },
                                {
                                    "SORSZAM": "6094",
                                    "LOGIN": "peter4",
                                    "REND_DATUM": "2015-10-01",
                                    "SZALL_DATUM": "2015-10-03",
                                    "SZALL_CIM": "NULL",
                                    "SZALL_MOD": "Személyes átvétel",
                                    "FIZ_MOD": "Átutalás",
                                    "SZAMLA_CIM": "NULL",
                                    "(No column name)": "NULL"
                                },
                                {
                                    "SORSZAM": "6134",
                                    "LOGIN": "peter4",
                                    "REND_DATUM": "2015-10-02",
                                    "SZALL_DATUM": "2015-10-11",
                                    "SZALL_CIM": "NULL",
                                    "SZALL_MOD": "GLS",
                                    "FIZ_MOD": "Bankkártya",
                                    "SZAMLA_CIM": "NULL",
                                    "(No column name)": "NULL"
                                },
                                {
                                    "SORSZAM": "6167",
                                    "LOGIN": "peter4",
                                    "REND_DATUM": "2015-10-03",
                                    "SZALL_DATUM": "2015-10-07",
                                    "SZALL_CIM": "NULL",
                                    "SZALL_MOD": "Személyes átvétel",
                                    "FIZ_MOD": "Átutalás",
                                    "SZAMLA_CIM": "NULL",
                                    "(No column name)": "NULL"
                                },
                                {
                                    "SORSZAM": "6181",
                                    "LOGIN": "peter4",
                                    "REND_DATUM": "2015-10-03",
                                    "SZALL_DATUM": "2015-10-09",
                                    "SZALL_CIM": "NULL",
                                    "SZALL_MOD": "GLS",
                                    "FIZ_MOD": "Átutalás",
                                    "SZAMLA_CIM": "NULL",
                                    "(No column name)": "NULL"
                                },
                                {
                                    "SORSZAM": "6186",
                                    "LOGIN": "peter4",
                                    "REND_DATUM": "2015-10-03",
                                    "SZALL_DATUM": "2015-10-13",
                                    "SZALL_CIM": "NULL",
                                    "SZALL_MOD": "Posta",
                                    "FIZ_MOD": "Bankkártya",
                                    "SZAMLA_CIM": "NULL",
                                    "(No column name)": "NULL"
                                },
                                {
                                    "SORSZAM": "6196",
                                    "LOGIN": "peter4",
                                    "REND_DATUM": "2015-10-04",
                                    "SZALL_DATUM": "2015-10-09",
                                    "SZALL_CIM": "NULL",
                                    "SZALL_MOD": "Posta",
                                    "FIZ_MOD": "Átutalás",
                                    "SZAMLA_CIM": "NULL",
                                    "(No column name)": "NULL"
                                },
                                {
                                    "SORSZAM": "6242",
                                    "LOGIN": "peter4",
                                    "REND_DATUM": "2015-10-05",
                                    "SZALL_DATUM": "2015-10-08",
                                    "SZALL_CIM": "NULL",
                                    "SZALL_MOD": "GLS",
                                    "FIZ_MOD": "Átutalás",
                                    "SZAMLA_CIM": "NULL",
                                    "(No column name)": "NULL"
                                },
                                {
                                    "SORSZAM": "6252",
                                    "LOGIN": "peter4",
                                    "REND_DATUM": "2015-10-05",
                                    "SZALL_DATUM": "2015-10-08",
                                    "SZALL_CIM": "NULL",
                                    "SZALL_MOD": "Posta",
                                    "FIZ_MOD": "Bankkártya",
                                    "SZAMLA_CIM": "NULL",
                                    "(No column name)": "NULL"
                                },
                                {
                                    "SORSZAM": "6270",
                                    "LOGIN": "peter4",
                                    "REND_DATUM": "2015-10-06",
                                    "SZALL_DATUM": "2015-10-10",
                                    "SZALL_CIM": "NULL",
                                    "SZALL_MOD": "Posta",
                                    "FIZ_MOD": "Átutalás",
                                    "SZAMLA_CIM": "NULL",
                                    "(No column name)": "NULL"
                                },
                                {
                                    "SORSZAM": "6300",
                                    "LOGIN": "peter4",
                                    "REND_DATUM": "2015-10-06",
                                    "SZALL_DATUM": "2015-10-11",
                                    "SZALL_CIM": "Jászkisér, Fő u. 2.",
                                    "SZALL_MOD": "Posta",
                                    "FIZ_MOD": "Bankkártya",
                                    "SZAMLA_CIM": "NULL",
                                    "(No column name)": "NULL"
                                },
                                {
                                    "SORSZAM": "6304",
                                    "LOGIN": "peter4",
                                    "REND_DATUM": "2015-10-06",
                                    "SZALL_DATUM": "2015-10-08",
                                    "SZALL_CIM": "NULL",
                                    "SZALL_MOD": "GLS",
                                    "FIZ_MOD": "Bankkártya",
                                    "SZAMLA_CIM": "NULL",
                                    "(No column name)": "NULL"
                                },
                                {
                                    "SORSZAM": "6329",
                                    "LOGIN": "peter4",
                                    "REND_DATUM": "2015-10-07",
                                    "SZALL_DATUM": "2015-10-12",
                                    "SZALL_CIM": "NULL",
                                    "SZALL_MOD": "GLS",
                                    "FIZ_MOD": "Átutalás",
                                    "SZAMLA_CIM": "NULL",
                                    "(No column name)": "NULL"
                                },
                                {
                                    "SORSZAM": "6366",
                                    "LOGIN": "peter4",
                                    "REND_DATUM": "2015-10-08",
                                    "SZALL_DATUM": "2015-10-18",
                                    "SZALL_CIM": "NULL",
                                    "SZALL_MOD": "GLS",
                                    "FIZ_MOD": "Bankkártya",
                                    "SZAMLA_CIM": "NULL",
                                    "(No column name)": "NULL"
                                },
                                {
                                    "SORSZAM": "6367",
                                    "LOGIN": "peter4",
                                    "REND_DATUM": "2015-10-08",
                                    "SZALL_DATUM": "2015-10-18",
                                    "SZALL_CIM": "NULL",
                                    "SZALL_MOD": "GLS",
                                    "FIZ_MOD": "Készpénz",
                                    "SZAMLA_CIM": "NULL",
                                    "(No column name)": "NULL"
                                },
                                {
                                    "SORSZAM": "6404",
                                    "LOGIN": "peter4",
                                    "REND_DATUM": "2015-10-09",
                                    "SZALL_DATUM": "2015-10-16",
                                    "SZALL_CIM": "NULL",
                                    "SZALL_MOD": "GLS",
                                    "FIZ_MOD": "Bankkártya",
                                    "SZAMLA_CIM": "NULL",
                                    "(No column name)": "NULL"
                                },
                                {
                                    "SORSZAM": "6443",
                                    "LOGIN": "peter4",
                                    "REND_DATUM": "2015-10-10",
                                    "SZALL_DATUM": "2015-10-17",
                                    "SZALL_CIM": "Jászkisér, Nagy u.14.",
                                    "SZALL_MOD": "Posta",
                                    "FIZ_MOD": "Bankkártya",
                                    "SZAMLA_CIM": "NULL",
                                    "(No column name)": "NULL"
                                },
                                {
                                    "SORSZAM": "6460",
                                    "LOGIN": "peter4",
                                    "REND_DATUM": "2015-10-10",
                                    "SZALL_DATUM": "2015-10-16",
                                    "SZALL_CIM": "Jászkisér, Nagy u.14.",
                                    "SZALL_MOD": "GLS",
                                    "FIZ_MOD": "Bankkártya",
                                    "SZAMLA_CIM": "NULL",
                                    "(No column name)": "NULL"
                                },
                                {
                                    "SORSZAM": "6529",
                                    "LOGIN": "peter4",
                                    "REND_DATUM": "2015-10-12",
                                    "SZALL_DATUM": "2015-10-21",
                                    "SZALL_CIM": "NULL",
                                    "SZALL_MOD": "GLS",
                                    "FIZ_MOD": "Bankkártya",
                                    "SZAMLA_CIM": "NULL",
                                    "(No column name)": "NULL"
                                },
                                {
                                    "SORSZAM": "6537",
                                    "LOGIN": "peter4",
                                    "REND_DATUM": "2015-10-12",
                                    "SZALL_DATUM": "2015-10-22",
                                    "SZALL_CIM": "NULL",
                                    "SZALL_MOD": "Posta",
                                    "FIZ_MOD": "Bankkártya",
                                    "SZAMLA_CIM": "NULL",
                                    "(No column name)": "NULL"
                                },
                                {
                                    "SORSZAM": "6553",
                                    "LOGIN": "peter4",
                                    "REND_DATUM": "2015-10-13",
                                    "SZALL_DATUM": "2015-10-17",
                                    "SZALL_CIM": "NULL",
                                    "SZALL_MOD": "Személyes átvétel",
                                    "FIZ_MOD": "Bankkártya",
                                    "SZAMLA_CIM": "NULL",
                                    "(No column name)": "NULL"
                                },
                                {
                                    "SORSZAM": "6581",
                                    "LOGIN": "peter4",
                                    "REND_DATUM": "2015-10-13",
                                    "SZALL_DATUM": "2015-10-17",
                                    "SZALL_CIM": "NULL",
                                    "SZALL_MOD": "GLS",
                                    "FIZ_MOD": "Átutalás",
                                    "SZAMLA_CIM": "NULL",
                                    "(No column name)": "NULL"
                                },
                                {
                                    "SORSZAM": "6665",
                                    "LOGIN": "peter4",
                                    "REND_DATUM": "2015-10-15",
                                    "SZALL_DATUM": "2015-10-20",
                                    "SZALL_CIM": "NULL",
                                    "SZALL_MOD": "Személyes átvétel",
                                    "FIZ_MOD": "Bankkártya",
                                    "SZAMLA_CIM": "NULL",
                                    "(No column name)": "NULL"
                                },
                                {
                                    "SORSZAM": "6751",
                                    "LOGIN": "peter4",
                                    "REND_DATUM": "2015-10-17",
                                    "SZALL_DATUM": "2015-10-25",
                                    "SZALL_CIM": "NULL",
                                    "SZALL_MOD": "Posta",
                                    "FIZ_MOD": "Bankkártya",
                                    "SZAMLA_CIM": "NULL",
                                    "(No column name)": "NULL"
                                },
                                {
                                    "SORSZAM": "6756",
                                    "LOGIN": "peter4",
                                    "REND_DATUM": "2015-10-17",
                                    "SZALL_DATUM": "2015-10-27",
                                    "SZALL_CIM": "NULL",
                                    "SZALL_MOD": "Személyes átvétel",
                                    "FIZ_MOD": "Átutalás",
                                    "SZAMLA_CIM": "NULL",
                                    "(No column name)": "NULL"
                                },
                                {
                                    "SORSZAM": "6775",
                                    "LOGIN": "peter4",
                                    "REND_DATUM": "2015-10-18",
                                    "SZALL_DATUM": "2015-10-22",
                                    "SZALL_CIM": "NULL",
                                    "SZALL_MOD": "Posta",
                                    "FIZ_MOD": "Bankkártya",
                                    "SZAMLA_CIM": "NULL",
                                    "(No column name)": "NULL"
                                },
                                {
                                    "SORSZAM": "6832",
                                    "LOGIN": "peter4",
                                    "REND_DATUM": "2015-10-19",
                                    "SZALL_DATUM": "2015-10-29",
                                    "SZALL_CIM": "NULL",
                                    "SZALL_MOD": "Személyes átvétel",
                                    "FIZ_MOD": "Készpénz",
                                    "SZAMLA_CIM": "NULL",
                                    "(No column name)": "NULL"
                                },
                                {
                                    "SORSZAM": "6840",
                                    "LOGIN": "peter4",
                                    "REND_DATUM": "2015-10-20",
                                    "SZALL_DATUM": "2015-10-29",
                                    "SZALL_CIM": "Jászkisér, Fő u. 2.",
                                    "SZALL_MOD": "GLS",
                                    "FIZ_MOD": "Bankkártya",
                                    "SZAMLA_CIM": "NULL",
                                    "(No column name)": "NULL"
                                },
                                {
                                    "SORSZAM": "6877",
                                    "LOGIN": "peter4",
                                    "REND_DATUM": "2015-10-21",
                                    "SZALL_DATUM": "2015-10-23",
                                    "SZALL_CIM": "Jászkisér, Kiss u. 32.",
                                    "SZALL_MOD": "GLS",
                                    "FIZ_MOD": "Bankkártya",
                                    "SZAMLA_CIM": "NULL",
                                    "(No column name)": "NULL"
                                },
                                {
                                    "SORSZAM": "6886",
                                    "LOGIN": "peter4",
                                    "REND_DATUM": "2015-10-21",
                                    "SZALL_DATUM": "2015-10-26",
                                    "SZALL_CIM": "NULL",
                                    "SZALL_MOD": "Posta",
                                    "FIZ_MOD": "Bankkártya",
                                    "SZAMLA_CIM": "NULL",
                                    "(No column name)": "NULL"
                                },
                                {
                                    "SORSZAM": "6897",
                                    "LOGIN": "peter4",
                                    "REND_DATUM": "2015-10-21",
                                    "SZALL_DATUM": "2015-10-28",
                                    "SZALL_CIM": "NULL",
                                    "SZALL_MOD": "GLS",
                                    "FIZ_MOD": "Átutalás",
                                    "SZAMLA_CIM": "NULL",
                                    "(No column name)": "NULL"
                                },
                                {
                                    "SORSZAM": "6973",
                                    "LOGIN": "peter4",
                                    "REND_DATUM": "2015-10-23",
                                    "SZALL_DATUM": "2015-10-27",
                                    "SZALL_CIM": "NULL",
                                    "SZALL_MOD": "Személyes átvétel",
                                    "FIZ_MOD": "Átutalás",
                                    "SZAMLA_CIM": "NULL",
                                    "(No column name)": "NULL"
                                },
                                {
                                    "SORSZAM": "6979",
                                    "LOGIN": "peter4",
                                    "REND_DATUM": "2015-10-23",
                                    "SZALL_DATUM": "2015-10-30",
                                    "SZALL_CIM": "NULL",
                                    "SZALL_MOD": "GLS",
                                    "FIZ_MOD": "Készpénz",
                                    "SZAMLA_CIM": "NULL",
                                    "(No column name)": "NULL"
                                },
                                {
                                    "SORSZAM": "7009",
                                    "LOGIN": "peter4",
                                    "REND_DATUM": "2015-10-24",
                                    "SZALL_DATUM": "2015-10-28",
                                    "SZALL_CIM": "NULL",
                                    "SZALL_MOD": "Posta",
                                    "FIZ_MOD": "Bankkártya",
                                    "SZAMLA_CIM": "NULL",
                                    "(No column name)": "NULL"
                                },
                                {
                                    "SORSZAM": "7074",
                                    "LOGIN": "peter4",
                                    "REND_DATUM": "2015-10-26",
                                    "SZALL_DATUM": "2015-11-04",
                                    "SZALL_CIM": "Jászkisér, Fő u. 2.",
                                    "SZALL_MOD": "GLS",
                                    "FIZ_MOD": "Bankkártya",
                                    "SZAMLA_CIM": "5137 Jászkisér, Fő u. 2.",
                                    "(No column name)": "5137"
                                },
                                {
                                    "SORSZAM": "7097",
                                    "LOGIN": "peter4",
                                    "REND_DATUM": "2015-10-26",
                                    "SZALL_DATUM": "2015-11-01",
                                    "SZALL_CIM": "NULL",
                                    "SZALL_MOD": "GLS",
                                    "FIZ_MOD": "Bankkártya",
                                    "SZAMLA_CIM": "NULL",
                                    "(No column name)": "NULL"
                                },
                                {
                                    "SORSZAM": "7106",
                                    "LOGIN": "peter4",
                                    "REND_DATUM": "2015-10-26",
                                    "SZALL_DATUM": "2015-10-31",
                                    "SZALL_CIM": "Jászkisér, Nagy u.14.",
                                    "SZALL_MOD": "Személyes átvétel",
                                    "FIZ_MOD": "Átutalás",
                                    "SZAMLA_CIM": "NULL",
                                    "(No column name)": "NULL"
                                },
                                {
                                    "SORSZAM": "7114",
                                    "LOGIN": "peter4",
                                    "REND_DATUM": "2015-10-26",
                                    "SZALL_DATUM": "2015-11-03",
                                    "SZALL_CIM": "NULL",
                                    "SZALL_MOD": "GLS",
                                    "FIZ_MOD": "Bankkártya",
                                    "SZAMLA_CIM": "NULL",
                                    "(No column name)": "NULL"
                                },
                                {
                                    "SORSZAM": "7129",
                                    "LOGIN": "peter4",
                                    "REND_DATUM": "2015-10-27",
                                    "SZALL_DATUM": "2015-11-06",
                                    "SZALL_CIM": "NULL",
                                    "SZALL_MOD": "Posta",
                                    "FIZ_MOD": "Bankkártya",
                                    "SZAMLA_CIM": "NULL",
                                    "(No column name)": "NULL"
                                },
                                {
                                    "SORSZAM": "7144",
                                    "LOGIN": "peter4",
                                    "REND_DATUM": "2015-10-27",
                                    "SZALL_DATUM": "2015-11-02",
                                    "SZALL_CIM": "NULL",
                                    "SZALL_MOD": "Személyes átvétel",
                                    "FIZ_MOD": "Átutalás",
                                    "SZAMLA_CIM": "NULL",
                                    "(No column name)": "NULL"
                                },
                                {
                                    "SORSZAM": "7173",
                                    "LOGIN": "peter4",
                                    "REND_DATUM": "2015-10-28",
                                    "SZALL_DATUM": "2015-11-06",
                                    "SZALL_CIM": "Jászkisér, Fő u. 2.",
                                    "SZALL_MOD": "Posta",
                                    "FIZ_MOD": "Átutalás",
                                    "SZAMLA_CIM": "NULL",
                                    "(No column name)": "NULL"
                                },
                                {
                                    "SORSZAM": "7223",
                                    "LOGIN": "peter4",
                                    "REND_DATUM": "2015-10-29",
                                    "SZALL_DATUM": "2015-11-06",
                                    "SZALL_CIM": "NULL",
                                    "SZALL_MOD": "Személyes átvétel",
                                    "FIZ_MOD": "Átutalás",
                                    "SZAMLA_CIM": "NULL",
                                    "(No column name)": "NULL"
                                },
                                {
                                    "SORSZAM": "7235",
                                    "LOGIN": "peter4",
                                    "REND_DATUM": "2015-10-30",
                                    "SZALL_DATUM": "2015-11-01",
                                    "SZALL_CIM": "NULL",
                                    "SZALL_MOD": "GLS",
                                    "FIZ_MOD": "Átutalás",
                                    "SZAMLA_CIM": "NULL",
                                    "(No column name)": "NULL"
                                },
                                {
                                    "SORSZAM": "7237",
                                    "LOGIN": "peter4",
                                    "REND_DATUM": "2015-10-30",
                                    "SZALL_DATUM": "2015-11-09",
                                    "SZALL_CIM": "NULL",
                                    "SZALL_MOD": "Posta",
                                    "FIZ_MOD": "Átutalás",
                                    "SZAMLA_CIM": "NULL",
                                    "(No column name)": "NULL"
                                },
                                {
                                    "SORSZAM": "7250",
                                    "LOGIN": "peter4",
                                    "REND_DATUM": "2015-10-30",
                                    "SZALL_DATUM": "2015-11-05",
                                    "SZALL_CIM": "NULL",
                                    "SZALL_MOD": "GLS",
                                    "FIZ_MOD": "Bankkártya",
                                    "SZAMLA_CIM": "NULL",
                                    "(No column name)": "NULL"
                                },
                                {
                                    "SORSZAM": "7282",
                                    "LOGIN": "peter4",
                                    "REND_DATUM": "2015-10-31",
                                    "SZALL_DATUM": "2015-11-10",
                                    "SZALL_CIM": "NULL",
                                    "SZALL_MOD": "Személyes átvétel",
                                    "FIZ_MOD": "Átutalás",
                                    "SZAMLA_CIM": "NULL",
                                    "(No column name)": "NULL"
                                },
                                {
                                    "SORSZAM": "7301",
                                    "LOGIN": "peter4",
                                    "REND_DATUM": "2015-10-31",
                                    "SZALL_DATUM": "2015-11-08",
                                    "SZALL_CIM": "NULL",
                                    "SZALL_MOD": "Posta",
                                    "FIZ_MOD": "Bankkártya",
                                    "SZAMLA_CIM": "NULL",
                                    "(No column name)": "NULL"
                                },
                                {
                                    "SORSZAM": "7343",
                                    "LOGIN": "peter4",
                                    "REND_DATUM": "2015-11-01",
                                    "SZALL_DATUM": "2015-11-03",
                                    "SZALL_CIM": "NULL",
                                    "SZALL_MOD": "Személyes átvétel",
                                    "FIZ_MOD": "Átutalás",
                                    "SZAMLA_CIM": "NULL",
                                    "(No column name)": "NULL"
                                },
                                {
                                    "SORSZAM": "7395",
                                    "LOGIN": "peter4",
                                    "REND_DATUM": "2015-11-03",
                                    "SZALL_DATUM": "2015-11-05",
                                    "SZALL_CIM": "Jászkisér, Nagy u.14.",
                                    "SZALL_MOD": "GLS",
                                    "FIZ_MOD": "Átutalás",
                                    "SZAMLA_CIM": "5137 Jászkisér, Nagy u.14.",
                                    "(No column name)": "5137"
                                },
                                {
                                    "SORSZAM": "7398",
                                    "LOGIN": "peter4",
                                    "REND_DATUM": "2015-11-03",
                                    "SZALL_DATUM": "2015-11-06",
                                    "SZALL_CIM": "Jászkisér, Fő u. 2.",
                                    "SZALL_MOD": "GLS",
                                    "FIZ_MOD": "Bankkártya",
                                    "SZAMLA_CIM": "5137 Jászkisér, Fő u. 2.",
                                    "(No column name)": "5137"
                                },
                                {
                                    "SORSZAM": "7508",
                                    "LOGIN": "peter4",
                                    "REND_DATUM": "2015-11-06",
                                    "SZALL_DATUM": "2015-11-12",
                                    "SZALL_CIM": "NULL",
                                    "SZALL_MOD": "GLS",
                                    "FIZ_MOD": "Bankkártya",
                                    "SZAMLA_CIM": "NULL",
                                    "(No column name)": "NULL"
                                },
                                {
                                    "SORSZAM": "7548",
                                    "LOGIN": "peter4",
                                    "REND_DATUM": "2015-11-07",
                                    "SZALL_DATUM": "2015-11-15",
                                    "SZALL_CIM": "Jászkisér, Nagy u.14.",
                                    "SZALL_MOD": "Személyes átvétel",
                                    "FIZ_MOD": "Bankkártya",
                                    "SZAMLA_CIM": "5137 Jászkisér, Nagy u.14.",
                                    "(No column name)": "5137"
                                },
                                {
                                    "SORSZAM": "7601",
                                    "LOGIN": "peter4",
                                    "REND_DATUM": "2015-11-08",
                                    "SZALL_DATUM": "2015-11-13",
                                    "SZALL_CIM": "NULL",
                                    "SZALL_MOD": "GLS",
                                    "FIZ_MOD": "Készpénz",
                                    "SZAMLA_CIM": "NULL",
                                    "(No column name)": "NULL"
                                },
                                {
                                    "SORSZAM": "7602",
                                    "LOGIN": "peter4",
                                    "REND_DATUM": "2015-11-08",
                                    "SZALL_DATUM": "2015-11-17",
                                    "SZALL_CIM": "NULL",
                                    "SZALL_MOD": "GLS",
                                    "FIZ_MOD": "Átutalás",
                                    "SZAMLA_CIM": "NULL",
                                    "(No column name)": "NULL"
                                },
                                {
                                    "SORSZAM": "7612",
                                    "LOGIN": "peter4",
                                    "REND_DATUM": "2015-11-08",
                                    "SZALL_DATUM": "2015-11-18",
                                    "SZALL_CIM": "NULL",
                                    "SZALL_MOD": "GLS",
                                    "FIZ_MOD": "Átutalás",
                                    "SZAMLA_CIM": "NULL",
                                    "(No column name)": "NULL"
                                },
                                {
                                    "SORSZAM": "7655",
                                    "LOGIN": "peter4",
                                    "REND_DATUM": "2015-11-09",
                                    "SZALL_DATUM": "2015-11-17",
                                    "SZALL_CIM": "NULL",
                                    "SZALL_MOD": "Személyes átvétel",
                                    "FIZ_MOD": "Készpénz",
                                    "SZAMLA_CIM": "NULL",
                                    "(No column name)": "NULL"
                                },
                                {
                                    "SORSZAM": "7665",
                                    "LOGIN": "peter4",
                                    "REND_DATUM": "2015-11-10",
                                    "SZALL_DATUM": "2015-11-16",
                                    "SZALL_CIM": "NULL",
                                    "SZALL_MOD": "GLS",
                                    "FIZ_MOD": "Átutalás",
                                    "SZAMLA_CIM": "NULL",
                                    "(No column name)": "NULL"
                                },
                                {
                                    "SORSZAM": "7735",
                                    "LOGIN": "peter4",
                                    "REND_DATUM": "2015-11-12",
                                    "SZALL_DATUM": "2015-11-20",
                                    "SZALL_CIM": "Jászkisér, Kiss u. 32.",
                                    "SZALL_MOD": "Személyes átvétel",
                                    "FIZ_MOD": "Átutalás",
                                    "SZAMLA_CIM": "NULL",
                                    "(No column name)": "NULL"
                                },
                                {
                                    "SORSZAM": "7752",
                                    "LOGIN": "peter4",
                                    "REND_DATUM": "2015-11-12",
                                    "SZALL_DATUM": "2015-11-15",
                                    "SZALL_CIM": "Jászkisér, Nagy u.14.",
                                    "SZALL_MOD": "Posta",
                                    "FIZ_MOD": "Bankkártya",
                                    "SZAMLA_CIM": "5137 Jászkisér, Nagy u.14.",
                                    "(No column name)": "5137"
                                },
                                {
                                    "SORSZAM": "7758",
                                    "LOGIN": "peter4",
                                    "REND_DATUM": "2015-11-12",
                                    "SZALL_DATUM": "2015-11-22",
                                    "SZALL_CIM": "Jászkisér, Fő u. 2.",
                                    "SZALL_MOD": "Posta",
                                    "FIZ_MOD": "Bankkártya",
                                    "SZAMLA_CIM": "NULL",
                                    "(No column name)": "NULL"
                                },
                                {
                                    "SORSZAM": "7759",
                                    "LOGIN": "peter4",
                                    "REND_DATUM": "2015-11-12",
                                    "SZALL_DATUM": "2015-11-22",
                                    "SZALL_CIM": "NULL",
                                    "SZALL_MOD": "Személyes átvétel",
                                    "FIZ_MOD": "Átutalás",
                                    "SZAMLA_CIM": "NULL",
                                    "(No column name)": "NULL"
                                },
                                {
                                    "SORSZAM": "7858",
                                    "LOGIN": "peter4",
                                    "REND_DATUM": "2015-11-15",
                                    "SZALL_DATUM": "2015-11-23",
                                    "SZALL_CIM": "NULL",
                                    "SZALL_MOD": "Személyes átvétel",
                                    "FIZ_MOD": "Bankkártya",
                                    "SZAMLA_CIM": "NULL",
                                    "(No column name)": "NULL"
                                },
                                {
                                    "SORSZAM": "7881",
                                    "LOGIN": "peter4",
                                    "REND_DATUM": "2015-11-15",
                                    "SZALL_DATUM": "2015-11-22",
                                    "SZALL_CIM": "NULL",
                                    "SZALL_MOD": "GLS",
                                    "FIZ_MOD": "Bankkártya",
                                    "SZAMLA_CIM": "NULL",
                                    "(No column name)": "NULL"
                                },
                                {
                                    "SORSZAM": "7916",
                                    "LOGIN": "peter4",
                                    "REND_DATUM": "2015-11-16",
                                    "SZALL_DATUM": "2015-11-22",
                                    "SZALL_CIM": "NULL",
                                    "SZALL_MOD": "Személyes átvétel",
                                    "FIZ_MOD": "Bankkártya",
                                    "SZAMLA_CIM": "NULL",
                                    "(No column name)": "NULL"
                                },
                                {
                                    "SORSZAM": "7926",
                                    "LOGIN": "peter4",
                                    "REND_DATUM": "2015-11-17",
                                    "SZALL_DATUM": "2015-11-23",
                                    "SZALL_CIM": "NULL",
                                    "SZALL_MOD": "Posta",
                                    "FIZ_MOD": "Bankkártya",
                                    "SZAMLA_CIM": "NULL",
                                    "(No column name)": "NULL"
                                },
                                {
                                    "SORSZAM": "8005",
                                    "LOGIN": "peter4",
                                    "REND_DATUM": "2015-11-18",
                                    "SZALL_DATUM": "2015-11-22",
                                    "SZALL_CIM": "NULL",
                                    "SZALL_MOD": "Személyes átvétel",
                                    "FIZ_MOD": "Átutalás",
                                    "SZAMLA_CIM": "NULL",
                                    "(No column name)": "NULL"
                                },
                                {
                                    "SORSZAM": "8011",
                                    "LOGIN": "peter4",
                                    "REND_DATUM": "2015-11-19",
                                    "SZALL_DATUM": "2015-11-25",
                                    "SZALL_CIM": "NULL",
                                    "SZALL_MOD": "GLS",
                                    "FIZ_MOD": "Bankkártya",
                                    "SZAMLA_CIM": "NULL",
                                    "(No column name)": "NULL"
                                },
                                {
                                    "SORSZAM": "8063",
                                    "LOGIN": "peter4",
                                    "REND_DATUM": "2015-11-20",
                                    "SZALL_DATUM": "2015-11-23",
                                    "SZALL_CIM": "NULL",
                                    "SZALL_MOD": "Személyes átvétel",
                                    "FIZ_MOD": "Átutalás",
                                    "SZAMLA_CIM": "NULL",
                                    "(No column name)": "NULL"
                                },
                                {
                                    "SORSZAM": "8070",
                                    "LOGIN": "peter4",
                                    "REND_DATUM": "2015-11-20",
                                    "SZALL_DATUM": "2015-11-25",
                                    "SZALL_CIM": "NULL",
                                    "SZALL_MOD": "GLS",
                                    "FIZ_MOD": "Bankkártya",
                                    "SZAMLA_CIM": "NULL",
                                    "(No column name)": "NULL"
                                },
                                {
                                    "SORSZAM": "8232",
                                    "LOGIN": "peter4",
                                    "REND_DATUM": "2015-11-24",
                                    "SZALL_DATUM": "2015-12-02",
                                    "SZALL_CIM": "NULL",
                                    "SZALL_MOD": "Személyes átvétel",
                                    "FIZ_MOD": "Átutalás",
                                    "SZAMLA_CIM": "NULL",
                                    "(No column name)": "NULL"
                                },
                                {
                                    "SORSZAM": "8265",
                                    "LOGIN": "peter4",
                                    "REND_DATUM": "2015-11-25",
                                    "SZALL_DATUM": "2015-12-01",
                                    "SZALL_CIM": "NULL",
                                    "SZALL_MOD": "Személyes átvétel",
                                    "FIZ_MOD": "Bankkártya",
                                    "SZAMLA_CIM": "NULL",
                                    "(No column name)": "NULL"
                                },
                                {
                                    "SORSZAM": "8309",
                                    "LOGIN": "peter4",
                                    "REND_DATUM": "2015-11-26",
                                    "SZALL_DATUM": "2015-12-01",
                                    "SZALL_CIM": "NULL",
                                    "SZALL_MOD": "Posta",
                                    "FIZ_MOD": "Átutalás",
                                    "SZAMLA_CIM": "NULL",
                                    "(No column name)": "NULL"
                                },
                                {
                                    "SORSZAM": "8316",
                                    "LOGIN": "peter4",
                                    "REND_DATUM": "2015-11-26",
                                    "SZALL_DATUM": "2015-11-29",
                                    "SZALL_CIM": "Jászkisér, Fő u. 2.",
                                    "SZALL_MOD": "GLS",
                                    "FIZ_MOD": "Átutalás",
                                    "SZAMLA_CIM": "5137 Jászkisér, Fő u. 2.",
                                    "(No column name)": "5137"
                                },
                                {
                                    "SORSZAM": "8366",
                                    "LOGIN": "peter4",
                                    "REND_DATUM": "2015-11-28",
                                    "SZALL_DATUM": "2015-12-04",
                                    "SZALL_CIM": "NULL",
                                    "SZALL_MOD": "Személyes átvétel",
                                    "FIZ_MOD": "Készpénz",
                                    "SZAMLA_CIM": "NULL",
                                    "(No column name)": "NULL"
                                },
                                {
                                    "SORSZAM": "8369",
                                    "LOGIN": "peter4",
                                    "REND_DATUM": "2015-11-28",
                                    "SZALL_DATUM": "2015-12-05",
                                    "SZALL_CIM": "NULL",
                                    "SZALL_MOD": "Posta",
                                    "FIZ_MOD": "Átutalás",
                                    "SZAMLA_CIM": "NULL",
                                    "(No column name)": "NULL"
                                },
                                {
                                    "SORSZAM": "8372",
                                    "LOGIN": "peter4",
                                    "REND_DATUM": "2015-11-28",
                                    "SZALL_DATUM": "2015-12-08",
                                    "SZALL_CIM": "Jászkisér, Kiss u. 32.",
                                    "SZALL_MOD": "Posta",
                                    "FIZ_MOD": "Bankkártya",
                                    "SZAMLA_CIM": "5137 Jászkisér, Kiss u. 32.",
                                    "(No column name)": "5137"
                                },
                                {
                                    "SORSZAM": "8384",
                                    "LOGIN": "peter4",
                                    "REND_DATUM": "2015-11-28",
                                    "SZALL_DATUM": "2015-12-08",
                                    "SZALL_CIM": "NULL",
                                    "SZALL_MOD": "Posta",
                                    "FIZ_MOD": "Átutalás",
                                    "SZAMLA_CIM": "NULL",
                                    "(No column name)": "NULL"
                                },
                                {
                                    "SORSZAM": "8387",
                                    "LOGIN": "peter4",
                                    "REND_DATUM": "2015-11-28",
                                    "SZALL_DATUM": "2015-12-03",
                                    "SZALL_CIM": "NULL",
                                    "SZALL_MOD": "Posta",
                                    "FIZ_MOD": "Átutalás",
                                    "SZAMLA_CIM": "NULL",
                                    "(No column name)": "NULL"
                                },
                                {
                                    "SORSZAM": "8404",
                                    "LOGIN": "peter4",
                                    "REND_DATUM": "2015-11-29",
                                    "SZALL_DATUM": "2015-12-01",
                                    "SZALL_CIM": "NULL",
                                    "SZALL_MOD": "GLS",
                                    "FIZ_MOD": "Átutalás",
                                    "SZAMLA_CIM": "NULL",
                                    "(No column name)": "NULL"
                                },
                                {
                                    "SORSZAM": "8407",
                                    "LOGIN": "peter4",
                                    "REND_DATUM": "2015-11-29",
                                    "SZALL_DATUM": "2015-12-05",
                                    "SZALL_CIM": "NULL",
                                    "SZALL_MOD": "Posta",
                                    "FIZ_MOD": "Átutalás",
                                    "SZAMLA_CIM": "NULL",
                                    "(No column name)": "NULL"
                                },
                                {
                                    "SORSZAM": "8453",
                                    "LOGIN": "peter4",
                                    "REND_DATUM": "2015-11-30",
                                    "SZALL_DATUM": "2015-12-09",
                                    "SZALL_CIM": "NULL",
                                    "SZALL_MOD": "Posta",
                                    "FIZ_MOD": "Bankkártya",
                                    "SZAMLA_CIM": "NULL",
                                    "(No column name)": "NULL"
                                },
                                {
                                    "SORSZAM": "8511",
                                    "LOGIN": "peter4",
                                    "REND_DATUM": "2015-12-01",
                                    "SZALL_DATUM": "2015-12-07",
                                    "SZALL_CIM": "NULL",
                                    "SZALL_MOD": "GLS",
                                    "FIZ_MOD": "Átutalás",
                                    "SZAMLA_CIM": "NULL",
                                    "(No column name)": "NULL"
                                },
                                {
                                    "SORSZAM": "8515",
                                    "LOGIN": "peter4",
                                    "REND_DATUM": "2015-12-01",
                                    "SZALL_DATUM": "2015-12-08",
                                    "SZALL_CIM": "Jászkisér, Kiss u. 32.",
                                    "SZALL_MOD": "Posta",
                                    "FIZ_MOD": "Bankkártya",
                                    "SZAMLA_CIM": "NULL",
                                    "(No column name)": "NULL"
                                },
                                {
                                    "SORSZAM": "8603",
                                    "LOGIN": "peter4",
                                    "REND_DATUM": "2015-12-03",
                                    "SZALL_DATUM": "2015-12-12",
                                    "SZALL_CIM": "NULL",
                                    "SZALL_MOD": "Posta",
                                    "FIZ_MOD": "Bankkártya",
                                    "SZAMLA_CIM": "NULL",
                                    "(No column name)": "NULL"
                                },
                                {
                                    "SORSZAM": "8655",
                                    "LOGIN": "peter4",
                                    "REND_DATUM": "2015-12-04",
                                    "SZALL_DATUM": "2015-12-13",
                                    "SZALL_CIM": "NULL",
                                    "SZALL_MOD": "Posta",
                                    "FIZ_MOD": "Átutalás",
                                    "SZAMLA_CIM": "NULL",
                                    "(No column name)": "NULL"
                                },
                                {
                                    "SORSZAM": "8687",
                                    "LOGIN": "peter4",
                                    "REND_DATUM": "2015-12-05",
                                    "SZALL_DATUM": "2015-12-12",
                                    "SZALL_CIM": "Jászkisér, Nagy u.14.",
                                    "SZALL_MOD": "Személyes átvétel",
                                    "FIZ_MOD": "Bankkártya",
                                    "SZAMLA_CIM": "NULL",
                                    "(No column name)": "NULL"
                                },
                                {
                                    "SORSZAM": "8720",
                                    "LOGIN": "peter4",
                                    "REND_DATUM": "2015-12-06",
                                    "SZALL_DATUM": "2015-12-10",
                                    "SZALL_CIM": "NULL",
                                    "SZALL_MOD": "GLS",
                                    "FIZ_MOD": "Bankkártya",
                                    "SZAMLA_CIM": "NULL",
                                    "(No column name)": "NULL"
                                },
                                {
                                    "SORSZAM": "8773",
                                    "LOGIN": "peter4",
                                    "REND_DATUM": "2015-12-07",
                                    "SZALL_DATUM": "2015-12-17",
                                    "SZALL_CIM": "NULL",
                                    "SZALL_MOD": "Posta",
                                    "FIZ_MOD": "Átutalás",
                                    "SZAMLA_CIM": "NULL",
                                    "(No column name)": "NULL"
                                },
                                {
                                    "SORSZAM": "8785",
                                    "LOGIN": "peter4",
                                    "REND_DATUM": "2015-12-07",
                                    "SZALL_DATUM": "2015-12-15",
                                    "SZALL_CIM": "NULL",
                                    "SZALL_MOD": "Személyes átvétel",
                                    "FIZ_MOD": "Készpénz",
                                    "SZAMLA_CIM": "NULL",
                                    "(No column name)": "NULL"
                                },
                                {
                                    "SORSZAM": "8834",
                                    "LOGIN": "peter4",
                                    "REND_DATUM": "2015-12-09",
                                    "SZALL_DATUM": "2015-12-11",
                                    "SZALL_CIM": "NULL",
                                    "SZALL_MOD": "Posta",
                                    "FIZ_MOD": "Átutalás",
                                    "SZAMLA_CIM": "NULL",
                                    "(No column name)": "NULL"
                                },
                                {
                                    "SORSZAM": "8859",
                                    "LOGIN": "peter4",
                                    "REND_DATUM": "2015-12-09",
                                    "SZALL_DATUM": "2015-12-16",
                                    "SZALL_CIM": "NULL",
                                    "SZALL_MOD": "Személyes átvétel",
                                    "FIZ_MOD": "Átutalás",
                                    "SZAMLA_CIM": "NULL",
                                    "(No column name)": "NULL"
                                },
                                {
                                    "SORSZAM": "8905",
                                    "LOGIN": "peter4",
                                    "REND_DATUM": "2015-12-10",
                                    "SZALL_DATUM": "2015-12-12",
                                    "SZALL_CIM": "Jászkisér, Kiss u. 32.",
                                    "SZALL_MOD": "Személyes átvétel",
                                    "FIZ_MOD": "Bankkártya",
                                    "SZAMLA_CIM": "NULL",
                                    "(No column name)": "NULL"
                                },
                                {
                                    "SORSZAM": "8940",
                                    "LOGIN": "peter4",
                                    "REND_DATUM": "2015-12-11",
                                    "SZALL_DATUM": "2015-12-14",
                                    "SZALL_CIM": "NULL",
                                    "SZALL_MOD": "Személyes átvétel",
                                    "FIZ_MOD": "Bankkártya",
                                    "SZAMLA_CIM": "NULL",
                                    "(No column name)": "NULL"
                                },
                                {
                                    "SORSZAM": "8943",
                                    "LOGIN": "peter4",
                                    "REND_DATUM": "2015-12-11",
                                    "SZALL_DATUM": "2015-12-16",
                                    "SZALL_CIM": "NULL",
                                    "SZALL_MOD": "Posta",
                                    "FIZ_MOD": "Bankkártya",
                                    "SZAMLA_CIM": "NULL",
                                    "(No column name)": "NULL"
                                },
                                {
                                    "SORSZAM": "9004",
                                    "LOGIN": "peter4",
                                    "REND_DATUM": "2015-12-13",
                                    "SZALL_DATUM": "2015-12-22",
                                    "SZALL_CIM": "NULL",
                                    "SZALL_MOD": "Személyes átvétel",
                                    "FIZ_MOD": "Bankkártya",
                                    "SZAMLA_CIM": "NULL",
                                    "(No column name)": "NULL"
                                },
                                {
                                    "SORSZAM": "9081",
                                    "LOGIN": "peter4",
                                    "REND_DATUM": "2015-12-15",
                                    "SZALL_DATUM": "2015-12-25",
                                    "SZALL_CIM": "Jászkisér, Fő u. 2.",
                                    "SZALL_MOD": "Posta",
                                    "FIZ_MOD": "Átutalás",
                                    "SZAMLA_CIM": "NULL",
                                    "(No column name)": "NULL"
                                },
                                {
                                    "SORSZAM": "9123",
                                    "LOGIN": "peter4",
                                    "REND_DATUM": "2015-12-16",
                                    "SZALL_DATUM": "2015-12-18",
                                    "SZALL_CIM": "NULL",
                                    "SZALL_MOD": "Személyes átvétel",
                                    "FIZ_MOD": "Bankkártya",
                                    "SZAMLA_CIM": "NULL",
                                    "(No column name)": "NULL"
                                },
                                {
                                    "SORSZAM": "9129",
                                    "LOGIN": "peter4",
                                    "REND_DATUM": "2015-12-16",
                                    "SZALL_DATUM": "2015-12-18",
                                    "SZALL_CIM": "Jászkisér, Nagy u.14.",
                                    "SZALL_MOD": "Személyes átvétel",
                                    "FIZ_MOD": "Bankkártya",
                                    "SZAMLA_CIM": "5137 Jászkisér, Nagy u.14.",
                                    "(No column name)": "5137"
                                },
                                {
                                    "SORSZAM": "9133",
                                    "LOGIN": "peter4",
                                    "REND_DATUM": "2015-12-16",
                                    "SZALL_DATUM": "2015-12-19",
                                    "SZALL_CIM": "NULL",
                                    "SZALL_MOD": "GLS",
                                    "FIZ_MOD": "Bankkártya",
                                    "SZAMLA_CIM": "NULL",
                                    "(No column name)": "NULL"
                                },
                                {
                                    "SORSZAM": "9174",
                                    "LOGIN": "peter4",
                                    "REND_DATUM": "2015-12-17",
                                    "SZALL_DATUM": "2015-12-26",
                                    "SZALL_CIM": "NULL",
                                    "SZALL_MOD": "Posta",
                                    "FIZ_MOD": "Átutalás",
                                    "SZAMLA_CIM": "NULL",
                                    "(No column name)": "NULL"
                                },
                                {
                                    "SORSZAM": "9180",
                                    "LOGIN": "peter4",
                                    "REND_DATUM": "2015-12-18",
                                    "SZALL_DATUM": "2015-12-28",
                                    "SZALL_CIM": "Jászkisér, Fő u. 2.",
                                    "SZALL_MOD": "Személyes átvétel",
                                    "FIZ_MOD": "Készpénz",
                                    "SZAMLA_CIM": "5137 Jászkisér, Fő u. 2.",
                                    "(No column name)": "5137"
                                },
                                {
                                    "SORSZAM": "9227",
                                    "LOGIN": "peter4",
                                    "REND_DATUM": "2015-12-19",
                                    "SZALL_DATUM": "2015-12-21",
                                    "SZALL_CIM": "NULL",
                                    "SZALL_MOD": "Személyes átvétel",
                                    "FIZ_MOD": "Átutalás",
                                    "SZAMLA_CIM": "NULL",
                                    "(No column name)": "NULL"
                                },
                                {
                                    "SORSZAM": "9238",
                                    "LOGIN": "peter4",
                                    "REND_DATUM": "2015-12-19",
                                    "SZALL_DATUM": "2015-12-27",
                                    "SZALL_CIM": "NULL",
                                    "SZALL_MOD": "Személyes átvétel",
                                    "FIZ_MOD": "Bankkártya",
                                    "SZAMLA_CIM": "NULL",
                                    "(No column name)": "NULL"
                                },
                                {
                                    "SORSZAM": "9259",
                                    "LOGIN": "peter4",
                                    "REND_DATUM": "2015-12-20",
                                    "SZALL_DATUM": "2015-12-26",
                                    "SZALL_CIM": "NULL",
                                    "SZALL_MOD": "Személyes átvétel",
                                    "FIZ_MOD": "Átutalás",
                                    "SZAMLA_CIM": "NULL",
                                    "(No column name)": "NULL"
                                },
                                {
                                    "SORSZAM": "9305",
                                    "LOGIN": "peter4",
                                    "REND_DATUM": "2015-12-21",
                                    "SZALL_DATUM": "2015-12-24",
                                    "SZALL_CIM": "NULL",
                                    "SZALL_MOD": "GLS",
                                    "FIZ_MOD": "Átutalás",
                                    "SZAMLA_CIM": "NULL",
                                    "(No column name)": "NULL"
                                },
                                {
                                    "SORSZAM": "9339",
                                    "LOGIN": "peter4",
                                    "REND_DATUM": "2015-12-22",
                                    "SZALL_DATUM": "2015-12-30",
                                    "SZALL_CIM": "NULL",
                                    "SZALL_MOD": "Személyes átvétel",
                                    "FIZ_MOD": "Bankkártya",
                                    "SZAMLA_CIM": "NULL",
                                    "(No column name)": "NULL"
                                },
                                {
                                    "SORSZAM": "9341",
                                    "LOGIN": "peter4",
                                    "REND_DATUM": "2015-12-22",
                                    "SZALL_DATUM": "2015-12-29",
                                    "SZALL_CIM": "NULL",
                                    "SZALL_MOD": "Posta",
                                    "FIZ_MOD": "Átutalás",
                                    "SZAMLA_CIM": "NULL",
                                    "(No column name)": "NULL"
                                },
                                {
                                    "SORSZAM": "9362",
                                    "LOGIN": "peter4",
                                    "REND_DATUM": "2015-12-22",
                                    "SZALL_DATUM": "2016-01-01",
                                    "SZALL_CIM": "NULL",
                                    "SZALL_MOD": "GLS",
                                    "FIZ_MOD": "Bankkártya",
                                    "SZAMLA_CIM": "NULL",
                                    "(No column name)": "NULL"
                                },
                                {
                                    "SORSZAM": "9371",
                                    "LOGIN": "peter4",
                                    "REND_DATUM": "2015-12-22",
                                    "SZALL_DATUM": "2015-12-27",
                                    "SZALL_CIM": "NULL",
                                    "SZALL_MOD": "Posta",
                                    "FIZ_MOD": "Átutalás",
                                    "SZAMLA_CIM": "NULL",
                                    "(No column name)": "NULL"
                                },
                                {
                                    "SORSZAM": "9397",
                                    "LOGIN": "peter4",
                                    "REND_DATUM": "2015-12-23",
                                    "SZALL_DATUM": "2015-12-31",
                                    "SZALL_CIM": "NULL",
                                    "SZALL_MOD": "Posta",
                                    "FIZ_MOD": "Átutalás",
                                    "SZAMLA_CIM": "NULL",
                                    "(No column name)": "NULL"
                                },
                                {
                                    "SORSZAM": "9439",
                                    "LOGIN": "peter4",
                                    "REND_DATUM": "2015-12-24",
                                    "SZALL_DATUM": "2016-01-02",
                                    "SZALL_CIM": "NULL",
                                    "SZALL_MOD": "Posta",
                                    "FIZ_MOD": "Átutalás",
                                    "SZAMLA_CIM": "NULL",
                                    "(No column name)": "NULL"
                                },
                                {
                                    "SORSZAM": "9452",
                                    "LOGIN": "peter4",
                                    "REND_DATUM": "2015-12-24",
                                    "SZALL_DATUM": "2016-01-02",
                                    "SZALL_CIM": "Jászkisér, Nagy u.14.",
                                    "SZALL_MOD": "Személyes átvétel",
                                    "FIZ_MOD": "Átutalás",
                                    "SZAMLA_CIM": "NULL",
                                    "(No column name)": "NULL"
                                },
                                {
                                    "SORSZAM": "9472",
                                    "LOGIN": "peter4",
                                    "REND_DATUM": "2015-12-25",
                                    "SZALL_DATUM": "2015-12-28",
                                    "SZALL_CIM": "NULL",
                                    "SZALL_MOD": "Személyes átvétel",
                                    "FIZ_MOD": "Bankkártya",
                                    "SZAMLA_CIM": "NULL",
                                    "(No column name)": "NULL"
                                },
                                {
                                    "SORSZAM": "9483",
                                    "LOGIN": "peter4",
                                    "REND_DATUM": "2015-12-25",
                                    "SZALL_DATUM": "2016-01-02",
                                    "SZALL_CIM": "NULL",
                                    "SZALL_MOD": "GLS",
                                    "FIZ_MOD": "Bankkártya",
                                    "SZAMLA_CIM": "NULL",
                                    "(No column name)": "NULL"
                                },
                                {
                                    "SORSZAM": "9493",
                                    "LOGIN": "peter4",
                                    "REND_DATUM": "2015-12-25",
                                    "SZALL_DATUM": "2016-01-04",
                                    "SZALL_CIM": "NULL",
                                    "SZALL_MOD": "Személyes átvétel",
                                    "FIZ_MOD": "Bankkártya",
                                    "SZAMLA_CIM": "NULL",
                                    "(No column name)": "NULL"
                                },
                                {
                                    "SORSZAM": "9503",
                                    "LOGIN": "peter4",
                                    "REND_DATUM": "2015-12-26",
                                    "SZALL_DATUM": "2015-12-31",
                                    "SZALL_CIM": "Jászkisér, Kiss u. 32.",
                                    "SZALL_MOD": "Személyes átvétel",
                                    "FIZ_MOD": "Átutalás",
                                    "SZAMLA_CIM": "NULL",
                                    "(No column name)": "NULL"
                                },
                                {
                                    "SORSZAM": "9554",
                                    "LOGIN": "peter4",
                                    "REND_DATUM": "2015-12-27",
                                    "SZALL_DATUM": "2016-01-01",
                                    "SZALL_CIM": "Jászkisér, Nagy u.14.",
                                    "SZALL_MOD": "GLS",
                                    "FIZ_MOD": "Bankkártya",
                                    "SZAMLA_CIM": "NULL",
                                    "(No column name)": "NULL"
                                },
                                {
                                    "SORSZAM": "9556",
                                    "LOGIN": "peter4",
                                    "REND_DATUM": "2015-12-27",
                                    "SZALL_DATUM": "2016-01-03",
                                    "SZALL_CIM": "NULL",
                                    "SZALL_MOD": "Személyes átvétel",
                                    "FIZ_MOD": "Átutalás",
                                    "SZAMLA_CIM": "NULL",
                                    "(No column name)": "NULL"
                                },
                                {
                                    "SORSZAM": "9584",
                                    "LOGIN": "peter4",
                                    "REND_DATUM": "2015-12-28",
                                    "SZALL_DATUM": "2016-01-07",
                                    "SZALL_CIM": "NULL",
                                    "SZALL_MOD": "Posta",
                                    "FIZ_MOD": "Bankkártya",
                                    "SZAMLA_CIM": "NULL",
                                    "(No column name)": "NULL"
                                },
                                {
                                    "SORSZAM": "9594",
                                    "LOGIN": "peter4",
                                    "REND_DATUM": "2015-12-28",
                                    "SZALL_DATUM": "2016-01-03",
                                    "SZALL_CIM": "Jászkisér, Fő u. 2.",
                                    "SZALL_MOD": "GLS",
                                    "FIZ_MOD": "Bankkártya",
                                    "SZAMLA_CIM": "5137 Jászkisér, Fő u. 2.",
                                    "(No column name)": "5137"
                                },
                                {
                                    "SORSZAM": "9631",
                                    "LOGIN": "peter4",
                                    "REND_DATUM": "2015-12-29",
                                    "SZALL_DATUM": "2016-01-05",
                                    "SZALL_CIM": "NULL",
                                    "SZALL_MOD": "Posta",
                                    "FIZ_MOD": "Bankkártya",
                                    "SZAMLA_CIM": "NULL",
                                    "(No column name)": "NULL"
                                },
                                {
                                    "SORSZAM": "9698",
                                    "LOGIN": "peter4",
                                    "REND_DATUM": "2015-12-30",
                                    "SZALL_DATUM": "2016-01-06",
                                    "SZALL_CIM": "Jászkisér, Kiss u. 32.",
                                    "SZALL_MOD": "Posta",
                                    "FIZ_MOD": "Bankkártya",
                                    "SZAMLA_CIM": "5137 Jászkisér, Kiss u. 32.",
                                    "(No column name)": "5137"
                                },
                                {
                                    "SORSZAM": "9788",
                                    "LOGIN": "peter4",
                                    "REND_DATUM": "2016-01-02",
                                    "SZALL_DATUM": "2016-01-09",
                                    "SZALL_CIM": "NULL",
                                    "SZALL_MOD": "Személyes átvétel",
                                    "FIZ_MOD": "Bankkártya",
                                    "SZAMLA_CIM": "NULL",
                                    "(No column name)": "NULL"
                                },
                                {
                                    "SORSZAM": "9811",
                                    "LOGIN": "peter4",
                                    "REND_DATUM": "2016-01-02",
                                    "SZALL_DATUM": "2016-01-05",
                                    "SZALL_CIM": "NULL",
                                    "SZALL_MOD": "GLS",
                                    "FIZ_MOD": "Átutalás",
                                    "SZAMLA_CIM": "NULL",
                                    "(No column name)": "NULL"
                                },
                                {
                                    "SORSZAM": "9823",
                                    "LOGIN": "peter4",
                                    "REND_DATUM": "2016-01-03",
                                    "SZALL_DATUM": "2016-01-08",
                                    "SZALL_CIM": "NULL",
                                    "SZALL_MOD": "Személyes átvétel",
                                    "FIZ_MOD": "Átutalás",
                                    "SZAMLA_CIM": "NULL",
                                    "(No column name)": "NULL"
                                },
                                {
                                    "SORSZAM": "9826",
                                    "LOGIN": "peter4",
                                    "REND_DATUM": "2016-01-03",
                                    "SZALL_DATUM": "2016-01-10",
                                    "SZALL_CIM": "Jászkisér, Nagy u.14.",
                                    "SZALL_MOD": "Posta",
                                    "FIZ_MOD": "Bankkártya",
                                    "SZAMLA_CIM": "NULL",
                                    "(No column name)": "NULL"
                                },
                                {
                                    "SORSZAM": "9834",
                                    "LOGIN": "peter4",
                                    "REND_DATUM": "2016-01-03",
                                    "SZALL_DATUM": "2016-01-07",
                                    "SZALL_CIM": "NULL",
                                    "SZALL_MOD": "Személyes átvétel",
                                    "FIZ_MOD": "Átutalás",
                                    "SZAMLA_CIM": "NULL",
                                    "(No column name)": "NULL"
                                },
                                {
                                    "SORSZAM": "9856",
                                    "LOGIN": "peter4",
                                    "REND_DATUM": "2016-01-03",
                                    "SZALL_DATUM": "2016-01-05",
                                    "SZALL_CIM": "NULL",
                                    "SZALL_MOD": "Posta",
                                    "FIZ_MOD": "Átutalás",
                                    "SZAMLA_CIM": "NULL",
                                    "(No column name)": "NULL"
                                },
                                {
                                    "SORSZAM": "9858",
                                    "LOGIN": "peter4",
                                    "REND_DATUM": "2016-01-03",
                                    "SZALL_DATUM": "2016-01-07",
                                    "SZALL_CIM": "NULL",
                                    "SZALL_MOD": "Személyes átvétel",
                                    "FIZ_MOD": "Átutalás",
                                    "SZAMLA_CIM": "NULL",
                                    "(No column name)": "NULL"
                                },
                                {
                                    "SORSZAM": "9861",
                                    "LOGIN": "peter4",
                                    "REND_DATUM": "2016-01-03",
                                    "SZALL_DATUM": "2016-01-12",
                                    "SZALL_CIM": "NULL",
                                    "SZALL_MOD": "Posta",
                                    "FIZ_MOD": "Bankkártya",
                                    "SZAMLA_CIM": "NULL",
                                    "(No column name)": "NULL"
                                },
                                {
                                    "SORSZAM": "9886",
                                    "LOGIN": "peter4",
                                    "REND_DATUM": "2016-01-04",
                                    "SZALL_DATUM": "2016-01-06",
                                    "SZALL_CIM": "NULL",
                                    "SZALL_MOD": "Személyes átvétel",
                                    "FIZ_MOD": "Átutalás",
                                    "SZAMLA_CIM": "NULL",
                                    "(No column name)": "NULL"
                                },
                                {
                                    "SORSZAM": "9890",
                                    "LOGIN": "peter4",
                                    "REND_DATUM": "2016-01-04",
                                    "SZALL_DATUM": "2016-01-13",
                                    "SZALL_CIM": "NULL",
                                    "SZALL_MOD": "Posta",
                                    "FIZ_MOD": "Bankkártya",
                                    "SZAMLA_CIM": "NULL",
                                    "(No column name)": "NULL"
                                },
                                {
                                    "SORSZAM": "9943",
                                    "LOGIN": "peter4",
                                    "REND_DATUM": "2016-01-06",
                                    "SZALL_DATUM": "2016-01-08",
                                    "SZALL_CIM": "NULL",
                                    "SZALL_MOD": "Személyes átvétel",
                                    "FIZ_MOD": "Átutalás",
                                    "SZAMLA_CIM": "NULL",
                                    "(No column name)": "NULL"
                                },
                                {
                                    "SORSZAM": "9948",
                                    "LOGIN": "peter4",
                                    "REND_DATUM": "2016-01-06",
                                    "SZALL_DATUM": "2016-01-11",
                                    "SZALL_CIM": "NULL",
                                    "SZALL_MOD": "Posta",
                                    "FIZ_MOD": "Átutalás",
                                    "SZAMLA_CIM": "NULL",
                                    "(No column name)": "NULL"
                                },
                                {
                                    "SORSZAM": "9984",
                                    "LOGIN": "peter4",
                                    "REND_DATUM": "2016-01-07",
                                    "SZALL_DATUM": "2016-01-11",
                                    "SZALL_CIM": "Jászkisér, Kiss u. 32.",
                                    "SZALL_MOD": "Személyes átvétel",
                                    "FIZ_MOD": "Átutalás",
                                    "SZAMLA_CIM": "5137 Jászkisér, Kiss u. 32.",
                                    "(No column name)": "5137"
                                },
                                {
                                    "SORSZAM": "9994",
                                    "LOGIN": "peter4",
                                    "REND_DATUM": "2016-01-07",
                                    "SZALL_DATUM": "2016-01-11",
                                    "SZALL_CIM": "NULL",
                                    "SZALL_MOD": "Személyes átvétel",
                                    "FIZ_MOD": "Átutalás",
                                    "SZAMLA_CIM": "NULL",
                                    "(No column name)": "NULL"
                                },
                                {
                                    "SORSZAM": "10040",
                                    "LOGIN": "peter4",
                                    "REND_DATUM": "2016-01-08",
                                    "SZALL_DATUM": "2016-01-14",
                                    "SZALL_CIM": "NULL",
                                    "SZALL_MOD": "GLS",
                                    "FIZ_MOD": "Bankkártya",
                                    "SZAMLA_CIM": "NULL",
                                    "(No column name)": "NULL"
                                },
                                {
                                    "SORSZAM": "10048",
                                    "LOGIN": "peter4",
                                    "REND_DATUM": "2016-01-08",
                                    "SZALL_DATUM": "2016-01-18",
                                    "SZALL_CIM": "NULL",
                                    "SZALL_MOD": "Személyes átvétel",
                                    "FIZ_MOD": "Bankkártya",
                                    "SZAMLA_CIM": "NULL",
                                    "(No column name)": "NULL"
                                },
                                {
                                    "SORSZAM": "10082",
                                    "LOGIN": "peter4",
                                    "REND_DATUM": "2016-01-09",
                                    "SZALL_DATUM": "2016-01-15",
                                    "SZALL_CIM": "NULL",
                                    "SZALL_MOD": "GLS",
                                    "FIZ_MOD": "Bankkártya",
                                    "SZAMLA_CIM": "NULL",
                                    "(No column name)": "NULL"
                                },
                                {
                                    "SORSZAM": "10085",
                                    "LOGIN": "peter4",
                                    "REND_DATUM": "2016-01-09",
                                    "SZALL_DATUM": "2016-01-17",
                                    "SZALL_CIM": "NULL",
                                    "SZALL_MOD": "Személyes átvétel",
                                    "FIZ_MOD": "Átutalás",
                                    "SZAMLA_CIM": "NULL",
                                    "(No column name)": "NULL"
                                },
                                {
                                    "SORSZAM": "10086",
                                    "LOGIN": "peter4",
                                    "REND_DATUM": "2016-01-09",
                                    "SZALL_DATUM": "2016-01-19",
                                    "SZALL_CIM": "NULL",
                                    "SZALL_MOD": "Posta",
                                    "FIZ_MOD": "Bankkártya",
                                    "SZAMLA_CIM": "NULL",
                                    "(No column name)": "NULL"
                                },
                                {
                                    "SORSZAM": "10106",
                                    "LOGIN": "peter4",
                                    "REND_DATUM": "2016-01-10",
                                    "SZALL_DATUM": "2016-01-12",
                                    "SZALL_CIM": "NULL",
                                    "SZALL_MOD": "Személyes átvétel",
                                    "FIZ_MOD": "Bankkártya",
                                    "SZAMLA_CIM": "NULL",
                                    "(No column name)": "NULL"
                                },
                                {
                                    "SORSZAM": "10128",
                                    "LOGIN": "peter4",
                                    "REND_DATUM": "2016-01-10",
                                    "SZALL_DATUM": "2016-01-20",
                                    "SZALL_CIM": "NULL",
                                    "SZALL_MOD": "Posta",
                                    "FIZ_MOD": "Bankkártya",
                                    "SZAMLA_CIM": "NULL",
                                    "(No column name)": "NULL"
                                },
                                {
                                    "SORSZAM": "10144",
                                    "LOGIN": "peter4",
                                    "REND_DATUM": "2016-01-11",
                                    "SZALL_DATUM": "2016-01-17",
                                    "SZALL_CIM": "NULL",
                                    "SZALL_MOD": "Személyes átvétel",
                                    "FIZ_MOD": "Átutalás",
                                    "SZAMLA_CIM": "NULL",
                                    "(No column name)": "NULL"
                                },
                                {
                                    "SORSZAM": "10150",
                                    "LOGIN": "peter4",
                                    "REND_DATUM": "2016-01-11",
                                    "SZALL_DATUM": "2016-01-18",
                                    "SZALL_CIM": "NULL",
                                    "SZALL_MOD": "Személyes átvétel",
                                    "FIZ_MOD": "Átutalás",
                                    "SZAMLA_CIM": "NULL",
                                    "(No column name)": "NULL"
                                },
                                {
                                    "SORSZAM": "10215",
                                    "LOGIN": "peter4",
                                    "REND_DATUM": "2016-01-12",
                                    "SZALL_DATUM": "2016-01-21",
                                    "SZALL_CIM": "Jászkisér, Fő u. 2.",
                                    "SZALL_MOD": "Posta",
                                    "FIZ_MOD": "Bankkártya",
                                    "SZAMLA_CIM": "NULL",
                                    "(No column name)": "NULL"
                                },
                                {
                                    "SORSZAM": "10265",
                                    "LOGIN": "peter4",
                                    "REND_DATUM": "2016-01-13",
                                    "SZALL_DATUM": "2016-01-16",
                                    "SZALL_CIM": "NULL",
                                    "SZALL_MOD": "Posta",
                                    "FIZ_MOD": "Bankkártya",
                                    "SZAMLA_CIM": "NULL",
                                    "(No column name)": "NULL"
                                },
                                {
                                    "SORSZAM": "10281",
                                    "LOGIN": "peter4",
                                    "REND_DATUM": "2016-01-14",
                                    "SZALL_DATUM": "2016-01-23",
                                    "SZALL_CIM": "NULL",
                                    "SZALL_MOD": "Személyes átvétel",
                                    "FIZ_MOD": "Bankkártya",
                                    "SZAMLA_CIM": "NULL",
                                    "(No column name)": "NULL"
                                },
                                {
                                    "SORSZAM": "10319",
                                    "LOGIN": "peter4",
                                    "REND_DATUM": "2016-01-15",
                                    "SZALL_DATUM": "2016-01-21",
                                    "SZALL_CIM": "Jászkisér, Nagy u.14.",
                                    "SZALL_MOD": "Posta",
                                    "FIZ_MOD": "Átutalás",
                                    "SZAMLA_CIM": "NULL",
                                    "(No column name)": "NULL"
                                },
                                {
                                    "SORSZAM": "10334",
                                    "LOGIN": "peter4",
                                    "REND_DATUM": "2016-01-15",
                                    "SZALL_DATUM": "2016-01-17",
                                    "SZALL_CIM": "NULL",
                                    "SZALL_MOD": "Személyes átvétel",
                                    "FIZ_MOD": "Átutalás",
                                    "SZAMLA_CIM": "NULL",
                                    "(No column name)": "NULL"
                                },
                                {
                                    "SORSZAM": "10464",
                                    "LOGIN": "peter4",
                                    "REND_DATUM": "2016-01-19",
                                    "SZALL_DATUM": "2016-01-21",
                                    "SZALL_CIM": "NULL",
                                    "SZALL_MOD": "Személyes átvétel",
                                    "FIZ_MOD": "Bankkártya",
                                    "SZAMLA_CIM": "NULL",
                                    "(No column name)": "NULL"
                                },
                                {
                                    "SORSZAM": "10477",
                                    "LOGIN": "peter4",
                                    "REND_DATUM": "2016-01-19",
                                    "SZALL_DATUM": "2016-01-21",
                                    "SZALL_CIM": "NULL",
                                    "SZALL_MOD": "Posta",
                                    "FIZ_MOD": "Átutalás",
                                    "SZAMLA_CIM": "NULL",
                                    "(No column name)": "NULL"
                                },
                                {
                                    "SORSZAM": "10479",
                                    "LOGIN": "peter4",
                                    "REND_DATUM": "2016-01-19",
                                    "SZALL_DATUM": "2016-01-25",
                                    "SZALL_CIM": "NULL",
                                    "SZALL_MOD": "Személyes átvétel",
                                    "FIZ_MOD": "Bankkártya",
                                    "SZAMLA_CIM": "NULL",
                                    "(No column name)": "NULL"
                                },
                                {
                                    "SORSZAM": "10490",
                                    "LOGIN": "peter4",
                                    "REND_DATUM": "2016-01-19",
                                    "SZALL_DATUM": "2016-01-27",
                                    "SZALL_CIM": "NULL",
                                    "SZALL_MOD": "GLS",
                                    "FIZ_MOD": "Átutalás",
                                    "SZAMLA_CIM": "NULL",
                                    "(No column name)": "NULL"
                                },
                                {
                                    "SORSZAM": "10492",
                                    "LOGIN": "peter4",
                                    "REND_DATUM": "2016-01-19",
                                    "SZALL_DATUM": "2016-01-28",
                                    "SZALL_CIM": "NULL",
                                    "SZALL_MOD": "Posta",
                                    "FIZ_MOD": "Bankkártya",
                                    "SZAMLA_CIM": "NULL",
                                    "(No column name)": "NULL"
                                },
                                {
                                    "SORSZAM": "10494",
                                    "LOGIN": "peter4",
                                    "REND_DATUM": "2016-01-19",
                                    "SZALL_DATUM": "2016-01-22",
                                    "SZALL_CIM": "Jászkisér, Fő u. 2.",
                                    "SZALL_MOD": "Posta",
                                    "FIZ_MOD": "Készpénz",
                                    "SZAMLA_CIM": "NULL",
                                    "(No column name)": "NULL"
                                },
                                {
                                    "SORSZAM": "10522",
                                    "LOGIN": "peter4",
                                    "REND_DATUM": "2016-01-20",
                                    "SZALL_DATUM": "2016-01-22",
                                    "SZALL_CIM": "NULL",
                                    "SZALL_MOD": "GLS",
                                    "FIZ_MOD": "Bankkártya",
                                    "SZAMLA_CIM": "NULL",
                                    "(No column name)": "NULL"
                                },
                                {
                                    "SORSZAM": "10523",
                                    "LOGIN": "peter4",
                                    "REND_DATUM": "2016-01-20",
                                    "SZALL_DATUM": "2016-01-30",
                                    "SZALL_CIM": "Jászkisér, Nagy u.14.",
                                    "SZALL_MOD": "GLS",
                                    "FIZ_MOD": "Készpénz",
                                    "SZAMLA_CIM": "NULL",
                                    "(No column name)": "NULL"
                                },
                                {
                                    "SORSZAM": "10532",
                                    "LOGIN": "peter4",
                                    "REND_DATUM": "2016-01-20",
                                    "SZALL_DATUM": "2016-01-28",
                                    "SZALL_CIM": "NULL",
                                    "SZALL_MOD": "GLS",
                                    "FIZ_MOD": "Átutalás",
                                    "SZAMLA_CIM": "NULL",
                                    "(No column name)": "NULL"
                                },
                                {
                                    "SORSZAM": "10577",
                                    "LOGIN": "peter4",
                                    "REND_DATUM": "2016-01-22",
                                    "SZALL_DATUM": "2016-02-01",
                                    "SZALL_CIM": "NULL",
                                    "SZALL_MOD": "Posta",
                                    "FIZ_MOD": "Bankkártya",
                                    "SZAMLA_CIM": "NULL",
                                    "(No column name)": "NULL"
                                },
                                {
                                    "SORSZAM": "10605",
                                    "LOGIN": "peter4",
                                    "REND_DATUM": "2016-01-22",
                                    "SZALL_DATUM": "2016-01-28",
                                    "SZALL_CIM": "NULL",
                                    "SZALL_MOD": "Személyes átvétel",
                                    "FIZ_MOD": "Átutalás",
                                    "SZAMLA_CIM": "NULL",
                                    "(No column name)": "NULL"
                                },
                                {
                                    "SORSZAM": "10636",
                                    "LOGIN": "peter4",
                                    "REND_DATUM": "2016-01-23",
                                    "SZALL_DATUM": "2016-01-29",
                                    "SZALL_CIM": "NULL",
                                    "SZALL_MOD": "GLS",
                                    "FIZ_MOD": "Bankkártya",
                                    "SZAMLA_CIM": "NULL",
                                    "(No column name)": "NULL"
                                },
                                {
                                    "SORSZAM": "10648",
                                    "LOGIN": "peter4",
                                    "REND_DATUM": "2016-01-24",
                                    "SZALL_DATUM": "2016-01-29",
                                    "SZALL_CIM": "NULL",
                                    "SZALL_MOD": "GLS",
                                    "FIZ_MOD": "Bankkártya",
                                    "SZAMLA_CIM": "NULL",
                                    "(No column name)": "NULL"
                                },
                                {
                                    "SORSZAM": "10662",
                                    "LOGIN": "peter4",
                                    "REND_DATUM": "2016-01-24",
                                    "SZALL_DATUM": "2016-01-30",
                                    "SZALL_CIM": "NULL",
                                    "SZALL_MOD": "GLS",
                                    "FIZ_MOD": "Bankkártya",
                                    "SZAMLA_CIM": "NULL",
                                    "(No column name)": "NULL"
                                },
                                {
                                    "SORSZAM": "10710",
                                    "LOGIN": "peter4",
                                    "REND_DATUM": "2016-01-25",
                                    "SZALL_DATUM": "2016-01-29",
                                    "SZALL_CIM": "Jászkisér, Fő u. 2.",
                                    "SZALL_MOD": "Személyes átvétel",
                                    "FIZ_MOD": "Bankkártya",
                                    "SZAMLA_CIM": "5137 Jászkisér, Fő u. 2.",
                                    "(No column name)": "5137"
                                },
                                {
                                    "SORSZAM": "10711",
                                    "LOGIN": "peter4",
                                    "REND_DATUM": "2016-01-25",
                                    "SZALL_DATUM": "2016-02-03",
                                    "SZALL_CIM": "NULL",
                                    "SZALL_MOD": "GLS",
                                    "FIZ_MOD": "Átutalás",
                                    "SZAMLA_CIM": "NULL",
                                    "(No column name)": "NULL"
                                },
                                {
                                    "SORSZAM": "10720",
                                    "LOGIN": "peter4",
                                    "REND_DATUM": "2016-01-25",
                                    "SZALL_DATUM": "2016-02-01",
                                    "SZALL_CIM": "NULL",
                                    "SZALL_MOD": "Posta",
                                    "FIZ_MOD": "Bankkártya",
                                    "SZAMLA_CIM": "NULL",
                                    "(No column name)": "NULL"
                                },
                                {
                                    "SORSZAM": "10780",
                                    "LOGIN": "peter4",
                                    "REND_DATUM": "2016-01-27",
                                    "SZALL_DATUM": "2016-02-03",
                                    "SZALL_CIM": "NULL",
                                    "SZALL_MOD": "GLS",
                                    "FIZ_MOD": "Bankkártya",
                                    "SZAMLA_CIM": "NULL",
                                    "(No column name)": "NULL"
                                },
                                {
                                    "SORSZAM": "10813",
                                    "LOGIN": "peter4",
                                    "REND_DATUM": "2016-01-27",
                                    "SZALL_DATUM": "2016-02-06",
                                    "SZALL_CIM": "NULL",
                                    "SZALL_MOD": "Személyes átvétel",
                                    "FIZ_MOD": "Bankkártya",
                                    "SZAMLA_CIM": "NULL",
                                    "(No column name)": "NULL"
                                },
                                {
                                    "SORSZAM": "10823",
                                    "LOGIN": "peter4",
                                    "REND_DATUM": "2016-01-28",
                                    "SZALL_DATUM": "2016-02-03",
                                    "SZALL_CIM": "NULL",
                                    "SZALL_MOD": "Személyes átvétel",
                                    "FIZ_MOD": "Bankkártya",
                                    "SZAMLA_CIM": "NULL",
                                    "(No column name)": "NULL"
                                },
                                {
                                    "SORSZAM": "10915",
                                    "LOGIN": "peter4",
                                    "REND_DATUM": "2016-01-30",
                                    "SZALL_DATUM": "2016-02-01",
                                    "SZALL_CIM": "NULL",
                                    "SZALL_MOD": "Személyes átvétel",
                                    "FIZ_MOD": "Átutalás",
                                    "SZAMLA_CIM": "NULL",
                                    "(No column name)": "NULL"
                                },
                                {
                                    "SORSZAM": "10932",
                                    "LOGIN": "peter4",
                                    "REND_DATUM": "2016-01-30",
                                    "SZALL_DATUM": "2016-02-06",
                                    "SZALL_CIM": "NULL",
                                    "SZALL_MOD": "GLS",
                                    "FIZ_MOD": "Átutalás",
                                    "SZAMLA_CIM": "NULL",
                                    "(No column name)": "NULL"
                                },
                                {
                                    "SORSZAM": "10947",
                                    "LOGIN": "peter4",
                                    "REND_DATUM": "2016-01-31",
                                    "SZALL_DATUM": "2016-02-10",
                                    "SZALL_CIM": "NULL",
                                    "SZALL_MOD": "GLS",
                                    "FIZ_MOD": "Átutalás",
                                    "SZAMLA_CIM": "NULL",
                                    "(No column name)": "NULL"
                                },
                                {
                                    "SORSZAM": "11033",
                                    "LOGIN": "peter4",
                                    "REND_DATUM": "2016-02-02",
                                    "SZALL_DATUM": "2016-02-06",
                                    "SZALL_CIM": "Jászkisér, Nagy u.14.",
                                    "SZALL_MOD": "GLS",
                                    "FIZ_MOD": "Készpénz",
                                    "SZAMLA_CIM": "NULL",
                                    "(No column name)": "NULL"
                                },
                                {
                                    "SORSZAM": "11047",
                                    "LOGIN": "peter4",
                                    "REND_DATUM": "2016-02-02",
                                    "SZALL_DATUM": "2016-02-08",
                                    "SZALL_CIM": "NULL",
                                    "SZALL_MOD": "Személyes átvétel",
                                    "FIZ_MOD": "Átutalás",
                                    "SZAMLA_CIM": "NULL",
                                    "(No column name)": "NULL"
                                },
                                {
                                    "SORSZAM": "11056",
                                    "LOGIN": "peter4",
                                    "REND_DATUM": "2016-02-02",
                                    "SZALL_DATUM": "2016-02-09",
                                    "SZALL_CIM": "NULL",
                                    "SZALL_MOD": "GLS",
                                    "FIZ_MOD": "Átutalás",
                                    "SZAMLA_CIM": "NULL",
                                    "(No column name)": "NULL"
                                },
                                {
                                    "SORSZAM": "11087",
                                    "LOGIN": "peter4",
                                    "REND_DATUM": "2016-02-03",
                                    "SZALL_DATUM": "2016-02-12",
                                    "SZALL_CIM": "NULL",
                                    "SZALL_MOD": "GLS",
                                    "FIZ_MOD": "Bankkártya",
                                    "SZAMLA_CIM": "NULL",
                                    "(No column name)": "NULL"
                                },
                                {
                                    "SORSZAM": "11111",
                                    "LOGIN": "peter4",
                                    "REND_DATUM": "2016-02-04",
                                    "SZALL_DATUM": "2016-02-06",
                                    "SZALL_CIM": "NULL",
                                    "SZALL_MOD": "GLS",
                                    "FIZ_MOD": "Készpénz",
                                    "SZAMLA_CIM": "NULL",
                                    "(No column name)": "NULL"
                                },
                                {
                                    "SORSZAM": "11122",
                                    "LOGIN": "peter4",
                                    "REND_DATUM": "2016-02-04",
                                    "SZALL_DATUM": "2016-02-11",
                                    "SZALL_CIM": "NULL",
                                    "SZALL_MOD": "Személyes átvétel",
                                    "FIZ_MOD": "Átutalás",
                                    "SZAMLA_CIM": "NULL",
                                    "(No column name)": "NULL"
                                },
                                {
                                    "SORSZAM": "11134",
                                    "LOGIN": "peter4",
                                    "REND_DATUM": "2016-02-04",
                                    "SZALL_DATUM": "2016-02-06",
                                    "SZALL_CIM": "NULL",
                                    "SZALL_MOD": "Posta",
                                    "FIZ_MOD": "Bankkártya",
                                    "SZAMLA_CIM": "NULL",
                                    "(No column name)": "NULL"
                                },
                                {
                                    "SORSZAM": "11171",
                                    "LOGIN": "peter4",
                                    "REND_DATUM": "2016-02-05",
                                    "SZALL_DATUM": "2016-02-12",
                                    "SZALL_CIM": "NULL",
                                    "SZALL_MOD": "Posta",
                                    "FIZ_MOD": "Átutalás",
                                    "SZAMLA_CIM": "NULL",
                                    "(No column name)": "NULL"
                                },
                                {
                                    "SORSZAM": "11247",
                                    "LOGIN": "peter4",
                                    "REND_DATUM": "2016-02-07",
                                    "SZALL_DATUM": "2016-02-15",
                                    "SZALL_CIM": "NULL",
                                    "SZALL_MOD": "Személyes átvétel",
                                    "FIZ_MOD": "Átutalás",
                                    "SZAMLA_CIM": "NULL",
                                    "(No column name)": "NULL"
                                },
                                {
                                    "SORSZAM": "11255",
                                    "LOGIN": "peter4",
                                    "REND_DATUM": "2016-02-07",
                                    "SZALL_DATUM": "2016-02-14",
                                    "SZALL_CIM": "NULL",
                                    "SZALL_MOD": "Személyes átvétel",
                                    "FIZ_MOD": "Bankkártya",
                                    "SZAMLA_CIM": "NULL",
                                    "(No column name)": "NULL"
                                },
                                {
                                    "SORSZAM": "11259",
                                    "LOGIN": "peter4",
                                    "REND_DATUM": "2016-02-07",
                                    "SZALL_DATUM": "2016-02-12",
                                    "SZALL_CIM": "Jászkisér, Fő u. 2.",
                                    "SZALL_MOD": "GLS",
                                    "FIZ_MOD": "Átutalás",
                                    "SZAMLA_CIM": "5137 Jászkisér, Fő u. 2.",
                                    "(No column name)": "5137"
                                },
                                {
                                    "SORSZAM": "11322",
                                    "LOGIN": "peter4",
                                    "REND_DATUM": "2016-02-09",
                                    "SZALL_DATUM": "2016-02-17",
                                    "SZALL_CIM": "Jászkisér, Fő u. 2.",
                                    "SZALL_MOD": "Személyes átvétel",
                                    "FIZ_MOD": "Bankkártya",
                                    "SZAMLA_CIM": "5137 Jászkisér, Fő u. 2.",
                                    "(No column name)": "5137"
                                },
                                {
                                    "SORSZAM": "11371",
                                    "LOGIN": "peter4",
                                    "REND_DATUM": "2016-02-10",
                                    "SZALL_DATUM": "2016-02-17",
                                    "SZALL_CIM": "NULL",
                                    "SZALL_MOD": "GLS",
                                    "FIZ_MOD": "Átutalás",
                                    "SZAMLA_CIM": "NULL",
                                    "(No column name)": "NULL"
                                },
                                {
                                    "SORSZAM": "11381",
                                    "LOGIN": "peter4",
                                    "REND_DATUM": "2016-02-10",
                                    "SZALL_DATUM": "2016-02-19",
                                    "SZALL_CIM": "NULL",
                                    "SZALL_MOD": "Személyes átvétel",
                                    "FIZ_MOD": "Bankkártya",
                                    "SZAMLA_CIM": "NULL",
                                    "(No column name)": "NULL"
                                },
                                {
                                    "SORSZAM": "11390",
                                    "LOGIN": "peter4",
                                    "REND_DATUM": "2016-02-11",
                                    "SZALL_DATUM": "2016-02-20",
                                    "SZALL_CIM": "Jászkisér, Nagy u.14.",
                                    "SZALL_MOD": "Személyes átvétel",
                                    "FIZ_MOD": "Átutalás",
                                    "SZAMLA_CIM": "NULL",
                                    "(No column name)": "NULL"
                                },
                                {
                                    "SORSZAM": "11465",
                                    "LOGIN": "peter4",
                                    "REND_DATUM": "2016-02-12",
                                    "SZALL_DATUM": "2016-02-20",
                                    "SZALL_CIM": "NULL",
                                    "SZALL_MOD": "Posta",
                                    "FIZ_MOD": "Bankkártya",
                                    "SZAMLA_CIM": "NULL",
                                    "(No column name)": "NULL"
                                },
                                {
                                    "SORSZAM": "11481",
                                    "LOGIN": "peter4",
                                    "REND_DATUM": "2016-02-13",
                                    "SZALL_DATUM": "2016-02-22",
                                    "SZALL_CIM": "NULL",
                                    "SZALL_MOD": "GLS",
                                    "FIZ_MOD": "Bankkártya",
                                    "SZAMLA_CIM": "NULL",
                                    "(No column name)": "NULL"
                                },
                                {
                                    "SORSZAM": "11531",
                                    "LOGIN": "peter4",
                                    "REND_DATUM": "2016-02-14",
                                    "SZALL_DATUM": "2016-02-17",
                                    "SZALL_CIM": "Jászkisér, Kiss u. 32.",
                                    "SZALL_MOD": "GLS",
                                    "FIZ_MOD": "Átutalás",
                                    "SZAMLA_CIM": "NULL",
                                    "(No column name)": "NULL"
                                },
                                {
                                    "SORSZAM": "11638",
                                    "LOGIN": "peter4",
                                    "REND_DATUM": "2016-02-17",
                                    "SZALL_DATUM": "2016-02-26",
                                    "SZALL_CIM": "NULL",
                                    "SZALL_MOD": "GLS",
                                    "FIZ_MOD": "Bankkártya",
                                    "SZAMLA_CIM": "NULL",
                                    "(No column name)": "NULL"
                                },
                                {
                                    "SORSZAM": "11641",
                                    "LOGIN": "peter4",
                                    "REND_DATUM": "2016-02-17",
                                    "SZALL_DATUM": "2016-02-22",
                                    "SZALL_CIM": "NULL",
                                    "SZALL_MOD": "GLS",
                                    "FIZ_MOD": "Bankkártya",
                                    "SZAMLA_CIM": "NULL",
                                    "(No column name)": "NULL"
                                },
                                {
                                    "SORSZAM": "11646",
                                    "LOGIN": "peter4",
                                    "REND_DATUM": "2016-02-17",
                                    "SZALL_DATUM": "2016-02-21",
                                    "SZALL_CIM": "Jászkisér, Fő u. 2.",
                                    "SZALL_MOD": "Posta",
                                    "FIZ_MOD": "Bankkártya",
                                    "SZAMLA_CIM": "NULL",
                                    "(No column name)": "NULL"
                                },
                                {
                                    "SORSZAM": "11749",
                                    "LOGIN": "peter4",
                                    "REND_DATUM": "2016-02-20",
                                    "SZALL_DATUM": "2016-02-28",
                                    "SZALL_CIM": "NULL",
                                    "SZALL_MOD": "Posta",
                                    "FIZ_MOD": "Bankkártya",
                                    "SZAMLA_CIM": "NULL",
                                    "(No column name)": "NULL"
                                },
                                {
                                    "SORSZAM": "11813",
                                    "LOGIN": "peter4",
                                    "REND_DATUM": "2016-02-21",
                                    "SZALL_DATUM": "2016-03-02",
                                    "SZALL_CIM": "NULL",
                                    "SZALL_MOD": "Posta",
                                    "FIZ_MOD": "Bankkártya",
                                    "SZAMLA_CIM": "NULL",
                                    "(No column name)": "NULL"
                                },
                                {
                                    "SORSZAM": "11819",
                                    "LOGIN": "peter4",
                                    "REND_DATUM": "2016-02-21",
                                    "SZALL_DATUM": "2016-02-29",
                                    "SZALL_CIM": "NULL",
                                    "SZALL_MOD": "Posta",
                                    "FIZ_MOD": "Bankkártya",
                                    "SZAMLA_CIM": "NULL",
                                    "(No column name)": "NULL"
                                },
                                {
                                    "SORSZAM": "11820",
                                    "LOGIN": "peter4",
                                    "REND_DATUM": "2016-02-21",
                                    "SZALL_DATUM": "2016-03-02",
                                    "SZALL_CIM": "NULL",
                                    "SZALL_MOD": "GLS",
                                    "FIZ_MOD": "Átutalás",
                                    "SZAMLA_CIM": "NULL",
                                    "(No column name)": "NULL"
                                },
                                {
                                    "SORSZAM": "11847",
                                    "LOGIN": "peter4",
                                    "REND_DATUM": "2016-02-22",
                                    "SZALL_DATUM": "2016-02-28",
                                    "SZALL_CIM": "NULL",
                                    "SZALL_MOD": "GLS",
                                    "FIZ_MOD": "Bankkártya",
                                    "SZAMLA_CIM": "NULL",
                                    "(No column name)": "NULL"
                                },
                                {
                                    "SORSZAM": "11855",
                                    "LOGIN": "peter4",
                                    "REND_DATUM": "2016-02-22",
                                    "SZALL_DATUM": "2016-02-26",
                                    "SZALL_CIM": "NULL",
                                    "SZALL_MOD": "Személyes átvétel",
                                    "FIZ_MOD": "Készpénz",
                                    "SZAMLA_CIM": "NULL",
                                    "(No column name)": "NULL"
                                },
                                {
                                    "SORSZAM": "11856",
                                    "LOGIN": "peter4",
                                    "REND_DATUM": "2016-02-22",
                                    "SZALL_DATUM": "2016-02-27",
                                    "SZALL_CIM": "Jászkisér, Kiss u. 32.",
                                    "SZALL_MOD": "Személyes átvétel",
                                    "FIZ_MOD": "Bankkártya",
                                    "SZAMLA_CIM": "5137 Jászkisér, Kiss u. 32.",
                                    "(No column name)": "5137"
                                },
                                {
                                    "SORSZAM": "11932",
                                    "LOGIN": "peter4",
                                    "REND_DATUM": "2016-02-24",
                                    "SZALL_DATUM": "2016-02-27",
                                    "SZALL_CIM": "NULL",
                                    "SZALL_MOD": "Posta",
                                    "FIZ_MOD": "Bankkártya",
                                    "SZAMLA_CIM": "NULL",
                                    "(No column name)": "NULL"
                                },
                                {
                                    "SORSZAM": "11981",
                                    "LOGIN": "peter4",
                                    "REND_DATUM": "2016-02-25",
                                    "SZALL_DATUM": "2016-02-28",
                                    "SZALL_CIM": "NULL",
                                    "SZALL_MOD": "Posta",
                                    "FIZ_MOD": "Átutalás",
                                    "SZAMLA_CIM": "NULL",
                                    "(No column name)": "NULL"
                                },
                                {
                                    "SORSZAM": "12062",
                                    "LOGIN": "peter4",
                                    "REND_DATUM": "2016-02-27",
                                    "SZALL_DATUM": "2016-03-02",
                                    "SZALL_CIM": "NULL",
                                    "SZALL_MOD": "Posta",
                                    "FIZ_MOD": "Bankkártya",
                                    "SZAMLA_CIM": "NULL",
                                    "(No column name)": "NULL"
                                },
                                {
                                    "SORSZAM": "12065",
                                    "LOGIN": "peter4",
                                    "REND_DATUM": "2016-02-27",
                                    "SZALL_DATUM": "2016-03-07",
                                    "SZALL_CIM": "NULL",
                                    "SZALL_MOD": "Posta",
                                    "FIZ_MOD": "Készpénz",
                                    "SZAMLA_CIM": "NULL",
                                    "(No column name)": "NULL"
                                },
                                {
                                    "SORSZAM": "12070",
                                    "LOGIN": "peter4",
                                    "REND_DATUM": "2016-02-27",
                                    "SZALL_DATUM": "2016-03-03",
                                    "SZALL_CIM": "Jászkisér, Nagy u.14.",
                                    "SZALL_MOD": "Személyes átvétel",
                                    "FIZ_MOD": "Átutalás",
                                    "SZAMLA_CIM": "NULL",
                                    "(No column name)": "NULL"
                                },
                                {
                                    "SORSZAM": "12092",
                                    "LOGIN": "peter4",
                                    "REND_DATUM": "2016-02-28",
                                    "SZALL_DATUM": "2016-03-01",
                                    "SZALL_CIM": "NULL",
                                    "SZALL_MOD": "Személyes átvétel",
                                    "FIZ_MOD": "Bankkártya",
                                    "SZAMLA_CIM": "NULL",
                                    "(No column name)": "NULL"
                                },
                                {
                                    "SORSZAM": "12112",
                                    "LOGIN": "peter4",
                                    "REND_DATUM": "2016-02-28",
                                    "SZALL_DATUM": "2016-03-03",
                                    "SZALL_CIM": "NULL",
                                    "SZALL_MOD": "Személyes átvétel",
                                    "FIZ_MOD": "Átutalás",
                                    "SZAMLA_CIM": "NULL",
                                    "(No column name)": "NULL"
                                },
                                {
                                    "SORSZAM": "12122",
                                    "LOGIN": "peter4",
                                    "REND_DATUM": "2016-02-28",
                                    "SZALL_DATUM": "2016-03-09",
                                    "SZALL_CIM": "NULL",
                                    "SZALL_MOD": "Személyes átvétel",
                                    "FIZ_MOD": "Átutalás",
                                    "SZAMLA_CIM": "NULL",
                                    "(No column name)": "NULL"
                                },
                                {
                                    "SORSZAM": "12150",
                                    "LOGIN": "peter4",
                                    "REND_DATUM": "2016-02-29",
                                    "SZALL_DATUM": "2016-03-05",
                                    "SZALL_CIM": "Jászkisér, Fő u. 2.",
                                    "SZALL_MOD": "Személyes átvétel",
                                    "FIZ_MOD": "Bankkártya",
                                    "SZAMLA_CIM": "5137 Jászkisér, Fő u. 2.",
                                    "(No column name)": "5137"
                                },
                                {
                                    "SORSZAM": "12160",
                                    "LOGIN": "peter4",
                                    "REND_DATUM": "2016-02-29",
                                    "SZALL_DATUM": "2016-03-07",
                                    "SZALL_CIM": "NULL",
                                    "SZALL_MOD": "Posta",
                                    "FIZ_MOD": "Bankkártya",
                                    "SZAMLA_CIM": "NULL",
                                    "(No column name)": "NULL"
                                },
                                {
                                    "SORSZAM": "12244",
                                    "LOGIN": "peter4",
                                    "REND_DATUM": "2016-03-02",
                                    "SZALL_DATUM": "2016-03-07",
                                    "SZALL_CIM": "NULL",
                                    "SZALL_MOD": "Személyes átvétel",
                                    "FIZ_MOD": "Átutalás",
                                    "SZAMLA_CIM": "NULL",
                                    "(No column name)": "NULL"
                                },
                                {
                                    "SORSZAM": "12272",
                                    "LOGIN": "peter4",
                                    "REND_DATUM": "2016-03-03",
                                    "SZALL_DATUM": "2016-03-08",
                                    "SZALL_CIM": "Jászkisér, Kiss u. 32.",
                                    "SZALL_MOD": "Személyes átvétel",
                                    "FIZ_MOD": "Átutalás",
                                    "SZAMLA_CIM": "5137 Jászkisér, Kiss u. 32.",
                                    "(No column name)": "5137"
                                },
                                {
                                    "SORSZAM": "12353",
                                    "LOGIN": "peter4",
                                    "REND_DATUM": "2016-03-05",
                                    "SZALL_DATUM": "2016-03-10",
                                    "SZALL_CIM": "NULL",
                                    "SZALL_MOD": "GLS",
                                    "FIZ_MOD": "Átutalás",
                                    "SZAMLA_CIM": "NULL",
                                    "(No column name)": "NULL"
                                },
                                {
                                    "SORSZAM": "12382",
                                    "LOGIN": "peter4",
                                    "REND_DATUM": "2016-03-06",
                                    "SZALL_DATUM": "2016-03-09",
                                    "SZALL_CIM": "NULL",
                                    "SZALL_MOD": "Személyes átvétel",
                                    "FIZ_MOD": "Átutalás",
                                    "SZAMLA_CIM": "NULL",
                                    "(No column name)": "NULL"
                                },
                                {
                                    "SORSZAM": "12429",
                                    "LOGIN": "peter4",
                                    "REND_DATUM": "2016-03-07",
                                    "SZALL_DATUM": "2016-03-10",
                                    "SZALL_CIM": "Jászkisér, Fő u. 2.",
                                    "SZALL_MOD": "Posta",
                                    "FIZ_MOD": "Bankkártya",
                                    "SZAMLA_CIM": "NULL",
                                    "(No column name)": "NULL"
                                },
                                {
                                    "SORSZAM": "12431",
                                    "LOGIN": "peter4",
                                    "REND_DATUM": "2016-03-07",
                                    "SZALL_DATUM": "2016-03-12",
                                    "SZALL_CIM": "NULL",
                                    "SZALL_MOD": "Posta",
                                    "FIZ_MOD": "Átutalás",
                                    "SZAMLA_CIM": "NULL",
                                    "(No column name)": "NULL"
                                },
                                {
                                    "SORSZAM": "12444",
                                    "LOGIN": "peter4",
                                    "REND_DATUM": "2016-03-07",
                                    "SZALL_DATUM": "2016-03-16",
                                    "SZALL_CIM": "Jászkisér, Nagy u.14.",
                                    "SZALL_MOD": "GLS",
                                    "FIZ_MOD": "Bankkártya",
                                    "SZAMLA_CIM": "5137 Jászkisér, Nagy u.14.",
                                    "(No column name)": "5137"
                                },
                                {
                                    "SORSZAM": "12476",
                                    "LOGIN": "peter4",
                                    "REND_DATUM": "2016-03-08",
                                    "SZALL_DATUM": "2016-03-10",
                                    "SZALL_CIM": "NULL",
                                    "SZALL_MOD": "Személyes átvétel",
                                    "FIZ_MOD": "Készpénz",
                                    "SZAMLA_CIM": "NULL",
                                    "(No column name)": "NULL"
                                },
                                {
                                    "SORSZAM": "12483",
                                    "LOGIN": "peter4",
                                    "REND_DATUM": "2016-03-08",
                                    "SZALL_DATUM": "2016-03-11",
                                    "SZALL_CIM": "Jászkisér, Fő u. 2.",
                                    "SZALL_MOD": "GLS",
                                    "FIZ_MOD": "Bankkártya",
                                    "SZAMLA_CIM": "NULL",
                                    "(No column name)": "NULL"
                                },
                                {
                                    "SORSZAM": "12492",
                                    "LOGIN": "peter4",
                                    "REND_DATUM": "2016-03-08",
                                    "SZALL_DATUM": "2016-03-10",
                                    "SZALL_CIM": "Jászkisér, Fő u. 2.",
                                    "SZALL_MOD": "Személyes átvétel",
                                    "FIZ_MOD": "Készpénz",
                                    "SZAMLA_CIM": "NULL",
                                    "(No column name)": "NULL"
                                },
                                {
                                    "SORSZAM": "12496",
                                    "LOGIN": "peter4",
                                    "REND_DATUM": "2016-03-08",
                                    "SZALL_DATUM": "2016-03-16",
                                    "SZALL_CIM": "NULL",
                                    "SZALL_MOD": "Posta",
                                    "FIZ_MOD": "Készpénz",
                                    "SZAMLA_CIM": "NULL",
                                    "(No column name)": "NULL"
                                },
                                {
                                    "SORSZAM": "12565",
                                    "LOGIN": "peter4",
                                    "REND_DATUM": "2016-03-10",
                                    "SZALL_DATUM": "2016-03-12",
                                    "SZALL_CIM": "NULL",
                                    "SZALL_MOD": "Személyes átvétel",
                                    "FIZ_MOD": "Bankkártya",
                                    "SZAMLA_CIM": "NULL",
                                    "(No column name)": "NULL"
                                },
                                {
                                    "SORSZAM": "12669",
                                    "LOGIN": "peter4",
                                    "REND_DATUM": "2016-03-13",
                                    "SZALL_DATUM": "2016-03-21",
                                    "SZALL_CIM": "NULL",
                                    "SZALL_MOD": "Személyes átvétel",
                                    "FIZ_MOD": "Átutalás",
                                    "SZAMLA_CIM": "NULL",
                                    "(No column name)": "NULL"
                                },
                                {
                                    "SORSZAM": "12774",
                                    "LOGIN": "peter4",
                                    "REND_DATUM": "2016-03-15",
                                    "SZALL_DATUM": "2016-03-17",
                                    "SZALL_CIM": "NULL",
                                    "SZALL_MOD": "GLS",
                                    "FIZ_MOD": "Bankkártya",
                                    "SZAMLA_CIM": "NULL",
                                    "(No column name)": "NULL"
                                },
                                {
                                    "SORSZAM": "12809",
                                    "LOGIN": "peter4",
                                    "REND_DATUM": "2016-03-16",
                                    "SZALL_DATUM": "2016-03-26",
                                    "SZALL_CIM": "NULL",
                                    "SZALL_MOD": "Posta",
                                    "FIZ_MOD": "Bankkártya",
                                    "SZAMLA_CIM": "NULL",
                                    "(No column name)": "NULL"
                                },
                                {
                                    "SORSZAM": "12835",
                                    "LOGIN": "peter4",
                                    "REND_DATUM": "2016-03-17",
                                    "SZALL_DATUM": "2016-03-22",
                                    "SZALL_CIM": "Jászkisér, Nagy u.14.",
                                    "SZALL_MOD": "Posta",
                                    "FIZ_MOD": "Átutalás",
                                    "SZAMLA_CIM": "NULL",
                                    "(No column name)": "NULL"
                                },
                                {
                                    "SORSZAM": "12864",
                                    "LOGIN": "peter4",
                                    "REND_DATUM": "2016-03-18",
                                    "SZALL_DATUM": "2016-03-24",
                                    "SZALL_CIM": "NULL",
                                    "SZALL_MOD": "GLS",
                                    "FIZ_MOD": "Bankkártya",
                                    "SZAMLA_CIM": "NULL",
                                    "(No column name)": "NULL"
                                },
                                {
                                    "SORSZAM": "12886",
                                    "LOGIN": "peter4",
                                    "REND_DATUM": "2016-03-18",
                                    "SZALL_DATUM": "2016-03-20",
                                    "SZALL_CIM": "Jászkisér, Nagy u.14.",
                                    "SZALL_MOD": "Posta",
                                    "FIZ_MOD": "Átutalás",
                                    "SZAMLA_CIM": "NULL",
                                    "(No column name)": "NULL"
                                },
                                {
                                    "SORSZAM": "12913",
                                    "LOGIN": "peter4",
                                    "REND_DATUM": "2016-03-19",
                                    "SZALL_DATUM": "2016-03-22",
                                    "SZALL_CIM": "NULL",
                                    "SZALL_MOD": "Posta",
                                    "FIZ_MOD": "Készpénz",
                                    "SZAMLA_CIM": "NULL",
                                    "(No column name)": "NULL"
                                },
                                {
                                    "SORSZAM": "12963",
                                    "LOGIN": "peter4",
                                    "REND_DATUM": "2016-03-20",
                                    "SZALL_DATUM": "2016-03-23",
                                    "SZALL_CIM": "NULL",
                                    "SZALL_MOD": "Személyes átvétel",
                                    "FIZ_MOD": "Átutalás",
                                    "SZAMLA_CIM": "NULL",
                                    "(No column name)": "NULL"
                                },
                                {
                                    "SORSZAM": "12965",
                                    "LOGIN": "peter4",
                                    "REND_DATUM": "2016-03-20",
                                    "SZALL_DATUM": "2016-03-29",
                                    "SZALL_CIM": "NULL",
                                    "SZALL_MOD": "Személyes átvétel",
                                    "FIZ_MOD": "Bankkártya",
                                    "SZAMLA_CIM": "NULL",
                                    "(No column name)": "NULL"
                                },
                                {
                                    "SORSZAM": "12978",
                                    "LOGIN": "peter4",
                                    "REND_DATUM": "2016-03-20",
                                    "SZALL_DATUM": "2016-03-30",
                                    "SZALL_CIM": "Jászkisér, Fő u. 2.",
                                    "SZALL_MOD": "Személyes átvétel",
                                    "FIZ_MOD": "Bankkártya",
                                    "SZAMLA_CIM": "NULL",
                                    "(No column name)": "NULL"
                                },
                                {
                                    "SORSZAM": "12980",
                                    "LOGIN": "peter4",
                                    "REND_DATUM": "2016-03-20",
                                    "SZALL_DATUM": "2016-03-24",
                                    "SZALL_CIM": "NULL",
                                    "SZALL_MOD": "Személyes átvétel",
                                    "FIZ_MOD": "Átutalás",
                                    "SZAMLA_CIM": "NULL",
                                    "(No column name)": "NULL"
                                },
                                {
                                    "SORSZAM": "13045",
                                    "LOGIN": "peter4",
                                    "REND_DATUM": "2016-03-22",
                                    "SZALL_DATUM": "2016-03-24",
                                    "SZALL_CIM": "NULL",
                                    "SZALL_MOD": "GLS",
                                    "FIZ_MOD": "Bankkártya",
                                    "SZAMLA_CIM": "NULL",
                                    "(No column name)": "NULL"
                                },
                                {
                                    "SORSZAM": "13089",
                                    "LOGIN": "peter4",
                                    "REND_DATUM": "2016-03-23",
                                    "SZALL_DATUM": "2016-03-25",
                                    "SZALL_CIM": "NULL",
                                    "SZALL_MOD": "GLS",
                                    "FIZ_MOD": "Átutalás",
                                    "SZAMLA_CIM": "NULL",
                                    "(No column name)": "NULL"
                                },
                                {
                                    "SORSZAM": "13127",
                                    "LOGIN": "peter4",
                                    "REND_DATUM": "2016-03-24",
                                    "SZALL_DATUM": "2016-03-27",
                                    "SZALL_CIM": "NULL",
                                    "SZALL_MOD": "Személyes átvétel",
                                    "FIZ_MOD": "Bankkártya",
                                    "SZAMLA_CIM": "NULL",
                                    "(No column name)": "NULL"
                                },
                                {
                                    "SORSZAM": "13160",
                                    "LOGIN": "peter4",
                                    "REND_DATUM": "2016-03-25",
                                    "SZALL_DATUM": "2016-03-27",
                                    "SZALL_CIM": "NULL",
                                    "SZALL_MOD": "GLS",
                                    "FIZ_MOD": "Bankkártya",
                                    "SZAMLA_CIM": "NULL",
                                    "(No column name)": "NULL"
                                },
                                {
                                    "SORSZAM": "13190",
                                    "LOGIN": "peter4",
                                    "REND_DATUM": "2016-03-25",
                                    "SZALL_DATUM": "2016-04-03",
                                    "SZALL_CIM": "NULL",
                                    "SZALL_MOD": "Posta",
                                    "FIZ_MOD": "Bankkártya",
                                    "SZAMLA_CIM": "NULL",
                                    "(No column name)": "NULL"
                                },
                                {
                                    "SORSZAM": "13191",
                                    "LOGIN": "peter4",
                                    "REND_DATUM": "2016-03-25",
                                    "SZALL_DATUM": "2016-03-27",
                                    "SZALL_CIM": "NULL",
                                    "SZALL_MOD": "Személyes átvétel",
                                    "FIZ_MOD": "Bankkártya",
                                    "SZAMLA_CIM": "NULL",
                                    "(No column name)": "NULL"
                                },
                                {
                                    "SORSZAM": "13231",
                                    "LOGIN": "peter4",
                                    "REND_DATUM": "2016-03-26",
                                    "SZALL_DATUM": "2016-03-31",
                                    "SZALL_CIM": "NULL",
                                    "SZALL_MOD": "GLS",
                                    "FIZ_MOD": "Bankkártya",
                                    "SZAMLA_CIM": "NULL",
                                    "(No column name)": "NULL"
                                },
                                {
                                    "SORSZAM": "13255",
                                    "LOGIN": "peter4",
                                    "REND_DATUM": "2016-03-27",
                                    "SZALL_DATUM": "2016-03-30",
                                    "SZALL_CIM": "NULL",
                                    "SZALL_MOD": "GLS",
                                    "FIZ_MOD": "Bankkártya",
                                    "SZAMLA_CIM": "NULL",
                                    "(No column name)": "NULL"
                                },
                                {
                                    "SORSZAM": "13284",
                                    "LOGIN": "peter4",
                                    "REND_DATUM": "2016-03-28",
                                    "SZALL_DATUM": "2016-04-05",
                                    "SZALL_CIM": "Jászkisér, Fő u. 2.",
                                    "SZALL_MOD": "Posta",
                                    "FIZ_MOD": "Bankkártya",
                                    "SZAMLA_CIM": "5137 Jászkisér, Fő u. 2.",
                                    "(No column name)": "5137"
                                },
                                {
                                    "SORSZAM": "13290",
                                    "LOGIN": "peter4",
                                    "REND_DATUM": "2016-03-28",
                                    "SZALL_DATUM": "2016-03-31",
                                    "SZALL_CIM": "NULL",
                                    "SZALL_MOD": "GLS",
                                    "FIZ_MOD": "Bankkártya",
                                    "SZAMLA_CIM": "NULL",
                                    "(No column name)": "NULL"
                                },
                                {
                                    "SORSZAM": "13291",
                                    "LOGIN": "peter4",
                                    "REND_DATUM": "2016-03-28",
                                    "SZALL_DATUM": "2016-04-07",
                                    "SZALL_CIM": "NULL",
                                    "SZALL_MOD": "Személyes átvétel",
                                    "FIZ_MOD": "Bankkártya",
                                    "SZAMLA_CIM": "NULL",
                                    "(No column name)": "NULL"
                                },
                                {
                                    "SORSZAM": "13307",
                                    "LOGIN": "peter4",
                                    "REND_DATUM": "2016-03-28",
                                    "SZALL_DATUM": "2016-04-07",
                                    "SZALL_CIM": "NULL",
                                    "SZALL_MOD": "Személyes átvétel",
                                    "FIZ_MOD": "Készpénz",
                                    "SZAMLA_CIM": "NULL",
                                    "(No column name)": "NULL"
                                },
                                {
                                    "SORSZAM": "13310",
                                    "LOGIN": "peter4",
                                    "REND_DATUM": "2016-03-28",
                                    "SZALL_DATUM": "2016-04-06",
                                    "SZALL_CIM": "NULL",
                                    "SZALL_MOD": "Posta",
                                    "FIZ_MOD": "Átutalás",
                                    "SZAMLA_CIM": "NULL",
                                    "(No column name)": "NULL"
                                },
                                {
                                    "SORSZAM": "13315",
                                    "LOGIN": "peter4",
                                    "REND_DATUM": "2016-03-28",
                                    "SZALL_DATUM": "2016-04-07",
                                    "SZALL_CIM": "NULL",
                                    "SZALL_MOD": "Posta",
                                    "FIZ_MOD": "Bankkártya",
                                    "SZAMLA_CIM": "NULL",
                                    "(No column name)": "NULL"
                                },
                                {
                                    "SORSZAM": "13327",
                                    "LOGIN": "peter4",
                                    "REND_DATUM": "2016-03-29",
                                    "SZALL_DATUM": "2016-03-31",
                                    "SZALL_CIM": "NULL",
                                    "SZALL_MOD": "GLS",
                                    "FIZ_MOD": "Bankkártya",
                                    "SZAMLA_CIM": "NULL",
                                    "(No column name)": "NULL"
                                },
                                {
                                    "SORSZAM": "13336",
                                    "LOGIN": "peter4",
                                    "REND_DATUM": "2016-03-29",
                                    "SZALL_DATUM": "2016-04-03",
                                    "SZALL_CIM": "NULL",
                                    "SZALL_MOD": "GLS",
                                    "FIZ_MOD": "Átutalás",
                                    "SZAMLA_CIM": "NULL",
                                    "(No column name)": "NULL"
                                },
                                {
                                    "SORSZAM": "13340",
                                    "LOGIN": "peter4",
                                    "REND_DATUM": "2016-03-29",
                                    "SZALL_DATUM": "2016-04-02",
                                    "SZALL_CIM": "NULL",
                                    "SZALL_MOD": "Posta",
                                    "FIZ_MOD": "Készpénz",
                                    "SZAMLA_CIM": "NULL",
                                    "(No column name)": "NULL"
                                },
                                {
                                    "SORSZAM": "13355",
                                    "LOGIN": "peter4",
                                    "REND_DATUM": "2016-03-29",
                                    "SZALL_DATUM": "2016-04-07",
                                    "SZALL_CIM": "NULL",
                                    "SZALL_MOD": "GLS",
                                    "FIZ_MOD": "Bankkártya",
                                    "SZAMLA_CIM": "NULL",
                                    "(No column name)": "NULL"
                                },
                                {
                                    "SORSZAM": "13432",
                                    "LOGIN": "peter4",
                                    "REND_DATUM": "2016-03-31",
                                    "SZALL_DATUM": "2016-04-10",
                                    "SZALL_CIM": "NULL",
                                    "SZALL_MOD": "GLS",
                                    "FIZ_MOD": "Átutalás",
                                    "SZAMLA_CIM": "NULL",
                                    "(No column name)": "NULL"
                                },
                                {
                                    "SORSZAM": "13507",
                                    "LOGIN": "peter4",
                                    "REND_DATUM": "2016-04-02",
                                    "SZALL_DATUM": "2016-04-04",
                                    "SZALL_CIM": "Jászkisér, Kiss u. 32.",
                                    "SZALL_MOD": "GLS",
                                    "FIZ_MOD": "Bankkártya",
                                    "SZAMLA_CIM": "NULL",
                                    "(No column name)": "NULL"
                                },
                                {
                                    "SORSZAM": "13607",
                                    "LOGIN": "peter4",
                                    "REND_DATUM": "2016-04-04",
                                    "SZALL_DATUM": "2016-04-06",
                                    "SZALL_CIM": "NULL",
                                    "SZALL_MOD": "Posta",
                                    "FIZ_MOD": "Bankkártya",
                                    "SZAMLA_CIM": "NULL",
                                    "(No column name)": "NULL"
                                },
                                {
                                    "SORSZAM": "13620",
                                    "LOGIN": "peter4",
                                    "REND_DATUM": "2016-04-05",
                                    "SZALL_DATUM": "2016-04-15",
                                    "SZALL_CIM": "NULL",
                                    "SZALL_MOD": "GLS",
                                    "FIZ_MOD": "Átutalás",
                                    "SZAMLA_CIM": "NULL",
                                    "(No column name)": "NULL"
                                },
                                {
                                    "SORSZAM": "13652",
                                    "LOGIN": "peter4",
                                    "REND_DATUM": "2016-04-05",
                                    "SZALL_DATUM": "2016-04-09",
                                    "SZALL_CIM": "NULL",
                                    "SZALL_MOD": "Posta",
                                    "FIZ_MOD": "Bankkártya",
                                    "SZAMLA_CIM": "NULL",
                                    "(No column name)": "NULL"
                                },
                                {
                                    "SORSZAM": "13661",
                                    "LOGIN": "peter4",
                                    "REND_DATUM": "2016-04-05",
                                    "SZALL_DATUM": "2016-04-08",
                                    "SZALL_CIM": "NULL",
                                    "SZALL_MOD": "Posta",
                                    "FIZ_MOD": "Bankkártya",
                                    "SZAMLA_CIM": "NULL",
                                    "(No column name)": "NULL"
                                },
                                {
                                    "SORSZAM": "13712",
                                    "LOGIN": "peter4",
                                    "REND_DATUM": "2016-04-07",
                                    "SZALL_DATUM": "2016-04-10",
                                    "SZALL_CIM": "NULL",
                                    "SZALL_MOD": "Személyes átvétel",
                                    "FIZ_MOD": "Készpénz",
                                    "SZAMLA_CIM": "NULL",
                                    "(No column name)": "NULL"
                                },
                                {
                                    "SORSZAM": "13789",
                                    "LOGIN": "peter4",
                                    "REND_DATUM": "2016-04-09",
                                    "SZALL_DATUM": "2016-04-15",
                                    "SZALL_CIM": "NULL",
                                    "SZALL_MOD": "Posta",
                                    "FIZ_MOD": "Készpénz",
                                    "SZAMLA_CIM": "NULL",
                                    "(No column name)": "NULL"
                                },
                                {
                                    "SORSZAM": "13842",
                                    "LOGIN": "peter4",
                                    "REND_DATUM": "2016-04-10",
                                    "SZALL_DATUM": "2016-04-12",
                                    "SZALL_CIM": "Jászkisér, Fő u. 2.",
                                    "SZALL_MOD": "Posta",
                                    "FIZ_MOD": "Bankkártya",
                                    "SZAMLA_CIM": "NULL",
                                    "(No column name)": "NULL"
                                },
                                {
                                    "SORSZAM": "13904",
                                    "LOGIN": "peter4",
                                    "REND_DATUM": "2016-04-11",
                                    "SZALL_DATUM": "2016-04-13",
                                    "SZALL_CIM": "NULL",
                                    "SZALL_MOD": "Személyes átvétel",
                                    "FIZ_MOD": "Átutalás",
                                    "SZAMLA_CIM": "NULL",
                                    "(No column name)": "NULL"
                                },
                                {
                                    "SORSZAM": "13919",
                                    "LOGIN": "peter4",
                                    "REND_DATUM": "2016-04-12",
                                    "SZALL_DATUM": "2016-04-15",
                                    "SZALL_CIM": "NULL",
                                    "SZALL_MOD": "Személyes átvétel",
                                    "FIZ_MOD": "Átutalás",
                                    "SZAMLA_CIM": "NULL",
                                    "(No column name)": "NULL"
                                },
                                {
                                    "SORSZAM": "13930",
                                    "LOGIN": "peter4",
                                    "REND_DATUM": "2016-04-12",
                                    "SZALL_DATUM": "2016-04-16",
                                    "SZALL_CIM": "NULL",
                                    "SZALL_MOD": "Személyes átvétel",
                                    "FIZ_MOD": "Készpénz",
                                    "SZAMLA_CIM": "NULL",
                                    "(No column name)": "NULL"
                                },
                                {
                                    "SORSZAM": "13967",
                                    "LOGIN": "peter4",
                                    "REND_DATUM": "2016-04-13",
                                    "SZALL_DATUM": "2016-04-15",
                                    "SZALL_CIM": "NULL",
                                    "SZALL_MOD": "Személyes átvétel",
                                    "FIZ_MOD": "Átutalás",
                                    "SZAMLA_CIM": "NULL",
                                    "(No column name)": "NULL"
                                },
                                {
                                    "SORSZAM": "13972",
                                    "LOGIN": "peter4",
                                    "REND_DATUM": "2016-04-13",
                                    "SZALL_DATUM": "2016-04-18",
                                    "SZALL_CIM": "NULL",
                                    "SZALL_MOD": "Posta",
                                    "FIZ_MOD": "Bankkártya",
                                    "SZAMLA_CIM": "NULL",
                                    "(No column name)": "NULL"
                                },
                                {
                                    "SORSZAM": "13986",
                                    "LOGIN": "peter4",
                                    "REND_DATUM": "2016-04-13",
                                    "SZALL_DATUM": "2016-04-21",
                                    "SZALL_CIM": "Jászkisér, Fő u. 2.",
                                    "SZALL_MOD": "Személyes átvétel",
                                    "FIZ_MOD": "Bankkártya",
                                    "SZAMLA_CIM": "5137 Jászkisér, Fő u. 2.",
                                    "(No column name)": "5137"
                                },
                                {
                                    "SORSZAM": "14015",
                                    "LOGIN": "peter4",
                                    "REND_DATUM": "2016-04-14",
                                    "SZALL_DATUM": "2016-04-17",
                                    "SZALL_CIM": "NULL",
                                    "SZALL_MOD": "Posta",
                                    "FIZ_MOD": "Bankkártya",
                                    "SZAMLA_CIM": "NULL",
                                    "(No column name)": "NULL"
                                },
                                {
                                    "SORSZAM": "14042",
                                    "LOGIN": "peter4",
                                    "REND_DATUM": "2016-04-15",
                                    "SZALL_DATUM": "2016-04-21",
                                    "SZALL_CIM": "Jászkisér, Nagy u.14.",
                                    "SZALL_MOD": "GLS",
                                    "FIZ_MOD": "Bankkártya",
                                    "SZAMLA_CIM": "NULL",
                                    "(No column name)": "NULL"
                                },
                                {
                                    "SORSZAM": "14056",
                                    "LOGIN": "peter4",
                                    "REND_DATUM": "2016-04-15",
                                    "SZALL_DATUM": "2016-04-22",
                                    "SZALL_CIM": "NULL",
                                    "SZALL_MOD": "Személyes átvétel",
                                    "FIZ_MOD": "Átutalás",
                                    "SZAMLA_CIM": "NULL",
                                    "(No column name)": "NULL"
                                },
                                {
                                    "SORSZAM": "14068",
                                    "LOGIN": "peter4",
                                    "REND_DATUM": "2016-04-15",
                                    "SZALL_DATUM": "2016-04-22",
                                    "SZALL_CIM": "NULL",
                                    "SZALL_MOD": "Posta",
                                    "FIZ_MOD": "Bankkártya",
                                    "SZAMLA_CIM": "NULL",
                                    "(No column name)": "NULL"
                                },
                                {
                                    "SORSZAM": "14129",
                                    "LOGIN": "peter4",
                                    "REND_DATUM": "2016-04-17",
                                    "SZALL_DATUM": "2016-04-22",
                                    "SZALL_CIM": "NULL",
                                    "SZALL_MOD": "Személyes átvétel",
                                    "FIZ_MOD": "Átutalás",
                                    "SZAMLA_CIM": "NULL",
                                    "(No column name)": "NULL"
                                },
                                {
                                    "SORSZAM": "14147",
                                    "LOGIN": "peter4",
                                    "REND_DATUM": "2016-04-17",
                                    "SZALL_DATUM": "2016-04-25",
                                    "SZALL_CIM": "NULL",
                                    "SZALL_MOD": "Posta",
                                    "FIZ_MOD": "Bankkártya",
                                    "SZAMLA_CIM": "NULL",
                                    "(No column name)": "NULL"
                                },
                                {
                                    "SORSZAM": "14166",
                                    "LOGIN": "peter4",
                                    "REND_DATUM": "2016-04-18",
                                    "SZALL_DATUM": "2016-04-23",
                                    "SZALL_CIM": "Jászkisér, Fő u. 2.",
                                    "SZALL_MOD": "Posta",
                                    "FIZ_MOD": "Készpénz",
                                    "SZAMLA_CIM": "NULL",
                                    "(No column name)": "NULL"
                                },
                                {
                                    "SORSZAM": "14184",
                                    "LOGIN": "peter4",
                                    "REND_DATUM": "2016-04-18",
                                    "SZALL_DATUM": "2016-04-28",
                                    "SZALL_CIM": "Jászkisér, Fő u. 2.",
                                    "SZALL_MOD": "Posta",
                                    "FIZ_MOD": "Bankkártya",
                                    "SZAMLA_CIM": "NULL",
                                    "(No column name)": "NULL"
                                },
                                {
                                    "SORSZAM": "14213",
                                    "LOGIN": "peter4",
                                    "REND_DATUM": "2016-04-19",
                                    "SZALL_DATUM": "2016-04-29",
                                    "SZALL_CIM": "NULL",
                                    "SZALL_MOD": "Személyes átvétel",
                                    "FIZ_MOD": "Bankkártya",
                                    "SZAMLA_CIM": "NULL",
                                    "(No column name)": "NULL"
                                },
                                {
                                    "SORSZAM": "14224",
                                    "LOGIN": "peter4",
                                    "REND_DATUM": "2016-04-19",
                                    "SZALL_DATUM": "2016-04-24",
                                    "SZALL_CIM": "NULL",
                                    "SZALL_MOD": "GLS",
                                    "FIZ_MOD": "Készpénz",
                                    "SZAMLA_CIM": "NULL",
                                    "(No column name)": "NULL"
                                },
                                {
                                    "SORSZAM": "14286",
                                    "LOGIN": "peter4",
                                    "REND_DATUM": "2016-04-20",
                                    "SZALL_DATUM": "2016-04-26",
                                    "SZALL_CIM": "NULL",
                                    "SZALL_MOD": "GLS",
                                    "FIZ_MOD": "Bankkártya",
                                    "SZAMLA_CIM": "NULL",
                                    "(No column name)": "NULL"
                                },
                                {
                                    "SORSZAM": "14294",
                                    "LOGIN": "peter4",
                                    "REND_DATUM": "2016-04-21",
                                    "SZALL_DATUM": "2016-04-24",
                                    "SZALL_CIM": "NULL",
                                    "SZALL_MOD": "GLS",
                                    "FIZ_MOD": "Átutalás",
                                    "SZAMLA_CIM": "NULL",
                                    "(No column name)": "NULL"
                                },
                                {
                                    "SORSZAM": "14333",
                                    "LOGIN": "peter4",
                                    "REND_DATUM": "2016-04-22",
                                    "SZALL_DATUM": "2016-04-28",
                                    "SZALL_CIM": "NULL",
                                    "SZALL_MOD": "GLS",
                                    "FIZ_MOD": "Átutalás",
                                    "SZAMLA_CIM": "NULL",
                                    "(No column name)": "NULL"
                                },
                                {
                                    "SORSZAM": "14349",
                                    "LOGIN": "peter4",
                                    "REND_DATUM": "2016-04-22",
                                    "SZALL_DATUM": "2016-04-24",
                                    "SZALL_CIM": "NULL",
                                    "SZALL_MOD": "GLS",
                                    "FIZ_MOD": "Átutalás",
                                    "SZAMLA_CIM": "NULL",
                                    "(No column name)": "NULL"
                                },
                                {
                                    "SORSZAM": "14445",
                                    "LOGIN": "peter4",
                                    "REND_DATUM": "2016-04-24",
                                    "SZALL_DATUM": "2016-04-30",
                                    "SZALL_CIM": "Jászkisér, Fő u. 2.",
                                    "SZALL_MOD": "Személyes átvétel",
                                    "FIZ_MOD": "Készpénz",
                                    "SZAMLA_CIM": "5137 Jászkisér, Fő u. 2.",
                                    "(No column name)": "5137"
                                },
                                {
                                    "SORSZAM": "14456",
                                    "LOGIN": "peter4",
                                    "REND_DATUM": "2016-04-24",
                                    "SZALL_DATUM": "2016-05-02",
                                    "SZALL_CIM": "Jászkisér, Kiss u. 32.",
                                    "SZALL_MOD": "GLS",
                                    "FIZ_MOD": "Bankkártya",
                                    "SZAMLA_CIM": "5137 Jászkisér, Kiss u. 32.",
                                    "(No column name)": "5137"
                                },
                                {
                                    "SORSZAM": "14504",
                                    "LOGIN": "peter4",
                                    "REND_DATUM": "2016-04-26",
                                    "SZALL_DATUM": "2016-05-06",
                                    "SZALL_CIM": "NULL",
                                    "SZALL_MOD": "Posta",
                                    "FIZ_MOD": "Bankkártya",
                                    "SZAMLA_CIM": "NULL",
                                    "(No column name)": "NULL"
                                },
                                {
                                    "SORSZAM": "14576",
                                    "LOGIN": "peter4",
                                    "REND_DATUM": "2016-04-27",
                                    "SZALL_DATUM": "2016-05-06",
                                    "SZALL_CIM": "NULL",
                                    "SZALL_MOD": "Személyes átvétel",
                                    "FIZ_MOD": "Bankkártya",
                                    "SZAMLA_CIM": "NULL",
                                    "(No column name)": "NULL"
                                },
                                {
                                    "SORSZAM": "14579",
                                    "LOGIN": "peter4",
                                    "REND_DATUM": "2016-04-27",
                                    "SZALL_DATUM": "2016-04-30",
                                    "SZALL_CIM": "NULL",
                                    "SZALL_MOD": "Posta",
                                    "FIZ_MOD": "Átutalás",
                                    "SZAMLA_CIM": "NULL",
                                    "(No column name)": "NULL"
                                },
                                {
                                    "SORSZAM": "14624",
                                    "LOGIN": "peter4",
                                    "REND_DATUM": "2016-04-29",
                                    "SZALL_DATUM": "2016-05-07",
                                    "SZALL_CIM": "NULL",
                                    "SZALL_MOD": "Személyes átvétel",
                                    "FIZ_MOD": "Átutalás",
                                    "SZAMLA_CIM": "NULL",
                                    "(No column name)": "NULL"
                                },
                                {
                                    "SORSZAM": "14651",
                                    "LOGIN": "peter4",
                                    "REND_DATUM": "2016-04-29",
                                    "SZALL_DATUM": "2016-05-06",
                                    "SZALL_CIM": "Jászkisér, Kiss u. 32.",
                                    "SZALL_MOD": "Személyes átvétel",
                                    "FIZ_MOD": "Átutalás",
                                    "SZAMLA_CIM": "NULL",
                                    "(No column name)": "NULL"
                                },
                                {
                                    "SORSZAM": "14661",
                                    "LOGIN": "peter4",
                                    "REND_DATUM": "2016-04-29",
                                    "SZALL_DATUM": "2016-05-07",
                                    "SZALL_CIM": "Jászkisér, Fő u. 2.",
                                    "SZALL_MOD": "Személyes átvétel",
                                    "FIZ_MOD": "Készpénz",
                                    "SZAMLA_CIM": "5137 Jászkisér, Fő u. 2.",
                                    "(No column name)": "5137"
                                },
                                {
                                    "SORSZAM": "14701",
                                    "LOGIN": "peter4",
                                    "REND_DATUM": "2016-05-01",
                                    "SZALL_DATUM": "2016-05-09",
                                    "SZALL_CIM": "NULL",
                                    "SZALL_MOD": "Személyes átvétel",
                                    "FIZ_MOD": "Átutalás",
                                    "SZAMLA_CIM": "NULL",
                                    "(No column name)": "NULL"
                                },
                                {
                                    "SORSZAM": "14710",
                                    "LOGIN": "peter4",
                                    "REND_DATUM": "2016-05-01",
                                    "SZALL_DATUM": "2016-05-08",
                                    "SZALL_CIM": "NULL",
                                    "SZALL_MOD": "Személyes átvétel",
                                    "FIZ_MOD": "Bankkártya",
                                    "SZAMLA_CIM": "NULL",
                                    "(No column name)": "NULL"
                                },
                                {
                                    "SORSZAM": "14803",
                                    "LOGIN": "peter4",
                                    "REND_DATUM": "2016-05-03",
                                    "SZALL_DATUM": "2016-05-11",
                                    "SZALL_CIM": "NULL",
                                    "SZALL_MOD": "GLS",
                                    "FIZ_MOD": "Bankkártya",
                                    "SZAMLA_CIM": "NULL",
                                    "(No column name)": "NULL"
                                },
                                {
                                    "SORSZAM": "14956",
                                    "LOGIN": "peter4",
                                    "REND_DATUM": "2016-05-07",
                                    "SZALL_DATUM": "2016-05-11",
                                    "SZALL_CIM": "NULL",
                                    "SZALL_MOD": "Személyes átvétel",
                                    "FIZ_MOD": "Bankkártya",
                                    "SZAMLA_CIM": "NULL",
                                    "(No column name)": "NULL"
                                },
                                {
                                    "SORSZAM": "14967",
                                    "LOGIN": "peter4",
                                    "REND_DATUM": "2016-05-07",
                                    "SZALL_DATUM": "2016-05-09",
                                    "SZALL_CIM": "Jászkisér, Fő u. 2.",
                                    "SZALL_MOD": "GLS",
                                    "FIZ_MOD": "Átutalás",
                                    "SZAMLA_CIM": "NULL",
                                    "(No column name)": "NULL"
                                },
                                {
                                    "SORSZAM": "14991",
                                    "LOGIN": "peter4",
                                    "REND_DATUM": "2016-05-08",
                                    "SZALL_DATUM": "2016-05-14",
                                    "SZALL_CIM": "NULL",
                                    "SZALL_MOD": "Posta",
                                    "FIZ_MOD": "Bankkártya",
                                    "SZAMLA_CIM": "NULL",
                                    "(No column name)": "NULL"
                                },
                                {
                                    "SORSZAM": "15044",
                                    "LOGIN": "peter4",
                                    "REND_DATUM": "2016-05-09",
                                    "SZALL_DATUM": "2016-05-11",
                                    "SZALL_CIM": "NULL",
                                    "SZALL_MOD": "Posta",
                                    "FIZ_MOD": "Átutalás",
                                    "SZAMLA_CIM": "NULL",
                                    "(No column name)": "NULL"
                                },
                                {
                                    "SORSZAM": "15065",
                                    "LOGIN": "peter4",
                                    "REND_DATUM": "2016-05-09",
                                    "SZALL_DATUM": "2016-05-19",
                                    "SZALL_CIM": "NULL",
                                    "SZALL_MOD": "GLS",
                                    "FIZ_MOD": "Bankkártya",
                                    "SZAMLA_CIM": "NULL",
                                    "(No column name)": "NULL"
                                },
                                {
                                    "SORSZAM": "15072",
                                    "LOGIN": "peter4",
                                    "REND_DATUM": "2016-05-10",
                                    "SZALL_DATUM": "2016-05-19",
                                    "SZALL_CIM": "NULL",
                                    "SZALL_MOD": "Személyes átvétel",
                                    "FIZ_MOD": "Bankkártya",
                                    "SZAMLA_CIM": "NULL",
                                    "(No column name)": "NULL"
                                },
                                {
                                    "SORSZAM": "15076",
                                    "LOGIN": "peter4",
                                    "REND_DATUM": "2016-05-10",
                                    "SZALL_DATUM": "2016-05-19",
                                    "SZALL_CIM": "NULL",
                                    "SZALL_MOD": "Posta",
                                    "FIZ_MOD": "Átutalás",
                                    "SZAMLA_CIM": "NULL",
                                    "(No column name)": "NULL"
                                },
                                {
                                    "SORSZAM": "15094",
                                    "LOGIN": "peter4",
                                    "REND_DATUM": "2016-05-10",
                                    "SZALL_DATUM": "2016-05-15",
                                    "SZALL_CIM": "NULL",
                                    "SZALL_MOD": "Személyes átvétel",
                                    "FIZ_MOD": "Bankkártya",
                                    "SZAMLA_CIM": "NULL",
                                    "(No column name)": "NULL"
                                },
                                {
                                    "SORSZAM": "15105",
                                    "LOGIN": "peter4",
                                    "REND_DATUM": "2016-05-10",
                                    "SZALL_DATUM": "2016-05-17",
                                    "SZALL_CIM": "NULL",
                                    "SZALL_MOD": "GLS",
                                    "FIZ_MOD": "Készpénz",
                                    "SZAMLA_CIM": "NULL",
                                    "(No column name)": "NULL"
                                },
                                {
                                    "SORSZAM": "15120",
                                    "LOGIN": "peter4",
                                    "REND_DATUM": "2016-05-11",
                                    "SZALL_DATUM": "2016-05-16",
                                    "SZALL_CIM": "Jászkisér, Fő u. 2.",
                                    "SZALL_MOD": "GLS",
                                    "FIZ_MOD": "Átutalás",
                                    "SZAMLA_CIM": "5137 Jászkisér, Fő u. 2.",
                                    "(No column name)": "5137"
                                },
                                {
                                    "SORSZAM": "15127",
                                    "LOGIN": "peter4",
                                    "REND_DATUM": "2016-05-11",
                                    "SZALL_DATUM": "2016-05-17",
                                    "SZALL_CIM": "NULL",
                                    "SZALL_MOD": "Személyes átvétel",
                                    "FIZ_MOD": "Bankkártya",
                                    "SZAMLA_CIM": "NULL",
                                    "(No column name)": "NULL"
                                },
                                {
                                    "SORSZAM": "15143",
                                    "LOGIN": "peter4",
                                    "REND_DATUM": "2016-05-11",
                                    "SZALL_DATUM": "2016-05-14",
                                    "SZALL_CIM": "NULL",
                                    "SZALL_MOD": "Személyes átvétel",
                                    "FIZ_MOD": "Átutalás",
                                    "SZAMLA_CIM": "NULL",
                                    "(No column name)": "NULL"
                                },
                                {
                                    "SORSZAM": "15258",
                                    "LOGIN": "peter4",
                                    "REND_DATUM": "2016-05-14",
                                    "SZALL_DATUM": "2016-05-16",
                                    "SZALL_CIM": "NULL",
                                    "SZALL_MOD": "Személyes átvétel",
                                    "FIZ_MOD": "Átutalás",
                                    "SZAMLA_CIM": "NULL",
                                    "(No column name)": "NULL"
                                },
                                {
                                    "SORSZAM": "15310",
                                    "LOGIN": "peter4",
                                    "REND_DATUM": "2016-05-16",
                                    "SZALL_DATUM": "2016-05-24",
                                    "SZALL_CIM": "NULL",
                                    "SZALL_MOD": "Személyes átvétel",
                                    "FIZ_MOD": "Bankkártya",
                                    "SZAMLA_CIM": "NULL",
                                    "(No column name)": "NULL"
                                },
                                {
                                    "SORSZAM": "15324",
                                    "LOGIN": "peter4",
                                    "REND_DATUM": "2016-05-16",
                                    "SZALL_DATUM": "2016-05-25",
                                    "SZALL_CIM": "NULL",
                                    "SZALL_MOD": "Posta",
                                    "FIZ_MOD": "Bankkártya",
                                    "SZAMLA_CIM": "NULL",
                                    "(No column name)": "NULL"
                                },
                                {
                                    "SORSZAM": "15344",
                                    "LOGIN": "peter4",
                                    "REND_DATUM": "2016-05-17",
                                    "SZALL_DATUM": "2016-05-20",
                                    "SZALL_CIM": "NULL",
                                    "SZALL_MOD": "GLS",
                                    "FIZ_MOD": "Bankkártya",
                                    "SZAMLA_CIM": "NULL",
                                    "(No column name)": "NULL"
                                },
                                {
                                    "SORSZAM": "15359",
                                    "LOGIN": "peter4",
                                    "REND_DATUM": "2016-05-17",
                                    "SZALL_DATUM": "2016-05-24",
                                    "SZALL_CIM": "NULL",
                                    "SZALL_MOD": "Személyes átvétel",
                                    "FIZ_MOD": "Készpénz",
                                    "SZAMLA_CIM": "NULL",
                                    "(No column name)": "NULL"
                                },
                                {
                                    "SORSZAM": "15387",
                                    "LOGIN": "peter4",
                                    "REND_DATUM": "2016-05-18",
                                    "SZALL_DATUM": "2016-05-26",
                                    "SZALL_CIM": "NULL",
                                    "SZALL_MOD": "GLS",
                                    "FIZ_MOD": "Bankkártya",
                                    "SZAMLA_CIM": "NULL",
                                    "(No column name)": "NULL"
                                },
                                {
                                    "SORSZAM": "15420",
                                    "LOGIN": "peter4",
                                    "REND_DATUM": "2016-05-19",
                                    "SZALL_DATUM": "2016-05-21",
                                    "SZALL_CIM": "NULL",
                                    "SZALL_MOD": "Személyes átvétel",
                                    "FIZ_MOD": "Készpénz",
                                    "SZAMLA_CIM": "NULL",
                                    "(No column name)": "NULL"
                                },
                                {
                                    "SORSZAM": "15446",
                                    "LOGIN": "peter4",
                                    "REND_DATUM": "2016-05-19",
                                    "SZALL_DATUM": "2016-05-22",
                                    "SZALL_CIM": "NULL",
                                    "SZALL_MOD": "Személyes átvétel",
                                    "FIZ_MOD": "Átutalás",
                                    "SZAMLA_CIM": "NULL",
                                    "(No column name)": "NULL"
                                },
                                {
                                    "SORSZAM": "15453",
                                    "LOGIN": "peter4",
                                    "REND_DATUM": "2016-05-19",
                                    "SZALL_DATUM": "2016-05-27",
                                    "SZALL_CIM": "Jászkisér, Fő u. 2.",
                                    "SZALL_MOD": "Posta",
                                    "FIZ_MOD": "Átutalás",
                                    "SZAMLA_CIM": "5137 Jászkisér, Fő u. 2.",
                                    "(No column name)": "5137"
                                },
                                {
                                    "SORSZAM": "15475",
                                    "LOGIN": "peter4",
                                    "REND_DATUM": "2016-05-20",
                                    "SZALL_DATUM": "2016-05-22",
                                    "SZALL_CIM": "NULL",
                                    "SZALL_MOD": "GLS",
                                    "FIZ_MOD": "Bankkártya",
                                    "SZAMLA_CIM": "NULL",
                                    "(No column name)": "NULL"
                                },
                                {
                                    "SORSZAM": "15476",
                                    "LOGIN": "peter4",
                                    "REND_DATUM": "2016-05-20",
                                    "SZALL_DATUM": "2016-05-29",
                                    "SZALL_CIM": "NULL",
                                    "SZALL_MOD": "GLS",
                                    "FIZ_MOD": "Bankkártya",
                                    "SZAMLA_CIM": "NULL",
                                    "(No column name)": "NULL"
                                },
                                {
                                    "SORSZAM": "15508",
                                    "LOGIN": "peter4",
                                    "REND_DATUM": "2016-05-21",
                                    "SZALL_DATUM": "2016-05-31",
                                    "SZALL_CIM": "NULL",
                                    "SZALL_MOD": "GLS",
                                    "FIZ_MOD": "Átutalás",
                                    "SZAMLA_CIM": "NULL",
                                    "(No column name)": "NULL"
                                },
                                {
                                    "SORSZAM": "15554",
                                    "LOGIN": "peter4",
                                    "REND_DATUM": "2016-05-22",
                                    "SZALL_DATUM": "2016-06-01",
                                    "SZALL_CIM": "NULL",
                                    "SZALL_MOD": "GLS",
                                    "FIZ_MOD": "Átutalás",
                                    "SZAMLA_CIM": "NULL",
                                    "(No column name)": "NULL"
                                },
                                {
                                    "SORSZAM": "15555",
                                    "LOGIN": "peter4",
                                    "REND_DATUM": "2016-05-22",
                                    "SZALL_DATUM": "2016-06-01",
                                    "SZALL_CIM": "Jászkisér, Nagy u.14.",
                                    "SZALL_MOD": "Személyes átvétel",
                                    "FIZ_MOD": "Átutalás",
                                    "SZAMLA_CIM": "5137 Jászkisér, Nagy u.14.",
                                    "(No column name)": "5137"
                                },
                                {
                                    "SORSZAM": "15568",
                                    "LOGIN": "peter4",
                                    "REND_DATUM": "2016-05-22",
                                    "SZALL_DATUM": "2016-05-30",
                                    "SZALL_CIM": "NULL",
                                    "SZALL_MOD": "GLS",
                                    "FIZ_MOD": "Készpénz",
                                    "SZAMLA_CIM": "NULL",
                                    "(No column name)": "NULL"
                                },
                                {
                                    "SORSZAM": "15571",
                                    "LOGIN": "peter4",
                                    "REND_DATUM": "2016-05-23",
                                    "SZALL_DATUM": "2016-05-31",
                                    "SZALL_CIM": "NULL",
                                    "SZALL_MOD": "Posta",
                                    "FIZ_MOD": "Bankkártya",
                                    "SZAMLA_CIM": "NULL",
                                    "(No column name)": "NULL"
                                },
                                {
                                    "SORSZAM": "15606",
                                    "LOGIN": "peter4",
                                    "REND_DATUM": "2016-05-23",
                                    "SZALL_DATUM": "2016-05-30",
                                    "SZALL_CIM": "Jászkisér, Fő u. 2.",
                                    "SZALL_MOD": "Posta",
                                    "FIZ_MOD": "Bankkártya",
                                    "SZAMLA_CIM": "5137 Jászkisér, Fő u. 2.",
                                    "(No column name)": "5137"
                                },
                                {
                                    "SORSZAM": "15668",
                                    "LOGIN": "peter4",
                                    "REND_DATUM": "2016-05-25",
                                    "SZALL_DATUM": "2016-06-04",
                                    "SZALL_CIM": "NULL",
                                    "SZALL_MOD": "GLS",
                                    "FIZ_MOD": "Bankkártya",
                                    "SZAMLA_CIM": "NULL",
                                    "(No column name)": "NULL"
                                },
                                {
                                    "SORSZAM": "15669",
                                    "LOGIN": "peter4",
                                    "REND_DATUM": "2016-05-25",
                                    "SZALL_DATUM": "2016-05-29",
                                    "SZALL_CIM": "Jászkisér, Fő u. 2.",
                                    "SZALL_MOD": "Személyes átvétel",
                                    "FIZ_MOD": "Bankkártya",
                                    "SZAMLA_CIM": "NULL",
                                    "(No column name)": "NULL"
                                },
                                {
                                    "SORSZAM": "15674",
                                    "LOGIN": "peter4",
                                    "REND_DATUM": "2016-05-25",
                                    "SZALL_DATUM": "2016-05-29",
                                    "SZALL_CIM": "Jászkisér, Nagy u.14.",
                                    "SZALL_MOD": "Posta",
                                    "FIZ_MOD": "Átutalás",
                                    "SZAMLA_CIM": "NULL",
                                    "(No column name)": "NULL"
                                },
                                {
                                    "SORSZAM": "15680",
                                    "LOGIN": "peter4",
                                    "REND_DATUM": "2016-05-26",
                                    "SZALL_DATUM": "2016-05-31",
                                    "SZALL_CIM": "NULL",
                                    "SZALL_MOD": "GLS",
                                    "FIZ_MOD": "Bankkártya",
                                    "SZAMLA_CIM": "NULL",
                                    "(No column name)": "NULL"
                                },
                                {
                                    "SORSZAM": "15708",
                                    "LOGIN": "peter4",
                                    "REND_DATUM": "2016-05-26",
                                    "SZALL_DATUM": "2016-06-04",
                                    "SZALL_CIM": "Jászkisér, Nagy u.14.",
                                    "SZALL_MOD": "Személyes átvétel",
                                    "FIZ_MOD": "Bankkártya",
                                    "SZAMLA_CIM": "5137 Jászkisér, Nagy u.14.",
                                    "(No column name)": "5137"
                                },
                                {
                                    "SORSZAM": "15715",
                                    "LOGIN": "peter4",
                                    "REND_DATUM": "2016-05-27",
                                    "SZALL_DATUM": "2016-06-06",
                                    "SZALL_CIM": "NULL",
                                    "SZALL_MOD": "Személyes átvétel",
                                    "FIZ_MOD": "Készpénz",
                                    "SZAMLA_CIM": "NULL",
                                    "(No column name)": "NULL"
                                },
                                {
                                    "SORSZAM": "15733",
                                    "LOGIN": "peter4",
                                    "REND_DATUM": "2016-05-27",
                                    "SZALL_DATUM": "2016-05-29",
                                    "SZALL_CIM": "NULL",
                                    "SZALL_MOD": "Személyes átvétel",
                                    "FIZ_MOD": "Átutalás",
                                    "SZAMLA_CIM": "NULL",
                                    "(No column name)": "NULL"
                                },
                                {
                                    "SORSZAM": "15785",
                                    "LOGIN": "peter4",
                                    "REND_DATUM": "2016-05-28",
                                    "SZALL_DATUM": "2016-06-06",
                                    "SZALL_CIM": "NULL",
                                    "SZALL_MOD": "Posta",
                                    "FIZ_MOD": "Átutalás",
                                    "SZAMLA_CIM": "NULL",
                                    "(No column name)": "NULL"
                                },
                                {
                                    "SORSZAM": "15797",
                                    "LOGIN": "peter4",
                                    "REND_DATUM": "2016-05-28",
                                    "SZALL_DATUM": "2016-05-30",
                                    "SZALL_CIM": "NULL",
                                    "SZALL_MOD": "Személyes átvétel",
                                    "FIZ_MOD": "Bankkártya",
                                    "SZAMLA_CIM": "NULL",
                                    "(No column name)": "NULL"
                                },
                                {
                                    "SORSZAM": "15806",
                                    "LOGIN": "peter4",
                                    "REND_DATUM": "2016-05-29",
                                    "SZALL_DATUM": "2016-06-06",
                                    "SZALL_CIM": "NULL",
                                    "SZALL_MOD": "Posta",
                                    "FIZ_MOD": "Bankkártya",
                                    "SZAMLA_CIM": "NULL",
                                    "(No column name)": "NULL"
                                },
                                {
                                    "SORSZAM": "15879",
                                    "LOGIN": "peter4",
                                    "REND_DATUM": "2016-05-31",
                                    "SZALL_DATUM": "2016-06-04",
                                    "SZALL_CIM": "NULL",
                                    "SZALL_MOD": "GLS",
                                    "FIZ_MOD": "Bankkártya",
                                    "SZAMLA_CIM": "NULL",
                                    "(No column name)": "NULL"
                                },
                                {
                                    "SORSZAM": "15960",
                                    "LOGIN": "peter4",
                                    "REND_DATUM": "2016-06-01",
                                    "SZALL_DATUM": "2016-06-04",
                                    "SZALL_CIM": "NULL",
                                    "SZALL_MOD": "GLS",
                                    "FIZ_MOD": "Bankkártya",
                                    "SZAMLA_CIM": "NULL",
                                    "(No column name)": "NULL"
                                },
                                {
                                    "SORSZAM": "15966",
                                    "LOGIN": "peter4",
                                    "REND_DATUM": "2016-06-02",
                                    "SZALL_DATUM": "2016-06-11",
                                    "SZALL_CIM": "Jászkisér, Fő u. 2.",
                                    "SZALL_MOD": "GLS",
                                    "FIZ_MOD": "Átutalás",
                                    "SZAMLA_CIM": "NULL",
                                    "(No column name)": "NULL"
                                },
                                {
                                    "SORSZAM": "16000",
                                    "LOGIN": "peter4",
                                    "REND_DATUM": "2016-06-02",
                                    "SZALL_DATUM": "2016-06-06",
                                    "SZALL_CIM": "NULL",
                                    "SZALL_MOD": "Személyes átvétel",
                                    "FIZ_MOD": "Készpénz",
                                    "SZAMLA_CIM": "NULL",
                                    "(No column name)": "NULL"
                                },
                                {
                                    "SORSZAM": "16065",
                                    "LOGIN": "peter4",
                                    "REND_DATUM": "2016-06-04",
                                    "SZALL_DATUM": "2016-06-14",
                                    "SZALL_CIM": "Jászkisér, Fő u. 2.",
                                    "SZALL_MOD": "Posta",
                                    "FIZ_MOD": "Bankkártya",
                                    "SZAMLA_CIM": "5137 Jászkisér, Fő u. 2.",
                                    "(No column name)": "5137"
                                },
                                {
                                    "SORSZAM": "16073",
                                    "LOGIN": "peter4",
                                    "REND_DATUM": "2016-06-04",
                                    "SZALL_DATUM": "2016-06-07",
                                    "SZALL_CIM": "NULL",
                                    "SZALL_MOD": "Személyes átvétel",
                                    "FIZ_MOD": "Bankkártya",
                                    "SZAMLA_CIM": "NULL",
                                    "(No column name)": "NULL"
                                },
                                {
                                    "SORSZAM": "16145",
                                    "LOGIN": "peter4",
                                    "REND_DATUM": "2016-06-06",
                                    "SZALL_DATUM": "2016-06-11",
                                    "SZALL_CIM": "NULL",
                                    "SZALL_MOD": "Posta",
                                    "FIZ_MOD": "Bankkártya",
                                    "SZAMLA_CIM": "NULL",
                                    "(No column name)": "NULL"
                                },
                                {
                                    "SORSZAM": "16230",
                                    "LOGIN": "peter4",
                                    "REND_DATUM": "2016-06-08",
                                    "SZALL_DATUM": "2016-06-11",
                                    "SZALL_CIM": "NULL",
                                    "SZALL_MOD": "GLS",
                                    "FIZ_MOD": "Készpénz",
                                    "SZAMLA_CIM": "NULL",
                                    "(No column name)": "NULL"
                                },
                                {
                                    "SORSZAM": "16300",
                                    "LOGIN": "peter4",
                                    "REND_DATUM": "2016-06-10",
                                    "SZALL_DATUM": "2016-06-20",
                                    "SZALL_CIM": "NULL",
                                    "SZALL_MOD": "GLS",
                                    "FIZ_MOD": "Átutalás",
                                    "SZAMLA_CIM": "NULL",
                                    "(No column name)": "NULL"
                                },
                                {
                                    "SORSZAM": "16368",
                                    "LOGIN": "peter4",
                                    "REND_DATUM": "2016-06-11",
                                    "SZALL_DATUM": "2016-06-20",
                                    "SZALL_CIM": "NULL",
                                    "SZALL_MOD": "GLS",
                                    "FIZ_MOD": "Átutalás",
                                    "SZAMLA_CIM": "NULL",
                                    "(No column name)": "NULL"
                                },
                                {
                                    "SORSZAM": "16421",
                                    "LOGIN": "peter4",
                                    "REND_DATUM": "2016-06-13",
                                    "SZALL_DATUM": "2016-06-18",
                                    "SZALL_CIM": "NULL",
                                    "SZALL_MOD": "Személyes átvétel",
                                    "FIZ_MOD": "Készpénz",
                                    "SZAMLA_CIM": "NULL",
                                    "(No column name)": "NULL"
                                },
                                {
                                    "SORSZAM": "16443",
                                    "LOGIN": "peter4",
                                    "REND_DATUM": "2016-06-13",
                                    "SZALL_DATUM": "2016-06-15",
                                    "SZALL_CIM": "Jászkisér, Fő u. 2.",
                                    "SZALL_MOD": "Személyes átvétel",
                                    "FIZ_MOD": "Átutalás",
                                    "SZAMLA_CIM": "5137 Jászkisér, Fő u. 2.",
                                    "(No column name)": "5137"
                                },
                                {
                                    "SORSZAM": "16477",
                                    "LOGIN": "peter4",
                                    "REND_DATUM": "2016-06-14",
                                    "SZALL_DATUM": "2016-06-19",
                                    "SZALL_CIM": "NULL",
                                    "SZALL_MOD": "GLS",
                                    "FIZ_MOD": "Bankkártya",
                                    "SZAMLA_CIM": "NULL",
                                    "(No column name)": "NULL"
                                },
                                {
                                    "SORSZAM": "16529",
                                    "LOGIN": "peter4",
                                    "REND_DATUM": "2016-06-15",
                                    "SZALL_DATUM": "2016-06-25",
                                    "SZALL_CIM": "NULL",
                                    "SZALL_MOD": "GLS",
                                    "FIZ_MOD": "Átutalás",
                                    "SZAMLA_CIM": "NULL",
                                    "(No column name)": "NULL"
                                },
                                {
                                    "SORSZAM": "16541",
                                    "LOGIN": "peter4",
                                    "REND_DATUM": "2016-06-16",
                                    "SZALL_DATUM": "2016-06-24",
                                    "SZALL_CIM": "Jászkisér, Nagy u.14.",
                                    "SZALL_MOD": "GLS",
                                    "FIZ_MOD": "Bankkártya",
                                    "SZAMLA_CIM": "NULL",
                                    "(No column name)": "NULL"
                                },
                                {
                                    "SORSZAM": "16607",
                                    "LOGIN": "peter4",
                                    "REND_DATUM": "2016-06-17",
                                    "SZALL_DATUM": "2016-06-26",
                                    "SZALL_CIM": "NULL",
                                    "SZALL_MOD": "GLS",
                                    "FIZ_MOD": "Bankkártya",
                                    "SZAMLA_CIM": "NULL",
                                    "(No column name)": "NULL"
                                },
                                {
                                    "SORSZAM": "16617",
                                    "LOGIN": "peter4",
                                    "REND_DATUM": "2016-06-17",
                                    "SZALL_DATUM": "2016-06-25",
                                    "SZALL_CIM": "NULL",
                                    "SZALL_MOD": "Személyes átvétel",
                                    "FIZ_MOD": "Átutalás",
                                    "SZAMLA_CIM": "NULL",
                                    "(No column name)": "NULL"
                                },
                                {
                                    "SORSZAM": "16619",
                                    "LOGIN": "peter4",
                                    "REND_DATUM": "2016-06-18",
                                    "SZALL_DATUM": "2016-06-25",
                                    "SZALL_CIM": "NULL",
                                    "SZALL_MOD": "GLS",
                                    "FIZ_MOD": "Bankkártya",
                                    "SZAMLA_CIM": "NULL",
                                    "(No column name)": "NULL"
                                },
                                {
                                    "SORSZAM": "16645",
                                    "LOGIN": "peter4",
                                    "REND_DATUM": "2016-06-18",
                                    "SZALL_DATUM": "2016-06-22",
                                    "SZALL_CIM": "NULL",
                                    "SZALL_MOD": "Személyes átvétel",
                                    "FIZ_MOD": "Bankkártya",
                                    "SZAMLA_CIM": "NULL",
                                    "(No column name)": "NULL"
                                },
                                {
                                    "SORSZAM": "16667",
                                    "LOGIN": "peter4",
                                    "REND_DATUM": "2016-06-19",
                                    "SZALL_DATUM": "2016-06-27",
                                    "SZALL_CIM": "NULL",
                                    "SZALL_MOD": "GLS",
                                    "FIZ_MOD": "Átutalás",
                                    "SZAMLA_CIM": "NULL",
                                    "(No column name)": "NULL"
                                },
                                {
                                    "SORSZAM": "16688",
                                    "LOGIN": "peter4",
                                    "REND_DATUM": "2016-06-19",
                                    "SZALL_DATUM": "2016-06-29",
                                    "SZALL_CIM": "NULL",
                                    "SZALL_MOD": "Posta",
                                    "FIZ_MOD": "Átutalás",
                                    "SZAMLA_CIM": "NULL",
                                    "(No column name)": "NULL"
                                },
                                {
                                    "SORSZAM": "16698",
                                    "LOGIN": "peter4",
                                    "REND_DATUM": "2016-06-20",
                                    "SZALL_DATUM": "2016-06-25",
                                    "SZALL_CIM": "NULL",
                                    "SZALL_MOD": "Posta",
                                    "FIZ_MOD": "Átutalás",
                                    "SZAMLA_CIM": "NULL",
                                    "(No column name)": "NULL"
                                },
                                {
                                    "SORSZAM": "16789",
                                    "LOGIN": "peter4",
                                    "REND_DATUM": "2016-06-22",
                                    "SZALL_DATUM": "2016-06-24",
                                    "SZALL_CIM": "NULL",
                                    "SZALL_MOD": "Személyes átvétel",
                                    "FIZ_MOD": "Bankkártya",
                                    "SZAMLA_CIM": "NULL",
                                    "(No column name)": "NULL"
                                },
                                {
                                    "SORSZAM": "16803",
                                    "LOGIN": "peter4",
                                    "REND_DATUM": "2016-06-22",
                                    "SZALL_DATUM": "2016-06-24",
                                    "SZALL_CIM": "Jászkisér, Fő u. 2.",
                                    "SZALL_MOD": "Személyes átvétel",
                                    "FIZ_MOD": "Átutalás",
                                    "SZAMLA_CIM": "NULL",
                                    "(No column name)": "NULL"
                                },
                                {
                                    "SORSZAM": "16880",
                                    "LOGIN": "peter4",
                                    "REND_DATUM": "2016-06-24",
                                    "SZALL_DATUM": "2016-07-02",
                                    "SZALL_CIM": "NULL",
                                    "SZALL_MOD": "GLS",
                                    "FIZ_MOD": "Bankkártya",
                                    "SZAMLA_CIM": "NULL",
                                    "(No column name)": "NULL"
                                },
                                {
                                    "SORSZAM": "16889",
                                    "LOGIN": "peter4",
                                    "REND_DATUM": "2016-06-25",
                                    "SZALL_DATUM": "2016-06-28",
                                    "SZALL_CIM": "NULL",
                                    "SZALL_MOD": "Posta",
                                    "FIZ_MOD": "Bankkártya",
                                    "SZAMLA_CIM": "NULL",
                                    "(No column name)": "NULL"
                                },
                                {
                                    "SORSZAM": "16900",
                                    "LOGIN": "peter4",
                                    "REND_DATUM": "2016-06-25",
                                    "SZALL_DATUM": "2016-07-03",
                                    "SZALL_CIM": "Jászkisér, Kiss u. 32.",
                                    "SZALL_MOD": "Posta",
                                    "FIZ_MOD": "Átutalás",
                                    "SZAMLA_CIM": "5137 Jászkisér, Kiss u. 32.",
                                    "(No column name)": "5137"
                                },
                                {
                                    "SORSZAM": "16971",
                                    "LOGIN": "peter4",
                                    "REND_DATUM": "2016-06-26",
                                    "SZALL_DATUM": "2016-07-02",
                                    "SZALL_CIM": "NULL",
                                    "SZALL_MOD": "GLS",
                                    "FIZ_MOD": "Készpénz",
                                    "SZAMLA_CIM": "NULL",
                                    "(No column name)": "NULL"
                                },
                                {
                                    "SORSZAM": "17116",
                                    "LOGIN": "peter4",
                                    "REND_DATUM": "2016-06-30",
                                    "SZALL_DATUM": "2016-07-07",
                                    "SZALL_CIM": "NULL",
                                    "SZALL_MOD": "Személyes átvétel",
                                    "FIZ_MOD": "Bankkártya",
                                    "SZAMLA_CIM": "NULL",
                                    "(No column name)": "NULL"
                                },
                                {
                                    "SORSZAM": "17144",
                                    "LOGIN": "peter4",
                                    "REND_DATUM": "2016-07-01",
                                    "SZALL_DATUM": "2016-07-08",
                                    "SZALL_CIM": "NULL",
                                    "SZALL_MOD": "GLS",
                                    "FIZ_MOD": "Készpénz",
                                    "SZAMLA_CIM": "NULL",
                                    "(No column name)": "NULL"
                                },
                                {
                                    "SORSZAM": "17173",
                                    "LOGIN": "peter4",
                                    "REND_DATUM": "2016-07-01",
                                    "SZALL_DATUM": "2016-07-03",
                                    "SZALL_CIM": "Jászkisér, Kiss u. 32.",
                                    "SZALL_MOD": "Személyes átvétel",
                                    "FIZ_MOD": "Bankkártya",
                                    "SZAMLA_CIM": "NULL",
                                    "(No column name)": "NULL"
                                },
                                {
                                    "SORSZAM": "17245",
                                    "LOGIN": "peter4",
                                    "REND_DATUM": "2016-07-03",
                                    "SZALL_DATUM": "2016-07-07",
                                    "SZALL_CIM": "NULL",
                                    "SZALL_MOD": "Posta",
                                    "FIZ_MOD": "Bankkártya",
                                    "SZAMLA_CIM": "NULL",
                                    "(No column name)": "NULL"
                                },
                                {
                                    "SORSZAM": "17262",
                                    "LOGIN": "peter4",
                                    "REND_DATUM": "2016-07-04",
                                    "SZALL_DATUM": "2016-07-11",
                                    "SZALL_CIM": "Jászkisér, Fő u. 2.",
                                    "SZALL_MOD": "GLS",
                                    "FIZ_MOD": "Bankkártya",
                                    "SZAMLA_CIM": "NULL",
                                    "(No column name)": "NULL"
                                },
                                {
                                    "SORSZAM": "17265",
                                    "LOGIN": "peter4",
                                    "REND_DATUM": "2016-07-04",
                                    "SZALL_DATUM": "2016-07-06",
                                    "SZALL_CIM": "NULL",
                                    "SZALL_MOD": "GLS",
                                    "FIZ_MOD": "Bankkártya",
                                    "SZAMLA_CIM": "NULL",
                                    "(No column name)": "NULL"
                                },
                                {
                                    "SORSZAM": "17271",
                                    "LOGIN": "peter4",
                                    "REND_DATUM": "2016-07-04",
                                    "SZALL_DATUM": "2016-07-08",
                                    "SZALL_CIM": "Jászkisér, Fő u. 2.",
                                    "SZALL_MOD": "GLS",
                                    "FIZ_MOD": "Bankkártya",
                                    "SZAMLA_CIM": "NULL",
                                    "(No column name)": "NULL"
                                },
                                {
                                    "SORSZAM": "17292",
                                    "LOGIN": "peter4",
                                    "REND_DATUM": "2016-07-04",
                                    "SZALL_DATUM": "2016-07-13",
                                    "SZALL_CIM": "NULL",
                                    "SZALL_MOD": "Posta",
                                    "FIZ_MOD": "Bankkártya",
                                    "SZAMLA_CIM": "NULL",
                                    "(No column name)": "NULL"
                                },
                                {
                                    "SORSZAM": "17308",
                                    "LOGIN": "peter4",
                                    "REND_DATUM": "2016-07-05",
                                    "SZALL_DATUM": "2016-07-08",
                                    "SZALL_CIM": "NULL",
                                    "SZALL_MOD": "GLS",
                                    "FIZ_MOD": "Átutalás",
                                    "SZAMLA_CIM": "NULL",
                                    "(No column name)": "NULL"
                                },
                                {
                                    "SORSZAM": "17322",
                                    "LOGIN": "peter4",
                                    "REND_DATUM": "2016-07-05",
                                    "SZALL_DATUM": "2016-07-10",
                                    "SZALL_CIM": "NULL",
                                    "SZALL_MOD": "Személyes átvétel",
                                    "FIZ_MOD": "Bankkártya",
                                    "SZAMLA_CIM": "NULL",
                                    "(No column name)": "NULL"
                                },
                                {
                                    "SORSZAM": "17341",
                                    "LOGIN": "peter4",
                                    "REND_DATUM": "2016-07-06",
                                    "SZALL_DATUM": "2016-07-09",
                                    "SZALL_CIM": "NULL",
                                    "SZALL_MOD": "Személyes átvétel",
                                    "FIZ_MOD": "Bankkártya",
                                    "SZAMLA_CIM": "NULL",
                                    "(No column name)": "NULL"
                                },
                                {
                                    "SORSZAM": "17401",
                                    "LOGIN": "peter4",
                                    "REND_DATUM": "2016-07-07",
                                    "SZALL_DATUM": "2016-07-12",
                                    "SZALL_CIM": "NULL",
                                    "SZALL_MOD": "GLS",
                                    "FIZ_MOD": "Bankkártya",
                                    "SZAMLA_CIM": "NULL",
                                    "(No column name)": "NULL"
                                },
                                {
                                    "SORSZAM": "17445",
                                    "LOGIN": "peter4",
                                    "REND_DATUM": "2016-07-08",
                                    "SZALL_DATUM": "2016-07-13",
                                    "SZALL_CIM": "NULL",
                                    "SZALL_MOD": "Személyes átvétel",
                                    "FIZ_MOD": "Bankkártya",
                                    "SZAMLA_CIM": "NULL",
                                    "(No column name)": "NULL"
                                },
                                {
                                    "SORSZAM": "17510",
                                    "LOGIN": "peter4",
                                    "REND_DATUM": "2016-07-10",
                                    "SZALL_DATUM": "2016-07-17",
                                    "SZALL_CIM": "Jászkisér, Nagy u.14.",
                                    "SZALL_MOD": "Személyes átvétel",
                                    "FIZ_MOD": "Bankkártya",
                                    "SZAMLA_CIM": "NULL",
                                    "(No column name)": "NULL"
                                },
                                {
                                    "SORSZAM": "17563",
                                    "LOGIN": "peter4",
                                    "REND_DATUM": "2016-07-12",
                                    "SZALL_DATUM": "2016-07-20",
                                    "SZALL_CIM": "Jászkisér, Kiss u. 32.",
                                    "SZALL_MOD": "GLS",
                                    "FIZ_MOD": "Bankkártya",
                                    "SZAMLA_CIM": "NULL",
                                    "(No column name)": "NULL"
                                },
                                {
                                    "SORSZAM": "17620",
                                    "LOGIN": "peter4",
                                    "REND_DATUM": "2016-07-13",
                                    "SZALL_DATUM": "2016-07-23",
                                    "SZALL_CIM": "NULL",
                                    "SZALL_MOD": "GLS",
                                    "FIZ_MOD": "Bankkártya",
                                    "SZAMLA_CIM": "NULL",
                                    "(No column name)": "NULL"
                                },
                                {
                                    "SORSZAM": "17624",
                                    "LOGIN": "peter4",
                                    "REND_DATUM": "2016-07-13",
                                    "SZALL_DATUM": "2016-07-17",
                                    "SZALL_CIM": "NULL",
                                    "SZALL_MOD": "Posta",
                                    "FIZ_MOD": "Bankkártya",
                                    "SZAMLA_CIM": "NULL",
                                    "(No column name)": "NULL"
                                },
                                {
                                    "SORSZAM": "17645",
                                    "LOGIN": "peter4",
                                    "REND_DATUM": "2016-07-14",
                                    "SZALL_DATUM": "2016-07-23",
                                    "SZALL_CIM": "NULL",
                                    "SZALL_MOD": "Személyes átvétel",
                                    "FIZ_MOD": "Átutalás",
                                    "SZAMLA_CIM": "NULL",
                                    "(No column name)": "NULL"
                                },
                                {
                                    "SORSZAM": "17723",
                                    "LOGIN": "peter4",
                                    "REND_DATUM": "2016-07-16",
                                    "SZALL_DATUM": "2016-07-21",
                                    "SZALL_CIM": "NULL",
                                    "SZALL_MOD": "Személyes átvétel",
                                    "FIZ_MOD": "Készpénz",
                                    "SZAMLA_CIM": "NULL",
                                    "(No column name)": "NULL"
                                },
                                {
                                    "SORSZAM": "17766",
                                    "LOGIN": "peter4",
                                    "REND_DATUM": "2016-07-17",
                                    "SZALL_DATUM": "2016-07-21",
                                    "SZALL_CIM": "Jászkisér, Fő u. 2.",
                                    "SZALL_MOD": "GLS",
                                    "FIZ_MOD": "Bankkártya",
                                    "SZAMLA_CIM": "5137 Jászkisér, Fő u. 2.",
                                    "(No column name)": "5137"
                                },
                                {
                                    "SORSZAM": "17768",
                                    "LOGIN": "peter4",
                                    "REND_DATUM": "2016-07-17",
                                    "SZALL_DATUM": "2016-07-23",
                                    "SZALL_CIM": "NULL",
                                    "SZALL_MOD": "GLS",
                                    "FIZ_MOD": "Bankkártya",
                                    "SZAMLA_CIM": "NULL",
                                    "(No column name)": "NULL"
                                },
                                {
                                    "SORSZAM": "17774",
                                    "LOGIN": "peter4",
                                    "REND_DATUM": "2016-07-17",
                                    "SZALL_DATUM": "2016-07-24",
                                    "SZALL_CIM": "NULL",
                                    "SZALL_MOD": "Posta",
                                    "FIZ_MOD": "Bankkártya",
                                    "SZAMLA_CIM": "NULL",
                                    "(No column name)": "NULL"
                                },
                                {
                                    "SORSZAM": "17788",
                                    "LOGIN": "peter4",
                                    "REND_DATUM": "2016-07-17",
                                    "SZALL_DATUM": "2016-07-19",
                                    "SZALL_CIM": "NULL",
                                    "SZALL_MOD": "Posta",
                                    "FIZ_MOD": "Bankkártya",
                                    "SZAMLA_CIM": "NULL",
                                    "(No column name)": "NULL"
                                },
                                {
                                    "SORSZAM": "17803",
                                    "LOGIN": "peter4",
                                    "REND_DATUM": "2016-07-18",
                                    "SZALL_DATUM": "2016-07-20",
                                    "SZALL_CIM": "NULL",
                                    "SZALL_MOD": "Posta",
                                    "FIZ_MOD": "Bankkártya",
                                    "SZAMLA_CIM": "NULL",
                                    "(No column name)": "NULL"
                                },
                                {
                                    "SORSZAM": "17815",
                                    "LOGIN": "peter4",
                                    "REND_DATUM": "2016-07-18",
                                    "SZALL_DATUM": "2016-07-25",
                                    "SZALL_CIM": "NULL",
                                    "SZALL_MOD": "Személyes átvétel",
                                    "FIZ_MOD": "Átutalás",
                                    "SZAMLA_CIM": "NULL",
                                    "(No column name)": "NULL"
                                },
                                {
                                    "SORSZAM": "17817",
                                    "LOGIN": "peter4",
                                    "REND_DATUM": "2016-07-18",
                                    "SZALL_DATUM": "2016-07-25",
                                    "SZALL_CIM": "NULL",
                                    "SZALL_MOD": "GLS",
                                    "FIZ_MOD": "Bankkártya",
                                    "SZAMLA_CIM": "NULL",
                                    "(No column name)": "NULL"
                                },
                                {
                                    "SORSZAM": "17818",
                                    "LOGIN": "peter4",
                                    "REND_DATUM": "2016-07-18",
                                    "SZALL_DATUM": "2016-07-21",
                                    "SZALL_CIM": "NULL",
                                    "SZALL_MOD": "Személyes átvétel",
                                    "FIZ_MOD": "Bankkártya",
                                    "SZAMLA_CIM": "NULL",
                                    "(No column name)": "NULL"
                                },
                                {
                                    "SORSZAM": "17872",
                                    "LOGIN": "peter4",
                                    "REND_DATUM": "2016-07-19",
                                    "SZALL_DATUM": "2016-07-23",
                                    "SZALL_CIM": "NULL",
                                    "SZALL_MOD": "GLS",
                                    "FIZ_MOD": "Bankkártya",
                                    "SZAMLA_CIM": "NULL",
                                    "(No column name)": "NULL"
                                },
                                {
                                    "SORSZAM": "17899",
                                    "LOGIN": "peter4",
                                    "REND_DATUM": "2016-07-20",
                                    "SZALL_DATUM": "2016-07-30",
                                    "SZALL_CIM": "NULL",
                                    "SZALL_MOD": "GLS",
                                    "FIZ_MOD": "Átutalás",
                                    "SZAMLA_CIM": "NULL",
                                    "(No column name)": "NULL"
                                },
                                {
                                    "SORSZAM": "17953",
                                    "LOGIN": "peter4",
                                    "REND_DATUM": "2016-07-22",
                                    "SZALL_DATUM": "2016-07-29",
                                    "SZALL_CIM": "Jászkisér, Kiss u. 32.",
                                    "SZALL_MOD": "Posta",
                                    "FIZ_MOD": "Átutalás",
                                    "SZAMLA_CIM": "NULL",
                                    "(No column name)": "NULL"
                                },
                                {
                                    "SORSZAM": "17976",
                                    "LOGIN": "peter4",
                                    "REND_DATUM": "2016-07-22",
                                    "SZALL_DATUM": "2016-07-26",
                                    "SZALL_CIM": "NULL",
                                    "SZALL_MOD": "Személyes átvétel",
                                    "FIZ_MOD": "Bankkártya",
                                    "SZAMLA_CIM": "NULL",
                                    "(No column name)": "NULL"
                                },
                                {
                                    "SORSZAM": "18005",
                                    "LOGIN": "peter4",
                                    "REND_DATUM": "2016-07-23",
                                    "SZALL_DATUM": "2016-07-28",
                                    "SZALL_CIM": "Jászkisér, Kiss u. 32.",
                                    "SZALL_MOD": "Posta",
                                    "FIZ_MOD": "Átutalás",
                                    "SZAMLA_CIM": "NULL",
                                    "(No column name)": "NULL"
                                },
                                {
                                    "SORSZAM": "18011",
                                    "LOGIN": "peter4",
                                    "REND_DATUM": "2016-07-23",
                                    "SZALL_DATUM": "2016-07-26",
                                    "SZALL_CIM": "NULL",
                                    "SZALL_MOD": "Posta",
                                    "FIZ_MOD": "Bankkártya",
                                    "SZAMLA_CIM": "NULL",
                                    "(No column name)": "NULL"
                                },
                                {
                                    "SORSZAM": "18025",
                                    "LOGIN": "peter4",
                                    "REND_DATUM": "2016-07-23",
                                    "SZALL_DATUM": "2016-07-25",
                                    "SZALL_CIM": "NULL",
                                    "SZALL_MOD": "Posta",
                                    "FIZ_MOD": "Készpénz",
                                    "SZAMLA_CIM": "NULL",
                                    "(No column name)": "NULL"
                                },
                                {
                                    "SORSZAM": "18029",
                                    "LOGIN": "peter4",
                                    "REND_DATUM": "2016-07-24",
                                    "SZALL_DATUM": "2016-07-29",
                                    "SZALL_CIM": "NULL",
                                    "SZALL_MOD": "Személyes átvétel",
                                    "FIZ_MOD": "Bankkártya",
                                    "SZAMLA_CIM": "NULL",
                                    "(No column name)": "NULL"
                                },
                                {
                                    "SORSZAM": "18069",
                                    "LOGIN": "peter4",
                                    "REND_DATUM": "2016-07-24",
                                    "SZALL_DATUM": "2016-08-03",
                                    "SZALL_CIM": "NULL",
                                    "SZALL_MOD": "GLS",
                                    "FIZ_MOD": "Bankkártya",
                                    "SZAMLA_CIM": "NULL",
                                    "(No column name)": "NULL"
                                },
                                {
                                    "SORSZAM": "18124",
                                    "LOGIN": "peter4",
                                    "REND_DATUM": "2016-07-26",
                                    "SZALL_DATUM": "2016-08-05",
                                    "SZALL_CIM": "NULL",
                                    "SZALL_MOD": "GLS",
                                    "FIZ_MOD": "Átutalás",
                                    "SZAMLA_CIM": "NULL",
                                    "(No column name)": "NULL"
                                },
                                {
                                    "SORSZAM": "18150",
                                    "LOGIN": "peter4",
                                    "REND_DATUM": "2016-07-26",
                                    "SZALL_DATUM": "2016-07-29",
                                    "SZALL_CIM": "NULL",
                                    "SZALL_MOD": "Személyes átvétel",
                                    "FIZ_MOD": "Átutalás",
                                    "SZAMLA_CIM": "NULL",
                                    "(No column name)": "NULL"
                                },
                                {
                                    "SORSZAM": "18163",
                                    "LOGIN": "peter4",
                                    "REND_DATUM": "2016-07-27",
                                    "SZALL_DATUM": "2016-07-31",
                                    "SZALL_CIM": "NULL",
                                    "SZALL_MOD": "Posta",
                                    "FIZ_MOD": "Bankkártya",
                                    "SZAMLA_CIM": "NULL",
                                    "(No column name)": "NULL"
                                },
                                {
                                    "SORSZAM": "18215",
                                    "LOGIN": "peter4",
                                    "REND_DATUM": "2016-07-28",
                                    "SZALL_DATUM": "2016-08-03",
                                    "SZALL_CIM": "NULL",
                                    "SZALL_MOD": "GLS",
                                    "FIZ_MOD": "Készpénz",
                                    "SZAMLA_CIM": "NULL",
                                    "(No column name)": "NULL"
                                },
                                {
                                    "SORSZAM": "18222",
                                    "LOGIN": "peter4",
                                    "REND_DATUM": "2016-07-29",
                                    "SZALL_DATUM": "2016-08-02",
                                    "SZALL_CIM": "NULL",
                                    "SZALL_MOD": "Posta",
                                    "FIZ_MOD": "Átutalás",
                                    "SZAMLA_CIM": "NULL",
                                    "(No column name)": "NULL"
                                },
                                {
                                    "SORSZAM": "18236",
                                    "LOGIN": "peter4",
                                    "REND_DATUM": "2016-07-29",
                                    "SZALL_DATUM": "2016-08-08",
                                    "SZALL_CIM": "NULL",
                                    "SZALL_MOD": "Személyes átvétel",
                                    "FIZ_MOD": "Bankkártya",
                                    "SZAMLA_CIM": "NULL",
                                    "(No column name)": "NULL"
                                },
                                {
                                    "SORSZAM": "18238",
                                    "LOGIN": "peter4",
                                    "REND_DATUM": "2016-07-29",
                                    "SZALL_DATUM": "2016-08-05",
                                    "SZALL_CIM": "NULL",
                                    "SZALL_MOD": "Posta",
                                    "FIZ_MOD": "Átutalás",
                                    "SZAMLA_CIM": "NULL",
                                    "(No column name)": "NULL"
                                },
                                {
                                    "SORSZAM": "18257",
                                    "LOGIN": "peter4",
                                    "REND_DATUM": "2016-07-29",
                                    "SZALL_DATUM": "2016-08-07",
                                    "SZALL_CIM": "NULL",
                                    "SZALL_MOD": "GLS",
                                    "FIZ_MOD": "Átutalás",
                                    "SZAMLA_CIM": "NULL",
                                    "(No column name)": "NULL"
                                },
                                {
                                    "SORSZAM": "18317",
                                    "LOGIN": "peter4",
                                    "REND_DATUM": "2016-07-31",
                                    "SZALL_DATUM": "2016-08-06",
                                    "SZALL_CIM": "Jászkisér, Kiss u. 32.",
                                    "SZALL_MOD": "GLS",
                                    "FIZ_MOD": "Bankkártya",
                                    "SZAMLA_CIM": "NULL",
                                    "(No column name)": "NULL"
                                },
                                {
                                    "SORSZAM": "18318",
                                    "LOGIN": "peter4",
                                    "REND_DATUM": "2016-07-31",
                                    "SZALL_DATUM": "2016-08-04",
                                    "SZALL_CIM": "NULL",
                                    "SZALL_MOD": "Személyes átvétel",
                                    "FIZ_MOD": "Bankkártya",
                                    "SZAMLA_CIM": "NULL",
                                    "(No column name)": "NULL"
                                },
                                {
                                    "SORSZAM": "18335",
                                    "LOGIN": "peter4",
                                    "REND_DATUM": "2016-07-31",
                                    "SZALL_DATUM": "2016-08-03",
                                    "SZALL_CIM": "NULL",
                                    "SZALL_MOD": "Posta",
                                    "FIZ_MOD": "Bankkártya",
                                    "SZAMLA_CIM": "NULL",
                                    "(No column name)": "NULL"
                                },
                                {
                                    "SORSZAM": "18363",
                                    "LOGIN": "peter4",
                                    "REND_DATUM": "2016-08-01",
                                    "SZALL_DATUM": "2016-08-10",
                                    "SZALL_CIM": "NULL",
                                    "SZALL_MOD": "GLS",
                                    "FIZ_MOD": "Készpénz",
                                    "SZAMLA_CIM": "NULL",
                                    "(No column name)": "NULL"
                                },
                                {
                                    "SORSZAM": "18373",
                                    "LOGIN": "peter4",
                                    "REND_DATUM": "2016-08-01",
                                    "SZALL_DATUM": "2016-08-10",
                                    "SZALL_CIM": "NULL",
                                    "SZALL_MOD": "Posta",
                                    "FIZ_MOD": "Bankkártya",
                                    "SZAMLA_CIM": "NULL",
                                    "(No column name)": "NULL"
                                },
                                {
                                    "SORSZAM": "18390",
                                    "LOGIN": "peter4",
                                    "REND_DATUM": "2016-08-02",
                                    "SZALL_DATUM": "2016-08-11",
                                    "SZALL_CIM": "NULL",
                                    "SZALL_MOD": "Posta",
                                    "FIZ_MOD": "Bankkártya",
                                    "SZAMLA_CIM": "NULL",
                                    "(No column name)": "NULL"
                                },
                                {
                                    "SORSZAM": "18414",
                                    "LOGIN": "peter4",
                                    "REND_DATUM": "2016-08-02",
                                    "SZALL_DATUM": "2016-08-09",
                                    "SZALL_CIM": "Jászkisér, Fő u. 2.",
                                    "SZALL_MOD": "Posta",
                                    "FIZ_MOD": "Átutalás",
                                    "SZAMLA_CIM": "5137 Jászkisér, Fő u. 2.",
                                    "(No column name)": "5137"
                                },
                                {
                                    "SORSZAM": "18425",
                                    "LOGIN": "peter4",
                                    "REND_DATUM": "2016-08-03",
                                    "SZALL_DATUM": "2016-08-07",
                                    "SZALL_CIM": "NULL",
                                    "SZALL_MOD": "Személyes átvétel",
                                    "FIZ_MOD": "Átutalás",
                                    "SZAMLA_CIM": "NULL",
                                    "(No column name)": "NULL"
                                },
                                {
                                    "SORSZAM": "18480",
                                    "LOGIN": "peter4",
                                    "REND_DATUM": "2016-08-04",
                                    "SZALL_DATUM": "2016-08-08",
                                    "SZALL_CIM": "NULL",
                                    "SZALL_MOD": "Posta",
                                    "FIZ_MOD": "Bankkártya",
                                    "SZAMLA_CIM": "NULL",
                                    "(No column name)": "NULL"
                                },
                                {
                                    "SORSZAM": "18500",
                                    "LOGIN": "peter4",
                                    "REND_DATUM": "2016-08-04",
                                    "SZALL_DATUM": "2016-08-10",
                                    "SZALL_CIM": "NULL",
                                    "SZALL_MOD": "Posta",
                                    "FIZ_MOD": "Átutalás",
                                    "SZAMLA_CIM": "NULL",
                                    "(No column name)": "NULL"
                                },
                                {
                                    "SORSZAM": "18504",
                                    "LOGIN": "peter4",
                                    "REND_DATUM": "2016-08-04",
                                    "SZALL_DATUM": "2016-08-14",
                                    "SZALL_CIM": "Jászkisér, Fő u. 2.",
                                    "SZALL_MOD": "Posta",
                                    "FIZ_MOD": "Átutalás",
                                    "SZAMLA_CIM": "NULL",
                                    "(No column name)": "NULL"
                                },
                                {
                                    "SORSZAM": "18511",
                                    "LOGIN": "peter4",
                                    "REND_DATUM": "2016-08-05",
                                    "SZALL_DATUM": "2016-08-14",
                                    "SZALL_CIM": "NULL",
                                    "SZALL_MOD": "Személyes átvétel",
                                    "FIZ_MOD": "Átutalás",
                                    "SZAMLA_CIM": "NULL",
                                    "(No column name)": "NULL"
                                },
                                {
                                    "SORSZAM": "18550",
                                    "LOGIN": "peter4",
                                    "REND_DATUM": "2016-08-06",
                                    "SZALL_DATUM": "2016-08-10",
                                    "SZALL_CIM": "NULL",
                                    "SZALL_MOD": "Posta",
                                    "FIZ_MOD": "Átutalás",
                                    "SZAMLA_CIM": "NULL",
                                    "(No column name)": "NULL"
                                },
                                {
                                    "SORSZAM": "18555",
                                    "LOGIN": "peter4",
                                    "REND_DATUM": "2016-08-06",
                                    "SZALL_DATUM": "2016-08-08",
                                    "SZALL_CIM": "NULL",
                                    "SZALL_MOD": "GLS",
                                    "FIZ_MOD": "Bankkártya",
                                    "SZAMLA_CIM": "NULL",
                                    "(No column name)": "NULL"
                                },
                                {
                                    "SORSZAM": "18628",
                                    "LOGIN": "peter4",
                                    "REND_DATUM": "2016-08-07",
                                    "SZALL_DATUM": "2016-08-13",
                                    "SZALL_CIM": "NULL",
                                    "SZALL_MOD": "Posta",
                                    "FIZ_MOD": "Bankkártya",
                                    "SZAMLA_CIM": "NULL",
                                    "(No column name)": "NULL"
                                },
                                {
                                    "SORSZAM": "18646",
                                    "LOGIN": "peter4",
                                    "REND_DATUM": "2016-08-08",
                                    "SZALL_DATUM": "2016-08-18",
                                    "SZALL_CIM": "NULL",
                                    "SZALL_MOD": "Személyes átvétel",
                                    "FIZ_MOD": "Bankkártya",
                                    "SZAMLA_CIM": "NULL",
                                    "(No column name)": "NULL"
                                },
                                {
                                    "SORSZAM": "18663",
                                    "LOGIN": "peter4",
                                    "REND_DATUM": "2016-08-08",
                                    "SZALL_DATUM": "2016-08-18",
                                    "SZALL_CIM": "NULL",
                                    "SZALL_MOD": "Posta",
                                    "FIZ_MOD": "Bankkártya",
                                    "SZAMLA_CIM": "NULL",
                                    "(No column name)": "NULL"
                                },
                                {
                                    "SORSZAM": "18694",
                                    "LOGIN": "peter4",
                                    "REND_DATUM": "2016-08-09",
                                    "SZALL_DATUM": "2016-08-19",
                                    "SZALL_CIM": "Jászkisér, Kiss u. 32.",
                                    "SZALL_MOD": "GLS",
                                    "FIZ_MOD": "Bankkártya",
                                    "SZAMLA_CIM": "5137 Jászkisér, Kiss u. 32.",
                                    "(No column name)": "5137"
                                },
                                {
                                    "SORSZAM": "18707",
                                    "LOGIN": "peter4",
                                    "REND_DATUM": "2016-08-10",
                                    "SZALL_DATUM": "2016-08-20",
                                    "SZALL_CIM": "Jászkisér, Kiss u. 32.",
                                    "SZALL_MOD": "Személyes átvétel",
                                    "FIZ_MOD": "Bankkártya",
                                    "SZAMLA_CIM": "NULL",
                                    "(No column name)": "NULL"
                                },
                                {
                                    "SORSZAM": "18726",
                                    "LOGIN": "peter4",
                                    "REND_DATUM": "2016-08-10",
                                    "SZALL_DATUM": "2016-08-15",
                                    "SZALL_CIM": "NULL",
                                    "SZALL_MOD": "Személyes átvétel",
                                    "FIZ_MOD": "Átutalás",
                                    "SZAMLA_CIM": "NULL",
                                    "(No column name)": "NULL"
                                },
                                {
                                    "SORSZAM": "18736",
                                    "LOGIN": "peter4",
                                    "REND_DATUM": "2016-08-10",
                                    "SZALL_DATUM": "2016-08-13",
                                    "SZALL_CIM": "NULL",
                                    "SZALL_MOD": "Posta",
                                    "FIZ_MOD": "Bankkártya",
                                    "SZAMLA_CIM": "NULL",
                                    "(No column name)": "NULL"
                                },
                                {
                                    "SORSZAM": "18746",
                                    "LOGIN": "peter4",
                                    "REND_DATUM": "2016-08-10",
                                    "SZALL_DATUM": "2016-08-14",
                                    "SZALL_CIM": "Jászkisér, Kiss u. 32.",
                                    "SZALL_MOD": "Posta",
                                    "FIZ_MOD": "Bankkártya",
                                    "SZAMLA_CIM": "5137 Jászkisér, Kiss u. 32.",
                                    "(No column name)": "5137"
                                },
                                {
                                    "SORSZAM": "18768",
                                    "LOGIN": "peter4",
                                    "REND_DATUM": "2016-08-11",
                                    "SZALL_DATUM": "2016-08-20",
                                    "SZALL_CIM": "Jászkisér, Nagy u.14.",
                                    "SZALL_MOD": "Személyes átvétel",
                                    "FIZ_MOD": "Bankkártya",
                                    "SZAMLA_CIM": "5137 Jászkisér, Nagy u.14.",
                                    "(No column name)": "5137"
                                },
                                {
                                    "SORSZAM": "18787",
                                    "LOGIN": "peter4",
                                    "REND_DATUM": "2016-08-11",
                                    "SZALL_DATUM": "2016-08-13",
                                    "SZALL_CIM": "NULL",
                                    "SZALL_MOD": "GLS",
                                    "FIZ_MOD": "Átutalás",
                                    "SZAMLA_CIM": "NULL",
                                    "(No column name)": "NULL"
                                },
                                {
                                    "SORSZAM": "18830",
                                    "LOGIN": "peter4",
                                    "REND_DATUM": "2016-08-12",
                                    "SZALL_DATUM": "2016-08-14",
                                    "SZALL_CIM": "NULL",
                                    "SZALL_MOD": "Posta",
                                    "FIZ_MOD": "Bankkártya",
                                    "SZAMLA_CIM": "NULL",
                                    "(No column name)": "NULL"
                                },
                                {
                                    "SORSZAM": "18851",
                                    "LOGIN": "peter4",
                                    "REND_DATUM": "2016-08-13",
                                    "SZALL_DATUM": "2016-08-17",
                                    "SZALL_CIM": "NULL",
                                    "SZALL_MOD": "Posta",
                                    "FIZ_MOD": "Bankkártya",
                                    "SZAMLA_CIM": "NULL",
                                    "(No column name)": "NULL"
                                },
                                {
                                    "SORSZAM": "18852",
                                    "LOGIN": "peter4",
                                    "REND_DATUM": "2016-08-13",
                                    "SZALL_DATUM": "2016-08-17",
                                    "SZALL_CIM": "NULL",
                                    "SZALL_MOD": "Posta",
                                    "FIZ_MOD": "Bankkártya",
                                    "SZAMLA_CIM": "NULL",
                                    "(No column name)": "NULL"
                                },
                                {
                                    "SORSZAM": "18938",
                                    "LOGIN": "peter4",
                                    "REND_DATUM": "2016-08-15",
                                    "SZALL_DATUM": "2016-08-18",
                                    "SZALL_CIM": "Jászkisér, Nagy u.14.",
                                    "SZALL_MOD": "Személyes átvétel",
                                    "FIZ_MOD": "Átutalás",
                                    "SZAMLA_CIM": "NULL",
                                    "(No column name)": "NULL"
                                },
                                {
                                    "SORSZAM": "18940",
                                    "LOGIN": "peter4",
                                    "REND_DATUM": "2016-08-15",
                                    "SZALL_DATUM": "2016-08-18",
                                    "SZALL_CIM": "NULL",
                                    "SZALL_MOD": "GLS",
                                    "FIZ_MOD": "Készpénz",
                                    "SZAMLA_CIM": "NULL",
                                    "(No column name)": "NULL"
                                },
                                {
                                    "SORSZAM": "19010",
                                    "LOGIN": "peter4",
                                    "REND_DATUM": "2016-08-16",
                                    "SZALL_DATUM": "2016-08-22",
                                    "SZALL_CIM": "NULL",
                                    "SZALL_MOD": "GLS",
                                    "FIZ_MOD": "Bankkártya",
                                    "SZAMLA_CIM": "NULL",
                                    "(No column name)": "NULL"
                                },
                                {
                                    "SORSZAM": "19021",
                                    "LOGIN": "peter4",
                                    "REND_DATUM": "2016-08-17",
                                    "SZALL_DATUM": "2016-08-27",
                                    "SZALL_CIM": "NULL",
                                    "SZALL_MOD": "Posta",
                                    "FIZ_MOD": "Átutalás",
                                    "SZAMLA_CIM": "NULL",
                                    "(No column name)": "NULL"
                                },
                                {
                                    "SORSZAM": "19149",
                                    "LOGIN": "peter4",
                                    "REND_DATUM": "2016-08-20",
                                    "SZALL_DATUM": "2016-08-24",
                                    "SZALL_CIM": "Jászkisér, Kiss u. 32.",
                                    "SZALL_MOD": "GLS",
                                    "FIZ_MOD": "Bankkártya",
                                    "SZAMLA_CIM": "NULL",
                                    "(No column name)": "NULL"
                                },
                                {
                                    "SORSZAM": "19172",
                                    "LOGIN": "peter4",
                                    "REND_DATUM": "2016-08-20",
                                    "SZALL_DATUM": "2016-08-25",
                                    "SZALL_CIM": "NULL",
                                    "SZALL_MOD": "Posta",
                                    "FIZ_MOD": "Bankkártya",
                                    "SZAMLA_CIM": "NULL",
                                    "(No column name)": "NULL"
                                },
                                {
                                    "SORSZAM": "19191",
                                    "LOGIN": "peter4",
                                    "REND_DATUM": "2016-08-21",
                                    "SZALL_DATUM": "2016-08-28",
                                    "SZALL_CIM": "NULL",
                                    "SZALL_MOD": "GLS",
                                    "FIZ_MOD": "Bankkártya",
                                    "SZAMLA_CIM": "NULL",
                                    "(No column name)": "NULL"
                                },
                                {
                                    "SORSZAM": "19246",
                                    "LOGIN": "peter4",
                                    "REND_DATUM": "2016-08-22",
                                    "SZALL_DATUM": "2016-08-30",
                                    "SZALL_CIM": "NULL",
                                    "SZALL_MOD": "Posta",
                                    "FIZ_MOD": "Átutalás",
                                    "SZAMLA_CIM": "NULL",
                                    "(No column name)": "NULL"
                                },
                                {
                                    "SORSZAM": "19248",
                                    "LOGIN": "peter4",
                                    "REND_DATUM": "2016-08-22",
                                    "SZALL_DATUM": "2016-08-24",
                                    "SZALL_CIM": "NULL",
                                    "SZALL_MOD": "Posta",
                                    "FIZ_MOD": "Bankkártya",
                                    "SZAMLA_CIM": "NULL",
                                    "(No column name)": "NULL"
                                },
                                {
                                    "SORSZAM": "19266",
                                    "LOGIN": "peter4",
                                    "REND_DATUM": "2016-08-23",
                                    "SZALL_DATUM": "2016-08-30",
                                    "SZALL_CIM": "Jászkisér, Kiss u. 32.",
                                    "SZALL_MOD": "Posta",
                                    "FIZ_MOD": "Átutalás",
                                    "SZAMLA_CIM": "5137 Jászkisér, Kiss u. 32.",
                                    "(No column name)": "5137"
                                },
                                {
                                    "SORSZAM": "19354",
                                    "LOGIN": "peter4",
                                    "REND_DATUM": "2016-08-25",
                                    "SZALL_DATUM": "2016-09-01",
                                    "SZALL_CIM": "NULL",
                                    "SZALL_MOD": "Személyes átvétel",
                                    "FIZ_MOD": "Átutalás",
                                    "SZAMLA_CIM": "NULL",
                                    "(No column name)": "NULL"
                                },
                                {
                                    "SORSZAM": "19384",
                                    "LOGIN": "peter4",
                                    "REND_DATUM": "2016-08-26",
                                    "SZALL_DATUM": "2016-08-31",
                                    "SZALL_CIM": "NULL",
                                    "SZALL_MOD": "Posta",
                                    "FIZ_MOD": "Bankkártya",
                                    "SZAMLA_CIM": "NULL",
                                    "(No column name)": "NULL"
                                },
                                {
                                    "SORSZAM": "19397",
                                    "LOGIN": "peter4",
                                    "REND_DATUM": "2016-08-26",
                                    "SZALL_DATUM": "2016-08-30",
                                    "SZALL_CIM": "Jászkisér, Nagy u.14.",
                                    "SZALL_MOD": "GLS",
                                    "FIZ_MOD": "Bankkártya",
                                    "SZAMLA_CIM": "NULL",
                                    "(No column name)": "NULL"
                                },
                                {
                                    "SORSZAM": "19417",
                                    "LOGIN": "peter4",
                                    "REND_DATUM": "2016-08-27",
                                    "SZALL_DATUM": "2016-09-06",
                                    "SZALL_CIM": "NULL",
                                    "SZALL_MOD": "Személyes átvétel",
                                    "FIZ_MOD": "Átutalás",
                                    "SZAMLA_CIM": "NULL",
                                    "(No column name)": "NULL"
                                },
                                {
                                    "SORSZAM": "19483",
                                    "LOGIN": "peter4",
                                    "REND_DATUM": "2016-08-28",
                                    "SZALL_DATUM": "2016-09-04",
                                    "SZALL_CIM": "NULL",
                                    "SZALL_MOD": "GLS",
                                    "FIZ_MOD": "Átutalás",
                                    "SZAMLA_CIM": "NULL",
                                    "(No column name)": "NULL"
                                },
                                {
                                    "SORSZAM": "19494",
                                    "LOGIN": "peter4",
                                    "REND_DATUM": "2016-08-29",
                                    "SZALL_DATUM": "2016-09-06",
                                    "SZALL_CIM": "Jászkisér, Fő u. 2.",
                                    "SZALL_MOD": "Posta",
                                    "FIZ_MOD": "Bankkártya",
                                    "SZAMLA_CIM": "5137 Jászkisér, Fő u. 2.",
                                    "(No column name)": "5137"
                                },
                                {
                                    "SORSZAM": "19499",
                                    "LOGIN": "peter4",
                                    "REND_DATUM": "2016-08-29",
                                    "SZALL_DATUM": "2016-09-07",
                                    "SZALL_CIM": "Jászkisér, Nagy u.14.",
                                    "SZALL_MOD": "Személyes átvétel",
                                    "FIZ_MOD": "Bankkártya",
                                    "SZAMLA_CIM": "NULL",
                                    "(No column name)": "NULL"
                                },
                                {
                                    "SORSZAM": "19506",
                                    "LOGIN": "peter4",
                                    "REND_DATUM": "2016-08-29",
                                    "SZALL_DATUM": "2016-09-01",
                                    "SZALL_CIM": "NULL",
                                    "SZALL_MOD": "Posta",
                                    "FIZ_MOD": "Bankkártya",
                                    "SZAMLA_CIM": "NULL",
                                    "(No column name)": "NULL"
                                },
                                {
                                    "SORSZAM": "19615",
                                    "LOGIN": "peter4",
                                    "REND_DATUM": "2016-09-01",
                                    "SZALL_DATUM": "2016-09-09",
                                    "SZALL_CIM": "NULL",
                                    "SZALL_MOD": "Személyes átvétel",
                                    "FIZ_MOD": "Bankkártya",
                                    "SZAMLA_CIM": "NULL",
                                    "(No column name)": "NULL"
                                },
                                {
                                    "SORSZAM": "19664",
                                    "LOGIN": "peter4",
                                    "REND_DATUM": "2016-09-02",
                                    "SZALL_DATUM": "2016-09-11",
                                    "SZALL_CIM": "NULL",
                                    "SZALL_MOD": "Személyes átvétel",
                                    "FIZ_MOD": "Bankkártya",
                                    "SZAMLA_CIM": "NULL",
                                    "(No column name)": "NULL"
                                },
                                {
                                    "SORSZAM": "19666",
                                    "LOGIN": "peter4",
                                    "REND_DATUM": "2016-09-02",
                                    "SZALL_DATUM": "2016-09-05",
                                    "SZALL_CIM": "NULL",
                                    "SZALL_MOD": "Posta",
                                    "FIZ_MOD": "Átutalás",
                                    "SZAMLA_CIM": "NULL",
                                    "(No column name)": "NULL"
                                },
                                {
                                    "SORSZAM": "19691",
                                    "LOGIN": "peter4",
                                    "REND_DATUM": "2016-09-02",
                                    "SZALL_DATUM": "2016-09-10",
                                    "SZALL_CIM": "NULL",
                                    "SZALL_MOD": "GLS",
                                    "FIZ_MOD": "Átutalás",
                                    "SZAMLA_CIM": "NULL",
                                    "(No column name)": "NULL"
                                },
                                {
                                    "SORSZAM": "19794",
                                    "LOGIN": "peter4",
                                    "REND_DATUM": "2016-09-05",
                                    "SZALL_DATUM": "2016-09-11",
                                    "SZALL_CIM": "NULL",
                                    "SZALL_MOD": "GLS",
                                    "FIZ_MOD": "Átutalás",
                                    "SZAMLA_CIM": "NULL",
                                    "(No column name)": "NULL"
                                },
                                {
                                    "SORSZAM": "19797",
                                    "LOGIN": "peter4",
                                    "REND_DATUM": "2016-09-05",
                                    "SZALL_DATUM": "2016-09-09",
                                    "SZALL_CIM": "NULL",
                                    "SZALL_MOD": "Posta",
                                    "FIZ_MOD": "Bankkártya",
                                    "SZAMLA_CIM": "NULL",
                                    "(No column name)": "NULL"
                                },
                                {
                                    "SORSZAM": "19862",
                                    "LOGIN": "peter4",
                                    "REND_DATUM": "2016-09-06",
                                    "SZALL_DATUM": "2016-09-13",
                                    "SZALL_CIM": "NULL",
                                    "SZALL_MOD": "Posta",
                                    "FIZ_MOD": "Átutalás",
                                    "SZAMLA_CIM": "NULL",
                                    "(No column name)": "NULL"
                                },
                                {
                                    "SORSZAM": "19934",
                                    "LOGIN": "peter4",
                                    "REND_DATUM": "2016-09-08",
                                    "SZALL_DATUM": "2016-09-13",
                                    "SZALL_CIM": "NULL",
                                    "SZALL_MOD": "Személyes átvétel",
                                    "FIZ_MOD": "Bankkártya",
                                    "SZAMLA_CIM": "NULL",
                                    "(No column name)": "NULL"
                                },
                                {
                                    "SORSZAM": "19974",
                                    "LOGIN": "peter4",
                                    "REND_DATUM": "2016-09-09",
                                    "SZALL_DATUM": "2016-09-14",
                                    "SZALL_CIM": "NULL",
                                    "SZALL_MOD": "Posta",
                                    "FIZ_MOD": "Bankkártya",
                                    "SZAMLA_CIM": "NULL",
                                    "(No column name)": "NULL"
                                },
                                {
                                    "SORSZAM": "19976",
                                    "LOGIN": "peter4",
                                    "REND_DATUM": "2016-09-09",
                                    "SZALL_DATUM": "2016-09-14",
                                    "SZALL_CIM": "NULL",
                                    "SZALL_MOD": "Posta",
                                    "FIZ_MOD": "Átutalás",
                                    "SZAMLA_CIM": "NULL",
                                    "(No column name)": "NULL"
                                },
                                {
                                    "SORSZAM": "19992",
                                    "LOGIN": "peter4",
                                    "REND_DATUM": "2016-09-09",
                                    "SZALL_DATUM": "2016-09-12",
                                    "SZALL_CIM": "Jászkisér, Nagy u.14.",
                                    "SZALL_MOD": "Posta",
                                    "FIZ_MOD": "Átutalás",
                                    "SZAMLA_CIM": "5137 Jászkisér, Nagy u.14.",
                                    "(No column name)": "5137"
                                },
                                {
                                    "SORSZAM": "20048",
                                    "LOGIN": "peter4",
                                    "REND_DATUM": "2016-09-11",
                                    "SZALL_DATUM": "2016-09-14",
                                    "SZALL_CIM": "NULL",
                                    "SZALL_MOD": "Posta",
                                    "FIZ_MOD": "Átutalás",
                                    "SZAMLA_CIM": "NULL",
                                    "(No column name)": "NULL"
                                },
                                {
                                    "SORSZAM": "20052",
                                    "LOGIN": "peter4",
                                    "REND_DATUM": "2016-09-11",
                                    "SZALL_DATUM": "2016-09-16",
                                    "SZALL_CIM": "Jászkisér, Fő u. 2.",
                                    "SZALL_MOD": "GLS",
                                    "FIZ_MOD": "Átutalás",
                                    "SZAMLA_CIM": "NULL",
                                    "(No column name)": "NULL"
                                },
                                {
                                    "SORSZAM": "20109",
                                    "LOGIN": "peter4",
                                    "REND_DATUM": "2016-09-13",
                                    "SZALL_DATUM": "2016-09-16",
                                    "SZALL_CIM": "NULL",
                                    "SZALL_MOD": "Posta",
                                    "FIZ_MOD": "Átutalás",
                                    "SZAMLA_CIM": "NULL",
                                    "(No column name)": "NULL"
                                },
                                {
                                    "SORSZAM": "20128",
                                    "LOGIN": "peter4",
                                    "REND_DATUM": "2016-09-13",
                                    "SZALL_DATUM": "2016-09-16",
                                    "SZALL_CIM": "Jászkisér, Nagy u.14.",
                                    "SZALL_MOD": "Posta",
                                    "FIZ_MOD": "Bankkártya",
                                    "SZAMLA_CIM": "NULL",
                                    "(No column name)": "NULL"
                                },
                                {
                                    "SORSZAM": "20242",
                                    "LOGIN": "peter4",
                                    "REND_DATUM": "2016-09-16",
                                    "SZALL_DATUM": "2016-09-23",
                                    "SZALL_CIM": "NULL",
                                    "SZALL_MOD": "Posta",
                                    "FIZ_MOD": "Készpénz",
                                    "SZAMLA_CIM": "NULL",
                                    "(No column name)": "NULL"
                                },
                                {
                                    "SORSZAM": "20248",
                                    "LOGIN": "peter4",
                                    "REND_DATUM": "2016-09-16",
                                    "SZALL_DATUM": "2016-09-23",
                                    "SZALL_CIM": "NULL",
                                    "SZALL_MOD": "GLS",
                                    "FIZ_MOD": "Bankkártya",
                                    "SZAMLA_CIM": "NULL",
                                    "(No column name)": "NULL"
                                },
                                {
                                    "SORSZAM": "20264",
                                    "LOGIN": "peter4",
                                    "REND_DATUM": "2016-09-17",
                                    "SZALL_DATUM": "2016-09-25",
                                    "SZALL_CIM": "Jászkisér, Nagy u.14.",
                                    "SZALL_MOD": "GLS",
                                    "FIZ_MOD": "Bankkártya",
                                    "SZAMLA_CIM": "NULL",
                                    "(No column name)": "NULL"
                                },
                                {
                                    "SORSZAM": "20375",
                                    "LOGIN": "peter4",
                                    "REND_DATUM": "2016-09-20",
                                    "SZALL_DATUM": "2016-09-29",
                                    "SZALL_CIM": "NULL",
                                    "SZALL_MOD": "Posta",
                                    "FIZ_MOD": "Átutalás",
                                    "SZAMLA_CIM": "NULL",
                                    "(No column name)": "NULL"
                                },
                                {
                                    "SORSZAM": "20426",
                                    "LOGIN": "peter4",
                                    "REND_DATUM": "2016-09-21",
                                    "SZALL_DATUM": "2016-09-27",
                                    "SZALL_CIM": "NULL",
                                    "SZALL_MOD": "Személyes átvétel",
                                    "FIZ_MOD": "Bankkártya",
                                    "SZAMLA_CIM": "NULL",
                                    "(No column name)": "NULL"
                                },
                                {
                                    "SORSZAM": "20462",
                                    "LOGIN": "peter4",
                                    "REND_DATUM": "2016-09-22",
                                    "SZALL_DATUM": "2016-09-28",
                                    "SZALL_CIM": "Jászkisér, Kiss u. 32.",
                                    "SZALL_MOD": "Személyes átvétel",
                                    "FIZ_MOD": "Bankkártya",
                                    "SZAMLA_CIM": "5137 Jászkisér, Kiss u. 32.",
                                    "(No column name)": "5137"
                                },
                                {
                                    "SORSZAM": "20469",
                                    "LOGIN": "peter4",
                                    "REND_DATUM": "2016-09-22",
                                    "SZALL_DATUM": "2016-09-24",
                                    "SZALL_CIM": "NULL",
                                    "SZALL_MOD": "GLS",
                                    "FIZ_MOD": "Bankkártya",
                                    "SZAMLA_CIM": "NULL",
                                    "(No column name)": "NULL"
                                },
                                {
                                    "SORSZAM": "20489",
                                    "LOGIN": "peter4",
                                    "REND_DATUM": "2016-09-23",
                                    "SZALL_DATUM": "2016-10-03",
                                    "SZALL_CIM": "NULL",
                                    "SZALL_MOD": "GLS",
                                    "FIZ_MOD": "Bankkártya",
                                    "SZAMLA_CIM": "NULL",
                                    "(No column name)": "NULL"
                                },
                                {
                                    "SORSZAM": "20563",
                                    "LOGIN": "peter4",
                                    "REND_DATUM": "2016-09-24",
                                    "SZALL_DATUM": "2016-10-02",
                                    "SZALL_CIM": "NULL",
                                    "SZALL_MOD": "Posta",
                                    "FIZ_MOD": "Bankkártya",
                                    "SZAMLA_CIM": "NULL",
                                    "(No column name)": "NULL"
                                },
                                {
                                    "SORSZAM": "20576",
                                    "LOGIN": "peter4",
                                    "REND_DATUM": "2016-09-25",
                                    "SZALL_DATUM": "2016-09-27",
                                    "SZALL_CIM": "NULL",
                                    "SZALL_MOD": "Posta",
                                    "FIZ_MOD": "Átutalás",
                                    "SZAMLA_CIM": "NULL",
                                    "(No column name)": "NULL"
                                },
                                {
                                    "SORSZAM": "20586",
                                    "LOGIN": "peter4",
                                    "REND_DATUM": "2016-09-25",
                                    "SZALL_DATUM": "2016-09-29",
                                    "SZALL_CIM": "NULL",
                                    "SZALL_MOD": "GLS",
                                    "FIZ_MOD": "Bankkártya",
                                    "SZAMLA_CIM": "NULL",
                                    "(No column name)": "NULL"
                                },
                                {
                                    "SORSZAM": "20638",
                                    "LOGIN": "peter4",
                                    "REND_DATUM": "2016-09-26",
                                    "SZALL_DATUM": "2016-10-01",
                                    "SZALL_CIM": "Jászkisér, Nagy u.14.",
                                    "SZALL_MOD": "Személyes átvétel",
                                    "FIZ_MOD": "Bankkártya",
                                    "SZAMLA_CIM": "NULL",
                                    "(No column name)": "NULL"
                                },
                                {
                                    "SORSZAM": "20649",
                                    "LOGIN": "peter4",
                                    "REND_DATUM": "2016-09-27",
                                    "SZALL_DATUM": "2016-10-06",
                                    "SZALL_CIM": "NULL",
                                    "SZALL_MOD": "Posta",
                                    "FIZ_MOD": "Átutalás",
                                    "SZAMLA_CIM": "NULL",
                                    "(No column name)": "NULL"
                                },
                                {
                                    "SORSZAM": "20660",
                                    "LOGIN": "peter4",
                                    "REND_DATUM": "2016-09-27",
                                    "SZALL_DATUM": "2016-10-01",
                                    "SZALL_CIM": "NULL",
                                    "SZALL_MOD": "GLS",
                                    "FIZ_MOD": "Bankkártya",
                                    "SZAMLA_CIM": "NULL",
                                    "(No column name)": "NULL"
                                },
                                {
                                    "SORSZAM": "20672",
                                    "LOGIN": "peter4",
                                    "REND_DATUM": "2016-09-27",
                                    "SZALL_DATUM": "2016-10-01",
                                    "SZALL_CIM": "Jászkisér, Nagy u.14.",
                                    "SZALL_MOD": "GLS",
                                    "FIZ_MOD": "Bankkártya",
                                    "SZAMLA_CIM": "NULL",
                                    "(No column name)": "NULL"
                                },
                                {
                                    "SORSZAM": "20771",
                                    "LOGIN": "peter4",
                                    "REND_DATUM": "2016-09-30",
                                    "SZALL_DATUM": "2016-10-10",
                                    "SZALL_CIM": "NULL",
                                    "SZALL_MOD": "Személyes átvétel",
                                    "FIZ_MOD": "Átutalás",
                                    "SZAMLA_CIM": "NULL",
                                    "(No column name)": "NULL"
                                },
                                {
                                    "SORSZAM": "20787",
                                    "LOGIN": "peter4",
                                    "REND_DATUM": "2016-09-30",
                                    "SZALL_DATUM": "2016-10-09",
                                    "SZALL_CIM": "Jászkisér, Kiss u. 32.",
                                    "SZALL_MOD": "Posta",
                                    "FIZ_MOD": "Bankkártya",
                                    "SZAMLA_CIM": "NULL",
                                    "(No column name)": "NULL"
                                },
                                {
                                    "SORSZAM": "20817",
                                    "LOGIN": "peter4",
                                    "REND_DATUM": "2016-10-01",
                                    "SZALL_DATUM": "2016-10-07",
                                    "SZALL_CIM": "Jászkisér, Fő u. 2.",
                                    "SZALL_MOD": "Személyes átvétel",
                                    "FIZ_MOD": "Átutalás",
                                    "SZAMLA_CIM": "5137 Jászkisér, Fő u. 2.",
                                    "(No column name)": "5137"
                                },
                                {
                                    "SORSZAM": "20840",
                                    "LOGIN": "peter4",
                                    "REND_DATUM": "2016-10-01",
                                    "SZALL_DATUM": "2016-10-09",
                                    "SZALL_CIM": "NULL",
                                    "SZALL_MOD": "Személyes átvétel",
                                    "FIZ_MOD": "Bankkártya",
                                    "SZAMLA_CIM": "NULL",
                                    "(No column name)": "NULL"
                                },
                                {
                                    "SORSZAM": "20850",
                                    "LOGIN": "peter4",
                                    "REND_DATUM": "2016-10-02",
                                    "SZALL_DATUM": "2016-10-04",
                                    "SZALL_CIM": "NULL",
                                    "SZALL_MOD": "Személyes átvétel",
                                    "FIZ_MOD": "Bankkártya",
                                    "SZAMLA_CIM": "NULL",
                                    "(No column name)": "NULL"
                                },
                                {
                                    "SORSZAM": "20903",
                                    "LOGIN": "peter4",
                                    "REND_DATUM": "2016-10-03",
                                    "SZALL_DATUM": "2016-10-13",
                                    "SZALL_CIM": "NULL",
                                    "SZALL_MOD": "Személyes átvétel",
                                    "FIZ_MOD": "Bankkártya",
                                    "SZAMLA_CIM": "NULL",
                                    "(No column name)": "NULL"
                                },
                                {
                                    "SORSZAM": "20917",
                                    "LOGIN": "peter4",
                                    "REND_DATUM": "2016-10-03",
                                    "SZALL_DATUM": "2016-10-12",
                                    "SZALL_CIM": "Jászkisér, Kiss u. 32.",
                                    "SZALL_MOD": "Posta",
                                    "FIZ_MOD": "Bankkártya",
                                    "SZAMLA_CIM": "NULL",
                                    "(No column name)": "NULL"
                                },
                                {
                                    "SORSZAM": "20951",
                                    "LOGIN": "peter4",
                                    "REND_DATUM": "2016-10-04",
                                    "SZALL_DATUM": "2016-10-12",
                                    "SZALL_CIM": "NULL",
                                    "SZALL_MOD": "Személyes átvétel",
                                    "FIZ_MOD": "Átutalás",
                                    "SZAMLA_CIM": "NULL",
                                    "(No column name)": "NULL"
                                },
                                {
                                    "SORSZAM": "20973",
                                    "LOGIN": "peter4",
                                    "REND_DATUM": "2016-10-05",
                                    "SZALL_DATUM": "2016-10-08",
                                    "SZALL_CIM": "NULL",
                                    "SZALL_MOD": "Posta",
                                    "FIZ_MOD": "Átutalás",
                                    "SZAMLA_CIM": "NULL",
                                    "(No column name)": "NULL"
                                },
                                {
                                    "SORSZAM": "20977",
                                    "LOGIN": "peter4",
                                    "REND_DATUM": "2016-10-05",
                                    "SZALL_DATUM": "2016-10-11",
                                    "SZALL_CIM": "NULL",
                                    "SZALL_MOD": "GLS",
                                    "FIZ_MOD": "Átutalás",
                                    "SZAMLA_CIM": "NULL",
                                    "(No column name)": "NULL"
                                },
                                {
                                    "SORSZAM": "21011",
                                    "LOGIN": "peter4",
                                    "REND_DATUM": "2016-10-05",
                                    "SZALL_DATUM": "2016-10-10",
                                    "SZALL_CIM": "NULL",
                                    "SZALL_MOD": "GLS",
                                    "FIZ_MOD": "Átutalás",
                                    "SZAMLA_CIM": "NULL",
                                    "(No column name)": "NULL"
                                },
                                {
                                    "SORSZAM": "21035",
                                    "LOGIN": "peter4",
                                    "REND_DATUM": "2016-10-06",
                                    "SZALL_DATUM": "2016-10-16",
                                    "SZALL_CIM": "NULL",
                                    "SZALL_MOD": "Posta",
                                    "FIZ_MOD": "Bankkártya",
                                    "SZAMLA_CIM": "NULL",
                                    "(No column name)": "NULL"
                                },
                                {
                                    "SORSZAM": "21043",
                                    "LOGIN": "peter4",
                                    "REND_DATUM": "2016-10-06",
                                    "SZALL_DATUM": "2016-10-16",
                                    "SZALL_CIM": "NULL",
                                    "SZALL_MOD": "Személyes átvétel",
                                    "FIZ_MOD": "Bankkártya",
                                    "SZAMLA_CIM": "NULL",
                                    "(No column name)": "NULL"
                                },
                                {
                                    "SORSZAM": "21075",
                                    "LOGIN": "peter4",
                                    "REND_DATUM": "2016-10-07",
                                    "SZALL_DATUM": "2016-10-13",
                                    "SZALL_CIM": "NULL",
                                    "SZALL_MOD": "Posta",
                                    "FIZ_MOD": "Bankkártya",
                                    "SZAMLA_CIM": "NULL",
                                    "(No column name)": "NULL"
                                },
                                {
                                    "SORSZAM": "21086",
                                    "LOGIN": "peter4",
                                    "REND_DATUM": "2016-10-07",
                                    "SZALL_DATUM": "2016-10-13",
                                    "SZALL_CIM": "Jászkisér, Kiss u. 32.",
                                    "SZALL_MOD": "GLS",
                                    "FIZ_MOD": "Átutalás",
                                    "SZAMLA_CIM": "5137 Jászkisér, Kiss u. 32.",
                                    "(No column name)": "5137"
                                },
                                {
                                    "SORSZAM": "21089",
                                    "LOGIN": "peter4",
                                    "REND_DATUM": "2016-10-07",
                                    "SZALL_DATUM": "2016-10-11",
                                    "SZALL_CIM": "NULL",
                                    "SZALL_MOD": "Személyes átvétel",
                                    "FIZ_MOD": "Átutalás",
                                    "SZAMLA_CIM": "NULL",
                                    "(No column name)": "NULL"
                                },
                                {
                                    "SORSZAM": "21118",
                                    "LOGIN": "peter4",
                                    "REND_DATUM": "2016-10-08",
                                    "SZALL_DATUM": "2016-10-10",
                                    "SZALL_CIM": "NULL",
                                    "SZALL_MOD": "GLS",
                                    "FIZ_MOD": "Átutalás",
                                    "SZAMLA_CIM": "NULL",
                                    "(No column name)": "NULL"
                                },
                                {
                                    "SORSZAM": "21173",
                                    "LOGIN": "peter4",
                                    "REND_DATUM": "2016-10-09",
                                    "SZALL_DATUM": "2016-10-19",
                                    "SZALL_CIM": "NULL",
                                    "SZALL_MOD": "Posta",
                                    "FIZ_MOD": "Átutalás",
                                    "SZAMLA_CIM": "NULL",
                                    "(No column name)": "NULL"
                                },
                                {
                                    "SORSZAM": "21245",
                                    "LOGIN": "peter4",
                                    "REND_DATUM": "2016-10-11",
                                    "SZALL_DATUM": "2016-10-19",
                                    "SZALL_CIM": "NULL",
                                    "SZALL_MOD": "Posta",
                                    "FIZ_MOD": "Átutalás",
                                    "SZAMLA_CIM": "NULL",
                                    "(No column name)": "NULL"
                                },
                                {
                                    "SORSZAM": "21251",
                                    "LOGIN": "peter4",
                                    "REND_DATUM": "2016-10-11",
                                    "SZALL_DATUM": "2016-10-21",
                                    "SZALL_CIM": "NULL",
                                    "SZALL_MOD": "GLS",
                                    "FIZ_MOD": "Átutalás",
                                    "SZAMLA_CIM": "NULL",
                                    "(No column name)": "NULL"
                                },
                                {
                                    "SORSZAM": "21275",
                                    "LOGIN": "peter4",
                                    "REND_DATUM": "2016-10-11",
                                    "SZALL_DATUM": "2016-10-17",
                                    "SZALL_CIM": "NULL",
                                    "SZALL_MOD": "Személyes átvétel",
                                    "FIZ_MOD": "Bankkártya",
                                    "SZAMLA_CIM": "NULL",
                                    "(No column name)": "NULL"
                                },
                                {
                                    "SORSZAM": "21290",
                                    "LOGIN": "peter4",
                                    "REND_DATUM": "2016-10-12",
                                    "SZALL_DATUM": "2016-10-21",
                                    "SZALL_CIM": "NULL",
                                    "SZALL_MOD": "Posta",
                                    "FIZ_MOD": "Átutalás",
                                    "SZAMLA_CIM": "NULL",
                                    "(No column name)": "NULL"
                                },
                                {
                                    "SORSZAM": "21314",
                                    "LOGIN": "peter4",
                                    "REND_DATUM": "2016-10-12",
                                    "SZALL_DATUM": "2016-10-15",
                                    "SZALL_CIM": "NULL",
                                    "SZALL_MOD": "Személyes átvétel",
                                    "FIZ_MOD": "Bankkártya",
                                    "SZAMLA_CIM": "NULL",
                                    "(No column name)": "NULL"
                                },
                                {
                                    "SORSZAM": "21316",
                                    "LOGIN": "peter4",
                                    "REND_DATUM": "2016-10-13",
                                    "SZALL_DATUM": "2016-10-20",
                                    "SZALL_CIM": "NULL",
                                    "SZALL_MOD": "GLS",
                                    "FIZ_MOD": "Bankkártya",
                                    "SZAMLA_CIM": "NULL",
                                    "(No column name)": "NULL"
                                },
                                {
                                    "SORSZAM": "21347",
                                    "LOGIN": "peter4",
                                    "REND_DATUM": "2016-10-13",
                                    "SZALL_DATUM": "2016-10-15",
                                    "SZALL_CIM": "NULL",
                                    "SZALL_MOD": "Posta",
                                    "FIZ_MOD": "Bankkártya",
                                    "SZAMLA_CIM": "NULL",
                                    "(No column name)": "NULL"
                                },
                                {
                                    "SORSZAM": "21348",
                                    "LOGIN": "peter4",
                                    "REND_DATUM": "2016-10-13",
                                    "SZALL_DATUM": "2016-10-17",
                                    "SZALL_CIM": "Jászkisér, Fő u. 2.",
                                    "SZALL_MOD": "GLS",
                                    "FIZ_MOD": "Átutalás",
                                    "SZAMLA_CIM": "NULL",
                                    "(No column name)": "NULL"
                                },
                                {
                                    "SORSZAM": "21372",
                                    "LOGIN": "peter4",
                                    "REND_DATUM": "2016-10-14",
                                    "SZALL_DATUM": "2016-10-16",
                                    "SZALL_CIM": "Jászkisér, Kiss u. 32.",
                                    "SZALL_MOD": "Posta",
                                    "FIZ_MOD": "Bankkártya",
                                    "SZAMLA_CIM": "5137 Jászkisér, Kiss u. 32.",
                                    "(No column name)": "5137"
                                },
                                {
                                    "SORSZAM": "21376",
                                    "LOGIN": "peter4",
                                    "REND_DATUM": "2016-10-14",
                                    "SZALL_DATUM": "2016-10-20",
                                    "SZALL_CIM": "NULL",
                                    "SZALL_MOD": "GLS",
                                    "FIZ_MOD": "Átutalás",
                                    "SZAMLA_CIM": "NULL",
                                    "(No column name)": "NULL"
                                },
                                {
                                    "SORSZAM": "21501",
                                    "LOGIN": "peter4",
                                    "REND_DATUM": "2016-10-17",
                                    "SZALL_DATUM": "2016-10-23",
                                    "SZALL_CIM": "Jászkisér, Fő u. 2.",
                                    "SZALL_MOD": "Posta",
                                    "FIZ_MOD": "Készpénz",
                                    "SZAMLA_CIM": "NULL",
                                    "(No column name)": "NULL"
                                },
                                {
                                    "SORSZAM": "21509",
                                    "LOGIN": "peter4",
                                    "REND_DATUM": "2016-10-17",
                                    "SZALL_DATUM": "2016-10-22",
                                    "SZALL_CIM": "NULL",
                                    "SZALL_MOD": "Személyes átvétel",
                                    "FIZ_MOD": "Bankkártya",
                                    "SZAMLA_CIM": "NULL",
                                    "(No column name)": "NULL"
                                },
                                {
                                    "SORSZAM": "21591",
                                    "LOGIN": "peter4",
                                    "REND_DATUM": "2016-10-19",
                                    "SZALL_DATUM": "2016-10-29",
                                    "SZALL_CIM": "Jászkisér, Fő u. 2.",
                                    "SZALL_MOD": "Személyes átvétel",
                                    "FIZ_MOD": "Átutalás",
                                    "SZAMLA_CIM": "NULL",
                                    "(No column name)": "NULL"
                                },
                                {
                                    "SORSZAM": "21597",
                                    "LOGIN": "peter4",
                                    "REND_DATUM": "2016-10-19",
                                    "SZALL_DATUM": "2016-10-21",
                                    "SZALL_CIM": "NULL",
                                    "SZALL_MOD": "Posta",
                                    "FIZ_MOD": "Készpénz",
                                    "SZAMLA_CIM": "NULL",
                                    "(No column name)": "NULL"
                                },
                                {
                                    "SORSZAM": "21632",
                                    "LOGIN": "peter4",
                                    "REND_DATUM": "2016-10-20",
                                    "SZALL_DATUM": "2016-10-30",
                                    "SZALL_CIM": "Jászkisér, Kiss u. 32.",
                                    "SZALL_MOD": "Posta",
                                    "FIZ_MOD": "Átutalás",
                                    "SZAMLA_CIM": "5137 Jászkisér, Kiss u. 32.",
                                    "(No column name)": "5137"
                                },
                                {
                                    "SORSZAM": "21693",
                                    "LOGIN": "peter4",
                                    "REND_DATUM": "2016-10-22",
                                    "SZALL_DATUM": "2016-10-26",
                                    "SZALL_CIM": "NULL",
                                    "SZALL_MOD": "Személyes átvétel",
                                    "FIZ_MOD": "Bankkártya",
                                    "SZAMLA_CIM": "NULL",
                                    "(No column name)": "NULL"
                                },
                                {
                                    "SORSZAM": "21713",
                                    "LOGIN": "peter4",
                                    "REND_DATUM": "2016-10-22",
                                    "SZALL_DATUM": "2016-10-28",
                                    "SZALL_CIM": "NULL",
                                    "SZALL_MOD": "Posta",
                                    "FIZ_MOD": "Átutalás",
                                    "SZAMLA_CIM": "NULL",
                                    "(No column name)": "NULL"
                                },
                                {
                                    "SORSZAM": "21746",
                                    "LOGIN": "peter4",
                                    "REND_DATUM": "2016-10-23",
                                    "SZALL_DATUM": "2016-11-01",
                                    "SZALL_CIM": "NULL",
                                    "SZALL_MOD": "Posta",
                                    "FIZ_MOD": "Bankkártya",
                                    "SZAMLA_CIM": "NULL",
                                    "(No column name)": "NULL"
                                },
                                {
                                    "SORSZAM": "21837",
                                    "LOGIN": "peter4",
                                    "REND_DATUM": "2016-10-25",
                                    "SZALL_DATUM": "2016-10-31",
                                    "SZALL_CIM": "NULL",
                                    "SZALL_MOD": "Személyes átvétel",
                                    "FIZ_MOD": "Bankkártya",
                                    "SZAMLA_CIM": "NULL",
                                    "(No column name)": "NULL"
                                },
                                {
                                    "SORSZAM": "21880",
                                    "LOGIN": "peter4",
                                    "REND_DATUM": "2016-10-26",
                                    "SZALL_DATUM": "2016-11-04",
                                    "SZALL_CIM": "NULL",
                                    "SZALL_MOD": "Személyes átvétel",
                                    "FIZ_MOD": "Átutalás",
                                    "SZAMLA_CIM": "NULL",
                                    "(No column name)": "NULL"
                                },
                                {
                                    "SORSZAM": "21890",
                                    "LOGIN": "peter4",
                                    "REND_DATUM": "2016-10-26",
                                    "SZALL_DATUM": "2016-11-05",
                                    "SZALL_CIM": "NULL",
                                    "SZALL_MOD": "Posta",
                                    "FIZ_MOD": "Átutalás",
                                    "SZAMLA_CIM": "NULL",
                                    "(No column name)": "NULL"
                                },
                                {
                                    "SORSZAM": "21907",
                                    "LOGIN": "peter4",
                                    "REND_DATUM": "2016-10-27",
                                    "SZALL_DATUM": "2016-11-05",
                                    "SZALL_CIM": "NULL",
                                    "SZALL_MOD": "Posta",
                                    "FIZ_MOD": "Bankkártya",
                                    "SZAMLA_CIM": "NULL",
                                    "(No column name)": "NULL"
                                },
                                {
                                    "SORSZAM": "21935",
                                    "LOGIN": "peter4",
                                    "REND_DATUM": "2016-10-28",
                                    "SZALL_DATUM": "2016-11-07",
                                    "SZALL_CIM": "NULL",
                                    "SZALL_MOD": "Személyes átvétel",
                                    "FIZ_MOD": "Bankkártya",
                                    "SZAMLA_CIM": "NULL",
                                    "(No column name)": "NULL"
                                },
                                {
                                    "SORSZAM": "21955",
                                    "LOGIN": "peter4",
                                    "REND_DATUM": "2016-10-28",
                                    "SZALL_DATUM": "2016-11-02",
                                    "SZALL_CIM": "NULL",
                                    "SZALL_MOD": "Posta",
                                    "FIZ_MOD": "Átutalás",
                                    "SZAMLA_CIM": "NULL",
                                    "(No column name)": "NULL"
                                },
                                {
                                    "SORSZAM": "21971",
                                    "LOGIN": "peter4",
                                    "REND_DATUM": "2016-10-29",
                                    "SZALL_DATUM": "2016-10-31",
                                    "SZALL_CIM": "NULL",
                                    "SZALL_MOD": "GLS",
                                    "FIZ_MOD": "Bankkártya",
                                    "SZAMLA_CIM": "NULL",
                                    "(No column name)": "NULL"
                                },
                                {
                                    "SORSZAM": "22013",
                                    "LOGIN": "peter4",
                                    "REND_DATUM": "2016-10-30",
                                    "SZALL_DATUM": "2016-11-06",
                                    "SZALL_CIM": "NULL",
                                    "SZALL_MOD": "GLS",
                                    "FIZ_MOD": "Átutalás",
                                    "SZAMLA_CIM": "NULL",
                                    "(No column name)": "NULL"
                                },
                                {
                                    "SORSZAM": "22055",
                                    "LOGIN": "peter4",
                                    "REND_DATUM": "2016-10-31",
                                    "SZALL_DATUM": "2016-11-02",
                                    "SZALL_CIM": "NULL",
                                    "SZALL_MOD": "Posta",
                                    "FIZ_MOD": "Bankkártya",
                                    "SZAMLA_CIM": "NULL",
                                    "(No column name)": "NULL"
                                },
                                {
                                    "SORSZAM": "22072",
                                    "LOGIN": "peter4",
                                    "REND_DATUM": "2016-10-31",
                                    "SZALL_DATUM": "2016-11-08",
                                    "SZALL_CIM": "NULL",
                                    "SZALL_MOD": "Posta",
                                    "FIZ_MOD": "Átutalás",
                                    "SZAMLA_CIM": "NULL",
                                    "(No column name)": "NULL"
                                },
                                {
                                    "SORSZAM": "22081",
                                    "LOGIN": "peter4",
                                    "REND_DATUM": "2016-10-31",
                                    "SZALL_DATUM": "2016-11-05",
                                    "SZALL_CIM": "NULL",
                                    "SZALL_MOD": "Személyes átvétel",
                                    "FIZ_MOD": "Átutalás",
                                    "SZAMLA_CIM": "NULL",
                                    "(No column name)": "NULL"
                                },
                                {
                                    "SORSZAM": "22192",
                                    "LOGIN": "peter4",
                                    "REND_DATUM": "2016-11-03",
                                    "SZALL_DATUM": "2016-11-05",
                                    "SZALL_CIM": "NULL",
                                    "SZALL_MOD": "Posta",
                                    "FIZ_MOD": "Bankkártya",
                                    "SZAMLA_CIM": "NULL",
                                    "(No column name)": "NULL"
                                },
                                {
                                    "SORSZAM": "22222",
                                    "LOGIN": "peter4",
                                    "REND_DATUM": "2016-11-04",
                                    "SZALL_DATUM": "2016-11-12",
                                    "SZALL_CIM": "NULL",
                                    "SZALL_MOD": "Posta",
                                    "FIZ_MOD": "Bankkártya",
                                    "SZAMLA_CIM": "NULL",
                                    "(No column name)": "NULL"
                                },
                                {
                                    "SORSZAM": "22248",
                                    "LOGIN": "peter4",
                                    "REND_DATUM": "2016-11-04",
                                    "SZALL_DATUM": "2016-11-12",
                                    "SZALL_CIM": "Jászkisér, Fő u. 2.",
                                    "SZALL_MOD": "Posta",
                                    "FIZ_MOD": "Készpénz",
                                    "SZAMLA_CIM": "5137 Jászkisér, Fő u. 2.",
                                    "(No column name)": "5137"
                                },
                                {
                                    "SORSZAM": "22252",
                                    "LOGIN": "peter4",
                                    "REND_DATUM": "2016-11-04",
                                    "SZALL_DATUM": "2016-11-14",
                                    "SZALL_CIM": "NULL",
                                    "SZALL_MOD": "Posta",
                                    "FIZ_MOD": "Átutalás",
                                    "SZAMLA_CIM": "NULL",
                                    "(No column name)": "NULL"
                                },
                                {
                                    "SORSZAM": "22274",
                                    "LOGIN": "peter4",
                                    "REND_DATUM": "2016-11-05",
                                    "SZALL_DATUM": "2016-11-13",
                                    "SZALL_CIM": "NULL",
                                    "SZALL_MOD": "Személyes átvétel",
                                    "FIZ_MOD": "Átutalás",
                                    "SZAMLA_CIM": "NULL",
                                    "(No column name)": "NULL"
                                },
                                {
                                    "SORSZAM": "22283",
                                    "LOGIN": "peter4",
                                    "REND_DATUM": "2016-11-05",
                                    "SZALL_DATUM": "2016-11-13",
                                    "SZALL_CIM": "NULL",
                                    "SZALL_MOD": "Személyes átvétel",
                                    "FIZ_MOD": "Készpénz",
                                    "SZAMLA_CIM": "NULL",
                                    "(No column name)": "NULL"
                                },
                                {
                                    "SORSZAM": "22298",
                                    "LOGIN": "peter4",
                                    "REND_DATUM": "2016-11-06",
                                    "SZALL_DATUM": "2016-11-14",
                                    "SZALL_CIM": "NULL",
                                    "SZALL_MOD": "GLS",
                                    "FIZ_MOD": "Bankkártya",
                                    "SZAMLA_CIM": "NULL",
                                    "(No column name)": "NULL"
                                },
                                {
                                    "SORSZAM": "22341",
                                    "LOGIN": "peter4",
                                    "REND_DATUM": "2016-11-07",
                                    "SZALL_DATUM": "2016-11-12",
                                    "SZALL_CIM": "NULL",
                                    "SZALL_MOD": "Személyes átvétel",
                                    "FIZ_MOD": "Bankkártya",
                                    "SZAMLA_CIM": "NULL",
                                    "(No column name)": "NULL"
                                },
                                {
                                    "SORSZAM": "22452",
                                    "LOGIN": "peter4",
                                    "REND_DATUM": "2016-11-09",
                                    "SZALL_DATUM": "2016-11-19",
                                    "SZALL_CIM": "NULL",
                                    "SZALL_MOD": "Személyes átvétel",
                                    "FIZ_MOD": "Bankkártya",
                                    "SZAMLA_CIM": "NULL",
                                    "(No column name)": "NULL"
                                },
                                {
                                    "SORSZAM": "22505",
                                    "LOGIN": "peter4",
                                    "REND_DATUM": "2016-11-11",
                                    "SZALL_DATUM": "2016-11-13",
                                    "SZALL_CIM": "NULL",
                                    "SZALL_MOD": "Posta",
                                    "FIZ_MOD": "Bankkártya",
                                    "SZAMLA_CIM": "NULL",
                                    "(No column name)": "NULL"
                                },
                                {
                                    "SORSZAM": "22538",
                                    "LOGIN": "peter4",
                                    "REND_DATUM": "2016-11-12",
                                    "SZALL_DATUM": "2016-11-15",
                                    "SZALL_CIM": "NULL",
                                    "SZALL_MOD": "GLS",
                                    "FIZ_MOD": "Átutalás",
                                    "SZAMLA_CIM": "NULL",
                                    "(No column name)": "NULL"
                                },
                                {
                                    "SORSZAM": "22564",
                                    "LOGIN": "peter4",
                                    "REND_DATUM": "2016-11-12",
                                    "SZALL_DATUM": "2016-11-19",
                                    "SZALL_CIM": "NULL",
                                    "SZALL_MOD": "GLS",
                                    "FIZ_MOD": "Bankkártya",
                                    "SZAMLA_CIM": "NULL",
                                    "(No column name)": "NULL"
                                },
                                {
                                    "SORSZAM": "22575",
                                    "LOGIN": "peter4",
                                    "REND_DATUM": "2016-11-12",
                                    "SZALL_DATUM": "2016-11-19",
                                    "SZALL_CIM": "NULL",
                                    "SZALL_MOD": "Posta",
                                    "FIZ_MOD": "Bankkártya",
                                    "SZAMLA_CIM": "NULL",
                                    "(No column name)": "NULL"
                                },
                                {
                                    "SORSZAM": "22631",
                                    "LOGIN": "peter4",
                                    "REND_DATUM": "2016-11-14",
                                    "SZALL_DATUM": "2016-11-22",
                                    "SZALL_CIM": "NULL",
                                    "SZALL_MOD": "Személyes átvétel",
                                    "FIZ_MOD": "Bankkártya",
                                    "SZAMLA_CIM": "NULL",
                                    "(No column name)": "NULL"
                                },
                                {
                                    "SORSZAM": "22655",
                                    "LOGIN": "peter4",
                                    "REND_DATUM": "2016-11-14",
                                    "SZALL_DATUM": "2016-11-23",
                                    "SZALL_CIM": "NULL",
                                    "SZALL_MOD": "Posta",
                                    "FIZ_MOD": "Bankkártya",
                                    "SZAMLA_CIM": "NULL",
                                    "(No column name)": "NULL"
                                },
                                {
                                    "SORSZAM": "22699",
                                    "LOGIN": "peter4",
                                    "REND_DATUM": "2016-11-16",
                                    "SZALL_DATUM": "2016-11-18",
                                    "SZALL_CIM": "NULL",
                                    "SZALL_MOD": "Posta",
                                    "FIZ_MOD": "Bankkártya",
                                    "SZAMLA_CIM": "NULL",
                                    "(No column name)": "NULL"
                                },
                                {
                                    "SORSZAM": "22707",
                                    "LOGIN": "peter4",
                                    "REND_DATUM": "2016-11-16",
                                    "SZALL_DATUM": "2016-11-18",
                                    "SZALL_CIM": "Jászkisér, Fő u. 2.",
                                    "SZALL_MOD": "Személyes átvétel",
                                    "FIZ_MOD": "Készpénz",
                                    "SZAMLA_CIM": "5137 Jászkisér, Fő u. 2.",
                                    "(No column name)": "5137"
                                },
                                {
                                    "SORSZAM": "22732",
                                    "LOGIN": "peter4",
                                    "REND_DATUM": "2016-11-17",
                                    "SZALL_DATUM": "2016-11-19",
                                    "SZALL_CIM": "NULL",
                                    "SZALL_MOD": "Személyes átvétel",
                                    "FIZ_MOD": "Bankkártya",
                                    "SZAMLA_CIM": "NULL",
                                    "(No column name)": "NULL"
                                },
                                {
                                    "SORSZAM": "22748",
                                    "LOGIN": "peter4",
                                    "REND_DATUM": "2016-11-17",
                                    "SZALL_DATUM": "2016-11-23",
                                    "SZALL_CIM": "NULL",
                                    "SZALL_MOD": "Posta",
                                    "FIZ_MOD": "Átutalás",
                                    "SZAMLA_CIM": "NULL",
                                    "(No column name)": "NULL"
                                },
                                {
                                    "SORSZAM": "22796",
                                    "LOGIN": "peter4",
                                    "REND_DATUM": "2016-11-18",
                                    "SZALL_DATUM": "2016-11-26",
                                    "SZALL_CIM": "NULL",
                                    "SZALL_MOD": "GLS",
                                    "FIZ_MOD": "Bankkártya",
                                    "SZAMLA_CIM": "NULL",
                                    "(No column name)": "NULL"
                                },
                                {
                                    "SORSZAM": "22812",
                                    "LOGIN": "peter4",
                                    "REND_DATUM": "2016-11-19",
                                    "SZALL_DATUM": "2016-11-22",
                                    "SZALL_CIM": "NULL",
                                    "SZALL_MOD": "Posta",
                                    "FIZ_MOD": "Átutalás",
                                    "SZAMLA_CIM": "NULL",
                                    "(No column name)": "NULL"
                                },
                                {
                                    "SORSZAM": "22818",
                                    "LOGIN": "peter4",
                                    "REND_DATUM": "2016-11-19",
                                    "SZALL_DATUM": "2016-11-29",
                                    "SZALL_CIM": "NULL",
                                    "SZALL_MOD": "GLS",
                                    "FIZ_MOD": "Bankkártya",
                                    "SZAMLA_CIM": "NULL",
                                    "(No column name)": "NULL"
                                },
                                {
                                    "SORSZAM": "22821",
                                    "LOGIN": "peter4",
                                    "REND_DATUM": "2016-11-19",
                                    "SZALL_DATUM": "2016-11-27",
                                    "SZALL_CIM": "NULL",
                                    "SZALL_MOD": "Személyes átvétel",
                                    "FIZ_MOD": "Átutalás",
                                    "SZAMLA_CIM": "NULL",
                                    "(No column name)": "NULL"
                                },
                                {
                                    "SORSZAM": "22862",
                                    "LOGIN": "peter4",
                                    "REND_DATUM": "2016-11-20",
                                    "SZALL_DATUM": "2016-11-22",
                                    "SZALL_CIM": "NULL",
                                    "SZALL_MOD": "Posta",
                                    "FIZ_MOD": "Átutalás",
                                    "SZAMLA_CIM": "NULL",
                                    "(No column name)": "NULL"
                                },
                                {
                                    "SORSZAM": "22870",
                                    "LOGIN": "peter4",
                                    "REND_DATUM": "2016-11-20",
                                    "SZALL_DATUM": "2016-11-29",
                                    "SZALL_CIM": "NULL",
                                    "SZALL_MOD": "GLS",
                                    "FIZ_MOD": "Átutalás",
                                    "SZAMLA_CIM": "NULL",
                                    "(No column name)": "NULL"
                                },
                                {
                                    "SORSZAM": "22888",
                                    "LOGIN": "peter4",
                                    "REND_DATUM": "2016-11-21",
                                    "SZALL_DATUM": "2016-11-24",
                                    "SZALL_CIM": "NULL",
                                    "SZALL_MOD": "GLS",
                                    "FIZ_MOD": "Átutalás",
                                    "SZAMLA_CIM": "NULL",
                                    "(No column name)": "NULL"
                                },
                                {
                                    "SORSZAM": "22890",
                                    "LOGIN": "peter4",
                                    "REND_DATUM": "2016-11-21",
                                    "SZALL_DATUM": "2016-11-29",
                                    "SZALL_CIM": "NULL",
                                    "SZALL_MOD": "GLS",
                                    "FIZ_MOD": "Bankkártya",
                                    "SZAMLA_CIM": "NULL",
                                    "(No column name)": "NULL"
                                },
                                {
                                    "SORSZAM": "22929",
                                    "LOGIN": "peter4",
                                    "REND_DATUM": "2016-11-22",
                                    "SZALL_DATUM": "2016-11-25",
                                    "SZALL_CIM": "NULL",
                                    "SZALL_MOD": "Posta",
                                    "FIZ_MOD": "Átutalás",
                                    "SZAMLA_CIM": "NULL",
                                    "(No column name)": "NULL"
                                },
                                {
                                    "SORSZAM": "22949",
                                    "LOGIN": "peter4",
                                    "REND_DATUM": "2016-11-22",
                                    "SZALL_DATUM": "2016-11-27",
                                    "SZALL_CIM": "NULL",
                                    "SZALL_MOD": "GLS",
                                    "FIZ_MOD": "Átutalás",
                                    "SZAMLA_CIM": "NULL",
                                    "(No column name)": "NULL"
                                },
                                {
                                    "SORSZAM": "23002",
                                    "LOGIN": "peter4",
                                    "REND_DATUM": "2016-11-23",
                                    "SZALL_DATUM": "2016-11-25",
                                    "SZALL_CIM": "NULL",
                                    "SZALL_MOD": "Posta",
                                    "FIZ_MOD": "Bankkártya",
                                    "SZAMLA_CIM": "NULL",
                                    "(No column name)": "NULL"
                                },
                                {
                                    "SORSZAM": "23113",
                                    "LOGIN": "peter4",
                                    "REND_DATUM": "2016-11-26",
                                    "SZALL_DATUM": "2016-11-30",
                                    "SZALL_CIM": "NULL",
                                    "SZALL_MOD": "GLS",
                                    "FIZ_MOD": "Készpénz",
                                    "SZAMLA_CIM": "NULL",
                                    "(No column name)": "NULL"
                                },
                                {
                                    "SORSZAM": "23204",
                                    "LOGIN": "peter4",
                                    "REND_DATUM": "2016-11-28",
                                    "SZALL_DATUM": "2016-12-04",
                                    "SZALL_CIM": "NULL",
                                    "SZALL_MOD": "Személyes átvétel",
                                    "FIZ_MOD": "Átutalás",
                                    "SZAMLA_CIM": "NULL",
                                    "(No column name)": "NULL"
                                },
                                {
                                    "SORSZAM": "23219",
                                    "LOGIN": "peter4",
                                    "REND_DATUM": "2016-11-29",
                                    "SZALL_DATUM": "2016-12-01",
                                    "SZALL_CIM": "NULL",
                                    "SZALL_MOD": "GLS",
                                    "FIZ_MOD": "Készpénz",
                                    "SZAMLA_CIM": "NULL",
                                    "(No column name)": "NULL"
                                },
                                {
                                    "SORSZAM": "23273",
                                    "LOGIN": "peter4",
                                    "REND_DATUM": "2016-11-30",
                                    "SZALL_DATUM": "2016-12-06",
                                    "SZALL_CIM": "Jászkisér, Nagy u.14.",
                                    "SZALL_MOD": "Posta",
                                    "FIZ_MOD": "Bankkártya",
                                    "SZAMLA_CIM": "NULL",
                                    "(No column name)": "NULL"
                                },
                                {
                                    "SORSZAM": "23278",
                                    "LOGIN": "peter4",
                                    "REND_DATUM": "2016-11-30",
                                    "SZALL_DATUM": "2016-12-05",
                                    "SZALL_CIM": "NULL",
                                    "SZALL_MOD": "Személyes átvétel",
                                    "FIZ_MOD": "Bankkártya",
                                    "SZAMLA_CIM": "NULL",
                                    "(No column name)": "NULL"
                                },
                                {
                                    "SORSZAM": "23279",
                                    "LOGIN": "peter4",
                                    "REND_DATUM": "2016-11-30",
                                    "SZALL_DATUM": "2016-12-06",
                                    "SZALL_CIM": "NULL",
                                    "SZALL_MOD": "GLS",
                                    "FIZ_MOD": "Bankkártya",
                                    "SZAMLA_CIM": "NULL",
                                    "(No column name)": "NULL"
                                },
                                {
                                    "SORSZAM": "23321",
                                    "LOGIN": "peter4",
                                    "REND_DATUM": "2016-12-01",
                                    "SZALL_DATUM": "2016-12-04",
                                    "SZALL_CIM": "NULL",
                                    "SZALL_MOD": "Személyes átvétel",
                                    "FIZ_MOD": "Átutalás",
                                    "SZAMLA_CIM": "NULL",
                                    "(No column name)": "NULL"
                                },
                                {
                                    "SORSZAM": "23430",
                                    "LOGIN": "peter4",
                                    "REND_DATUM": "2016-12-04",
                                    "SZALL_DATUM": "2016-12-13",
                                    "SZALL_CIM": "NULL",
                                    "SZALL_MOD": "Személyes átvétel",
                                    "FIZ_MOD": "Átutalás",
                                    "SZAMLA_CIM": "NULL",
                                    "(No column name)": "NULL"
                                },
                                {
                                    "SORSZAM": "23471",
                                    "LOGIN": "peter4",
                                    "REND_DATUM": "2016-12-05",
                                    "SZALL_DATUM": "2016-12-09",
                                    "SZALL_CIM": "NULL",
                                    "SZALL_MOD": "Posta",
                                    "FIZ_MOD": "Készpénz",
                                    "SZAMLA_CIM": "NULL",
                                    "(No column name)": "NULL"
                                },
                                {
                                    "SORSZAM": "23541",
                                    "LOGIN": "peter4",
                                    "REND_DATUM": "2016-12-07",
                                    "SZALL_DATUM": "2016-12-10",
                                    "SZALL_CIM": "NULL",
                                    "SZALL_MOD": "Posta",
                                    "FIZ_MOD": "Bankkártya",
                                    "SZAMLA_CIM": "NULL",
                                    "(No column name)": "NULL"
                                },
                                {
                                    "SORSZAM": "23576",
                                    "LOGIN": "peter4",
                                    "REND_DATUM": "2016-12-08",
                                    "SZALL_DATUM": "2016-12-17",
                                    "SZALL_CIM": "NULL",
                                    "SZALL_MOD": "GLS",
                                    "FIZ_MOD": "Készpénz",
                                    "SZAMLA_CIM": "NULL",
                                    "(No column name)": "NULL"
                                },
                                {
                                    "SORSZAM": "23598",
                                    "LOGIN": "peter4",
                                    "REND_DATUM": "2016-12-08",
                                    "SZALL_DATUM": "2016-12-10",
                                    "SZALL_CIM": "Jászkisér, Fő u. 2.",
                                    "SZALL_MOD": "GLS",
                                    "FIZ_MOD": "Átutalás",
                                    "SZAMLA_CIM": "5137 Jászkisér, Fő u. 2.",
                                    "(No column name)": "5137"
                                },
                                {
                                    "SORSZAM": "23674",
                                    "LOGIN": "peter4",
                                    "REND_DATUM": "2016-12-10",
                                    "SZALL_DATUM": "2016-12-16",
                                    "SZALL_CIM": "NULL",
                                    "SZALL_MOD": "Posta",
                                    "FIZ_MOD": "Bankkártya",
                                    "SZAMLA_CIM": "NULL",
                                    "(No column name)": "NULL"
                                },
                                {
                                    "SORSZAM": "23701",
                                    "LOGIN": "peter4",
                                    "REND_DATUM": "2016-12-11",
                                    "SZALL_DATUM": "2016-12-16",
                                    "SZALL_CIM": "NULL",
                                    "SZALL_MOD": "GLS",
                                    "FIZ_MOD": "Átutalás",
                                    "SZAMLA_CIM": "NULL",
                                    "(No column name)": "NULL"
                                },
                                {
                                    "SORSZAM": "23733",
                                    "LOGIN": "peter4",
                                    "REND_DATUM": "2016-12-12",
                                    "SZALL_DATUM": "2016-12-20",
                                    "SZALL_CIM": "Jászkisér, Fő u. 2.",
                                    "SZALL_MOD": "Posta",
                                    "FIZ_MOD": "Bankkártya",
                                    "SZAMLA_CIM": "5137 Jászkisér, Fő u. 2.",
                                    "(No column name)": "5137"
                                },
                                {
                                    "SORSZAM": "23740",
                                    "LOGIN": "peter4",
                                    "REND_DATUM": "2016-12-12",
                                    "SZALL_DATUM": "2016-12-21",
                                    "SZALL_CIM": "NULL",
                                    "SZALL_MOD": "Posta",
                                    "FIZ_MOD": "Átutalás",
                                    "SZAMLA_CIM": "NULL",
                                    "(No column name)": "NULL"
                                },
                                {
                                    "SORSZAM": "23788",
                                    "LOGIN": "peter4",
                                    "REND_DATUM": "2016-12-13",
                                    "SZALL_DATUM": "2016-12-18",
                                    "SZALL_CIM": "NULL",
                                    "SZALL_MOD": "Posta",
                                    "FIZ_MOD": "Átutalás",
                                    "SZAMLA_CIM": "NULL",
                                    "(No column name)": "NULL"
                                },
                                {
                                    "SORSZAM": "23855",
                                    "LOGIN": "peter4",
                                    "REND_DATUM": "2016-12-15",
                                    "SZALL_DATUM": "2016-12-17",
                                    "SZALL_CIM": "Jászkisér, Kiss u. 32.",
                                    "SZALL_MOD": "GLS",
                                    "FIZ_MOD": "Bankkártya",
                                    "SZAMLA_CIM": "NULL",
                                    "(No column name)": "NULL"
                                },
                                {
                                    "SORSZAM": "23885",
                                    "LOGIN": "peter4",
                                    "REND_DATUM": "2016-12-16",
                                    "SZALL_DATUM": "2016-12-26",
                                    "SZALL_CIM": "Jászkisér, Nagy u.14.",
                                    "SZALL_MOD": "GLS",
                                    "FIZ_MOD": "Átutalás",
                                    "SZAMLA_CIM": "NULL",
                                    "(No column name)": "NULL"
                                },
                                {
                                    "SORSZAM": "23910",
                                    "LOGIN": "peter4",
                                    "REND_DATUM": "2016-12-16",
                                    "SZALL_DATUM": "2016-12-18",
                                    "SZALL_CIM": "NULL",
                                    "SZALL_MOD": "Posta",
                                    "FIZ_MOD": "Átutalás",
                                    "SZAMLA_CIM": "NULL",
                                    "(No column name)": "NULL"
                                },
                                {
                                    "SORSZAM": "23920",
                                    "LOGIN": "peter4",
                                    "REND_DATUM": "2016-12-17",
                                    "SZALL_DATUM": "2016-12-26",
                                    "SZALL_CIM": "Jászkisér, Kiss u. 32.",
                                    "SZALL_MOD": "Személyes átvétel",
                                    "FIZ_MOD": "Átutalás",
                                    "SZAMLA_CIM": "5137 Jászkisér, Kiss u. 32.",
                                    "(No column name)": "5137"
                                },
                                {
                                    "SORSZAM": "24036",
                                    "LOGIN": "peter4",
                                    "REND_DATUM": "2016-12-20",
                                    "SZALL_DATUM": "2016-12-30",
                                    "SZALL_CIM": "NULL",
                                    "SZALL_MOD": "Posta",
                                    "FIZ_MOD": "Bankkártya",
                                    "SZAMLA_CIM": "NULL",
                                    "(No column name)": "NULL"
                                },
                                {
                                    "SORSZAM": "24058",
                                    "LOGIN": "peter4",
                                    "REND_DATUM": "2016-12-20",
                                    "SZALL_DATUM": "2016-12-30",
                                    "SZALL_CIM": "NULL",
                                    "SZALL_MOD": "GLS",
                                    "FIZ_MOD": "Bankkártya",
                                    "SZAMLA_CIM": "NULL",
                                    "(No column name)": "NULL"
                                },
                                {
                                    "SORSZAM": "24079",
                                    "LOGIN": "peter4",
                                    "REND_DATUM": "2016-12-21",
                                    "SZALL_DATUM": "2016-12-25",
                                    "SZALL_CIM": "NULL",
                                    "SZALL_MOD": "Posta",
                                    "FIZ_MOD": "Készpénz",
                                    "SZAMLA_CIM": "NULL",
                                    "(No column name)": "NULL"
                                },
                                {
                                    "SORSZAM": "24139",
                                    "LOGIN": "peter4",
                                    "REND_DATUM": "2016-12-22",
                                    "SZALL_DATUM": "2016-12-29",
                                    "SZALL_CIM": "NULL",
                                    "SZALL_MOD": "GLS",
                                    "FIZ_MOD": "Készpénz",
                                    "SZAMLA_CIM": "NULL",
                                    "(No column name)": "NULL"
                                },
                                {
                                    "SORSZAM": "24152",
                                    "LOGIN": "peter4",
                                    "REND_DATUM": "2016-12-22",
                                    "SZALL_DATUM": "2016-12-24",
                                    "SZALL_CIM": "NULL",
                                    "SZALL_MOD": "GLS",
                                    "FIZ_MOD": "Átutalás",
                                    "SZAMLA_CIM": "NULL",
                                    "(No column name)": "NULL"
                                },
                                {
                                    "SORSZAM": "24163",
                                    "LOGIN": "peter4",
                                    "REND_DATUM": "2016-12-23",
                                    "SZALL_DATUM": "2016-12-27",
                                    "SZALL_CIM": "NULL",
                                    "SZALL_MOD": "Személyes átvétel",
                                    "FIZ_MOD": "Bankkártya",
                                    "SZAMLA_CIM": "NULL",
                                    "(No column name)": "NULL"
                                },
                                {
                                    "SORSZAM": "24170",
                                    "LOGIN": "peter4",
                                    "REND_DATUM": "2016-12-23",
                                    "SZALL_DATUM": "2016-12-25",
                                    "SZALL_CIM": "NULL",
                                    "SZALL_MOD": "Személyes átvétel",
                                    "FIZ_MOD": "Átutalás",
                                    "SZAMLA_CIM": "NULL",
                                    "(No column name)": "NULL"
                                },
                                {
                                    "SORSZAM": "24205",
                                    "LOGIN": "peter4",
                                    "REND_DATUM": "2016-12-24",
                                    "SZALL_DATUM": "2016-12-26",
                                    "SZALL_CIM": "NULL",
                                    "SZALL_MOD": "Posta",
                                    "FIZ_MOD": "Bankkártya",
                                    "SZAMLA_CIM": "NULL",
                                    "(No column name)": "NULL"
                                },
                                {
                                    "SORSZAM": "24217",
                                    "LOGIN": "peter4",
                                    "REND_DATUM": "2016-12-24",
                                    "SZALL_DATUM": "2016-12-27",
                                    "SZALL_CIM": "NULL",
                                    "SZALL_MOD": "Posta",
                                    "FIZ_MOD": "Átutalás",
                                    "SZAMLA_CIM": "NULL",
                                    "(No column name)": "NULL"
                                },
                                {
                                    "SORSZAM": "24226",
                                    "LOGIN": "peter4",
                                    "REND_DATUM": "2016-12-24",
                                    "SZALL_DATUM": "2016-12-30",
                                    "SZALL_CIM": "NULL",
                                    "SZALL_MOD": "Posta",
                                    "FIZ_MOD": "Bankkártya",
                                    "SZAMLA_CIM": "NULL",
                                    "(No column name)": "NULL"
                                },
                                {
                                    "SORSZAM": "24244",
                                    "LOGIN": "peter4",
                                    "REND_DATUM": "2016-12-25",
                                    "SZALL_DATUM": "2016-12-30",
                                    "SZALL_CIM": "NULL",
                                    "SZALL_MOD": "Posta",
                                    "FIZ_MOD": "Bankkártya",
                                    "SZAMLA_CIM": "NULL",
                                    "(No column name)": "NULL"
                                },
                                {
                                    "SORSZAM": "24278",
                                    "LOGIN": "peter4",
                                    "REND_DATUM": "2016-12-25",
                                    "SZALL_DATUM": "2016-12-28",
                                    "SZALL_CIM": "NULL",
                                    "SZALL_MOD": "Személyes átvétel",
                                    "FIZ_MOD": "Bankkártya",
                                    "SZAMLA_CIM": "NULL",
                                    "(No column name)": "NULL"
                                },
                                {
                                    "SORSZAM": "24294",
                                    "LOGIN": "peter4",
                                    "REND_DATUM": "2016-12-26",
                                    "SZALL_DATUM": "2016-12-28",
                                    "SZALL_CIM": "NULL",
                                    "SZALL_MOD": "GLS",
                                    "FIZ_MOD": "Bankkártya",
                                    "SZAMLA_CIM": "NULL",
                                    "(No column name)": "NULL"
                                },
                                {
                                    "SORSZAM": "24324",
                                    "LOGIN": "peter4",
                                    "REND_DATUM": "2016-12-27",
                                    "SZALL_DATUM": "2016-12-31",
                                    "SZALL_CIM": "NULL",
                                    "SZALL_MOD": "GLS",
                                    "FIZ_MOD": "Átutalás",
                                    "SZAMLA_CIM": "NULL",
                                    "(No column name)": "NULL"
                                },
                                {
                                    "SORSZAM": "24326",
                                    "LOGIN": "peter4",
                                    "REND_DATUM": "2016-12-27",
                                    "SZALL_DATUM": "2017-01-05",
                                    "SZALL_CIM": "NULL",
                                    "SZALL_MOD": "Személyes átvétel",
                                    "FIZ_MOD": "Bankkártya",
                                    "SZAMLA_CIM": "NULL",
                                    "(No column name)": "NULL"
                                },
                                {
                                    "SORSZAM": "24342",
                                    "LOGIN": "peter4",
                                    "REND_DATUM": "2016-12-27",
                                    "SZALL_DATUM": "2017-01-05",
                                    "SZALL_CIM": "NULL",
                                    "SZALL_MOD": "GLS",
                                    "FIZ_MOD": "Bankkártya",
                                    "SZAMLA_CIM": "NULL",
                                    "(No column name)": "NULL"
                                },
                                {
                                    "SORSZAM": "24354",
                                    "LOGIN": "peter4",
                                    "REND_DATUM": "2016-12-27",
                                    "SZALL_DATUM": "2016-12-30",
                                    "SZALL_CIM": "Jászkisér, Fő u. 2.",
                                    "SZALL_MOD": "Posta",
                                    "FIZ_MOD": "Átutalás",
                                    "SZAMLA_CIM": "5137 Jászkisér, Fő u. 2.",
                                    "(No column name)": "5137"
                                },
                                {
                                    "SORSZAM": "24378",
                                    "LOGIN": "peter4",
                                    "REND_DATUM": "2016-12-28",
                                    "SZALL_DATUM": "2016-12-30",
                                    "SZALL_CIM": "Jászkisér, Nagy u.14.",
                                    "SZALL_MOD": "GLS",
                                    "FIZ_MOD": "Bankkártya",
                                    "SZAMLA_CIM": "5137 Jászkisér, Nagy u.14.",
                                    "(No column name)": "5137"
                                },
                                {
                                    "SORSZAM": "24397",
                                    "LOGIN": "peter4",
                                    "REND_DATUM": "2016-12-28",
                                    "SZALL_DATUM": "2016-12-30",
                                    "SZALL_CIM": "NULL",
                                    "SZALL_MOD": "GLS",
                                    "FIZ_MOD": "Átutalás",
                                    "SZAMLA_CIM": "NULL",
                                    "(No column name)": "NULL"
                                },
                                {
                                    "SORSZAM": "24400",
                                    "LOGIN": "peter4",
                                    "REND_DATUM": "2016-12-29",
                                    "SZALL_DATUM": "2016-12-31",
                                    "SZALL_CIM": "NULL",
                                    "SZALL_MOD": "GLS",
                                    "FIZ_MOD": "Átutalás",
                                    "SZAMLA_CIM": "NULL",
                                    "(No column name)": "NULL"
                                },
                                {
                                    "SORSZAM": "24494",
                                    "LOGIN": "peter4",
                                    "REND_DATUM": "2016-12-31",
                                    "SZALL_DATUM": "2017-01-03",
                                    "SZALL_CIM": "NULL",
                                    "SZALL_MOD": "GLS",
                                    "FIZ_MOD": "Készpénz",
                                    "SZAMLA_CIM": "NULL",
                                    "(No column name)": "NULL"
                                },
                                {
                                    "SORSZAM": "24547",
                                    "LOGIN": "peter4",
                                    "REND_DATUM": "2017-01-01",
                                    "SZALL_DATUM": "2017-01-05",
                                    "SZALL_CIM": "NULL",
                                    "SZALL_MOD": "GLS",
                                    "FIZ_MOD": "Bankkártya",
                                    "SZAMLA_CIM": "NULL",
                                    "(No column name)": "NULL"
                                },
                                {
                                    "SORSZAM": "24588",
                                    "LOGIN": "peter4",
                                    "REND_DATUM": "2017-01-02",
                                    "SZALL_DATUM": "2017-01-08",
                                    "SZALL_CIM": "Jászkisér, Fő u. 2.",
                                    "SZALL_MOD": "Posta",
                                    "FIZ_MOD": "Átutalás",
                                    "SZAMLA_CIM": "NULL",
                                    "(No column name)": "NULL"
                                },
                                {
                                    "SORSZAM": "24612",
                                    "LOGIN": "peter4",
                                    "REND_DATUM": "2017-01-03",
                                    "SZALL_DATUM": "2017-01-05",
                                    "SZALL_CIM": "NULL",
                                    "SZALL_MOD": "Személyes átvétel",
                                    "FIZ_MOD": "Bankkártya",
                                    "SZAMLA_CIM": "NULL",
                                    "(No column name)": "NULL"
                                },
                                {
                                    "SORSZAM": "24614",
                                    "LOGIN": "peter4",
                                    "REND_DATUM": "2017-01-03",
                                    "SZALL_DATUM": "2017-01-09",
                                    "SZALL_CIM": "NULL",
                                    "SZALL_MOD": "Posta",
                                    "FIZ_MOD": "Bankkártya",
                                    "SZAMLA_CIM": "NULL",
                                    "(No column name)": "NULL"
                                },
                                {
                                    "SORSZAM": "24617",
                                    "LOGIN": "peter4",
                                    "REND_DATUM": "2017-01-03",
                                    "SZALL_DATUM": "2017-01-09",
                                    "SZALL_CIM": "NULL",
                                    "SZALL_MOD": "GLS",
                                    "FIZ_MOD": "Bankkártya",
                                    "SZAMLA_CIM": "NULL",
                                    "(No column name)": "NULL"
                                },
                                {
                                    "SORSZAM": "24754",
                                    "LOGIN": "peter4",
                                    "REND_DATUM": "2017-01-06",
                                    "SZALL_DATUM": "2017-01-15",
                                    "SZALL_CIM": "NULL",
                                    "SZALL_MOD": "Személyes átvétel",
                                    "FIZ_MOD": "Bankkártya",
                                    "SZAMLA_CIM": "NULL",
                                    "(No column name)": "NULL"
                                },
                                {
                                    "SORSZAM": "24767",
                                    "LOGIN": "peter4",
                                    "REND_DATUM": "2017-01-07",
                                    "SZALL_DATUM": "2017-01-11",
                                    "SZALL_CIM": "NULL",
                                    "SZALL_MOD": "Posta",
                                    "FIZ_MOD": "Bankkártya",
                                    "SZAMLA_CIM": "NULL",
                                    "(No column name)": "NULL"
                                },
                                {
                                    "SORSZAM": "24818",
                                    "LOGIN": "peter4",
                                    "REND_DATUM": "2017-01-08",
                                    "SZALL_DATUM": "2017-01-18",
                                    "SZALL_CIM": "NULL",
                                    "SZALL_MOD": "Személyes átvétel",
                                    "FIZ_MOD": "Átutalás",
                                    "SZAMLA_CIM": "NULL",
                                    "(No column name)": "NULL"
                                },
                                {
                                    "SORSZAM": "24826",
                                    "LOGIN": "peter4",
                                    "REND_DATUM": "2017-01-08",
                                    "SZALL_DATUM": "2017-01-18",
                                    "SZALL_CIM": "NULL",
                                    "SZALL_MOD": "GLS",
                                    "FIZ_MOD": "Bankkártya",
                                    "SZAMLA_CIM": "NULL",
                                    "(No column name)": "NULL"
                                },
                                {
                                    "SORSZAM": "24840",
                                    "LOGIN": "peter4",
                                    "REND_DATUM": "2017-01-08",
                                    "SZALL_DATUM": "2017-01-18",
                                    "SZALL_CIM": "Jászkisér, Fő u. 2.",
                                    "SZALL_MOD": "Posta",
                                    "FIZ_MOD": "Átutalás",
                                    "SZAMLA_CIM": "5137 Jászkisér, Fő u. 2.",
                                    "(No column name)": "5137"
                                },
                                {
                                    "SORSZAM": "24878",
                                    "LOGIN": "peter4",
                                    "REND_DATUM": "2017-01-09",
                                    "SZALL_DATUM": "2017-01-12",
                                    "SZALL_CIM": "NULL",
                                    "SZALL_MOD": "Posta",
                                    "FIZ_MOD": "Készpénz",
                                    "SZAMLA_CIM": "NULL",
                                    "(No column name)": "NULL"
                                },
                                {
                                    "SORSZAM": "24882",
                                    "LOGIN": "peter4",
                                    "REND_DATUM": "2017-01-10",
                                    "SZALL_DATUM": "2017-01-17",
                                    "SZALL_CIM": "Jászkisér, Kiss u. 32.",
                                    "SZALL_MOD": "Posta",
                                    "FIZ_MOD": "Bankkártya",
                                    "SZAMLA_CIM": "5137 Jászkisér, Kiss u. 32.",
                                    "(No column name)": "5137"
                                },
                                {
                                    "SORSZAM": "24891",
                                    "LOGIN": "peter4",
                                    "REND_DATUM": "2017-01-10",
                                    "SZALL_DATUM": "2017-01-19",
                                    "SZALL_CIM": "NULL",
                                    "SZALL_MOD": "GLS",
                                    "FIZ_MOD": "Bankkártya",
                                    "SZAMLA_CIM": "NULL",
                                    "(No column name)": "NULL"
                                },
                                {
                                    "SORSZAM": "24896",
                                    "LOGIN": "peter4",
                                    "REND_DATUM": "2017-01-10",
                                    "SZALL_DATUM": "2017-01-20",
                                    "SZALL_CIM": "NULL",
                                    "SZALL_MOD": "GLS",
                                    "FIZ_MOD": "Bankkártya",
                                    "SZAMLA_CIM": "NULL",
                                    "(No column name)": "NULL"
                                },
                                {
                                    "SORSZAM": "24915",
                                    "LOGIN": "peter4",
                                    "REND_DATUM": "2017-01-10",
                                    "SZALL_DATUM": "2017-01-18",
                                    "SZALL_CIM": "NULL",
                                    "SZALL_MOD": "Posta",
                                    "FIZ_MOD": "Bankkártya",
                                    "SZAMLA_CIM": "NULL",
                                    "(No column name)": "NULL"
                                },
                                {
                                    "SORSZAM": "24991",
                                    "LOGIN": "peter4",
                                    "REND_DATUM": "2017-01-12",
                                    "SZALL_DATUM": "2017-01-21",
                                    "SZALL_CIM": "NULL",
                                    "SZALL_MOD": "Posta",
                                    "FIZ_MOD": "Bankkártya",
                                    "SZAMLA_CIM": "NULL",
                                    "(No column name)": "NULL"
                                },
                                {
                                    "SORSZAM": "25013",
                                    "LOGIN": "peter4",
                                    "REND_DATUM": "2017-01-13",
                                    "SZALL_DATUM": "2017-01-19",
                                    "SZALL_CIM": "NULL",
                                    "SZALL_MOD": "GLS",
                                    "FIZ_MOD": "Készpénz",
                                    "SZAMLA_CIM": "NULL",
                                    "(No column name)": "NULL"
                                },
                                {
                                    "SORSZAM": "25067",
                                    "LOGIN": "peter4",
                                    "REND_DATUM": "2017-01-14",
                                    "SZALL_DATUM": "2017-01-23",
                                    "SZALL_CIM": "NULL",
                                    "SZALL_MOD": "Posta",
                                    "FIZ_MOD": "Bankkártya",
                                    "SZAMLA_CIM": "NULL",
                                    "(No column name)": "NULL"
                                },
                                {
                                    "SORSZAM": "25154",
                                    "LOGIN": "peter4",
                                    "REND_DATUM": "2017-01-16",
                                    "SZALL_DATUM": "2017-01-26",
                                    "SZALL_CIM": "NULL",
                                    "SZALL_MOD": "GLS",
                                    "FIZ_MOD": "Bankkártya",
                                    "SZAMLA_CIM": "NULL",
                                    "(No column name)": "NULL"
                                },
                                {
                                    "SORSZAM": "25166",
                                    "LOGIN": "peter4",
                                    "REND_DATUM": "2017-01-17",
                                    "SZALL_DATUM": "2017-01-22",
                                    "SZALL_CIM": "NULL",
                                    "SZALL_MOD": "Személyes átvétel",
                                    "FIZ_MOD": "Átutalás",
                                    "SZAMLA_CIM": "NULL",
                                    "(No column name)": "NULL"
                                },
                                {
                                    "SORSZAM": "25169",
                                    "LOGIN": "peter4",
                                    "REND_DATUM": "2017-01-17",
                                    "SZALL_DATUM": "2017-01-25",
                                    "SZALL_CIM": "NULL",
                                    "SZALL_MOD": "Személyes átvétel",
                                    "FIZ_MOD": "Bankkártya",
                                    "SZAMLA_CIM": "NULL",
                                    "(No column name)": "NULL"
                                },
                                {
                                    "SORSZAM": "25198",
                                    "LOGIN": "peter4",
                                    "REND_DATUM": "2017-01-17",
                                    "SZALL_DATUM": "2017-01-25",
                                    "SZALL_CIM": "NULL",
                                    "SZALL_MOD": "Posta",
                                    "FIZ_MOD": "Bankkártya",
                                    "SZAMLA_CIM": "NULL",
                                    "(No column name)": "NULL"
                                },
                                {
                                    "SORSZAM": "25216",
                                    "LOGIN": "peter4",
                                    "REND_DATUM": "2017-01-18",
                                    "SZALL_DATUM": "2017-01-25",
                                    "SZALL_CIM": "NULL",
                                    "SZALL_MOD": "Posta",
                                    "FIZ_MOD": "Átutalás",
                                    "SZAMLA_CIM": "NULL",
                                    "(No column name)": "NULL"
                                },
                                {
                                    "SORSZAM": "25221",
                                    "LOGIN": "peter4",
                                    "REND_DATUM": "2017-01-18",
                                    "SZALL_DATUM": "2017-01-26",
                                    "SZALL_CIM": "NULL",
                                    "SZALL_MOD": "Személyes átvétel",
                                    "FIZ_MOD": "Készpénz",
                                    "SZAMLA_CIM": "NULL",
                                    "(No column name)": "NULL"
                                },
                                {
                                    "SORSZAM": "25259",
                                    "LOGIN": "peter4",
                                    "REND_DATUM": "2017-01-19",
                                    "SZALL_DATUM": "2017-01-22",
                                    "SZALL_CIM": "Jászkisér, Kiss u. 32.",
                                    "SZALL_MOD": "GLS",
                                    "FIZ_MOD": "Bankkártya",
                                    "SZAMLA_CIM": "NULL",
                                    "(No column name)": "NULL"
                                },
                                {
                                    "SORSZAM": "25272",
                                    "LOGIN": "peter4",
                                    "REND_DATUM": "2017-01-20",
                                    "SZALL_DATUM": "2017-01-22",
                                    "SZALL_CIM": "Jászkisér, Fő u. 2.",
                                    "SZALL_MOD": "GLS",
                                    "FIZ_MOD": "Átutalás",
                                    "SZAMLA_CIM": "5137 Jászkisér, Fő u. 2.",
                                    "(No column name)": "5137"
                                },
                                {
                                    "SORSZAM": "25276",
                                    "LOGIN": "peter4",
                                    "REND_DATUM": "2017-01-20",
                                    "SZALL_DATUM": "2017-01-29",
                                    "SZALL_CIM": "NULL",
                                    "SZALL_MOD": "Posta",
                                    "FIZ_MOD": "Bankkártya",
                                    "SZAMLA_CIM": "NULL",
                                    "(No column name)": "NULL"
                                },
                                {
                                    "SORSZAM": "25332",
                                    "LOGIN": "peter4",
                                    "REND_DATUM": "2017-01-21",
                                    "SZALL_DATUM": "2017-01-26",
                                    "SZALL_CIM": "NULL",
                                    "SZALL_MOD": "GLS",
                                    "FIZ_MOD": "Átutalás",
                                    "SZAMLA_CIM": "NULL",
                                    "(No column name)": "NULL"
                                },
                                {
                                    "SORSZAM": "25342",
                                    "LOGIN": "peter4",
                                    "REND_DATUM": "2017-01-21",
                                    "SZALL_DATUM": "2017-01-30",
                                    "SZALL_CIM": "NULL",
                                    "SZALL_MOD": "Személyes átvétel",
                                    "FIZ_MOD": "Átutalás",
                                    "SZAMLA_CIM": "NULL",
                                    "(No column name)": "NULL"
                                },
                                {
                                    "SORSZAM": "25351",
                                    "LOGIN": "peter4",
                                    "REND_DATUM": "2017-01-22",
                                    "SZALL_DATUM": "2017-01-24",
                                    "SZALL_CIM": "NULL",
                                    "SZALL_MOD": "Posta",
                                    "FIZ_MOD": "Bankkártya",
                                    "SZAMLA_CIM": "NULL",
                                    "(No column name)": "NULL"
                                },
                                {
                                    "SORSZAM": "25380",
                                    "LOGIN": "peter4",
                                    "REND_DATUM": "2017-01-23",
                                    "SZALL_DATUM": "2017-01-30",
                                    "SZALL_CIM": "Jászkisér, Fő u. 2.",
                                    "SZALL_MOD": "GLS",
                                    "FIZ_MOD": "Átutalás",
                                    "SZAMLA_CIM": "5137 Jászkisér, Fő u. 2.",
                                    "(No column name)": "5137"
                                },
                                {
                                    "SORSZAM": "25397",
                                    "LOGIN": "peter4",
                                    "REND_DATUM": "2017-01-23",
                                    "SZALL_DATUM": "2017-01-29",
                                    "SZALL_CIM": "NULL",
                                    "SZALL_MOD": "GLS",
                                    "FIZ_MOD": "Bankkártya",
                                    "SZAMLA_CIM": "NULL",
                                    "(No column name)": "NULL"
                                },
                                {
                                    "SORSZAM": "25463",
                                    "LOGIN": "peter4",
                                    "REND_DATUM": "2017-01-24",
                                    "SZALL_DATUM": "2017-01-27",
                                    "SZALL_CIM": "NULL",
                                    "SZALL_MOD": "Posta",
                                    "FIZ_MOD": "Átutalás",
                                    "SZAMLA_CIM": "NULL",
                                    "(No column name)": "NULL"
                                },
                                {
                                    "SORSZAM": "25530",
                                    "LOGIN": "peter4",
                                    "REND_DATUM": "2017-01-26",
                                    "SZALL_DATUM": "2017-01-31",
                                    "SZALL_CIM": "NULL",
                                    "SZALL_MOD": "Személyes átvétel",
                                    "FIZ_MOD": "Átutalás",
                                    "SZAMLA_CIM": "NULL",
                                    "(No column name)": "NULL"
                                },
                                {
                                    "SORSZAM": "25566",
                                    "LOGIN": "peter4",
                                    "REND_DATUM": "2017-01-27",
                                    "SZALL_DATUM": "2017-02-06",
                                    "SZALL_CIM": "NULL",
                                    "SZALL_MOD": "Személyes átvétel",
                                    "FIZ_MOD": "Átutalás",
                                    "SZAMLA_CIM": "NULL",
                                    "(No column name)": "NULL"
                                },
                                {
                                    "SORSZAM": "25603",
                                    "LOGIN": "peter4",
                                    "REND_DATUM": "2017-01-28",
                                    "SZALL_DATUM": "2017-02-07",
                                    "SZALL_CIM": "NULL",
                                    "SZALL_MOD": "Posta",
                                    "FIZ_MOD": "Bankkártya",
                                    "SZAMLA_CIM": "NULL",
                                    "(No column name)": "NULL"
                                },
                                {
                                    "SORSZAM": "25652",
                                    "LOGIN": "peter4",
                                    "REND_DATUM": "2017-01-30",
                                    "SZALL_DATUM": "2017-02-03",
                                    "SZALL_CIM": "NULL",
                                    "SZALL_MOD": "Posta",
                                    "FIZ_MOD": "Bankkártya",
                                    "SZAMLA_CIM": "NULL",
                                    "(No column name)": "NULL"
                                },
                                {
                                    "SORSZAM": "25665",
                                    "LOGIN": "peter4",
                                    "REND_DATUM": "2017-01-30",
                                    "SZALL_DATUM": "2017-02-01",
                                    "SZALL_CIM": "NULL",
                                    "SZALL_MOD": "Posta",
                                    "FIZ_MOD": "Átutalás",
                                    "SZAMLA_CIM": "NULL",
                                    "(No column name)": "NULL"
                                },
                                {
                                    "SORSZAM": "25666",
                                    "LOGIN": "peter4",
                                    "REND_DATUM": "2017-01-30",
                                    "SZALL_DATUM": "2017-02-09",
                                    "SZALL_CIM": "NULL",
                                    "SZALL_MOD": "Személyes átvétel",
                                    "FIZ_MOD": "Bankkártya",
                                    "SZAMLA_CIM": "NULL",
                                    "(No column name)": "NULL"
                                },
                                {
                                    "SORSZAM": "25667",
                                    "LOGIN": "peter4",
                                    "REND_DATUM": "2017-01-30",
                                    "SZALL_DATUM": "2017-02-07",
                                    "SZALL_CIM": "NULL",
                                    "SZALL_MOD": "Személyes átvétel",
                                    "FIZ_MOD": "Bankkártya",
                                    "SZAMLA_CIM": "NULL",
                                    "(No column name)": "NULL"
                                },
                                {
                                    "SORSZAM": "25669",
                                    "LOGIN": "peter4",
                                    "REND_DATUM": "2017-01-30",
                                    "SZALL_DATUM": "2017-02-05",
                                    "SZALL_CIM": "NULL",
                                    "SZALL_MOD": "Személyes átvétel",
                                    "FIZ_MOD": "Bankkártya",
                                    "SZAMLA_CIM": "NULL",
                                    "(No column name)": "NULL"
                                },
                                {
                                    "SORSZAM": "25678",
                                    "LOGIN": "peter4",
                                    "REND_DATUM": "2017-01-30",
                                    "SZALL_DATUM": "2017-02-08",
                                    "SZALL_CIM": "NULL",
                                    "SZALL_MOD": "GLS",
                                    "FIZ_MOD": "Készpénz",
                                    "SZAMLA_CIM": "NULL",
                                    "(No column name)": "NULL"
                                },
                                {
                                    "SORSZAM": "25733",
                                    "LOGIN": "peter4",
                                    "REND_DATUM": "2017-02-01",
                                    "SZALL_DATUM": "2017-02-07",
                                    "SZALL_CIM": "NULL",
                                    "SZALL_MOD": "Posta",
                                    "FIZ_MOD": "Bankkártya",
                                    "SZAMLA_CIM": "NULL",
                                    "(No column name)": "NULL"
                                },
                                {
                                    "SORSZAM": "25766",
                                    "LOGIN": "peter4",
                                    "REND_DATUM": "2017-02-02",
                                    "SZALL_DATUM": "2017-02-04",
                                    "SZALL_CIM": "Jászkisér, Kiss u. 32.",
                                    "SZALL_MOD": "Posta",
                                    "FIZ_MOD": "Bankkártya",
                                    "SZAMLA_CIM": "5137 Jászkisér, Kiss u. 32.",
                                    "(No column name)": "5137"
                                },
                                {
                                    "SORSZAM": "25846",
                                    "LOGIN": "peter4",
                                    "REND_DATUM": "2017-02-04",
                                    "SZALL_DATUM": "2017-02-12",
                                    "SZALL_CIM": "NULL",
                                    "SZALL_MOD": "Posta",
                                    "FIZ_MOD": "Bankkártya",
                                    "SZAMLA_CIM": "NULL",
                                    "(No column name)": "NULL"
                                },
                                {
                                    "SORSZAM": "25866",
                                    "LOGIN": "peter4",
                                    "REND_DATUM": "2017-02-04",
                                    "SZALL_DATUM": "2017-02-09",
                                    "SZALL_CIM": "Jászkisér, Fő u. 2.",
                                    "SZALL_MOD": "Személyes átvétel",
                                    "FIZ_MOD": "Bankkártya",
                                    "SZAMLA_CIM": "5137 Jászkisér, Fő u. 2.",
                                    "(No column name)": "5137"
                                },
                                {
                                    "SORSZAM": "25874",
                                    "LOGIN": "peter4",
                                    "REND_DATUM": "2017-02-05",
                                    "SZALL_DATUM": "2017-02-09",
                                    "SZALL_CIM": "Jászkisér, Nagy u.14.",
                                    "SZALL_MOD": "Posta",
                                    "FIZ_MOD": "Bankkártya",
                                    "SZAMLA_CIM": "NULL",
                                    "(No column name)": "NULL"
                                },
                                {
                                    "SORSZAM": "25877",
                                    "LOGIN": "peter4",
                                    "REND_DATUM": "2017-02-05",
                                    "SZALL_DATUM": "2017-02-11",
                                    "SZALL_CIM": "NULL",
                                    "SZALL_MOD": "Személyes átvétel",
                                    "FIZ_MOD": "Bankkártya",
                                    "SZAMLA_CIM": "NULL",
                                    "(No column name)": "NULL"
                                },
                                {
                                    "SORSZAM": "25887",
                                    "LOGIN": "peter4",
                                    "REND_DATUM": "2017-02-05",
                                    "SZALL_DATUM": "2017-02-13",
                                    "SZALL_CIM": "NULL",
                                    "SZALL_MOD": "Posta",
                                    "FIZ_MOD": "Bankkártya",
                                    "SZAMLA_CIM": "NULL",
                                    "(No column name)": "NULL"
                                },
                                {
                                    "SORSZAM": "25911",
                                    "LOGIN": "peter4",
                                    "REND_DATUM": "2017-02-05",
                                    "SZALL_DATUM": "2017-02-15",
                                    "SZALL_CIM": "Jászkisér, Fő u. 2.",
                                    "SZALL_MOD": "GLS",
                                    "FIZ_MOD": "Bankkártya",
                                    "SZAMLA_CIM": "NULL",
                                    "(No column name)": "NULL"
                                },
                                {
                                    "SORSZAM": "25913",
                                    "LOGIN": "peter4",
                                    "REND_DATUM": "2017-02-06",
                                    "SZALL_DATUM": "2017-02-16",
                                    "SZALL_CIM": "NULL",
                                    "SZALL_MOD": "Posta",
                                    "FIZ_MOD": "Bankkártya",
                                    "SZAMLA_CIM": "NULL",
                                    "(No column name)": "NULL"
                                },
                                {
                                    "SORSZAM": "25916",
                                    "LOGIN": "peter4",
                                    "REND_DATUM": "2017-02-06",
                                    "SZALL_DATUM": "2017-02-13",
                                    "SZALL_CIM": "NULL",
                                    "SZALL_MOD": "GLS",
                                    "FIZ_MOD": "Bankkártya",
                                    "SZAMLA_CIM": "NULL",
                                    "(No column name)": "NULL"
                                },
                                {
                                    "SORSZAM": "25919",
                                    "LOGIN": "peter4",
                                    "REND_DATUM": "2017-02-06",
                                    "SZALL_DATUM": "2017-02-10",
                                    "SZALL_CIM": "NULL",
                                    "SZALL_MOD": "Személyes átvétel",
                                    "FIZ_MOD": "Átutalás",
                                    "SZAMLA_CIM": "NULL",
                                    "(No column name)": "NULL"
                                },
                                {
                                    "SORSZAM": "25979",
                                    "LOGIN": "peter4",
                                    "REND_DATUM": "2017-02-07",
                                    "SZALL_DATUM": "2017-02-14",
                                    "SZALL_CIM": "NULL",
                                    "SZALL_MOD": "GLS",
                                    "FIZ_MOD": "Átutalás",
                                    "SZAMLA_CIM": "NULL",
                                    "(No column name)": "NULL"
                                },
                                {
                                    "SORSZAM": "25986",
                                    "LOGIN": "peter4",
                                    "REND_DATUM": "2017-02-07",
                                    "SZALL_DATUM": "2017-02-14",
                                    "SZALL_CIM": "NULL",
                                    "SZALL_MOD": "Személyes átvétel",
                                    "FIZ_MOD": "Átutalás",
                                    "SZAMLA_CIM": "NULL",
                                    "(No column name)": "NULL"
                                },
                                {
                                    "SORSZAM": "25995",
                                    "LOGIN": "peter4",
                                    "REND_DATUM": "2017-02-08",
                                    "SZALL_DATUM": "2017-02-18",
                                    "SZALL_CIM": "NULL",
                                    "SZALL_MOD": "Személyes átvétel",
                                    "FIZ_MOD": "Készpénz",
                                    "SZAMLA_CIM": "NULL",
                                    "(No column name)": "NULL"
                                },
                                {
                                    "SORSZAM": "26010",
                                    "LOGIN": "peter4",
                                    "REND_DATUM": "2017-02-08",
                                    "SZALL_DATUM": "2017-02-17",
                                    "SZALL_CIM": "Jászkisér, Fő u. 2.",
                                    "SZALL_MOD": "Személyes átvétel",
                                    "FIZ_MOD": "Bankkártya",
                                    "SZAMLA_CIM": "5137 Jászkisér, Fő u. 2.",
                                    "(No column name)": "5137"
                                },
                                {
                                    "SORSZAM": "26058",
                                    "LOGIN": "peter4",
                                    "REND_DATUM": "2017-02-09",
                                    "SZALL_DATUM": "2017-02-15",
                                    "SZALL_CIM": "NULL",
                                    "SZALL_MOD": "Posta",
                                    "FIZ_MOD": "Átutalás",
                                    "SZAMLA_CIM": "NULL",
                                    "(No column name)": "NULL"
                                },
                                {
                                    "SORSZAM": "26061",
                                    "LOGIN": "peter4",
                                    "REND_DATUM": "2017-02-09",
                                    "SZALL_DATUM": "2017-02-17",
                                    "SZALL_CIM": "Jászkisér, Nagy u.14.",
                                    "SZALL_MOD": "Posta",
                                    "FIZ_MOD": "Átutalás",
                                    "SZAMLA_CIM": "5137 Jászkisér, Nagy u.14.",
                                    "(No column name)": "5137"
                                },
                                {
                                    "SORSZAM": "26087",
                                    "LOGIN": "peter4",
                                    "REND_DATUM": "2017-02-10",
                                    "SZALL_DATUM": "2017-02-12",
                                    "SZALL_CIM": "NULL",
                                    "SZALL_MOD": "GLS",
                                    "FIZ_MOD": "Átutalás",
                                    "SZAMLA_CIM": "NULL",
                                    "(No column name)": "NULL"
                                },
                                {
                                    "SORSZAM": "26098",
                                    "LOGIN": "peter4",
                                    "REND_DATUM": "2017-02-10",
                                    "SZALL_DATUM": "2017-02-14",
                                    "SZALL_CIM": "NULL",
                                    "SZALL_MOD": "Posta",
                                    "FIZ_MOD": "Bankkártya",
                                    "SZAMLA_CIM": "NULL",
                                    "(No column name)": "NULL"
                                },
                                {
                                    "SORSZAM": "26099",
                                    "LOGIN": "peter4",
                                    "REND_DATUM": "2017-02-10",
                                    "SZALL_DATUM": "2017-02-17",
                                    "SZALL_CIM": "NULL",
                                    "SZALL_MOD": "GLS",
                                    "FIZ_MOD": "Bankkártya",
                                    "SZAMLA_CIM": "NULL",
                                    "(No column name)": "NULL"
                                },
                                {
                                    "SORSZAM": "26204",
                                    "LOGIN": "peter4",
                                    "REND_DATUM": "2017-02-13",
                                    "SZALL_DATUM": "2017-02-22",
                                    "SZALL_CIM": "NULL",
                                    "SZALL_MOD": "Személyes átvétel",
                                    "FIZ_MOD": "Átutalás",
                                    "SZAMLA_CIM": "NULL",
                                    "(No column name)": "NULL"
                                },
                                {
                                    "SORSZAM": "26208",
                                    "LOGIN": "peter4",
                                    "REND_DATUM": "2017-02-13",
                                    "SZALL_DATUM": "2017-02-22",
                                    "SZALL_CIM": "Jászkisér, Fő u. 2.",
                                    "SZALL_MOD": "Posta",
                                    "FIZ_MOD": "Átutalás",
                                    "SZAMLA_CIM": "5137 Jászkisér, Fő u. 2.",
                                    "(No column name)": "5137"
                                },
                                {
                                    "SORSZAM": "26286",
                                    "LOGIN": "peter4",
                                    "REND_DATUM": "2017-02-15",
                                    "SZALL_DATUM": "2017-02-22",
                                    "SZALL_CIM": "Jászkisér, Kiss u. 32.",
                                    "SZALL_MOD": "Személyes átvétel",
                                    "FIZ_MOD": "Készpénz",
                                    "SZAMLA_CIM": "5137 Jászkisér, Kiss u. 32.",
                                    "(No column name)": "5137"
                                },
                                {
                                    "SORSZAM": "26308",
                                    "LOGIN": "peter4",
                                    "REND_DATUM": "2017-02-15",
                                    "SZALL_DATUM": "2017-02-18",
                                    "SZALL_CIM": "NULL",
                                    "SZALL_MOD": "Posta",
                                    "FIZ_MOD": "Átutalás",
                                    "SZAMLA_CIM": "NULL",
                                    "(No column name)": "NULL"
                                },
                                {
                                    "SORSZAM": "26320",
                                    "LOGIN": "peter4",
                                    "REND_DATUM": "2017-02-16",
                                    "SZALL_DATUM": "2017-02-26",
                                    "SZALL_CIM": "NULL",
                                    "SZALL_MOD": "Posta",
                                    "FIZ_MOD": "Bankkártya",
                                    "SZAMLA_CIM": "NULL",
                                    "(No column name)": "NULL"
                                },
                                {
                                    "SORSZAM": "26324",
                                    "LOGIN": "peter4",
                                    "REND_DATUM": "2017-02-16",
                                    "SZALL_DATUM": "2017-02-24",
                                    "SZALL_CIM": "NULL",
                                    "SZALL_MOD": "Személyes átvétel",
                                    "FIZ_MOD": "Bankkártya",
                                    "SZAMLA_CIM": "NULL",
                                    "(No column name)": "NULL"
                                },
                                {
                                    "SORSZAM": "26371",
                                    "LOGIN": "peter4",
                                    "REND_DATUM": "2017-02-17",
                                    "SZALL_DATUM": "2017-02-21",
                                    "SZALL_CIM": "NULL",
                                    "SZALL_MOD": "Személyes átvétel",
                                    "FIZ_MOD": "Készpénz",
                                    "SZAMLA_CIM": "NULL",
                                    "(No column name)": "NULL"
                                },
                                {
                                    "SORSZAM": "26460",
                                    "LOGIN": "peter4",
                                    "REND_DATUM": "2017-02-20",
                                    "SZALL_DATUM": "2017-02-22",
                                    "SZALL_CIM": "Jászkisér, Fő u. 2.",
                                    "SZALL_MOD": "Posta",
                                    "FIZ_MOD": "Bankkártya",
                                    "SZAMLA_CIM": "5137 Jászkisér, Fő u. 2.",
                                    "(No column name)": "5137"
                                },
                                {
                                    "SORSZAM": "26474",
                                    "LOGIN": "peter4",
                                    "REND_DATUM": "2017-02-20",
                                    "SZALL_DATUM": "2017-02-26",
                                    "SZALL_CIM": "NULL",
                                    "SZALL_MOD": "Posta",
                                    "FIZ_MOD": "Átutalás",
                                    "SZAMLA_CIM": "NULL",
                                    "(No column name)": "NULL"
                                },
                                {
                                    "SORSZAM": "26489",
                                    "LOGIN": "peter4",
                                    "REND_DATUM": "2017-02-20",
                                    "SZALL_DATUM": "2017-02-24",
                                    "SZALL_CIM": "NULL",
                                    "SZALL_MOD": "Személyes átvétel",
                                    "FIZ_MOD": "Átutalás",
                                    "SZAMLA_CIM": "NULL",
                                    "(No column name)": "NULL"
                                },
                                {
                                    "SORSZAM": "26725",
                                    "LOGIN": "peter4",
                                    "REND_DATUM": "2017-02-26",
                                    "SZALL_DATUM": "2017-03-04",
                                    "SZALL_CIM": "NULL",
                                    "SZALL_MOD": "Posta",
                                    "FIZ_MOD": "Átutalás",
                                    "SZAMLA_CIM": "NULL",
                                    "(No column name)": "NULL"
                                },
                                {
                                    "SORSZAM": "26792",
                                    "LOGIN": "peter4",
                                    "REND_DATUM": "2017-02-28",
                                    "SZALL_DATUM": "2017-03-07",
                                    "SZALL_CIM": "Jászkisér, Nagy u.14.",
                                    "SZALL_MOD": "Posta",
                                    "FIZ_MOD": "Bankkártya",
                                    "SZAMLA_CIM": "NULL",
                                    "(No column name)": "NULL"
                                },
                                {
                                    "SORSZAM": "26826",
                                    "LOGIN": "peter4",
                                    "REND_DATUM": "2017-03-01",
                                    "SZALL_DATUM": "2017-03-07",
                                    "SZALL_CIM": "Jászkisér, Nagy u.14.",
                                    "SZALL_MOD": "Személyes átvétel",
                                    "FIZ_MOD": "Bankkártya",
                                    "SZAMLA_CIM": "5137 Jászkisér, Nagy u.14.",
                                    "(No column name)": "5137"
                                },
                                {
                                    "SORSZAM": "26890",
                                    "LOGIN": "peter4",
                                    "REND_DATUM": "2017-03-03",
                                    "SZALL_DATUM": "2017-03-12",
                                    "SZALL_CIM": "NULL",
                                    "SZALL_MOD": "Személyes átvétel",
                                    "FIZ_MOD": "Bankkártya",
                                    "SZAMLA_CIM": "NULL",
                                    "(No column name)": "NULL"
                                },
                                {
                                    "SORSZAM": "26979",
                                    "LOGIN": "peter4",
                                    "REND_DATUM": "2017-03-05",
                                    "SZALL_DATUM": "2017-03-11",
                                    "SZALL_CIM": "Jászkisér, Nagy u.14.",
                                    "SZALL_MOD": "Személyes átvétel",
                                    "FIZ_MOD": "Átutalás",
                                    "SZAMLA_CIM": "5137 Jászkisér, Nagy u.14.",
                                    "(No column name)": "5137"
                                },
                                {
                                    "SORSZAM": "27240",
                                    "LOGIN": "peter4",
                                    "REND_DATUM": "2017-03-11",
                                    "SZALL_DATUM": "2017-03-16",
                                    "SZALL_CIM": "NULL",
                                    "SZALL_MOD": "GLS",
                                    "FIZ_MOD": "Bankkártya",
                                    "SZAMLA_CIM": "NULL",
                                    "(No column name)": "NULL"
                                },
                                {
                                    "SORSZAM": "27287",
                                    "LOGIN": "peter4",
                                    "REND_DATUM": "2017-03-13",
                                    "SZALL_DATUM": "2017-03-21",
                                    "SZALL_CIM": "Jászkisér, Kiss u. 32.",
                                    "SZALL_MOD": "GLS",
                                    "FIZ_MOD": "Átutalás",
                                    "SZAMLA_CIM": "NULL",
                                    "(No column name)": "NULL"
                                },
                                {
                                    "SORSZAM": "27312",
                                    "LOGIN": "peter4",
                                    "REND_DATUM": "2017-03-13",
                                    "SZALL_DATUM": "2017-03-17",
                                    "SZALL_CIM": "NULL",
                                    "SZALL_MOD": "Személyes átvétel",
                                    "FIZ_MOD": "Készpénz",
                                    "SZAMLA_CIM": "NULL",
                                    "(No column name)": "NULL"
                                },
                                {
                                    "SORSZAM": "27432",
                                    "LOGIN": "peter4",
                                    "REND_DATUM": "2017-03-16",
                                    "SZALL_DATUM": "2017-03-23",
                                    "SZALL_CIM": "Jászkisér, Fő u. 2.",
                                    "SZALL_MOD": "Személyes átvétel",
                                    "FIZ_MOD": "Átutalás",
                                    "SZAMLA_CIM": "5137 Jászkisér, Fő u. 2.",
                                    "(No column name)": "5137"
                                },
                                {
                                    "SORSZAM": "27467",
                                    "LOGIN": "peter4",
                                    "REND_DATUM": "2017-03-17",
                                    "SZALL_DATUM": "2017-03-26",
                                    "SZALL_CIM": "NULL",
                                    "SZALL_MOD": "Személyes átvétel",
                                    "FIZ_MOD": "Készpénz",
                                    "SZAMLA_CIM": "NULL",
                                    "(No column name)": "NULL"
                                },
                                {
                                    "SORSZAM": "27476",
                                    "LOGIN": "peter4",
                                    "REND_DATUM": "2017-03-17",
                                    "SZALL_DATUM": "2017-03-20",
                                    "SZALL_CIM": "NULL",
                                    "SZALL_MOD": "GLS",
                                    "FIZ_MOD": "Bankkártya",
                                    "SZAMLA_CIM": "NULL",
                                    "(No column name)": "NULL"
                                },
                                {
                                    "SORSZAM": "27632",
                                    "LOGIN": "peter4",
                                    "REND_DATUM": "2017-03-21",
                                    "SZALL_DATUM": "2017-03-23",
                                    "SZALL_CIM": "NULL",
                                    "SZALL_MOD": "Posta",
                                    "FIZ_MOD": "Átutalás",
                                    "SZAMLA_CIM": "NULL",
                                    "(No column name)": "NULL"
                                },
                                {
                                    "SORSZAM": "27668",
                                    "LOGIN": "peter4",
                                    "REND_DATUM": "2017-03-22",
                                    "SZALL_DATUM": "2017-03-26",
                                    "SZALL_CIM": "NULL",
                                    "SZALL_MOD": "GLS",
                                    "FIZ_MOD": "Átutalás",
                                    "SZAMLA_CIM": "NULL",
                                    "(No column name)": "NULL"
                                },
                                {
                                    "SORSZAM": "27712",
                                    "LOGIN": "peter4",
                                    "REND_DATUM": "2017-03-23",
                                    "SZALL_DATUM": "2017-03-26",
                                    "SZALL_CIM": "NULL",
                                    "SZALL_MOD": "Személyes átvétel",
                                    "FIZ_MOD": "Átutalás",
                                    "SZAMLA_CIM": "NULL",
                                    "(No column name)": "NULL"
                                },
                                {
                                    "SORSZAM": "27715",
                                    "LOGIN": "peter4",
                                    "REND_DATUM": "2017-03-23",
                                    "SZALL_DATUM": "2017-03-29",
                                    "SZALL_CIM": "NULL",
                                    "SZALL_MOD": "Személyes átvétel",
                                    "FIZ_MOD": "Átutalás",
                                    "SZAMLA_CIM": "NULL",
                                    "(No column name)": "NULL"
                                },
                                {
                                    "SORSZAM": "27721",
                                    "LOGIN": "peter4",
                                    "REND_DATUM": "2017-03-23",
                                    "SZALL_DATUM": "2017-03-31",
                                    "SZALL_CIM": "NULL",
                                    "SZALL_MOD": "Posta",
                                    "FIZ_MOD": "Átutalás",
                                    "SZAMLA_CIM": "NULL",
                                    "(No column name)": "NULL"
                                },
                                {
                                    "SORSZAM": "27790",
                                    "LOGIN": "peter4",
                                    "REND_DATUM": "2017-03-25",
                                    "SZALL_DATUM": "2017-03-27",
                                    "SZALL_CIM": "NULL",
                                    "SZALL_MOD": "Posta",
                                    "FIZ_MOD": "Készpénz",
                                    "SZAMLA_CIM": "NULL",
                                    "(No column name)": "NULL"
                                },
                                {
                                    "SORSZAM": "28021",
                                    "LOGIN": "peter4",
                                    "REND_DATUM": "2017-03-31",
                                    "SZALL_DATUM": "2017-04-10",
                                    "SZALL_CIM": "NULL",
                                    "SZALL_MOD": "Személyes átvétel",
                                    "FIZ_MOD": "Átutalás",
                                    "SZAMLA_CIM": "NULL",
                                    "(No column name)": "NULL"
                                }
                            ]
                        },
                        "text/html": [
                            "<table>",
                            "<tr><th>SORSZAM</th><th>LOGIN</th><th>REND_DATUM</th><th>SZALL_DATUM</th><th>SZALL_CIM</th><th>SZALL_MOD</th><th>FIZ_MOD</th><th>SZAMLA_CIM</th><th>(No column name)</th></tr>",
                            "<tr><td>55</td><td>peter4</td><td>2015-05-02</td><td>2015-05-08</td><td>NULL</td><td>Személyes átvétel</td><td>Átutalás</td><td>NULL</td><td>NULL</td></tr>",
                            "<tr><td>74</td><td>peter4</td><td>2015-05-02</td><td>2015-05-06</td><td>NULL</td><td>Személyes átvétel</td><td>Bankkártya</td><td>NULL</td><td>NULL</td></tr>",
                            "<tr><td>335</td><td>peter4</td><td>2015-05-09</td><td>2015-05-19</td><td>NULL</td><td>GLS</td><td>Bankkártya</td><td>NULL</td><td>NULL</td></tr>",
                            "<tr><td>344</td><td>peter4</td><td>2015-05-09</td><td>2015-05-19</td><td>NULL</td><td>Posta</td><td>Átutalás</td><td>NULL</td><td>NULL</td></tr>",
                            "<tr><td>402</td><td>peter4</td><td>2015-05-11</td><td>2015-05-20</td><td>NULL</td><td>Személyes átvétel</td><td>Átutalás</td><td>NULL</td><td>NULL</td></tr>",
                            "<tr><td>523</td><td>peter4</td><td>2015-05-14</td><td>2015-05-18</td><td>NULL</td><td>Személyes átvétel</td><td>Átutalás</td><td>NULL</td><td>NULL</td></tr>",
                            "<tr><td>702</td><td>peter4</td><td>2015-05-18</td><td>2015-05-24</td><td>Jászkisér, Fő u. 2.</td><td>Posta</td><td>Bankkártya</td><td>5137 Jászkisér, Fő u. 2.</td><td>5137</td></tr>",
                            "<tr><td>973</td><td>peter4</td><td>2015-05-26</td><td>2015-06-05</td><td>NULL</td><td>Személyes átvétel</td><td>Átutalás</td><td>NULL</td><td>NULL</td></tr>",
                            "<tr><td>1291</td><td>peter4</td><td>2015-06-03</td><td>2015-06-11</td><td>NULL</td><td>GLS</td><td>Készpénz</td><td>NULL</td><td>NULL</td></tr>",
                            "<tr><td>1341</td><td>peter4</td><td>2015-06-04</td><td>2015-06-06</td><td>Jászkisér, Fő u. 2.</td><td>GLS</td><td>Bankkártya</td><td>NULL</td><td>NULL</td></tr>",
                            "<tr><td>1588</td><td>peter4</td><td>2015-06-11</td><td>2015-06-17</td><td>NULL</td><td>Posta</td><td>Átutalás</td><td>NULL</td><td>NULL</td></tr>",
                            "<tr><td>1608</td><td>peter4</td><td>2015-06-11</td><td>2015-06-14</td><td>NULL</td><td>Személyes átvétel</td><td>Bankkártya</td><td>NULL</td><td>NULL</td></tr>",
                            "<tr><td>1622</td><td>peter4</td><td>2015-06-11</td><td>2015-06-13</td><td>NULL</td><td>GLS</td><td>Átutalás</td><td>NULL</td><td>NULL</td></tr>",
                            "<tr><td>1627</td><td>peter4</td><td>2015-06-11</td><td>2015-06-16</td><td>NULL</td><td>Személyes átvétel</td><td>Bankkártya</td><td>NULL</td><td>NULL</td></tr>",
                            "<tr><td>1653</td><td>peter4</td><td>2015-06-12</td><td>2015-06-21</td><td>NULL</td><td>Személyes átvétel</td><td>Bankkártya</td><td>NULL</td><td>NULL</td></tr>",
                            "<tr><td>1739</td><td>peter4</td><td>2015-06-14</td><td>2015-06-23</td><td>NULL</td><td>Posta</td><td>Átutalás</td><td>NULL</td><td>NULL</td></tr>",
                            "<tr><td>1798</td><td>peter4</td><td>2015-06-16</td><td>2015-06-21</td><td>NULL</td><td>GLS</td><td>Bankkártya</td><td>NULL</td><td>NULL</td></tr>",
                            "<tr><td>1896</td><td>peter4</td><td>2015-06-19</td><td>2015-06-22</td><td>NULL</td><td>GLS</td><td>Bankkártya</td><td>NULL</td><td>NULL</td></tr>",
                            "<tr><td>1912</td><td>peter4</td><td>2015-06-19</td><td>2015-06-24</td><td>NULL</td><td>GLS</td><td>Átutalás</td><td>NULL</td><td>NULL</td></tr>",
                            "<tr><td>1940</td><td>peter4</td><td>2015-06-20</td><td>2015-06-27</td><td>NULL</td><td>Személyes átvétel</td><td>Készpénz</td><td>NULL</td><td>NULL</td></tr>",
                            "<tr><td>1961</td><td>peter4</td><td>2015-06-20</td><td>2015-06-26</td><td>NULL</td><td>Posta</td><td>Bankkártya</td><td>NULL</td><td>NULL</td></tr>",
                            "<tr><td>1969</td><td>peter4</td><td>2015-06-21</td><td>2015-06-25</td><td>NULL</td><td>Posta</td><td>Bankkártya</td><td>NULL</td><td>NULL</td></tr>",
                            "<tr><td>2030</td><td>peter4</td><td>2015-06-22</td><td>2015-06-30</td><td>NULL</td><td>Posta</td><td>Átutalás</td><td>NULL</td><td>NULL</td></tr>",
                            "<tr><td>2039</td><td>peter4</td><td>2015-06-22</td><td>2015-06-25</td><td>NULL</td><td>Személyes átvétel</td><td>Készpénz</td><td>NULL</td><td>NULL</td></tr>",
                            "<tr><td>2041</td><td>peter4</td><td>2015-06-22</td><td>2015-06-28</td><td>Jászkisér, Kiss u. 32.</td><td>GLS</td><td>Bankkártya</td><td>NULL</td><td>NULL</td></tr>",
                            "<tr><td>2053</td><td>peter4</td><td>2015-06-23</td><td>2015-06-30</td><td>NULL</td><td>Személyes átvétel</td><td>Bankkártya</td><td>NULL</td><td>NULL</td></tr>",
                            "<tr><td>2129</td><td>peter4</td><td>2015-06-24</td><td>2015-06-26</td><td>NULL</td><td>Posta</td><td>Átutalás</td><td>NULL</td><td>NULL</td></tr>",
                            "<tr><td>2159</td><td>peter4</td><td>2015-06-25</td><td>2015-06-28</td><td>Jászkisér, Nagy u.14.</td><td>GLS</td><td>Bankkártya</td><td>NULL</td><td>NULL</td></tr>",
                            "<tr><td>2163</td><td>peter4</td><td>2015-06-25</td><td>2015-06-30</td><td>NULL</td><td>Posta</td><td>Bankkártya</td><td>NULL</td><td>NULL</td></tr>",
                            "<tr><td>2237</td><td>peter4</td><td>2015-06-27</td><td>2015-07-04</td><td>NULL</td><td>GLS</td><td>Átutalás</td><td>NULL</td><td>NULL</td></tr>",
                            "<tr><td>2272</td><td>peter4</td><td>2015-06-28</td><td>2015-06-30</td><td>NULL</td><td>Posta</td><td>Bankkártya</td><td>NULL</td><td>NULL</td></tr>",
                            "<tr><td>2292</td><td>peter4</td><td>2015-06-29</td><td>2015-07-02</td><td>NULL</td><td>GLS</td><td>Készpénz</td><td>NULL</td><td>NULL</td></tr>",
                            "<tr><td>2326</td><td>peter4</td><td>2015-06-30</td><td>2015-07-07</td><td>NULL</td><td>GLS</td><td>Bankkártya</td><td>NULL</td><td>NULL</td></tr>",
                            "<tr><td>2357</td><td>peter4</td><td>2015-06-30</td><td>2015-07-03</td><td>NULL</td><td>Posta</td><td>Bankkártya</td><td>NULL</td><td>NULL</td></tr>",
                            "<tr><td>2372</td><td>peter4</td><td>2015-07-01</td><td>2015-07-04</td><td>NULL</td><td>Személyes átvétel</td><td>Bankkártya</td><td>NULL</td><td>NULL</td></tr>",
                            "<tr><td>2378</td><td>peter4</td><td>2015-07-01</td><td>2015-07-04</td><td>NULL</td><td>Személyes átvétel</td><td>Készpénz</td><td>NULL</td><td>NULL</td></tr>",
                            "<tr><td>2385</td><td>peter4</td><td>2015-07-01</td><td>2015-07-10</td><td>Jászkisér, Fő u. 2.</td><td>GLS</td><td>Átutalás</td><td>NULL</td><td>NULL</td></tr>",
                            "<tr><td>2394</td><td>peter4</td><td>2015-07-01</td><td>2015-07-04</td><td>Jászkisér, Fő u. 2.</td><td>GLS</td><td>Bankkártya</td><td>NULL</td><td>NULL</td></tr>",
                            "<tr><td>2395</td><td>peter4</td><td>2015-07-01</td><td>2015-07-06</td><td>NULL</td><td>Posta</td><td>Átutalás</td><td>NULL</td><td>NULL</td></tr>",
                            "<tr><td>2429</td><td>peter4</td><td>2015-07-02</td><td>2015-07-04</td><td>NULL</td><td>Személyes átvétel</td><td>Bankkártya</td><td>NULL</td><td>NULL</td></tr>",
                            "<tr><td>2446</td><td>peter4</td><td>2015-07-03</td><td>2015-07-13</td><td>NULL</td><td>Személyes átvétel</td><td>Készpénz</td><td>NULL</td><td>NULL</td></tr>",
                            "<tr><td>2505</td><td>peter4</td><td>2015-07-04</td><td>2015-07-12</td><td>NULL</td><td>Posta</td><td>Bankkártya</td><td>NULL</td><td>NULL</td></tr>",
                            "<tr><td>2507</td><td>peter4</td><td>2015-07-05</td><td>2015-07-09</td><td>NULL</td><td>Személyes átvétel</td><td>Bankkártya</td><td>NULL</td><td>NULL</td></tr>",
                            "<tr><td>2518</td><td>peter4</td><td>2015-07-05</td><td>2015-07-14</td><td>NULL</td><td>Posta</td><td>Átutalás</td><td>NULL</td><td>NULL</td></tr>",
                            "<tr><td>2602</td><td>peter4</td><td>2015-07-07</td><td>2015-07-13</td><td>NULL</td><td>Személyes átvétel</td><td>Átutalás</td><td>NULL</td><td>NULL</td></tr>",
                            "<tr><td>2604</td><td>peter4</td><td>2015-07-07</td><td>2015-07-14</td><td>NULL</td><td>GLS</td><td>Bankkártya</td><td>NULL</td><td>NULL</td></tr>",
                            "<tr><td>2608</td><td>peter4</td><td>2015-07-07</td><td>2015-07-17</td><td>NULL</td><td>GLS</td><td>Átutalás</td><td>NULL</td><td>NULL</td></tr>",
                            "<tr><td>2619</td><td>peter4</td><td>2015-07-07</td><td>2015-07-09</td><td>Jászkisér, Fő u. 2.</td><td>Személyes átvétel</td><td>Bankkártya</td><td>5137 Jászkisér, Fő u. 2.</td><td>5137</td></tr>",
                            "<tr><td>2621</td><td>peter4</td><td>2015-07-07</td><td>2015-07-11</td><td>NULL</td><td>Posta</td><td>Átutalás</td><td>NULL</td><td>NULL</td></tr>",
                            "<tr><td>2647</td><td>peter4</td><td>2015-07-08</td><td>2015-07-11</td><td>NULL</td><td>Posta</td><td>Bankkártya</td><td>NULL</td><td>NULL</td></tr>",
                            "<tr><td>2721</td><td>peter4</td><td>2015-07-10</td><td>2015-07-15</td><td>NULL</td><td>Személyes átvétel</td><td>Átutalás</td><td>NULL</td><td>NULL</td></tr>",
                            "<tr><td>2750</td><td>peter4</td><td>2015-07-11</td><td>2015-07-16</td><td>NULL</td><td>GLS</td><td>Bankkártya</td><td>NULL</td><td>NULL</td></tr>",
                            "<tr><td>2752</td><td>peter4</td><td>2015-07-11</td><td>2015-07-13</td><td>NULL</td><td>GLS</td><td>Átutalás</td><td>NULL</td><td>NULL</td></tr>",
                            "<tr><td>2755</td><td>peter4</td><td>2015-07-11</td><td>2015-07-16</td><td>NULL</td><td>Személyes átvétel</td><td>Átutalás</td><td>NULL</td><td>NULL</td></tr>",
                            "<tr><td>2777</td><td>peter4</td><td>2015-07-11</td><td>2015-07-14</td><td>NULL</td><td>GLS</td><td>Átutalás</td><td>NULL</td><td>NULL</td></tr>",
                            "<tr><td>2806</td><td>peter4</td><td>2015-07-12</td><td>2015-07-14</td><td>NULL</td><td>Személyes átvétel</td><td>Átutalás</td><td>NULL</td><td>NULL</td></tr>",
                            "<tr><td>2829</td><td>peter4</td><td>2015-07-13</td><td>2015-07-22</td><td>NULL</td><td>Posta</td><td>Bankkártya</td><td>NULL</td><td>NULL</td></tr>",
                            "<tr><td>2830</td><td>peter4</td><td>2015-07-13</td><td>2015-07-15</td><td>NULL</td><td>GLS</td><td>Bankkártya</td><td>NULL</td><td>NULL</td></tr>",
                            "<tr><td>2841</td><td>peter4</td><td>2015-07-13</td><td>2015-07-16</td><td>NULL</td><td>Személyes átvétel</td><td>Átutalás</td><td>NULL</td><td>NULL</td></tr>",
                            "<tr><td>2911</td><td>peter4</td><td>2015-07-14</td><td>2015-07-23</td><td>NULL</td><td>Személyes átvétel</td><td>Bankkártya</td><td>NULL</td><td>NULL</td></tr>",
                            "<tr><td>2952</td><td>peter4</td><td>2015-07-16</td><td>2015-07-23</td><td>Jászkisér, Fő u. 2.</td><td>GLS</td><td>Készpénz</td><td>NULL</td><td>NULL</td></tr>",
                            "<tr><td>2998</td><td>peter4</td><td>2015-07-17</td><td>2015-07-26</td><td>NULL</td><td>Személyes átvétel</td><td>Készpénz</td><td>NULL</td><td>NULL</td></tr>",
                            "<tr><td>3014</td><td>peter4</td><td>2015-07-17</td><td>2015-07-26</td><td>NULL</td><td>Személyes átvétel</td><td>Bankkártya</td><td>NULL</td><td>NULL</td></tr>",
                            "<tr><td>3100</td><td>peter4</td><td>2015-07-19</td><td>2015-07-27</td><td>NULL</td><td>Posta</td><td>Átutalás</td><td>NULL</td><td>NULL</td></tr>",
                            "<tr><td>3182</td><td>peter4</td><td>2015-07-22</td><td>2015-07-31</td><td>NULL</td><td>GLS</td><td>Átutalás</td><td>NULL</td><td>NULL</td></tr>",
                            "<tr><td>3197</td><td>peter4</td><td>2015-07-22</td><td>2015-07-30</td><td>NULL</td><td>GLS</td><td>Bankkártya</td><td>NULL</td><td>NULL</td></tr>",
                            "<tr><td>3199</td><td>peter4</td><td>2015-07-22</td><td>2015-07-31</td><td>NULL</td><td>Személyes átvétel</td><td>Bankkártya</td><td>NULL</td><td>NULL</td></tr>",
                            "<tr><td>3243</td><td>peter4</td><td>2015-07-23</td><td>2015-07-26</td><td>NULL</td><td>Posta</td><td>Bankkártya</td><td>NULL</td><td>NULL</td></tr>",
                            "<tr><td>3447</td><td>peter4</td><td>2015-07-28</td><td>2015-08-01</td><td>Jászkisér, Fő u. 2.</td><td>Személyes átvétel</td><td>Készpénz</td><td>NULL</td><td>NULL</td></tr>",
                            "<tr><td>3486</td><td>peter4</td><td>2015-07-29</td><td>2015-08-06</td><td>NULL</td><td>Személyes átvétel</td><td>Készpénz</td><td>NULL</td><td>NULL</td></tr>",
                            "<tr><td>3512</td><td>peter4</td><td>2015-07-29</td><td>2015-08-05</td><td>NULL</td><td>GLS</td><td>Átutalás</td><td>NULL</td><td>NULL</td></tr>",
                            "<tr><td>3518</td><td>peter4</td><td>2015-07-30</td><td>2015-08-08</td><td>NULL</td><td>Személyes átvétel</td><td>Átutalás</td><td>NULL</td><td>NULL</td></tr>",
                            "<tr><td>3521</td><td>peter4</td><td>2015-07-30</td><td>2015-08-06</td><td>NULL</td><td>Személyes átvétel</td><td>Átutalás</td><td>NULL</td><td>NULL</td></tr>",
                            "<tr><td>3543</td><td>peter4</td><td>2015-07-30</td><td>2015-08-01</td><td>NULL</td><td>Személyes átvétel</td><td>Bankkártya</td><td>NULL</td><td>NULL</td></tr>",
                            "<tr><td>3552</td><td>peter4</td><td>2015-07-31</td><td>2015-08-03</td><td>NULL</td><td>Személyes átvétel</td><td>Átutalás</td><td>NULL</td><td>NULL</td></tr>",
                            "<tr><td>3572</td><td>peter4</td><td>2015-07-31</td><td>2015-08-06</td><td>NULL</td><td>GLS</td><td>Bankkártya</td><td>NULL</td><td>NULL</td></tr>",
                            "<tr><td>3577</td><td>peter4</td><td>2015-07-31</td><td>2015-08-04</td><td>NULL</td><td>Személyes átvétel</td><td>Bankkártya</td><td>NULL</td><td>NULL</td></tr>",
                            "<tr><td>3610</td><td>peter4</td><td>2015-08-01</td><td>2015-08-03</td><td>NULL</td><td>Posta</td><td>Átutalás</td><td>NULL</td><td>NULL</td></tr>",
                            "<tr><td>3637</td><td>peter4</td><td>2015-08-01</td><td>2015-08-08</td><td>NULL</td><td>Posta</td><td>Átutalás</td><td>NULL</td><td>NULL</td></tr>",
                            "<tr><td>3685</td><td>peter4</td><td>2015-08-03</td><td>2015-08-06</td><td>NULL</td><td>Posta</td><td>Bankkártya</td><td>NULL</td><td>NULL</td></tr>",
                            "<tr><td>3694</td><td>peter4</td><td>2015-08-03</td><td>2015-08-09</td><td>NULL</td><td>Személyes átvétel</td><td>Átutalás</td><td>NULL</td><td>NULL</td></tr>",
                            "<tr><td>3735</td><td>peter4</td><td>2015-08-04</td><td>2015-08-08</td><td>Jászkisér, Fő u. 2.</td><td>GLS</td><td>Átutalás</td><td>NULL</td><td>NULL</td></tr>",
                            "<tr><td>3742</td><td>peter4</td><td>2015-08-04</td><td>2015-08-07</td><td>NULL</td><td>Posta</td><td>Bankkártya</td><td>NULL</td><td>NULL</td></tr>",
                            "<tr><td>3753</td><td>peter4</td><td>2015-08-04</td><td>2015-08-07</td><td>Jászkisér, Fő u. 2.</td><td>Posta</td><td>Bankkártya</td><td>5137 Jászkisér, Fő u. 2.</td><td>5137</td></tr>",
                            "<tr><td>3813</td><td>peter4</td><td>2015-08-06</td><td>2015-08-08</td><td>NULL</td><td>Posta</td><td>Bankkártya</td><td>NULL</td><td>NULL</td></tr>",
                            "<tr><td>3818</td><td>peter4</td><td>2015-08-06</td><td>2015-08-14</td><td>NULL</td><td>Posta</td><td>Bankkártya</td><td>NULL</td><td>NULL</td></tr>",
                            "<tr><td>3959</td><td>peter4</td><td>2015-08-09</td><td>2015-08-16</td><td>NULL</td><td>Személyes átvétel</td><td>Átutalás</td><td>NULL</td><td>NULL</td></tr>",
                            "<tr><td>3993</td><td>peter4</td><td>2015-08-10</td><td>2015-08-12</td><td>NULL</td><td>Személyes átvétel</td><td>Bankkártya</td><td>NULL</td><td>NULL</td></tr>",
                            "<tr><td>4008</td><td>peter4</td><td>2015-08-10</td><td>2015-08-17</td><td>NULL</td><td>Posta</td><td>Átutalás</td><td>NULL</td><td>NULL</td></tr>",
                            "<tr><td>4038</td><td>peter4</td><td>2015-08-11</td><td>2015-08-14</td><td>NULL</td><td>GLS</td><td>Bankkártya</td><td>NULL</td><td>NULL</td></tr>",
                            "<tr><td>4057</td><td>peter4</td><td>2015-08-12</td><td>2015-08-22</td><td>NULL</td><td>Személyes átvétel</td><td>Bankkártya</td><td>NULL</td><td>NULL</td></tr>",
                            "<tr><td>4062</td><td>peter4</td><td>2015-08-12</td><td>2015-08-22</td><td>NULL</td><td>Posta</td><td>Átutalás</td><td>NULL</td><td>NULL</td></tr>",
                            "<tr><td>4076</td><td>peter4</td><td>2015-08-12</td><td>2015-08-20</td><td>NULL</td><td>Posta</td><td>Készpénz</td><td>NULL</td><td>NULL</td></tr>",
                            "<tr><td>4118</td><td>peter4</td><td>2015-08-13</td><td>2015-08-17</td><td>NULL</td><td>Személyes átvétel</td><td>Készpénz</td><td>NULL</td><td>NULL</td></tr>",
                            "<tr><td>4151</td><td>peter4</td><td>2015-08-14</td><td>2015-08-24</td><td>NULL</td><td>Személyes átvétel</td><td>Bankkártya</td><td>NULL</td><td>NULL</td></tr>",
                            "<tr><td>4198</td><td>peter4</td><td>2015-08-15</td><td>2015-08-20</td><td>NULL</td><td>Posta</td><td>Átutalás</td><td>NULL</td><td>NULL</td></tr>",
                            "<tr><td>4201</td><td>peter4</td><td>2015-08-15</td><td>2015-08-19</td><td>NULL</td><td>Posta</td><td>Készpénz</td><td>NULL</td><td>NULL</td></tr>",
                            "<tr><td>4248</td><td>peter4</td><td>2015-08-17</td><td>2015-08-27</td><td>Jászkisér, Fő u. 2.</td><td>Személyes átvétel</td><td>Átutalás</td><td>NULL</td><td>NULL</td></tr>",
                            "<tr><td>4251</td><td>peter4</td><td>2015-08-17</td><td>2015-08-20</td><td>Jászkisér, Kiss u. 32.</td><td>Személyes átvétel</td><td>Bankkártya</td><td>NULL</td><td>NULL</td></tr>",
                            "<tr><td>4258</td><td>peter4</td><td>2015-08-17</td><td>2015-08-24</td><td>NULL</td><td>GLS</td><td>Bankkártya</td><td>NULL</td><td>NULL</td></tr>",
                            "<tr><td>4352</td><td>peter4</td><td>2015-08-19</td><td>2015-08-24</td><td>Jászkisér, Nagy u.14.</td><td>GLS</td><td>Átutalás</td><td>NULL</td><td>NULL</td></tr>",
                            "<tr><td>4358</td><td>peter4</td><td>2015-08-19</td><td>2015-08-26</td><td>NULL</td><td>GLS</td><td>Bankkártya</td><td>NULL</td><td>NULL</td></tr>",
                            "<tr><td>4361</td><td>peter4</td><td>2015-08-19</td><td>2015-08-26</td><td>NULL</td><td>Posta</td><td>Átutalás</td><td>NULL</td><td>NULL</td></tr>",
                            "<tr><td>4383</td><td>peter4</td><td>2015-08-20</td><td>2015-08-22</td><td>Jászkisér, Fő u. 2.</td><td>Személyes átvétel</td><td>Átutalás</td><td>NULL</td><td>NULL</td></tr>",
                            "<tr><td>4461</td><td>peter4</td><td>2015-08-22</td><td>2015-09-01</td><td>NULL</td><td>Posta</td><td>Átutalás</td><td>NULL</td><td>NULL</td></tr>",
                            "<tr><td>4486</td><td>peter4</td><td>2015-08-22</td><td>2015-08-31</td><td>NULL</td><td>GLS</td><td>Átutalás</td><td>NULL</td><td>NULL</td></tr>",
                            "<tr><td>4517</td><td>peter4</td><td>2015-08-23</td><td>2015-08-30</td><td>NULL</td><td>GLS</td><td>Bankkártya</td><td>NULL</td><td>NULL</td></tr>",
                            "<tr><td>4547</td><td>peter4</td><td>2015-08-24</td><td>2015-08-30</td><td>NULL</td><td>GLS</td><td>Átutalás</td><td>NULL</td><td>NULL</td></tr>",
                            "<tr><td>4559</td><td>peter4</td><td>2015-08-24</td><td>2015-09-02</td><td>NULL</td><td>Személyes átvétel</td><td>Készpénz</td><td>NULL</td><td>NULL</td></tr>",
                            "<tr><td>4603</td><td>peter4</td><td>2015-08-25</td><td>2015-08-30</td><td>NULL</td><td>Személyes átvétel</td><td>Bankkártya</td><td>NULL</td><td>NULL</td></tr>",
                            "<tr><td>4607</td><td>peter4</td><td>2015-08-25</td><td>2015-09-04</td><td>Jászkisér, Nagy u.14.</td><td>GLS</td><td>Átutalás</td><td>NULL</td><td>NULL</td></tr>",
                            "<tr><td>4608</td><td>peter4</td><td>2015-08-25</td><td>2015-08-31</td><td>Jászkisér, Fő u. 2.</td><td>GLS</td><td>Bankkártya</td><td>NULL</td><td>NULL</td></tr>",
                            "<tr><td>4617</td><td>peter4</td><td>2015-08-25</td><td>2015-09-01</td><td>Jászkisér, Fő u. 2.</td><td>Posta</td><td>Bankkártya</td><td>5137 Jászkisér, Fő u. 2.</td><td>5137</td></tr>",
                            "<tr><td>4637</td><td>peter4</td><td>2015-08-26</td><td>2015-08-28</td><td>NULL</td><td>GLS</td><td>Átutalás</td><td>NULL</td><td>NULL</td></tr>",
                            "<tr><td>4755</td><td>peter4</td><td>2015-08-29</td><td>2015-09-06</td><td>NULL</td><td>Személyes átvétel</td><td>Átutalás</td><td>NULL</td><td>NULL</td></tr>",
                            "<tr><td>4793</td><td>peter4</td><td>2015-08-30</td><td>2015-09-07</td><td>NULL</td><td>Posta</td><td>Bankkártya</td><td>NULL</td><td>NULL</td></tr>",
                            "<tr><td>4813</td><td>peter4</td><td>2015-08-30</td><td>2015-09-08</td><td>NULL</td><td>Személyes átvétel</td><td>Átutalás</td><td>NULL</td><td>NULL</td></tr>",
                            "<tr><td>4904</td><td>peter4</td><td>2015-09-01</td><td>2015-09-07</td><td>NULL</td><td>Posta</td><td>Átutalás</td><td>NULL</td><td>NULL</td></tr>",
                            "<tr><td>4958</td><td>peter4</td><td>2015-09-03</td><td>2015-09-12</td><td>NULL</td><td>Személyes átvétel</td><td>Bankkártya</td><td>NULL</td><td>NULL</td></tr>",
                            "<tr><td>4963</td><td>peter4</td><td>2015-09-03</td><td>2015-09-07</td><td>NULL</td><td>Személyes átvétel</td><td>Átutalás</td><td>NULL</td><td>NULL</td></tr>",
                            "<tr><td>4980</td><td>peter4</td><td>2015-09-03</td><td>2015-09-07</td><td>NULL</td><td>Személyes átvétel</td><td>Bankkártya</td><td>NULL</td><td>NULL</td></tr>",
                            "<tr><td>4998</td><td>peter4</td><td>2015-09-04</td><td>2015-09-13</td><td>Jászkisér, Nagy u.14.</td><td>GLS</td><td>Bankkártya</td><td>5137 Jászkisér, Nagy u.14.</td><td>5137</td></tr>",
                            "<tr><td>5018</td><td>peter4</td><td>2015-09-04</td><td>2015-09-08</td><td>Jászkisér, Kiss u. 32.</td><td>Posta</td><td>Átutalás</td><td>5137 Jászkisér, Kiss u. 32.</td><td>5137</td></tr>",
                            "<tr><td>5027</td><td>peter4</td><td>2015-09-05</td><td>2015-09-08</td><td>NULL</td><td>Posta</td><td>Átutalás</td><td>NULL</td><td>NULL</td></tr>",
                            "<tr><td>5035</td><td>peter4</td><td>2015-09-05</td><td>2015-09-11</td><td>NULL</td><td>Posta</td><td>Átutalás</td><td>NULL</td><td>NULL</td></tr>",
                            "<tr><td>5045</td><td>peter4</td><td>2015-09-05</td><td>2015-09-11</td><td>NULL</td><td>GLS</td><td>Átutalás</td><td>NULL</td><td>NULL</td></tr>",
                            "<tr><td>5062</td><td>peter4</td><td>2015-09-05</td><td>2015-09-07</td><td>NULL</td><td>Posta</td><td>Bankkártya</td><td>NULL</td><td>NULL</td></tr>",
                            "<tr><td>5077</td><td>peter4</td><td>2015-09-06</td><td>2015-09-08</td><td>NULL</td><td>Személyes átvétel</td><td>Átutalás</td><td>NULL</td><td>NULL</td></tr>",
                            "<tr><td>5109</td><td>peter4</td><td>2015-09-07</td><td>2015-09-12</td><td>Jászkisér, Kiss u. 32.</td><td>Személyes átvétel</td><td>Átutalás</td><td>NULL</td><td>NULL</td></tr>",
                            "<tr><td>5125</td><td>peter4</td><td>2015-09-07</td><td>2015-09-16</td><td>NULL</td><td>Személyes átvétel</td><td>Átutalás</td><td>NULL</td><td>NULL</td></tr>",
                            "<tr><td>5173</td><td>peter4</td><td>2015-09-08</td><td>2015-09-17</td><td>NULL</td><td>Posta</td><td>Átutalás</td><td>NULL</td><td>NULL</td></tr>",
                            "<tr><td>5196</td><td>peter4</td><td>2015-09-09</td><td>2015-09-11</td><td>NULL</td><td>Posta</td><td>Átutalás</td><td>NULL</td><td>NULL</td></tr>",
                            "<tr><td>5215</td><td>peter4</td><td>2015-09-09</td><td>2015-09-12</td><td>NULL</td><td>Személyes átvétel</td><td>Bankkártya</td><td>NULL</td><td>NULL</td></tr>",
                            "<tr><td>5287</td><td>peter4</td><td>2015-09-11</td><td>2015-09-20</td><td>Jászkisér, Nagy u.14.</td><td>GLS</td><td>Bankkártya</td><td>NULL</td><td>NULL</td></tr>",
                            "<tr><td>5329</td><td>peter4</td><td>2015-09-12</td><td>2015-09-19</td><td>NULL</td><td>GLS</td><td>Bankkártya</td><td>NULL</td><td>NULL</td></tr>",
                            "<tr><td>5385</td><td>peter4</td><td>2015-09-14</td><td>2015-09-17</td><td>NULL</td><td>GLS</td><td>Bankkártya</td><td>NULL</td><td>NULL</td></tr>",
                            "<tr><td>5390</td><td>peter4</td><td>2015-09-14</td><td>2015-09-19</td><td>NULL</td><td>GLS</td><td>Bankkártya</td><td>NULL</td><td>NULL</td></tr>",
                            "<tr><td>5403</td><td>peter4</td><td>2015-09-14</td><td>2015-09-18</td><td>NULL</td><td>GLS</td><td>Készpénz</td><td>NULL</td><td>NULL</td></tr>",
                            "<tr><td>5405</td><td>peter4</td><td>2015-09-14</td><td>2015-09-24</td><td>NULL</td><td>Személyes átvétel</td><td>Átutalás</td><td>NULL</td><td>NULL</td></tr>",
                            "<tr><td>5408</td><td>peter4</td><td>2015-09-14</td><td>2015-09-24</td><td>Jászkisér, Kiss u. 32.</td><td>GLS</td><td>Készpénz</td><td>5137 Jászkisér, Kiss u. 32.</td><td>5137</td></tr>",
                            "<tr><td>5417</td><td>peter4</td><td>2015-09-14</td><td>2015-09-23</td><td>NULL</td><td>GLS</td><td>Átutalás</td><td>NULL</td><td>NULL</td></tr>",
                            "<tr><td>5499</td><td>peter4</td><td>2015-09-16</td><td>2015-09-24</td><td>Jászkisér, Fő u. 2.</td><td>Személyes átvétel</td><td>Bankkártya</td><td>NULL</td><td>NULL</td></tr>",
                            "<tr><td>5503</td><td>peter4</td><td>2015-09-16</td><td>2015-09-19</td><td>NULL</td><td>GLS</td><td>Átutalás</td><td>NULL</td><td>NULL</td></tr>",
                            "<tr><td>5506</td><td>peter4</td><td>2015-09-16</td><td>2015-09-26</td><td>NULL</td><td>Személyes átvétel</td><td>Bankkártya</td><td>NULL</td><td>NULL</td></tr>",
                            "<tr><td>5515</td><td>peter4</td><td>2015-09-17</td><td>2015-09-23</td><td>NULL</td><td>GLS</td><td>Bankkártya</td><td>NULL</td><td>NULL</td></tr>",
                            "<tr><td>5561</td><td>peter4</td><td>2015-09-18</td><td>2015-09-25</td><td>NULL</td><td>Posta</td><td>Bankkártya</td><td>NULL</td><td>NULL</td></tr>",
                            "<tr><td>5566</td><td>peter4</td><td>2015-09-18</td><td>2015-09-20</td><td>NULL</td><td>Személyes átvétel</td><td>Átutalás</td><td>NULL</td><td>NULL</td></tr>",
                            "<tr><td>5648</td><td>peter4</td><td>2015-09-20</td><td>2015-09-28</td><td>NULL</td><td>Posta</td><td>Készpénz</td><td>NULL</td><td>NULL</td></tr>",
                            "<tr><td>5658</td><td>peter4</td><td>2015-09-20</td><td>2015-09-29</td><td>NULL</td><td>GLS</td><td>Átutalás</td><td>NULL</td><td>NULL</td></tr>",
                            "<tr><td>5670</td><td>peter4</td><td>2015-09-21</td><td>2015-09-27</td><td>Jászkisér, Fő u. 2.</td><td>Személyes átvétel</td><td>Átutalás</td><td>5137 Jászkisér, Fő u. 2.</td><td>5137</td></tr>",
                            "<tr><td>5676</td><td>peter4</td><td>2015-09-21</td><td>2015-09-24</td><td>NULL</td><td>Személyes átvétel</td><td>Készpénz</td><td>NULL</td><td>NULL</td></tr>",
                            "<tr><td>5696</td><td>peter4</td><td>2015-09-21</td><td>2015-09-25</td><td>NULL</td><td>Személyes átvétel</td><td>Átutalás</td><td>NULL</td><td>NULL</td></tr>",
                            "<tr><td>5697</td><td>peter4</td><td>2015-09-21</td><td>2015-09-29</td><td>Jászkisér, Fő u. 2.</td><td>Személyes átvétel</td><td>Átutalás</td><td>5137 Jászkisér, Fő u. 2.</td><td>5137</td></tr>",
                            "<tr><td>5707</td><td>peter4</td><td>2015-09-21</td><td>2015-09-26</td><td>Jászkisér, Kiss u. 32.</td><td>GLS</td><td>Bankkártya</td><td>NULL</td><td>NULL</td></tr>",
                            "<tr><td>5735</td><td>peter4</td><td>2015-09-22</td><td>2015-09-30</td><td>NULL</td><td>Posta</td><td>Átutalás</td><td>NULL</td><td>NULL</td></tr>",
                            "<tr><td>5754</td><td>peter4</td><td>2015-09-23</td><td>2015-09-26</td><td>NULL</td><td>Posta</td><td>Bankkártya</td><td>NULL</td><td>NULL</td></tr>",
                            "<tr><td>5776</td><td>peter4</td><td>2015-09-23</td><td>2015-09-29</td><td>NULL</td><td>Személyes átvétel</td><td>Bankkártya</td><td>NULL</td><td>NULL</td></tr>",
                            "<tr><td>5819</td><td>peter4</td><td>2015-09-24</td><td>2015-09-27</td><td>NULL</td><td>Posta</td><td>Bankkártya</td><td>NULL</td><td>NULL</td></tr>",
                            "<tr><td>5865</td><td>peter4</td><td>2015-09-25</td><td>2015-09-28</td><td>Jászkisér, Nagy u.14.</td><td>Posta</td><td>Átutalás</td><td>5137 Jászkisér, Nagy u.14.</td><td>5137</td></tr>",
                            "<tr><td>5874</td><td>peter4</td><td>2015-09-26</td><td>2015-09-29</td><td>NULL</td><td>Személyes átvétel</td><td>Átutalás</td><td>NULL</td><td>NULL</td></tr>",
                            "<tr><td>5954</td><td>peter4</td><td>2015-09-27</td><td>2015-10-01</td><td>Jászkisér, Kiss u. 32.</td><td>Posta</td><td>Bankkártya</td><td>5137 Jászkisér, Kiss u. 32.</td><td>5137</td></tr>",
                            "<tr><td>5993</td><td>peter4</td><td>2015-09-28</td><td>2015-09-30</td><td>Jászkisér, Kiss u. 32.</td><td>GLS</td><td>Átutalás</td><td>NULL</td><td>NULL</td></tr>",
                            "<tr><td>6039</td><td>peter4</td><td>2015-09-29</td><td>2015-10-02</td><td>Jászkisér, Fő u. 2.</td><td>Posta</td><td>Bankkártya</td><td>NULL</td><td>NULL</td></tr>",
                            "<tr><td>6067</td><td>peter4</td><td>2015-09-30</td><td>2015-10-09</td><td>NULL</td><td>Posta</td><td>Bankkártya</td><td>NULL</td><td>NULL</td></tr>",
                            "<tr><td>6070</td><td>peter4</td><td>2015-09-30</td><td>2015-10-10</td><td>NULL</td><td>Személyes átvétel</td><td>Bankkártya</td><td>NULL</td><td>NULL</td></tr>",
                            "<tr><td>6079</td><td>peter4</td><td>2015-10-01</td><td>2015-10-04</td><td>NULL</td><td>GLS</td><td>Átutalás</td><td>NULL</td><td>NULL</td></tr>",
                            "<tr><td>6094</td><td>peter4</td><td>2015-10-01</td><td>2015-10-03</td><td>NULL</td><td>Személyes átvétel</td><td>Átutalás</td><td>NULL</td><td>NULL</td></tr>",
                            "<tr><td>6134</td><td>peter4</td><td>2015-10-02</td><td>2015-10-11</td><td>NULL</td><td>GLS</td><td>Bankkártya</td><td>NULL</td><td>NULL</td></tr>",
                            "<tr><td>6167</td><td>peter4</td><td>2015-10-03</td><td>2015-10-07</td><td>NULL</td><td>Személyes átvétel</td><td>Átutalás</td><td>NULL</td><td>NULL</td></tr>",
                            "<tr><td>6181</td><td>peter4</td><td>2015-10-03</td><td>2015-10-09</td><td>NULL</td><td>GLS</td><td>Átutalás</td><td>NULL</td><td>NULL</td></tr>",
                            "<tr><td>6186</td><td>peter4</td><td>2015-10-03</td><td>2015-10-13</td><td>NULL</td><td>Posta</td><td>Bankkártya</td><td>NULL</td><td>NULL</td></tr>",
                            "<tr><td>6196</td><td>peter4</td><td>2015-10-04</td><td>2015-10-09</td><td>NULL</td><td>Posta</td><td>Átutalás</td><td>NULL</td><td>NULL</td></tr>",
                            "<tr><td>6242</td><td>peter4</td><td>2015-10-05</td><td>2015-10-08</td><td>NULL</td><td>GLS</td><td>Átutalás</td><td>NULL</td><td>NULL</td></tr>",
                            "<tr><td>6252</td><td>peter4</td><td>2015-10-05</td><td>2015-10-08</td><td>NULL</td><td>Posta</td><td>Bankkártya</td><td>NULL</td><td>NULL</td></tr>",
                            "<tr><td>6270</td><td>peter4</td><td>2015-10-06</td><td>2015-10-10</td><td>NULL</td><td>Posta</td><td>Átutalás</td><td>NULL</td><td>NULL</td></tr>",
                            "<tr><td>6300</td><td>peter4</td><td>2015-10-06</td><td>2015-10-11</td><td>Jászkisér, Fő u. 2.</td><td>Posta</td><td>Bankkártya</td><td>NULL</td><td>NULL</td></tr>",
                            "<tr><td>6304</td><td>peter4</td><td>2015-10-06</td><td>2015-10-08</td><td>NULL</td><td>GLS</td><td>Bankkártya</td><td>NULL</td><td>NULL</td></tr>",
                            "<tr><td>6329</td><td>peter4</td><td>2015-10-07</td><td>2015-10-12</td><td>NULL</td><td>GLS</td><td>Átutalás</td><td>NULL</td><td>NULL</td></tr>",
                            "<tr><td>6366</td><td>peter4</td><td>2015-10-08</td><td>2015-10-18</td><td>NULL</td><td>GLS</td><td>Bankkártya</td><td>NULL</td><td>NULL</td></tr>",
                            "<tr><td>6367</td><td>peter4</td><td>2015-10-08</td><td>2015-10-18</td><td>NULL</td><td>GLS</td><td>Készpénz</td><td>NULL</td><td>NULL</td></tr>",
                            "<tr><td>6404</td><td>peter4</td><td>2015-10-09</td><td>2015-10-16</td><td>NULL</td><td>GLS</td><td>Bankkártya</td><td>NULL</td><td>NULL</td></tr>",
                            "<tr><td>6443</td><td>peter4</td><td>2015-10-10</td><td>2015-10-17</td><td>Jászkisér, Nagy u.14.</td><td>Posta</td><td>Bankkártya</td><td>NULL</td><td>NULL</td></tr>",
                            "<tr><td>6460</td><td>peter4</td><td>2015-10-10</td><td>2015-10-16</td><td>Jászkisér, Nagy u.14.</td><td>GLS</td><td>Bankkártya</td><td>NULL</td><td>NULL</td></tr>",
                            "<tr><td>6529</td><td>peter4</td><td>2015-10-12</td><td>2015-10-21</td><td>NULL</td><td>GLS</td><td>Bankkártya</td><td>NULL</td><td>NULL</td></tr>",
                            "<tr><td>6537</td><td>peter4</td><td>2015-10-12</td><td>2015-10-22</td><td>NULL</td><td>Posta</td><td>Bankkártya</td><td>NULL</td><td>NULL</td></tr>",
                            "<tr><td>6553</td><td>peter4</td><td>2015-10-13</td><td>2015-10-17</td><td>NULL</td><td>Személyes átvétel</td><td>Bankkártya</td><td>NULL</td><td>NULL</td></tr>",
                            "<tr><td>6581</td><td>peter4</td><td>2015-10-13</td><td>2015-10-17</td><td>NULL</td><td>GLS</td><td>Átutalás</td><td>NULL</td><td>NULL</td></tr>",
                            "<tr><td>6665</td><td>peter4</td><td>2015-10-15</td><td>2015-10-20</td><td>NULL</td><td>Személyes átvétel</td><td>Bankkártya</td><td>NULL</td><td>NULL</td></tr>",
                            "<tr><td>6751</td><td>peter4</td><td>2015-10-17</td><td>2015-10-25</td><td>NULL</td><td>Posta</td><td>Bankkártya</td><td>NULL</td><td>NULL</td></tr>",
                            "<tr><td>6756</td><td>peter4</td><td>2015-10-17</td><td>2015-10-27</td><td>NULL</td><td>Személyes átvétel</td><td>Átutalás</td><td>NULL</td><td>NULL</td></tr>",
                            "<tr><td>6775</td><td>peter4</td><td>2015-10-18</td><td>2015-10-22</td><td>NULL</td><td>Posta</td><td>Bankkártya</td><td>NULL</td><td>NULL</td></tr>",
                            "<tr><td>6832</td><td>peter4</td><td>2015-10-19</td><td>2015-10-29</td><td>NULL</td><td>Személyes átvétel</td><td>Készpénz</td><td>NULL</td><td>NULL</td></tr>",
                            "<tr><td>6840</td><td>peter4</td><td>2015-10-20</td><td>2015-10-29</td><td>Jászkisér, Fő u. 2.</td><td>GLS</td><td>Bankkártya</td><td>NULL</td><td>NULL</td></tr>",
                            "<tr><td>6877</td><td>peter4</td><td>2015-10-21</td><td>2015-10-23</td><td>Jászkisér, Kiss u. 32.</td><td>GLS</td><td>Bankkártya</td><td>NULL</td><td>NULL</td></tr>",
                            "<tr><td>6886</td><td>peter4</td><td>2015-10-21</td><td>2015-10-26</td><td>NULL</td><td>Posta</td><td>Bankkártya</td><td>NULL</td><td>NULL</td></tr>",
                            "<tr><td>6897</td><td>peter4</td><td>2015-10-21</td><td>2015-10-28</td><td>NULL</td><td>GLS</td><td>Átutalás</td><td>NULL</td><td>NULL</td></tr>",
                            "<tr><td>6973</td><td>peter4</td><td>2015-10-23</td><td>2015-10-27</td><td>NULL</td><td>Személyes átvétel</td><td>Átutalás</td><td>NULL</td><td>NULL</td></tr>",
                            "<tr><td>6979</td><td>peter4</td><td>2015-10-23</td><td>2015-10-30</td><td>NULL</td><td>GLS</td><td>Készpénz</td><td>NULL</td><td>NULL</td></tr>",
                            "<tr><td>7009</td><td>peter4</td><td>2015-10-24</td><td>2015-10-28</td><td>NULL</td><td>Posta</td><td>Bankkártya</td><td>NULL</td><td>NULL</td></tr>",
                            "<tr><td>7074</td><td>peter4</td><td>2015-10-26</td><td>2015-11-04</td><td>Jászkisér, Fő u. 2.</td><td>GLS</td><td>Bankkártya</td><td>5137 Jászkisér, Fő u. 2.</td><td>5137</td></tr>",
                            "<tr><td>7097</td><td>peter4</td><td>2015-10-26</td><td>2015-11-01</td><td>NULL</td><td>GLS</td><td>Bankkártya</td><td>NULL</td><td>NULL</td></tr>",
                            "<tr><td>7106</td><td>peter4</td><td>2015-10-26</td><td>2015-10-31</td><td>Jászkisér, Nagy u.14.</td><td>Személyes átvétel</td><td>Átutalás</td><td>NULL</td><td>NULL</td></tr>",
                            "<tr><td>7114</td><td>peter4</td><td>2015-10-26</td><td>2015-11-03</td><td>NULL</td><td>GLS</td><td>Bankkártya</td><td>NULL</td><td>NULL</td></tr>",
                            "<tr><td>7129</td><td>peter4</td><td>2015-10-27</td><td>2015-11-06</td><td>NULL</td><td>Posta</td><td>Bankkártya</td><td>NULL</td><td>NULL</td></tr>",
                            "<tr><td>7144</td><td>peter4</td><td>2015-10-27</td><td>2015-11-02</td><td>NULL</td><td>Személyes átvétel</td><td>Átutalás</td><td>NULL</td><td>NULL</td></tr>",
                            "<tr><td>7173</td><td>peter4</td><td>2015-10-28</td><td>2015-11-06</td><td>Jászkisér, Fő u. 2.</td><td>Posta</td><td>Átutalás</td><td>NULL</td><td>NULL</td></tr>",
                            "<tr><td>7223</td><td>peter4</td><td>2015-10-29</td><td>2015-11-06</td><td>NULL</td><td>Személyes átvétel</td><td>Átutalás</td><td>NULL</td><td>NULL</td></tr>",
                            "<tr><td>7235</td><td>peter4</td><td>2015-10-30</td><td>2015-11-01</td><td>NULL</td><td>GLS</td><td>Átutalás</td><td>NULL</td><td>NULL</td></tr>",
                            "<tr><td>7237</td><td>peter4</td><td>2015-10-30</td><td>2015-11-09</td><td>NULL</td><td>Posta</td><td>Átutalás</td><td>NULL</td><td>NULL</td></tr>",
                            "<tr><td>7250</td><td>peter4</td><td>2015-10-30</td><td>2015-11-05</td><td>NULL</td><td>GLS</td><td>Bankkártya</td><td>NULL</td><td>NULL</td></tr>",
                            "<tr><td>7282</td><td>peter4</td><td>2015-10-31</td><td>2015-11-10</td><td>NULL</td><td>Személyes átvétel</td><td>Átutalás</td><td>NULL</td><td>NULL</td></tr>",
                            "<tr><td>7301</td><td>peter4</td><td>2015-10-31</td><td>2015-11-08</td><td>NULL</td><td>Posta</td><td>Bankkártya</td><td>NULL</td><td>NULL</td></tr>",
                            "<tr><td>7343</td><td>peter4</td><td>2015-11-01</td><td>2015-11-03</td><td>NULL</td><td>Személyes átvétel</td><td>Átutalás</td><td>NULL</td><td>NULL</td></tr>",
                            "<tr><td>7395</td><td>peter4</td><td>2015-11-03</td><td>2015-11-05</td><td>Jászkisér, Nagy u.14.</td><td>GLS</td><td>Átutalás</td><td>5137 Jászkisér, Nagy u.14.</td><td>5137</td></tr>",
                            "<tr><td>7398</td><td>peter4</td><td>2015-11-03</td><td>2015-11-06</td><td>Jászkisér, Fő u. 2.</td><td>GLS</td><td>Bankkártya</td><td>5137 Jászkisér, Fő u. 2.</td><td>5137</td></tr>",
                            "<tr><td>7508</td><td>peter4</td><td>2015-11-06</td><td>2015-11-12</td><td>NULL</td><td>GLS</td><td>Bankkártya</td><td>NULL</td><td>NULL</td></tr>",
                            "<tr><td>7548</td><td>peter4</td><td>2015-11-07</td><td>2015-11-15</td><td>Jászkisér, Nagy u.14.</td><td>Személyes átvétel</td><td>Bankkártya</td><td>5137 Jászkisér, Nagy u.14.</td><td>5137</td></tr>",
                            "<tr><td>7601</td><td>peter4</td><td>2015-11-08</td><td>2015-11-13</td><td>NULL</td><td>GLS</td><td>Készpénz</td><td>NULL</td><td>NULL</td></tr>",
                            "<tr><td>7602</td><td>peter4</td><td>2015-11-08</td><td>2015-11-17</td><td>NULL</td><td>GLS</td><td>Átutalás</td><td>NULL</td><td>NULL</td></tr>",
                            "<tr><td>7612</td><td>peter4</td><td>2015-11-08</td><td>2015-11-18</td><td>NULL</td><td>GLS</td><td>Átutalás</td><td>NULL</td><td>NULL</td></tr>",
                            "<tr><td>7655</td><td>peter4</td><td>2015-11-09</td><td>2015-11-17</td><td>NULL</td><td>Személyes átvétel</td><td>Készpénz</td><td>NULL</td><td>NULL</td></tr>",
                            "<tr><td>7665</td><td>peter4</td><td>2015-11-10</td><td>2015-11-16</td><td>NULL</td><td>GLS</td><td>Átutalás</td><td>NULL</td><td>NULL</td></tr>",
                            "<tr><td>7735</td><td>peter4</td><td>2015-11-12</td><td>2015-11-20</td><td>Jászkisér, Kiss u. 32.</td><td>Személyes átvétel</td><td>Átutalás</td><td>NULL</td><td>NULL</td></tr>",
                            "<tr><td>7752</td><td>peter4</td><td>2015-11-12</td><td>2015-11-15</td><td>Jászkisér, Nagy u.14.</td><td>Posta</td><td>Bankkártya</td><td>5137 Jászkisér, Nagy u.14.</td><td>5137</td></tr>",
                            "<tr><td>7758</td><td>peter4</td><td>2015-11-12</td><td>2015-11-22</td><td>Jászkisér, Fő u. 2.</td><td>Posta</td><td>Bankkártya</td><td>NULL</td><td>NULL</td></tr>",
                            "<tr><td>7759</td><td>peter4</td><td>2015-11-12</td><td>2015-11-22</td><td>NULL</td><td>Személyes átvétel</td><td>Átutalás</td><td>NULL</td><td>NULL</td></tr>",
                            "<tr><td>7858</td><td>peter4</td><td>2015-11-15</td><td>2015-11-23</td><td>NULL</td><td>Személyes átvétel</td><td>Bankkártya</td><td>NULL</td><td>NULL</td></tr>",
                            "<tr><td>7881</td><td>peter4</td><td>2015-11-15</td><td>2015-11-22</td><td>NULL</td><td>GLS</td><td>Bankkártya</td><td>NULL</td><td>NULL</td></tr>",
                            "<tr><td>7916</td><td>peter4</td><td>2015-11-16</td><td>2015-11-22</td><td>NULL</td><td>Személyes átvétel</td><td>Bankkártya</td><td>NULL</td><td>NULL</td></tr>",
                            "<tr><td>7926</td><td>peter4</td><td>2015-11-17</td><td>2015-11-23</td><td>NULL</td><td>Posta</td><td>Bankkártya</td><td>NULL</td><td>NULL</td></tr>",
                            "<tr><td>8005</td><td>peter4</td><td>2015-11-18</td><td>2015-11-22</td><td>NULL</td><td>Személyes átvétel</td><td>Átutalás</td><td>NULL</td><td>NULL</td></tr>",
                            "<tr><td>8011</td><td>peter4</td><td>2015-11-19</td><td>2015-11-25</td><td>NULL</td><td>GLS</td><td>Bankkártya</td><td>NULL</td><td>NULL</td></tr>",
                            "<tr><td>8063</td><td>peter4</td><td>2015-11-20</td><td>2015-11-23</td><td>NULL</td><td>Személyes átvétel</td><td>Átutalás</td><td>NULL</td><td>NULL</td></tr>",
                            "<tr><td>8070</td><td>peter4</td><td>2015-11-20</td><td>2015-11-25</td><td>NULL</td><td>GLS</td><td>Bankkártya</td><td>NULL</td><td>NULL</td></tr>",
                            "<tr><td>8232</td><td>peter4</td><td>2015-11-24</td><td>2015-12-02</td><td>NULL</td><td>Személyes átvétel</td><td>Átutalás</td><td>NULL</td><td>NULL</td></tr>",
                            "<tr><td>8265</td><td>peter4</td><td>2015-11-25</td><td>2015-12-01</td><td>NULL</td><td>Személyes átvétel</td><td>Bankkártya</td><td>NULL</td><td>NULL</td></tr>",
                            "<tr><td>8309</td><td>peter4</td><td>2015-11-26</td><td>2015-12-01</td><td>NULL</td><td>Posta</td><td>Átutalás</td><td>NULL</td><td>NULL</td></tr>",
                            "<tr><td>8316</td><td>peter4</td><td>2015-11-26</td><td>2015-11-29</td><td>Jászkisér, Fő u. 2.</td><td>GLS</td><td>Átutalás</td><td>5137 Jászkisér, Fő u. 2.</td><td>5137</td></tr>",
                            "<tr><td>8366</td><td>peter4</td><td>2015-11-28</td><td>2015-12-04</td><td>NULL</td><td>Személyes átvétel</td><td>Készpénz</td><td>NULL</td><td>NULL</td></tr>",
                            "<tr><td>8369</td><td>peter4</td><td>2015-11-28</td><td>2015-12-05</td><td>NULL</td><td>Posta</td><td>Átutalás</td><td>NULL</td><td>NULL</td></tr>",
                            "<tr><td>8372</td><td>peter4</td><td>2015-11-28</td><td>2015-12-08</td><td>Jászkisér, Kiss u. 32.</td><td>Posta</td><td>Bankkártya</td><td>5137 Jászkisér, Kiss u. 32.</td><td>5137</td></tr>",
                            "<tr><td>8384</td><td>peter4</td><td>2015-11-28</td><td>2015-12-08</td><td>NULL</td><td>Posta</td><td>Átutalás</td><td>NULL</td><td>NULL</td></tr>",
                            "<tr><td>8387</td><td>peter4</td><td>2015-11-28</td><td>2015-12-03</td><td>NULL</td><td>Posta</td><td>Átutalás</td><td>NULL</td><td>NULL</td></tr>",
                            "<tr><td>8404</td><td>peter4</td><td>2015-11-29</td><td>2015-12-01</td><td>NULL</td><td>GLS</td><td>Átutalás</td><td>NULL</td><td>NULL</td></tr>",
                            "<tr><td>8407</td><td>peter4</td><td>2015-11-29</td><td>2015-12-05</td><td>NULL</td><td>Posta</td><td>Átutalás</td><td>NULL</td><td>NULL</td></tr>",
                            "<tr><td>8453</td><td>peter4</td><td>2015-11-30</td><td>2015-12-09</td><td>NULL</td><td>Posta</td><td>Bankkártya</td><td>NULL</td><td>NULL</td></tr>",
                            "<tr><td>8511</td><td>peter4</td><td>2015-12-01</td><td>2015-12-07</td><td>NULL</td><td>GLS</td><td>Átutalás</td><td>NULL</td><td>NULL</td></tr>",
                            "<tr><td>8515</td><td>peter4</td><td>2015-12-01</td><td>2015-12-08</td><td>Jászkisér, Kiss u. 32.</td><td>Posta</td><td>Bankkártya</td><td>NULL</td><td>NULL</td></tr>",
                            "<tr><td>8603</td><td>peter4</td><td>2015-12-03</td><td>2015-12-12</td><td>NULL</td><td>Posta</td><td>Bankkártya</td><td>NULL</td><td>NULL</td></tr>",
                            "<tr><td>8655</td><td>peter4</td><td>2015-12-04</td><td>2015-12-13</td><td>NULL</td><td>Posta</td><td>Átutalás</td><td>NULL</td><td>NULL</td></tr>",
                            "<tr><td>8687</td><td>peter4</td><td>2015-12-05</td><td>2015-12-12</td><td>Jászkisér, Nagy u.14.</td><td>Személyes átvétel</td><td>Bankkártya</td><td>NULL</td><td>NULL</td></tr>",
                            "<tr><td>8720</td><td>peter4</td><td>2015-12-06</td><td>2015-12-10</td><td>NULL</td><td>GLS</td><td>Bankkártya</td><td>NULL</td><td>NULL</td></tr>",
                            "<tr><td>8773</td><td>peter4</td><td>2015-12-07</td><td>2015-12-17</td><td>NULL</td><td>Posta</td><td>Átutalás</td><td>NULL</td><td>NULL</td></tr>",
                            "<tr><td>8785</td><td>peter4</td><td>2015-12-07</td><td>2015-12-15</td><td>NULL</td><td>Személyes átvétel</td><td>Készpénz</td><td>NULL</td><td>NULL</td></tr>",
                            "<tr><td>8834</td><td>peter4</td><td>2015-12-09</td><td>2015-12-11</td><td>NULL</td><td>Posta</td><td>Átutalás</td><td>NULL</td><td>NULL</td></tr>",
                            "<tr><td>8859</td><td>peter4</td><td>2015-12-09</td><td>2015-12-16</td><td>NULL</td><td>Személyes átvétel</td><td>Átutalás</td><td>NULL</td><td>NULL</td></tr>",
                            "<tr><td>8905</td><td>peter4</td><td>2015-12-10</td><td>2015-12-12</td><td>Jászkisér, Kiss u. 32.</td><td>Személyes átvétel</td><td>Bankkártya</td><td>NULL</td><td>NULL</td></tr>",
                            "<tr><td>8940</td><td>peter4</td><td>2015-12-11</td><td>2015-12-14</td><td>NULL</td><td>Személyes átvétel</td><td>Bankkártya</td><td>NULL</td><td>NULL</td></tr>",
                            "<tr><td>8943</td><td>peter4</td><td>2015-12-11</td><td>2015-12-16</td><td>NULL</td><td>Posta</td><td>Bankkártya</td><td>NULL</td><td>NULL</td></tr>",
                            "<tr><td>9004</td><td>peter4</td><td>2015-12-13</td><td>2015-12-22</td><td>NULL</td><td>Személyes átvétel</td><td>Bankkártya</td><td>NULL</td><td>NULL</td></tr>",
                            "<tr><td>9081</td><td>peter4</td><td>2015-12-15</td><td>2015-12-25</td><td>Jászkisér, Fő u. 2.</td><td>Posta</td><td>Átutalás</td><td>NULL</td><td>NULL</td></tr>",
                            "<tr><td>9123</td><td>peter4</td><td>2015-12-16</td><td>2015-12-18</td><td>NULL</td><td>Személyes átvétel</td><td>Bankkártya</td><td>NULL</td><td>NULL</td></tr>",
                            "<tr><td>9129</td><td>peter4</td><td>2015-12-16</td><td>2015-12-18</td><td>Jászkisér, Nagy u.14.</td><td>Személyes átvétel</td><td>Bankkártya</td><td>5137 Jászkisér, Nagy u.14.</td><td>5137</td></tr>",
                            "<tr><td>9133</td><td>peter4</td><td>2015-12-16</td><td>2015-12-19</td><td>NULL</td><td>GLS</td><td>Bankkártya</td><td>NULL</td><td>NULL</td></tr>",
                            "<tr><td>9174</td><td>peter4</td><td>2015-12-17</td><td>2015-12-26</td><td>NULL</td><td>Posta</td><td>Átutalás</td><td>NULL</td><td>NULL</td></tr>",
                            "<tr><td>9180</td><td>peter4</td><td>2015-12-18</td><td>2015-12-28</td><td>Jászkisér, Fő u. 2.</td><td>Személyes átvétel</td><td>Készpénz</td><td>5137 Jászkisér, Fő u. 2.</td><td>5137</td></tr>",
                            "<tr><td>9227</td><td>peter4</td><td>2015-12-19</td><td>2015-12-21</td><td>NULL</td><td>Személyes átvétel</td><td>Átutalás</td><td>NULL</td><td>NULL</td></tr>",
                            "<tr><td>9238</td><td>peter4</td><td>2015-12-19</td><td>2015-12-27</td><td>NULL</td><td>Személyes átvétel</td><td>Bankkártya</td><td>NULL</td><td>NULL</td></tr>",
                            "<tr><td>9259</td><td>peter4</td><td>2015-12-20</td><td>2015-12-26</td><td>NULL</td><td>Személyes átvétel</td><td>Átutalás</td><td>NULL</td><td>NULL</td></tr>",
                            "<tr><td>9305</td><td>peter4</td><td>2015-12-21</td><td>2015-12-24</td><td>NULL</td><td>GLS</td><td>Átutalás</td><td>NULL</td><td>NULL</td></tr>",
                            "<tr><td>9339</td><td>peter4</td><td>2015-12-22</td><td>2015-12-30</td><td>NULL</td><td>Személyes átvétel</td><td>Bankkártya</td><td>NULL</td><td>NULL</td></tr>",
                            "<tr><td>9341</td><td>peter4</td><td>2015-12-22</td><td>2015-12-29</td><td>NULL</td><td>Posta</td><td>Átutalás</td><td>NULL</td><td>NULL</td></tr>",
                            "<tr><td>9362</td><td>peter4</td><td>2015-12-22</td><td>2016-01-01</td><td>NULL</td><td>GLS</td><td>Bankkártya</td><td>NULL</td><td>NULL</td></tr>",
                            "<tr><td>9371</td><td>peter4</td><td>2015-12-22</td><td>2015-12-27</td><td>NULL</td><td>Posta</td><td>Átutalás</td><td>NULL</td><td>NULL</td></tr>",
                            "<tr><td>9397</td><td>peter4</td><td>2015-12-23</td><td>2015-12-31</td><td>NULL</td><td>Posta</td><td>Átutalás</td><td>NULL</td><td>NULL</td></tr>",
                            "<tr><td>9439</td><td>peter4</td><td>2015-12-24</td><td>2016-01-02</td><td>NULL</td><td>Posta</td><td>Átutalás</td><td>NULL</td><td>NULL</td></tr>",
                            "<tr><td>9452</td><td>peter4</td><td>2015-12-24</td><td>2016-01-02</td><td>Jászkisér, Nagy u.14.</td><td>Személyes átvétel</td><td>Átutalás</td><td>NULL</td><td>NULL</td></tr>",
                            "<tr><td>9472</td><td>peter4</td><td>2015-12-25</td><td>2015-12-28</td><td>NULL</td><td>Személyes átvétel</td><td>Bankkártya</td><td>NULL</td><td>NULL</td></tr>",
                            "<tr><td>9483</td><td>peter4</td><td>2015-12-25</td><td>2016-01-02</td><td>NULL</td><td>GLS</td><td>Bankkártya</td><td>NULL</td><td>NULL</td></tr>",
                            "<tr><td>9493</td><td>peter4</td><td>2015-12-25</td><td>2016-01-04</td><td>NULL</td><td>Személyes átvétel</td><td>Bankkártya</td><td>NULL</td><td>NULL</td></tr>",
                            "<tr><td>9503</td><td>peter4</td><td>2015-12-26</td><td>2015-12-31</td><td>Jászkisér, Kiss u. 32.</td><td>Személyes átvétel</td><td>Átutalás</td><td>NULL</td><td>NULL</td></tr>",
                            "<tr><td>9554</td><td>peter4</td><td>2015-12-27</td><td>2016-01-01</td><td>Jászkisér, Nagy u.14.</td><td>GLS</td><td>Bankkártya</td><td>NULL</td><td>NULL</td></tr>",
                            "<tr><td>9556</td><td>peter4</td><td>2015-12-27</td><td>2016-01-03</td><td>NULL</td><td>Személyes átvétel</td><td>Átutalás</td><td>NULL</td><td>NULL</td></tr>",
                            "<tr><td>9584</td><td>peter4</td><td>2015-12-28</td><td>2016-01-07</td><td>NULL</td><td>Posta</td><td>Bankkártya</td><td>NULL</td><td>NULL</td></tr>",
                            "<tr><td>9594</td><td>peter4</td><td>2015-12-28</td><td>2016-01-03</td><td>Jászkisér, Fő u. 2.</td><td>GLS</td><td>Bankkártya</td><td>5137 Jászkisér, Fő u. 2.</td><td>5137</td></tr>",
                            "<tr><td>9631</td><td>peter4</td><td>2015-12-29</td><td>2016-01-05</td><td>NULL</td><td>Posta</td><td>Bankkártya</td><td>NULL</td><td>NULL</td></tr>",
                            "<tr><td>9698</td><td>peter4</td><td>2015-12-30</td><td>2016-01-06</td><td>Jászkisér, Kiss u. 32.</td><td>Posta</td><td>Bankkártya</td><td>5137 Jászkisér, Kiss u. 32.</td><td>5137</td></tr>",
                            "<tr><td>9788</td><td>peter4</td><td>2016-01-02</td><td>2016-01-09</td><td>NULL</td><td>Személyes átvétel</td><td>Bankkártya</td><td>NULL</td><td>NULL</td></tr>",
                            "<tr><td>9811</td><td>peter4</td><td>2016-01-02</td><td>2016-01-05</td><td>NULL</td><td>GLS</td><td>Átutalás</td><td>NULL</td><td>NULL</td></tr>",
                            "<tr><td>9823</td><td>peter4</td><td>2016-01-03</td><td>2016-01-08</td><td>NULL</td><td>Személyes átvétel</td><td>Átutalás</td><td>NULL</td><td>NULL</td></tr>",
                            "<tr><td>9826</td><td>peter4</td><td>2016-01-03</td><td>2016-01-10</td><td>Jászkisér, Nagy u.14.</td><td>Posta</td><td>Bankkártya</td><td>NULL</td><td>NULL</td></tr>",
                            "<tr><td>9834</td><td>peter4</td><td>2016-01-03</td><td>2016-01-07</td><td>NULL</td><td>Személyes átvétel</td><td>Átutalás</td><td>NULL</td><td>NULL</td></tr>",
                            "<tr><td>9856</td><td>peter4</td><td>2016-01-03</td><td>2016-01-05</td><td>NULL</td><td>Posta</td><td>Átutalás</td><td>NULL</td><td>NULL</td></tr>",
                            "<tr><td>9858</td><td>peter4</td><td>2016-01-03</td><td>2016-01-07</td><td>NULL</td><td>Személyes átvétel</td><td>Átutalás</td><td>NULL</td><td>NULL</td></tr>",
                            "<tr><td>9861</td><td>peter4</td><td>2016-01-03</td><td>2016-01-12</td><td>NULL</td><td>Posta</td><td>Bankkártya</td><td>NULL</td><td>NULL</td></tr>",
                            "<tr><td>9886</td><td>peter4</td><td>2016-01-04</td><td>2016-01-06</td><td>NULL</td><td>Személyes átvétel</td><td>Átutalás</td><td>NULL</td><td>NULL</td></tr>",
                            "<tr><td>9890</td><td>peter4</td><td>2016-01-04</td><td>2016-01-13</td><td>NULL</td><td>Posta</td><td>Bankkártya</td><td>NULL</td><td>NULL</td></tr>",
                            "<tr><td>9943</td><td>peter4</td><td>2016-01-06</td><td>2016-01-08</td><td>NULL</td><td>Személyes átvétel</td><td>Átutalás</td><td>NULL</td><td>NULL</td></tr>",
                            "<tr><td>9948</td><td>peter4</td><td>2016-01-06</td><td>2016-01-11</td><td>NULL</td><td>Posta</td><td>Átutalás</td><td>NULL</td><td>NULL</td></tr>",
                            "<tr><td>9984</td><td>peter4</td><td>2016-01-07</td><td>2016-01-11</td><td>Jászkisér, Kiss u. 32.</td><td>Személyes átvétel</td><td>Átutalás</td><td>5137 Jászkisér, Kiss u. 32.</td><td>5137</td></tr>",
                            "<tr><td>9994</td><td>peter4</td><td>2016-01-07</td><td>2016-01-11</td><td>NULL</td><td>Személyes átvétel</td><td>Átutalás</td><td>NULL</td><td>NULL</td></tr>",
                            "<tr><td>10040</td><td>peter4</td><td>2016-01-08</td><td>2016-01-14</td><td>NULL</td><td>GLS</td><td>Bankkártya</td><td>NULL</td><td>NULL</td></tr>",
                            "<tr><td>10048</td><td>peter4</td><td>2016-01-08</td><td>2016-01-18</td><td>NULL</td><td>Személyes átvétel</td><td>Bankkártya</td><td>NULL</td><td>NULL</td></tr>",
                            "<tr><td>10082</td><td>peter4</td><td>2016-01-09</td><td>2016-01-15</td><td>NULL</td><td>GLS</td><td>Bankkártya</td><td>NULL</td><td>NULL</td></tr>",
                            "<tr><td>10085</td><td>peter4</td><td>2016-01-09</td><td>2016-01-17</td><td>NULL</td><td>Személyes átvétel</td><td>Átutalás</td><td>NULL</td><td>NULL</td></tr>",
                            "<tr><td>10086</td><td>peter4</td><td>2016-01-09</td><td>2016-01-19</td><td>NULL</td><td>Posta</td><td>Bankkártya</td><td>NULL</td><td>NULL</td></tr>",
                            "<tr><td>10106</td><td>peter4</td><td>2016-01-10</td><td>2016-01-12</td><td>NULL</td><td>Személyes átvétel</td><td>Bankkártya</td><td>NULL</td><td>NULL</td></tr>",
                            "<tr><td>10128</td><td>peter4</td><td>2016-01-10</td><td>2016-01-20</td><td>NULL</td><td>Posta</td><td>Bankkártya</td><td>NULL</td><td>NULL</td></tr>",
                            "<tr><td>10144</td><td>peter4</td><td>2016-01-11</td><td>2016-01-17</td><td>NULL</td><td>Személyes átvétel</td><td>Átutalás</td><td>NULL</td><td>NULL</td></tr>",
                            "<tr><td>10150</td><td>peter4</td><td>2016-01-11</td><td>2016-01-18</td><td>NULL</td><td>Személyes átvétel</td><td>Átutalás</td><td>NULL</td><td>NULL</td></tr>",
                            "<tr><td>10215</td><td>peter4</td><td>2016-01-12</td><td>2016-01-21</td><td>Jászkisér, Fő u. 2.</td><td>Posta</td><td>Bankkártya</td><td>NULL</td><td>NULL</td></tr>",
                            "<tr><td>10265</td><td>peter4</td><td>2016-01-13</td><td>2016-01-16</td><td>NULL</td><td>Posta</td><td>Bankkártya</td><td>NULL</td><td>NULL</td></tr>",
                            "<tr><td>10281</td><td>peter4</td><td>2016-01-14</td><td>2016-01-23</td><td>NULL</td><td>Személyes átvétel</td><td>Bankkártya</td><td>NULL</td><td>NULL</td></tr>",
                            "<tr><td>10319</td><td>peter4</td><td>2016-01-15</td><td>2016-01-21</td><td>Jászkisér, Nagy u.14.</td><td>Posta</td><td>Átutalás</td><td>NULL</td><td>NULL</td></tr>",
                            "<tr><td>10334</td><td>peter4</td><td>2016-01-15</td><td>2016-01-17</td><td>NULL</td><td>Személyes átvétel</td><td>Átutalás</td><td>NULL</td><td>NULL</td></tr>",
                            "<tr><td>10464</td><td>peter4</td><td>2016-01-19</td><td>2016-01-21</td><td>NULL</td><td>Személyes átvétel</td><td>Bankkártya</td><td>NULL</td><td>NULL</td></tr>",
                            "<tr><td>10477</td><td>peter4</td><td>2016-01-19</td><td>2016-01-21</td><td>NULL</td><td>Posta</td><td>Átutalás</td><td>NULL</td><td>NULL</td></tr>",
                            "<tr><td>10479</td><td>peter4</td><td>2016-01-19</td><td>2016-01-25</td><td>NULL</td><td>Személyes átvétel</td><td>Bankkártya</td><td>NULL</td><td>NULL</td></tr>",
                            "<tr><td>10490</td><td>peter4</td><td>2016-01-19</td><td>2016-01-27</td><td>NULL</td><td>GLS</td><td>Átutalás</td><td>NULL</td><td>NULL</td></tr>",
                            "<tr><td>10492</td><td>peter4</td><td>2016-01-19</td><td>2016-01-28</td><td>NULL</td><td>Posta</td><td>Bankkártya</td><td>NULL</td><td>NULL</td></tr>",
                            "<tr><td>10494</td><td>peter4</td><td>2016-01-19</td><td>2016-01-22</td><td>Jászkisér, Fő u. 2.</td><td>Posta</td><td>Készpénz</td><td>NULL</td><td>NULL</td></tr>",
                            "<tr><td>10522</td><td>peter4</td><td>2016-01-20</td><td>2016-01-22</td><td>NULL</td><td>GLS</td><td>Bankkártya</td><td>NULL</td><td>NULL</td></tr>",
                            "<tr><td>10523</td><td>peter4</td><td>2016-01-20</td><td>2016-01-30</td><td>Jászkisér, Nagy u.14.</td><td>GLS</td><td>Készpénz</td><td>NULL</td><td>NULL</td></tr>",
                            "<tr><td>10532</td><td>peter4</td><td>2016-01-20</td><td>2016-01-28</td><td>NULL</td><td>GLS</td><td>Átutalás</td><td>NULL</td><td>NULL</td></tr>",
                            "<tr><td>10577</td><td>peter4</td><td>2016-01-22</td><td>2016-02-01</td><td>NULL</td><td>Posta</td><td>Bankkártya</td><td>NULL</td><td>NULL</td></tr>",
                            "<tr><td>10605</td><td>peter4</td><td>2016-01-22</td><td>2016-01-28</td><td>NULL</td><td>Személyes átvétel</td><td>Átutalás</td><td>NULL</td><td>NULL</td></tr>",
                            "<tr><td>10636</td><td>peter4</td><td>2016-01-23</td><td>2016-01-29</td><td>NULL</td><td>GLS</td><td>Bankkártya</td><td>NULL</td><td>NULL</td></tr>",
                            "<tr><td>10648</td><td>peter4</td><td>2016-01-24</td><td>2016-01-29</td><td>NULL</td><td>GLS</td><td>Bankkártya</td><td>NULL</td><td>NULL</td></tr>",
                            "<tr><td>10662</td><td>peter4</td><td>2016-01-24</td><td>2016-01-30</td><td>NULL</td><td>GLS</td><td>Bankkártya</td><td>NULL</td><td>NULL</td></tr>",
                            "<tr><td>10710</td><td>peter4</td><td>2016-01-25</td><td>2016-01-29</td><td>Jászkisér, Fő u. 2.</td><td>Személyes átvétel</td><td>Bankkártya</td><td>5137 Jászkisér, Fő u. 2.</td><td>5137</td></tr>",
                            "<tr><td>10711</td><td>peter4</td><td>2016-01-25</td><td>2016-02-03</td><td>NULL</td><td>GLS</td><td>Átutalás</td><td>NULL</td><td>NULL</td></tr>",
                            "<tr><td>10720</td><td>peter4</td><td>2016-01-25</td><td>2016-02-01</td><td>NULL</td><td>Posta</td><td>Bankkártya</td><td>NULL</td><td>NULL</td></tr>",
                            "<tr><td>10780</td><td>peter4</td><td>2016-01-27</td><td>2016-02-03</td><td>NULL</td><td>GLS</td><td>Bankkártya</td><td>NULL</td><td>NULL</td></tr>",
                            "<tr><td>10813</td><td>peter4</td><td>2016-01-27</td><td>2016-02-06</td><td>NULL</td><td>Személyes átvétel</td><td>Bankkártya</td><td>NULL</td><td>NULL</td></tr>",
                            "<tr><td>10823</td><td>peter4</td><td>2016-01-28</td><td>2016-02-03</td><td>NULL</td><td>Személyes átvétel</td><td>Bankkártya</td><td>NULL</td><td>NULL</td></tr>",
                            "<tr><td>10915</td><td>peter4</td><td>2016-01-30</td><td>2016-02-01</td><td>NULL</td><td>Személyes átvétel</td><td>Átutalás</td><td>NULL</td><td>NULL</td></tr>",
                            "<tr><td>10932</td><td>peter4</td><td>2016-01-30</td><td>2016-02-06</td><td>NULL</td><td>GLS</td><td>Átutalás</td><td>NULL</td><td>NULL</td></tr>",
                            "<tr><td>10947</td><td>peter4</td><td>2016-01-31</td><td>2016-02-10</td><td>NULL</td><td>GLS</td><td>Átutalás</td><td>NULL</td><td>NULL</td></tr>",
                            "<tr><td>11033</td><td>peter4</td><td>2016-02-02</td><td>2016-02-06</td><td>Jászkisér, Nagy u.14.</td><td>GLS</td><td>Készpénz</td><td>NULL</td><td>NULL</td></tr>",
                            "<tr><td>11047</td><td>peter4</td><td>2016-02-02</td><td>2016-02-08</td><td>NULL</td><td>Személyes átvétel</td><td>Átutalás</td><td>NULL</td><td>NULL</td></tr>",
                            "<tr><td>11056</td><td>peter4</td><td>2016-02-02</td><td>2016-02-09</td><td>NULL</td><td>GLS</td><td>Átutalás</td><td>NULL</td><td>NULL</td></tr>",
                            "<tr><td>11087</td><td>peter4</td><td>2016-02-03</td><td>2016-02-12</td><td>NULL</td><td>GLS</td><td>Bankkártya</td><td>NULL</td><td>NULL</td></tr>",
                            "<tr><td>11111</td><td>peter4</td><td>2016-02-04</td><td>2016-02-06</td><td>NULL</td><td>GLS</td><td>Készpénz</td><td>NULL</td><td>NULL</td></tr>",
                            "<tr><td>11122</td><td>peter4</td><td>2016-02-04</td><td>2016-02-11</td><td>NULL</td><td>Személyes átvétel</td><td>Átutalás</td><td>NULL</td><td>NULL</td></tr>",
                            "<tr><td>11134</td><td>peter4</td><td>2016-02-04</td><td>2016-02-06</td><td>NULL</td><td>Posta</td><td>Bankkártya</td><td>NULL</td><td>NULL</td></tr>",
                            "<tr><td>11171</td><td>peter4</td><td>2016-02-05</td><td>2016-02-12</td><td>NULL</td><td>Posta</td><td>Átutalás</td><td>NULL</td><td>NULL</td></tr>",
                            "<tr><td>11247</td><td>peter4</td><td>2016-02-07</td><td>2016-02-15</td><td>NULL</td><td>Személyes átvétel</td><td>Átutalás</td><td>NULL</td><td>NULL</td></tr>",
                            "<tr><td>11255</td><td>peter4</td><td>2016-02-07</td><td>2016-02-14</td><td>NULL</td><td>Személyes átvétel</td><td>Bankkártya</td><td>NULL</td><td>NULL</td></tr>",
                            "<tr><td>11259</td><td>peter4</td><td>2016-02-07</td><td>2016-02-12</td><td>Jászkisér, Fő u. 2.</td><td>GLS</td><td>Átutalás</td><td>5137 Jászkisér, Fő u. 2.</td><td>5137</td></tr>",
                            "<tr><td>11322</td><td>peter4</td><td>2016-02-09</td><td>2016-02-17</td><td>Jászkisér, Fő u. 2.</td><td>Személyes átvétel</td><td>Bankkártya</td><td>5137 Jászkisér, Fő u. 2.</td><td>5137</td></tr>",
                            "<tr><td>11371</td><td>peter4</td><td>2016-02-10</td><td>2016-02-17</td><td>NULL</td><td>GLS</td><td>Átutalás</td><td>NULL</td><td>NULL</td></tr>",
                            "<tr><td>11381</td><td>peter4</td><td>2016-02-10</td><td>2016-02-19</td><td>NULL</td><td>Személyes átvétel</td><td>Bankkártya</td><td>NULL</td><td>NULL</td></tr>",
                            "<tr><td>11390</td><td>peter4</td><td>2016-02-11</td><td>2016-02-20</td><td>Jászkisér, Nagy u.14.</td><td>Személyes átvétel</td><td>Átutalás</td><td>NULL</td><td>NULL</td></tr>",
                            "<tr><td>11465</td><td>peter4</td><td>2016-02-12</td><td>2016-02-20</td><td>NULL</td><td>Posta</td><td>Bankkártya</td><td>NULL</td><td>NULL</td></tr>",
                            "<tr><td>11481</td><td>peter4</td><td>2016-02-13</td><td>2016-02-22</td><td>NULL</td><td>GLS</td><td>Bankkártya</td><td>NULL</td><td>NULL</td></tr>",
                            "<tr><td>11531</td><td>peter4</td><td>2016-02-14</td><td>2016-02-17</td><td>Jászkisér, Kiss u. 32.</td><td>GLS</td><td>Átutalás</td><td>NULL</td><td>NULL</td></tr>",
                            "<tr><td>11638</td><td>peter4</td><td>2016-02-17</td><td>2016-02-26</td><td>NULL</td><td>GLS</td><td>Bankkártya</td><td>NULL</td><td>NULL</td></tr>",
                            "<tr><td>11641</td><td>peter4</td><td>2016-02-17</td><td>2016-02-22</td><td>NULL</td><td>GLS</td><td>Bankkártya</td><td>NULL</td><td>NULL</td></tr>",
                            "<tr><td>11646</td><td>peter4</td><td>2016-02-17</td><td>2016-02-21</td><td>Jászkisér, Fő u. 2.</td><td>Posta</td><td>Bankkártya</td><td>NULL</td><td>NULL</td></tr>",
                            "<tr><td>11749</td><td>peter4</td><td>2016-02-20</td><td>2016-02-28</td><td>NULL</td><td>Posta</td><td>Bankkártya</td><td>NULL</td><td>NULL</td></tr>",
                            "<tr><td>11813</td><td>peter4</td><td>2016-02-21</td><td>2016-03-02</td><td>NULL</td><td>Posta</td><td>Bankkártya</td><td>NULL</td><td>NULL</td></tr>",
                            "<tr><td>11819</td><td>peter4</td><td>2016-02-21</td><td>2016-02-29</td><td>NULL</td><td>Posta</td><td>Bankkártya</td><td>NULL</td><td>NULL</td></tr>",
                            "<tr><td>11820</td><td>peter4</td><td>2016-02-21</td><td>2016-03-02</td><td>NULL</td><td>GLS</td><td>Átutalás</td><td>NULL</td><td>NULL</td></tr>",
                            "<tr><td>11847</td><td>peter4</td><td>2016-02-22</td><td>2016-02-28</td><td>NULL</td><td>GLS</td><td>Bankkártya</td><td>NULL</td><td>NULL</td></tr>",
                            "<tr><td>11855</td><td>peter4</td><td>2016-02-22</td><td>2016-02-26</td><td>NULL</td><td>Személyes átvétel</td><td>Készpénz</td><td>NULL</td><td>NULL</td></tr>",
                            "<tr><td>11856</td><td>peter4</td><td>2016-02-22</td><td>2016-02-27</td><td>Jászkisér, Kiss u. 32.</td><td>Személyes átvétel</td><td>Bankkártya</td><td>5137 Jászkisér, Kiss u. 32.</td><td>5137</td></tr>",
                            "<tr><td>11932</td><td>peter4</td><td>2016-02-24</td><td>2016-02-27</td><td>NULL</td><td>Posta</td><td>Bankkártya</td><td>NULL</td><td>NULL</td></tr>",
                            "<tr><td>11981</td><td>peter4</td><td>2016-02-25</td><td>2016-02-28</td><td>NULL</td><td>Posta</td><td>Átutalás</td><td>NULL</td><td>NULL</td></tr>",
                            "<tr><td>12062</td><td>peter4</td><td>2016-02-27</td><td>2016-03-02</td><td>NULL</td><td>Posta</td><td>Bankkártya</td><td>NULL</td><td>NULL</td></tr>",
                            "<tr><td>12065</td><td>peter4</td><td>2016-02-27</td><td>2016-03-07</td><td>NULL</td><td>Posta</td><td>Készpénz</td><td>NULL</td><td>NULL</td></tr>",
                            "<tr><td>12070</td><td>peter4</td><td>2016-02-27</td><td>2016-03-03</td><td>Jászkisér, Nagy u.14.</td><td>Személyes átvétel</td><td>Átutalás</td><td>NULL</td><td>NULL</td></tr>",
                            "<tr><td>12092</td><td>peter4</td><td>2016-02-28</td><td>2016-03-01</td><td>NULL</td><td>Személyes átvétel</td><td>Bankkártya</td><td>NULL</td><td>NULL</td></tr>",
                            "<tr><td>12112</td><td>peter4</td><td>2016-02-28</td><td>2016-03-03</td><td>NULL</td><td>Személyes átvétel</td><td>Átutalás</td><td>NULL</td><td>NULL</td></tr>",
                            "<tr><td>12122</td><td>peter4</td><td>2016-02-28</td><td>2016-03-09</td><td>NULL</td><td>Személyes átvétel</td><td>Átutalás</td><td>NULL</td><td>NULL</td></tr>",
                            "<tr><td>12150</td><td>peter4</td><td>2016-02-29</td><td>2016-03-05</td><td>Jászkisér, Fő u. 2.</td><td>Személyes átvétel</td><td>Bankkártya</td><td>5137 Jászkisér, Fő u. 2.</td><td>5137</td></tr>",
                            "<tr><td>12160</td><td>peter4</td><td>2016-02-29</td><td>2016-03-07</td><td>NULL</td><td>Posta</td><td>Bankkártya</td><td>NULL</td><td>NULL</td></tr>",
                            "<tr><td>12244</td><td>peter4</td><td>2016-03-02</td><td>2016-03-07</td><td>NULL</td><td>Személyes átvétel</td><td>Átutalás</td><td>NULL</td><td>NULL</td></tr>",
                            "<tr><td>12272</td><td>peter4</td><td>2016-03-03</td><td>2016-03-08</td><td>Jászkisér, Kiss u. 32.</td><td>Személyes átvétel</td><td>Átutalás</td><td>5137 Jászkisér, Kiss u. 32.</td><td>5137</td></tr>",
                            "<tr><td>12353</td><td>peter4</td><td>2016-03-05</td><td>2016-03-10</td><td>NULL</td><td>GLS</td><td>Átutalás</td><td>NULL</td><td>NULL</td></tr>",
                            "<tr><td>12382</td><td>peter4</td><td>2016-03-06</td><td>2016-03-09</td><td>NULL</td><td>Személyes átvétel</td><td>Átutalás</td><td>NULL</td><td>NULL</td></tr>",
                            "<tr><td>12429</td><td>peter4</td><td>2016-03-07</td><td>2016-03-10</td><td>Jászkisér, Fő u. 2.</td><td>Posta</td><td>Bankkártya</td><td>NULL</td><td>NULL</td></tr>",
                            "<tr><td>12431</td><td>peter4</td><td>2016-03-07</td><td>2016-03-12</td><td>NULL</td><td>Posta</td><td>Átutalás</td><td>NULL</td><td>NULL</td></tr>",
                            "<tr><td>12444</td><td>peter4</td><td>2016-03-07</td><td>2016-03-16</td><td>Jászkisér, Nagy u.14.</td><td>GLS</td><td>Bankkártya</td><td>5137 Jászkisér, Nagy u.14.</td><td>5137</td></tr>",
                            "<tr><td>12476</td><td>peter4</td><td>2016-03-08</td><td>2016-03-10</td><td>NULL</td><td>Személyes átvétel</td><td>Készpénz</td><td>NULL</td><td>NULL</td></tr>",
                            "<tr><td>12483</td><td>peter4</td><td>2016-03-08</td><td>2016-03-11</td><td>Jászkisér, Fő u. 2.</td><td>GLS</td><td>Bankkártya</td><td>NULL</td><td>NULL</td></tr>",
                            "<tr><td>12492</td><td>peter4</td><td>2016-03-08</td><td>2016-03-10</td><td>Jászkisér, Fő u. 2.</td><td>Személyes átvétel</td><td>Készpénz</td><td>NULL</td><td>NULL</td></tr>",
                            "<tr><td>12496</td><td>peter4</td><td>2016-03-08</td><td>2016-03-16</td><td>NULL</td><td>Posta</td><td>Készpénz</td><td>NULL</td><td>NULL</td></tr>",
                            "<tr><td>12565</td><td>peter4</td><td>2016-03-10</td><td>2016-03-12</td><td>NULL</td><td>Személyes átvétel</td><td>Bankkártya</td><td>NULL</td><td>NULL</td></tr>",
                            "<tr><td>12669</td><td>peter4</td><td>2016-03-13</td><td>2016-03-21</td><td>NULL</td><td>Személyes átvétel</td><td>Átutalás</td><td>NULL</td><td>NULL</td></tr>",
                            "<tr><td>12774</td><td>peter4</td><td>2016-03-15</td><td>2016-03-17</td><td>NULL</td><td>GLS</td><td>Bankkártya</td><td>NULL</td><td>NULL</td></tr>",
                            "<tr><td>12809</td><td>peter4</td><td>2016-03-16</td><td>2016-03-26</td><td>NULL</td><td>Posta</td><td>Bankkártya</td><td>NULL</td><td>NULL</td></tr>",
                            "<tr><td>12835</td><td>peter4</td><td>2016-03-17</td><td>2016-03-22</td><td>Jászkisér, Nagy u.14.</td><td>Posta</td><td>Átutalás</td><td>NULL</td><td>NULL</td></tr>",
                            "<tr><td>12864</td><td>peter4</td><td>2016-03-18</td><td>2016-03-24</td><td>NULL</td><td>GLS</td><td>Bankkártya</td><td>NULL</td><td>NULL</td></tr>",
                            "<tr><td>12886</td><td>peter4</td><td>2016-03-18</td><td>2016-03-20</td><td>Jászkisér, Nagy u.14.</td><td>Posta</td><td>Átutalás</td><td>NULL</td><td>NULL</td></tr>",
                            "<tr><td>12913</td><td>peter4</td><td>2016-03-19</td><td>2016-03-22</td><td>NULL</td><td>Posta</td><td>Készpénz</td><td>NULL</td><td>NULL</td></tr>",
                            "<tr><td>12963</td><td>peter4</td><td>2016-03-20</td><td>2016-03-23</td><td>NULL</td><td>Személyes átvétel</td><td>Átutalás</td><td>NULL</td><td>NULL</td></tr>",
                            "<tr><td>12965</td><td>peter4</td><td>2016-03-20</td><td>2016-03-29</td><td>NULL</td><td>Személyes átvétel</td><td>Bankkártya</td><td>NULL</td><td>NULL</td></tr>",
                            "<tr><td>12978</td><td>peter4</td><td>2016-03-20</td><td>2016-03-30</td><td>Jászkisér, Fő u. 2.</td><td>Személyes átvétel</td><td>Bankkártya</td><td>NULL</td><td>NULL</td></tr>",
                            "<tr><td>12980</td><td>peter4</td><td>2016-03-20</td><td>2016-03-24</td><td>NULL</td><td>Személyes átvétel</td><td>Átutalás</td><td>NULL</td><td>NULL</td></tr>",
                            "<tr><td>13045</td><td>peter4</td><td>2016-03-22</td><td>2016-03-24</td><td>NULL</td><td>GLS</td><td>Bankkártya</td><td>NULL</td><td>NULL</td></tr>",
                            "<tr><td>13089</td><td>peter4</td><td>2016-03-23</td><td>2016-03-25</td><td>NULL</td><td>GLS</td><td>Átutalás</td><td>NULL</td><td>NULL</td></tr>",
                            "<tr><td>13127</td><td>peter4</td><td>2016-03-24</td><td>2016-03-27</td><td>NULL</td><td>Személyes átvétel</td><td>Bankkártya</td><td>NULL</td><td>NULL</td></tr>",
                            "<tr><td>13160</td><td>peter4</td><td>2016-03-25</td><td>2016-03-27</td><td>NULL</td><td>GLS</td><td>Bankkártya</td><td>NULL</td><td>NULL</td></tr>",
                            "<tr><td>13190</td><td>peter4</td><td>2016-03-25</td><td>2016-04-03</td><td>NULL</td><td>Posta</td><td>Bankkártya</td><td>NULL</td><td>NULL</td></tr>",
                            "<tr><td>13191</td><td>peter4</td><td>2016-03-25</td><td>2016-03-27</td><td>NULL</td><td>Személyes átvétel</td><td>Bankkártya</td><td>NULL</td><td>NULL</td></tr>",
                            "<tr><td>13231</td><td>peter4</td><td>2016-03-26</td><td>2016-03-31</td><td>NULL</td><td>GLS</td><td>Bankkártya</td><td>NULL</td><td>NULL</td></tr>",
                            "<tr><td>13255</td><td>peter4</td><td>2016-03-27</td><td>2016-03-30</td><td>NULL</td><td>GLS</td><td>Bankkártya</td><td>NULL</td><td>NULL</td></tr>",
                            "<tr><td>13284</td><td>peter4</td><td>2016-03-28</td><td>2016-04-05</td><td>Jászkisér, Fő u. 2.</td><td>Posta</td><td>Bankkártya</td><td>5137 Jászkisér, Fő u. 2.</td><td>5137</td></tr>",
                            "<tr><td>13290</td><td>peter4</td><td>2016-03-28</td><td>2016-03-31</td><td>NULL</td><td>GLS</td><td>Bankkártya</td><td>NULL</td><td>NULL</td></tr>",
                            "<tr><td>13291</td><td>peter4</td><td>2016-03-28</td><td>2016-04-07</td><td>NULL</td><td>Személyes átvétel</td><td>Bankkártya</td><td>NULL</td><td>NULL</td></tr>",
                            "<tr><td>13307</td><td>peter4</td><td>2016-03-28</td><td>2016-04-07</td><td>NULL</td><td>Személyes átvétel</td><td>Készpénz</td><td>NULL</td><td>NULL</td></tr>",
                            "<tr><td>13310</td><td>peter4</td><td>2016-03-28</td><td>2016-04-06</td><td>NULL</td><td>Posta</td><td>Átutalás</td><td>NULL</td><td>NULL</td></tr>",
                            "<tr><td>13315</td><td>peter4</td><td>2016-03-28</td><td>2016-04-07</td><td>NULL</td><td>Posta</td><td>Bankkártya</td><td>NULL</td><td>NULL</td></tr>",
                            "<tr><td>13327</td><td>peter4</td><td>2016-03-29</td><td>2016-03-31</td><td>NULL</td><td>GLS</td><td>Bankkártya</td><td>NULL</td><td>NULL</td></tr>",
                            "<tr><td>13336</td><td>peter4</td><td>2016-03-29</td><td>2016-04-03</td><td>NULL</td><td>GLS</td><td>Átutalás</td><td>NULL</td><td>NULL</td></tr>",
                            "<tr><td>13340</td><td>peter4</td><td>2016-03-29</td><td>2016-04-02</td><td>NULL</td><td>Posta</td><td>Készpénz</td><td>NULL</td><td>NULL</td></tr>",
                            "<tr><td>13355</td><td>peter4</td><td>2016-03-29</td><td>2016-04-07</td><td>NULL</td><td>GLS</td><td>Bankkártya</td><td>NULL</td><td>NULL</td></tr>",
                            "<tr><td>13432</td><td>peter4</td><td>2016-03-31</td><td>2016-04-10</td><td>NULL</td><td>GLS</td><td>Átutalás</td><td>NULL</td><td>NULL</td></tr>",
                            "<tr><td>13507</td><td>peter4</td><td>2016-04-02</td><td>2016-04-04</td><td>Jászkisér, Kiss u. 32.</td><td>GLS</td><td>Bankkártya</td><td>NULL</td><td>NULL</td></tr>",
                            "<tr><td>13607</td><td>peter4</td><td>2016-04-04</td><td>2016-04-06</td><td>NULL</td><td>Posta</td><td>Bankkártya</td><td>NULL</td><td>NULL</td></tr>",
                            "<tr><td>13620</td><td>peter4</td><td>2016-04-05</td><td>2016-04-15</td><td>NULL</td><td>GLS</td><td>Átutalás</td><td>NULL</td><td>NULL</td></tr>",
                            "<tr><td>13652</td><td>peter4</td><td>2016-04-05</td><td>2016-04-09</td><td>NULL</td><td>Posta</td><td>Bankkártya</td><td>NULL</td><td>NULL</td></tr>",
                            "<tr><td>13661</td><td>peter4</td><td>2016-04-05</td><td>2016-04-08</td><td>NULL</td><td>Posta</td><td>Bankkártya</td><td>NULL</td><td>NULL</td></tr>",
                            "<tr><td>13712</td><td>peter4</td><td>2016-04-07</td><td>2016-04-10</td><td>NULL</td><td>Személyes átvétel</td><td>Készpénz</td><td>NULL</td><td>NULL</td></tr>",
                            "<tr><td>13789</td><td>peter4</td><td>2016-04-09</td><td>2016-04-15</td><td>NULL</td><td>Posta</td><td>Készpénz</td><td>NULL</td><td>NULL</td></tr>",
                            "<tr><td>13842</td><td>peter4</td><td>2016-04-10</td><td>2016-04-12</td><td>Jászkisér, Fő u. 2.</td><td>Posta</td><td>Bankkártya</td><td>NULL</td><td>NULL</td></tr>",
                            "<tr><td>13904</td><td>peter4</td><td>2016-04-11</td><td>2016-04-13</td><td>NULL</td><td>Személyes átvétel</td><td>Átutalás</td><td>NULL</td><td>NULL</td></tr>",
                            "<tr><td>13919</td><td>peter4</td><td>2016-04-12</td><td>2016-04-15</td><td>NULL</td><td>Személyes átvétel</td><td>Átutalás</td><td>NULL</td><td>NULL</td></tr>",
                            "<tr><td>13930</td><td>peter4</td><td>2016-04-12</td><td>2016-04-16</td><td>NULL</td><td>Személyes átvétel</td><td>Készpénz</td><td>NULL</td><td>NULL</td></tr>",
                            "<tr><td>13967</td><td>peter4</td><td>2016-04-13</td><td>2016-04-15</td><td>NULL</td><td>Személyes átvétel</td><td>Átutalás</td><td>NULL</td><td>NULL</td></tr>",
                            "<tr><td>13972</td><td>peter4</td><td>2016-04-13</td><td>2016-04-18</td><td>NULL</td><td>Posta</td><td>Bankkártya</td><td>NULL</td><td>NULL</td></tr>",
                            "<tr><td>13986</td><td>peter4</td><td>2016-04-13</td><td>2016-04-21</td><td>Jászkisér, Fő u. 2.</td><td>Személyes átvétel</td><td>Bankkártya</td><td>5137 Jászkisér, Fő u. 2.</td><td>5137</td></tr>",
                            "<tr><td>14015</td><td>peter4</td><td>2016-04-14</td><td>2016-04-17</td><td>NULL</td><td>Posta</td><td>Bankkártya</td><td>NULL</td><td>NULL</td></tr>",
                            "<tr><td>14042</td><td>peter4</td><td>2016-04-15</td><td>2016-04-21</td><td>Jászkisér, Nagy u.14.</td><td>GLS</td><td>Bankkártya</td><td>NULL</td><td>NULL</td></tr>",
                            "<tr><td>14056</td><td>peter4</td><td>2016-04-15</td><td>2016-04-22</td><td>NULL</td><td>Személyes átvétel</td><td>Átutalás</td><td>NULL</td><td>NULL</td></tr>",
                            "<tr><td>14068</td><td>peter4</td><td>2016-04-15</td><td>2016-04-22</td><td>NULL</td><td>Posta</td><td>Bankkártya</td><td>NULL</td><td>NULL</td></tr>",
                            "<tr><td>14129</td><td>peter4</td><td>2016-04-17</td><td>2016-04-22</td><td>NULL</td><td>Személyes átvétel</td><td>Átutalás</td><td>NULL</td><td>NULL</td></tr>",
                            "<tr><td>14147</td><td>peter4</td><td>2016-04-17</td><td>2016-04-25</td><td>NULL</td><td>Posta</td><td>Bankkártya</td><td>NULL</td><td>NULL</td></tr>",
                            "<tr><td>14166</td><td>peter4</td><td>2016-04-18</td><td>2016-04-23</td><td>Jászkisér, Fő u. 2.</td><td>Posta</td><td>Készpénz</td><td>NULL</td><td>NULL</td></tr>",
                            "<tr><td>14184</td><td>peter4</td><td>2016-04-18</td><td>2016-04-28</td><td>Jászkisér, Fő u. 2.</td><td>Posta</td><td>Bankkártya</td><td>NULL</td><td>NULL</td></tr>",
                            "<tr><td>14213</td><td>peter4</td><td>2016-04-19</td><td>2016-04-29</td><td>NULL</td><td>Személyes átvétel</td><td>Bankkártya</td><td>NULL</td><td>NULL</td></tr>",
                            "<tr><td>14224</td><td>peter4</td><td>2016-04-19</td><td>2016-04-24</td><td>NULL</td><td>GLS</td><td>Készpénz</td><td>NULL</td><td>NULL</td></tr>",
                            "<tr><td>14286</td><td>peter4</td><td>2016-04-20</td><td>2016-04-26</td><td>NULL</td><td>GLS</td><td>Bankkártya</td><td>NULL</td><td>NULL</td></tr>",
                            "<tr><td>14294</td><td>peter4</td><td>2016-04-21</td><td>2016-04-24</td><td>NULL</td><td>GLS</td><td>Átutalás</td><td>NULL</td><td>NULL</td></tr>",
                            "<tr><td>14333</td><td>peter4</td><td>2016-04-22</td><td>2016-04-28</td><td>NULL</td><td>GLS</td><td>Átutalás</td><td>NULL</td><td>NULL</td></tr>",
                            "<tr><td>14349</td><td>peter4</td><td>2016-04-22</td><td>2016-04-24</td><td>NULL</td><td>GLS</td><td>Átutalás</td><td>NULL</td><td>NULL</td></tr>",
                            "<tr><td>14445</td><td>peter4</td><td>2016-04-24</td><td>2016-04-30</td><td>Jászkisér, Fő u. 2.</td><td>Személyes átvétel</td><td>Készpénz</td><td>5137 Jászkisér, Fő u. 2.</td><td>5137</td></tr>",
                            "<tr><td>14456</td><td>peter4</td><td>2016-04-24</td><td>2016-05-02</td><td>Jászkisér, Kiss u. 32.</td><td>GLS</td><td>Bankkártya</td><td>5137 Jászkisér, Kiss u. 32.</td><td>5137</td></tr>",
                            "<tr><td>14504</td><td>peter4</td><td>2016-04-26</td><td>2016-05-06</td><td>NULL</td><td>Posta</td><td>Bankkártya</td><td>NULL</td><td>NULL</td></tr>",
                            "<tr><td>14576</td><td>peter4</td><td>2016-04-27</td><td>2016-05-06</td><td>NULL</td><td>Személyes átvétel</td><td>Bankkártya</td><td>NULL</td><td>NULL</td></tr>",
                            "<tr><td>14579</td><td>peter4</td><td>2016-04-27</td><td>2016-04-30</td><td>NULL</td><td>Posta</td><td>Átutalás</td><td>NULL</td><td>NULL</td></tr>",
                            "<tr><td>14624</td><td>peter4</td><td>2016-04-29</td><td>2016-05-07</td><td>NULL</td><td>Személyes átvétel</td><td>Átutalás</td><td>NULL</td><td>NULL</td></tr>",
                            "<tr><td>14651</td><td>peter4</td><td>2016-04-29</td><td>2016-05-06</td><td>Jászkisér, Kiss u. 32.</td><td>Személyes átvétel</td><td>Átutalás</td><td>NULL</td><td>NULL</td></tr>",
                            "<tr><td>14661</td><td>peter4</td><td>2016-04-29</td><td>2016-05-07</td><td>Jászkisér, Fő u. 2.</td><td>Személyes átvétel</td><td>Készpénz</td><td>5137 Jászkisér, Fő u. 2.</td><td>5137</td></tr>",
                            "<tr><td>14701</td><td>peter4</td><td>2016-05-01</td><td>2016-05-09</td><td>NULL</td><td>Személyes átvétel</td><td>Átutalás</td><td>NULL</td><td>NULL</td></tr>",
                            "<tr><td>14710</td><td>peter4</td><td>2016-05-01</td><td>2016-05-08</td><td>NULL</td><td>Személyes átvétel</td><td>Bankkártya</td><td>NULL</td><td>NULL</td></tr>",
                            "<tr><td>14803</td><td>peter4</td><td>2016-05-03</td><td>2016-05-11</td><td>NULL</td><td>GLS</td><td>Bankkártya</td><td>NULL</td><td>NULL</td></tr>",
                            "<tr><td>14956</td><td>peter4</td><td>2016-05-07</td><td>2016-05-11</td><td>NULL</td><td>Személyes átvétel</td><td>Bankkártya</td><td>NULL</td><td>NULL</td></tr>",
                            "<tr><td>14967</td><td>peter4</td><td>2016-05-07</td><td>2016-05-09</td><td>Jászkisér, Fő u. 2.</td><td>GLS</td><td>Átutalás</td><td>NULL</td><td>NULL</td></tr>",
                            "<tr><td>14991</td><td>peter4</td><td>2016-05-08</td><td>2016-05-14</td><td>NULL</td><td>Posta</td><td>Bankkártya</td><td>NULL</td><td>NULL</td></tr>",
                            "<tr><td>15044</td><td>peter4</td><td>2016-05-09</td><td>2016-05-11</td><td>NULL</td><td>Posta</td><td>Átutalás</td><td>NULL</td><td>NULL</td></tr>",
                            "<tr><td>15065</td><td>peter4</td><td>2016-05-09</td><td>2016-05-19</td><td>NULL</td><td>GLS</td><td>Bankkártya</td><td>NULL</td><td>NULL</td></tr>",
                            "<tr><td>15072</td><td>peter4</td><td>2016-05-10</td><td>2016-05-19</td><td>NULL</td><td>Személyes átvétel</td><td>Bankkártya</td><td>NULL</td><td>NULL</td></tr>",
                            "<tr><td>15076</td><td>peter4</td><td>2016-05-10</td><td>2016-05-19</td><td>NULL</td><td>Posta</td><td>Átutalás</td><td>NULL</td><td>NULL</td></tr>",
                            "<tr><td>15094</td><td>peter4</td><td>2016-05-10</td><td>2016-05-15</td><td>NULL</td><td>Személyes átvétel</td><td>Bankkártya</td><td>NULL</td><td>NULL</td></tr>",
                            "<tr><td>15105</td><td>peter4</td><td>2016-05-10</td><td>2016-05-17</td><td>NULL</td><td>GLS</td><td>Készpénz</td><td>NULL</td><td>NULL</td></tr>",
                            "<tr><td>15120</td><td>peter4</td><td>2016-05-11</td><td>2016-05-16</td><td>Jászkisér, Fő u. 2.</td><td>GLS</td><td>Átutalás</td><td>5137 Jászkisér, Fő u. 2.</td><td>5137</td></tr>",
                            "<tr><td>15127</td><td>peter4</td><td>2016-05-11</td><td>2016-05-17</td><td>NULL</td><td>Személyes átvétel</td><td>Bankkártya</td><td>NULL</td><td>NULL</td></tr>",
                            "<tr><td>15143</td><td>peter4</td><td>2016-05-11</td><td>2016-05-14</td><td>NULL</td><td>Személyes átvétel</td><td>Átutalás</td><td>NULL</td><td>NULL</td></tr>",
                            "<tr><td>15258</td><td>peter4</td><td>2016-05-14</td><td>2016-05-16</td><td>NULL</td><td>Személyes átvétel</td><td>Átutalás</td><td>NULL</td><td>NULL</td></tr>",
                            "<tr><td>15310</td><td>peter4</td><td>2016-05-16</td><td>2016-05-24</td><td>NULL</td><td>Személyes átvétel</td><td>Bankkártya</td><td>NULL</td><td>NULL</td></tr>",
                            "<tr><td>15324</td><td>peter4</td><td>2016-05-16</td><td>2016-05-25</td><td>NULL</td><td>Posta</td><td>Bankkártya</td><td>NULL</td><td>NULL</td></tr>",
                            "<tr><td>15344</td><td>peter4</td><td>2016-05-17</td><td>2016-05-20</td><td>NULL</td><td>GLS</td><td>Bankkártya</td><td>NULL</td><td>NULL</td></tr>",
                            "<tr><td>15359</td><td>peter4</td><td>2016-05-17</td><td>2016-05-24</td><td>NULL</td><td>Személyes átvétel</td><td>Készpénz</td><td>NULL</td><td>NULL</td></tr>",
                            "<tr><td>15387</td><td>peter4</td><td>2016-05-18</td><td>2016-05-26</td><td>NULL</td><td>GLS</td><td>Bankkártya</td><td>NULL</td><td>NULL</td></tr>",
                            "<tr><td>15420</td><td>peter4</td><td>2016-05-19</td><td>2016-05-21</td><td>NULL</td><td>Személyes átvétel</td><td>Készpénz</td><td>NULL</td><td>NULL</td></tr>",
                            "<tr><td>15446</td><td>peter4</td><td>2016-05-19</td><td>2016-05-22</td><td>NULL</td><td>Személyes átvétel</td><td>Átutalás</td><td>NULL</td><td>NULL</td></tr>",
                            "<tr><td>15453</td><td>peter4</td><td>2016-05-19</td><td>2016-05-27</td><td>Jászkisér, Fő u. 2.</td><td>Posta</td><td>Átutalás</td><td>5137 Jászkisér, Fő u. 2.</td><td>5137</td></tr>",
                            "<tr><td>15475</td><td>peter4</td><td>2016-05-20</td><td>2016-05-22</td><td>NULL</td><td>GLS</td><td>Bankkártya</td><td>NULL</td><td>NULL</td></tr>",
                            "<tr><td>15476</td><td>peter4</td><td>2016-05-20</td><td>2016-05-29</td><td>NULL</td><td>GLS</td><td>Bankkártya</td><td>NULL</td><td>NULL</td></tr>",
                            "<tr><td>15508</td><td>peter4</td><td>2016-05-21</td><td>2016-05-31</td><td>NULL</td><td>GLS</td><td>Átutalás</td><td>NULL</td><td>NULL</td></tr>",
                            "<tr><td>15554</td><td>peter4</td><td>2016-05-22</td><td>2016-06-01</td><td>NULL</td><td>GLS</td><td>Átutalás</td><td>NULL</td><td>NULL</td></tr>",
                            "<tr><td>15555</td><td>peter4</td><td>2016-05-22</td><td>2016-06-01</td><td>Jászkisér, Nagy u.14.</td><td>Személyes átvétel</td><td>Átutalás</td><td>5137 Jászkisér, Nagy u.14.</td><td>5137</td></tr>",
                            "<tr><td>15568</td><td>peter4</td><td>2016-05-22</td><td>2016-05-30</td><td>NULL</td><td>GLS</td><td>Készpénz</td><td>NULL</td><td>NULL</td></tr>",
                            "<tr><td>15571</td><td>peter4</td><td>2016-05-23</td><td>2016-05-31</td><td>NULL</td><td>Posta</td><td>Bankkártya</td><td>NULL</td><td>NULL</td></tr>",
                            "<tr><td>15606</td><td>peter4</td><td>2016-05-23</td><td>2016-05-30</td><td>Jászkisér, Fő u. 2.</td><td>Posta</td><td>Bankkártya</td><td>5137 Jászkisér, Fő u. 2.</td><td>5137</td></tr>",
                            "<tr><td>15668</td><td>peter4</td><td>2016-05-25</td><td>2016-06-04</td><td>NULL</td><td>GLS</td><td>Bankkártya</td><td>NULL</td><td>NULL</td></tr>",
                            "<tr><td>15669</td><td>peter4</td><td>2016-05-25</td><td>2016-05-29</td><td>Jászkisér, Fő u. 2.</td><td>Személyes átvétel</td><td>Bankkártya</td><td>NULL</td><td>NULL</td></tr>",
                            "<tr><td>15674</td><td>peter4</td><td>2016-05-25</td><td>2016-05-29</td><td>Jászkisér, Nagy u.14.</td><td>Posta</td><td>Átutalás</td><td>NULL</td><td>NULL</td></tr>",
                            "<tr><td>15680</td><td>peter4</td><td>2016-05-26</td><td>2016-05-31</td><td>NULL</td><td>GLS</td><td>Bankkártya</td><td>NULL</td><td>NULL</td></tr>",
                            "<tr><td>15708</td><td>peter4</td><td>2016-05-26</td><td>2016-06-04</td><td>Jászkisér, Nagy u.14.</td><td>Személyes átvétel</td><td>Bankkártya</td><td>5137 Jászkisér, Nagy u.14.</td><td>5137</td></tr>",
                            "<tr><td>15715</td><td>peter4</td><td>2016-05-27</td><td>2016-06-06</td><td>NULL</td><td>Személyes átvétel</td><td>Készpénz</td><td>NULL</td><td>NULL</td></tr>",
                            "<tr><td>15733</td><td>peter4</td><td>2016-05-27</td><td>2016-05-29</td><td>NULL</td><td>Személyes átvétel</td><td>Átutalás</td><td>NULL</td><td>NULL</td></tr>",
                            "<tr><td>15785</td><td>peter4</td><td>2016-05-28</td><td>2016-06-06</td><td>NULL</td><td>Posta</td><td>Átutalás</td><td>NULL</td><td>NULL</td></tr>",
                            "<tr><td>15797</td><td>peter4</td><td>2016-05-28</td><td>2016-05-30</td><td>NULL</td><td>Személyes átvétel</td><td>Bankkártya</td><td>NULL</td><td>NULL</td></tr>",
                            "<tr><td>15806</td><td>peter4</td><td>2016-05-29</td><td>2016-06-06</td><td>NULL</td><td>Posta</td><td>Bankkártya</td><td>NULL</td><td>NULL</td></tr>",
                            "<tr><td>15879</td><td>peter4</td><td>2016-05-31</td><td>2016-06-04</td><td>NULL</td><td>GLS</td><td>Bankkártya</td><td>NULL</td><td>NULL</td></tr>",
                            "<tr><td>15960</td><td>peter4</td><td>2016-06-01</td><td>2016-06-04</td><td>NULL</td><td>GLS</td><td>Bankkártya</td><td>NULL</td><td>NULL</td></tr>",
                            "<tr><td>15966</td><td>peter4</td><td>2016-06-02</td><td>2016-06-11</td><td>Jászkisér, Fő u. 2.</td><td>GLS</td><td>Átutalás</td><td>NULL</td><td>NULL</td></tr>",
                            "<tr><td>16000</td><td>peter4</td><td>2016-06-02</td><td>2016-06-06</td><td>NULL</td><td>Személyes átvétel</td><td>Készpénz</td><td>NULL</td><td>NULL</td></tr>",
                            "<tr><td>16065</td><td>peter4</td><td>2016-06-04</td><td>2016-06-14</td><td>Jászkisér, Fő u. 2.</td><td>Posta</td><td>Bankkártya</td><td>5137 Jászkisér, Fő u. 2.</td><td>5137</td></tr>",
                            "<tr><td>16073</td><td>peter4</td><td>2016-06-04</td><td>2016-06-07</td><td>NULL</td><td>Személyes átvétel</td><td>Bankkártya</td><td>NULL</td><td>NULL</td></tr>",
                            "<tr><td>16145</td><td>peter4</td><td>2016-06-06</td><td>2016-06-11</td><td>NULL</td><td>Posta</td><td>Bankkártya</td><td>NULL</td><td>NULL</td></tr>",
                            "<tr><td>16230</td><td>peter4</td><td>2016-06-08</td><td>2016-06-11</td><td>NULL</td><td>GLS</td><td>Készpénz</td><td>NULL</td><td>NULL</td></tr>",
                            "<tr><td>16300</td><td>peter4</td><td>2016-06-10</td><td>2016-06-20</td><td>NULL</td><td>GLS</td><td>Átutalás</td><td>NULL</td><td>NULL</td></tr>",
                            "<tr><td>16368</td><td>peter4</td><td>2016-06-11</td><td>2016-06-20</td><td>NULL</td><td>GLS</td><td>Átutalás</td><td>NULL</td><td>NULL</td></tr>",
                            "<tr><td>16421</td><td>peter4</td><td>2016-06-13</td><td>2016-06-18</td><td>NULL</td><td>Személyes átvétel</td><td>Készpénz</td><td>NULL</td><td>NULL</td></tr>",
                            "<tr><td>16443</td><td>peter4</td><td>2016-06-13</td><td>2016-06-15</td><td>Jászkisér, Fő u. 2.</td><td>Személyes átvétel</td><td>Átutalás</td><td>5137 Jászkisér, Fő u. 2.</td><td>5137</td></tr>",
                            "<tr><td>16477</td><td>peter4</td><td>2016-06-14</td><td>2016-06-19</td><td>NULL</td><td>GLS</td><td>Bankkártya</td><td>NULL</td><td>NULL</td></tr>",
                            "<tr><td>16529</td><td>peter4</td><td>2016-06-15</td><td>2016-06-25</td><td>NULL</td><td>GLS</td><td>Átutalás</td><td>NULL</td><td>NULL</td></tr>",
                            "<tr><td>16541</td><td>peter4</td><td>2016-06-16</td><td>2016-06-24</td><td>Jászkisér, Nagy u.14.</td><td>GLS</td><td>Bankkártya</td><td>NULL</td><td>NULL</td></tr>",
                            "<tr><td>16607</td><td>peter4</td><td>2016-06-17</td><td>2016-06-26</td><td>NULL</td><td>GLS</td><td>Bankkártya</td><td>NULL</td><td>NULL</td></tr>",
                            "<tr><td>16617</td><td>peter4</td><td>2016-06-17</td><td>2016-06-25</td><td>NULL</td><td>Személyes átvétel</td><td>Átutalás</td><td>NULL</td><td>NULL</td></tr>",
                            "<tr><td>16619</td><td>peter4</td><td>2016-06-18</td><td>2016-06-25</td><td>NULL</td><td>GLS</td><td>Bankkártya</td><td>NULL</td><td>NULL</td></tr>",
                            "<tr><td>16645</td><td>peter4</td><td>2016-06-18</td><td>2016-06-22</td><td>NULL</td><td>Személyes átvétel</td><td>Bankkártya</td><td>NULL</td><td>NULL</td></tr>",
                            "<tr><td>16667</td><td>peter4</td><td>2016-06-19</td><td>2016-06-27</td><td>NULL</td><td>GLS</td><td>Átutalás</td><td>NULL</td><td>NULL</td></tr>",
                            "<tr><td>16688</td><td>peter4</td><td>2016-06-19</td><td>2016-06-29</td><td>NULL</td><td>Posta</td><td>Átutalás</td><td>NULL</td><td>NULL</td></tr>",
                            "<tr><td>16698</td><td>peter4</td><td>2016-06-20</td><td>2016-06-25</td><td>NULL</td><td>Posta</td><td>Átutalás</td><td>NULL</td><td>NULL</td></tr>",
                            "<tr><td>16789</td><td>peter4</td><td>2016-06-22</td><td>2016-06-24</td><td>NULL</td><td>Személyes átvétel</td><td>Bankkártya</td><td>NULL</td><td>NULL</td></tr>",
                            "<tr><td>16803</td><td>peter4</td><td>2016-06-22</td><td>2016-06-24</td><td>Jászkisér, Fő u. 2.</td><td>Személyes átvétel</td><td>Átutalás</td><td>NULL</td><td>NULL</td></tr>",
                            "<tr><td>16880</td><td>peter4</td><td>2016-06-24</td><td>2016-07-02</td><td>NULL</td><td>GLS</td><td>Bankkártya</td><td>NULL</td><td>NULL</td></tr>",
                            "<tr><td>16889</td><td>peter4</td><td>2016-06-25</td><td>2016-06-28</td><td>NULL</td><td>Posta</td><td>Bankkártya</td><td>NULL</td><td>NULL</td></tr>",
                            "<tr><td>16900</td><td>peter4</td><td>2016-06-25</td><td>2016-07-03</td><td>Jászkisér, Kiss u. 32.</td><td>Posta</td><td>Átutalás</td><td>5137 Jászkisér, Kiss u. 32.</td><td>5137</td></tr>",
                            "<tr><td>16971</td><td>peter4</td><td>2016-06-26</td><td>2016-07-02</td><td>NULL</td><td>GLS</td><td>Készpénz</td><td>NULL</td><td>NULL</td></tr>",
                            "<tr><td>17116</td><td>peter4</td><td>2016-06-30</td><td>2016-07-07</td><td>NULL</td><td>Személyes átvétel</td><td>Bankkártya</td><td>NULL</td><td>NULL</td></tr>",
                            "<tr><td>17144</td><td>peter4</td><td>2016-07-01</td><td>2016-07-08</td><td>NULL</td><td>GLS</td><td>Készpénz</td><td>NULL</td><td>NULL</td></tr>",
                            "<tr><td>17173</td><td>peter4</td><td>2016-07-01</td><td>2016-07-03</td><td>Jászkisér, Kiss u. 32.</td><td>Személyes átvétel</td><td>Bankkártya</td><td>NULL</td><td>NULL</td></tr>",
                            "<tr><td>17245</td><td>peter4</td><td>2016-07-03</td><td>2016-07-07</td><td>NULL</td><td>Posta</td><td>Bankkártya</td><td>NULL</td><td>NULL</td></tr>",
                            "<tr><td>17262</td><td>peter4</td><td>2016-07-04</td><td>2016-07-11</td><td>Jászkisér, Fő u. 2.</td><td>GLS</td><td>Bankkártya</td><td>NULL</td><td>NULL</td></tr>",
                            "<tr><td>17265</td><td>peter4</td><td>2016-07-04</td><td>2016-07-06</td><td>NULL</td><td>GLS</td><td>Bankkártya</td><td>NULL</td><td>NULL</td></tr>",
                            "<tr><td>17271</td><td>peter4</td><td>2016-07-04</td><td>2016-07-08</td><td>Jászkisér, Fő u. 2.</td><td>GLS</td><td>Bankkártya</td><td>NULL</td><td>NULL</td></tr>",
                            "<tr><td>17292</td><td>peter4</td><td>2016-07-04</td><td>2016-07-13</td><td>NULL</td><td>Posta</td><td>Bankkártya</td><td>NULL</td><td>NULL</td></tr>",
                            "<tr><td>17308</td><td>peter4</td><td>2016-07-05</td><td>2016-07-08</td><td>NULL</td><td>GLS</td><td>Átutalás</td><td>NULL</td><td>NULL</td></tr>",
                            "<tr><td>17322</td><td>peter4</td><td>2016-07-05</td><td>2016-07-10</td><td>NULL</td><td>Személyes átvétel</td><td>Bankkártya</td><td>NULL</td><td>NULL</td></tr>",
                            "<tr><td>17341</td><td>peter4</td><td>2016-07-06</td><td>2016-07-09</td><td>NULL</td><td>Személyes átvétel</td><td>Bankkártya</td><td>NULL</td><td>NULL</td></tr>",
                            "<tr><td>17401</td><td>peter4</td><td>2016-07-07</td><td>2016-07-12</td><td>NULL</td><td>GLS</td><td>Bankkártya</td><td>NULL</td><td>NULL</td></tr>",
                            "<tr><td>17445</td><td>peter4</td><td>2016-07-08</td><td>2016-07-13</td><td>NULL</td><td>Személyes átvétel</td><td>Bankkártya</td><td>NULL</td><td>NULL</td></tr>",
                            "<tr><td>17510</td><td>peter4</td><td>2016-07-10</td><td>2016-07-17</td><td>Jászkisér, Nagy u.14.</td><td>Személyes átvétel</td><td>Bankkártya</td><td>NULL</td><td>NULL</td></tr>",
                            "<tr><td>17563</td><td>peter4</td><td>2016-07-12</td><td>2016-07-20</td><td>Jászkisér, Kiss u. 32.</td><td>GLS</td><td>Bankkártya</td><td>NULL</td><td>NULL</td></tr>",
                            "<tr><td>17620</td><td>peter4</td><td>2016-07-13</td><td>2016-07-23</td><td>NULL</td><td>GLS</td><td>Bankkártya</td><td>NULL</td><td>NULL</td></tr>",
                            "<tr><td>17624</td><td>peter4</td><td>2016-07-13</td><td>2016-07-17</td><td>NULL</td><td>Posta</td><td>Bankkártya</td><td>NULL</td><td>NULL</td></tr>",
                            "<tr><td>17645</td><td>peter4</td><td>2016-07-14</td><td>2016-07-23</td><td>NULL</td><td>Személyes átvétel</td><td>Átutalás</td><td>NULL</td><td>NULL</td></tr>",
                            "<tr><td>17723</td><td>peter4</td><td>2016-07-16</td><td>2016-07-21</td><td>NULL</td><td>Személyes átvétel</td><td>Készpénz</td><td>NULL</td><td>NULL</td></tr>",
                            "<tr><td>17766</td><td>peter4</td><td>2016-07-17</td><td>2016-07-21</td><td>Jászkisér, Fő u. 2.</td><td>GLS</td><td>Bankkártya</td><td>5137 Jászkisér, Fő u. 2.</td><td>5137</td></tr>",
                            "<tr><td>17768</td><td>peter4</td><td>2016-07-17</td><td>2016-07-23</td><td>NULL</td><td>GLS</td><td>Bankkártya</td><td>NULL</td><td>NULL</td></tr>",
                            "<tr><td>17774</td><td>peter4</td><td>2016-07-17</td><td>2016-07-24</td><td>NULL</td><td>Posta</td><td>Bankkártya</td><td>NULL</td><td>NULL</td></tr>",
                            "<tr><td>17788</td><td>peter4</td><td>2016-07-17</td><td>2016-07-19</td><td>NULL</td><td>Posta</td><td>Bankkártya</td><td>NULL</td><td>NULL</td></tr>",
                            "<tr><td>17803</td><td>peter4</td><td>2016-07-18</td><td>2016-07-20</td><td>NULL</td><td>Posta</td><td>Bankkártya</td><td>NULL</td><td>NULL</td></tr>",
                            "<tr><td>17815</td><td>peter4</td><td>2016-07-18</td><td>2016-07-25</td><td>NULL</td><td>Személyes átvétel</td><td>Átutalás</td><td>NULL</td><td>NULL</td></tr>",
                            "<tr><td>17817</td><td>peter4</td><td>2016-07-18</td><td>2016-07-25</td><td>NULL</td><td>GLS</td><td>Bankkártya</td><td>NULL</td><td>NULL</td></tr>",
                            "<tr><td>17818</td><td>peter4</td><td>2016-07-18</td><td>2016-07-21</td><td>NULL</td><td>Személyes átvétel</td><td>Bankkártya</td><td>NULL</td><td>NULL</td></tr>",
                            "<tr><td>17872</td><td>peter4</td><td>2016-07-19</td><td>2016-07-23</td><td>NULL</td><td>GLS</td><td>Bankkártya</td><td>NULL</td><td>NULL</td></tr>",
                            "<tr><td>17899</td><td>peter4</td><td>2016-07-20</td><td>2016-07-30</td><td>NULL</td><td>GLS</td><td>Átutalás</td><td>NULL</td><td>NULL</td></tr>",
                            "<tr><td>17953</td><td>peter4</td><td>2016-07-22</td><td>2016-07-29</td><td>Jászkisér, Kiss u. 32.</td><td>Posta</td><td>Átutalás</td><td>NULL</td><td>NULL</td></tr>",
                            "<tr><td>17976</td><td>peter4</td><td>2016-07-22</td><td>2016-07-26</td><td>NULL</td><td>Személyes átvétel</td><td>Bankkártya</td><td>NULL</td><td>NULL</td></tr>",
                            "<tr><td>18005</td><td>peter4</td><td>2016-07-23</td><td>2016-07-28</td><td>Jászkisér, Kiss u. 32.</td><td>Posta</td><td>Átutalás</td><td>NULL</td><td>NULL</td></tr>",
                            "<tr><td>18011</td><td>peter4</td><td>2016-07-23</td><td>2016-07-26</td><td>NULL</td><td>Posta</td><td>Bankkártya</td><td>NULL</td><td>NULL</td></tr>",
                            "<tr><td>18025</td><td>peter4</td><td>2016-07-23</td><td>2016-07-25</td><td>NULL</td><td>Posta</td><td>Készpénz</td><td>NULL</td><td>NULL</td></tr>",
                            "<tr><td>18029</td><td>peter4</td><td>2016-07-24</td><td>2016-07-29</td><td>NULL</td><td>Személyes átvétel</td><td>Bankkártya</td><td>NULL</td><td>NULL</td></tr>",
                            "<tr><td>18069</td><td>peter4</td><td>2016-07-24</td><td>2016-08-03</td><td>NULL</td><td>GLS</td><td>Bankkártya</td><td>NULL</td><td>NULL</td></tr>",
                            "<tr><td>18124</td><td>peter4</td><td>2016-07-26</td><td>2016-08-05</td><td>NULL</td><td>GLS</td><td>Átutalás</td><td>NULL</td><td>NULL</td></tr>",
                            "<tr><td>18150</td><td>peter4</td><td>2016-07-26</td><td>2016-07-29</td><td>NULL</td><td>Személyes átvétel</td><td>Átutalás</td><td>NULL</td><td>NULL</td></tr>",
                            "<tr><td>18163</td><td>peter4</td><td>2016-07-27</td><td>2016-07-31</td><td>NULL</td><td>Posta</td><td>Bankkártya</td><td>NULL</td><td>NULL</td></tr>",
                            "<tr><td>18215</td><td>peter4</td><td>2016-07-28</td><td>2016-08-03</td><td>NULL</td><td>GLS</td><td>Készpénz</td><td>NULL</td><td>NULL</td></tr>",
                            "<tr><td>18222</td><td>peter4</td><td>2016-07-29</td><td>2016-08-02</td><td>NULL</td><td>Posta</td><td>Átutalás</td><td>NULL</td><td>NULL</td></tr>",
                            "<tr><td>18236</td><td>peter4</td><td>2016-07-29</td><td>2016-08-08</td><td>NULL</td><td>Személyes átvétel</td><td>Bankkártya</td><td>NULL</td><td>NULL</td></tr>",
                            "<tr><td>18238</td><td>peter4</td><td>2016-07-29</td><td>2016-08-05</td><td>NULL</td><td>Posta</td><td>Átutalás</td><td>NULL</td><td>NULL</td></tr>",
                            "<tr><td>18257</td><td>peter4</td><td>2016-07-29</td><td>2016-08-07</td><td>NULL</td><td>GLS</td><td>Átutalás</td><td>NULL</td><td>NULL</td></tr>",
                            "<tr><td>18317</td><td>peter4</td><td>2016-07-31</td><td>2016-08-06</td><td>Jászkisér, Kiss u. 32.</td><td>GLS</td><td>Bankkártya</td><td>NULL</td><td>NULL</td></tr>",
                            "<tr><td>18318</td><td>peter4</td><td>2016-07-31</td><td>2016-08-04</td><td>NULL</td><td>Személyes átvétel</td><td>Bankkártya</td><td>NULL</td><td>NULL</td></tr>",
                            "<tr><td>18335</td><td>peter4</td><td>2016-07-31</td><td>2016-08-03</td><td>NULL</td><td>Posta</td><td>Bankkártya</td><td>NULL</td><td>NULL</td></tr>",
                            "<tr><td>18363</td><td>peter4</td><td>2016-08-01</td><td>2016-08-10</td><td>NULL</td><td>GLS</td><td>Készpénz</td><td>NULL</td><td>NULL</td></tr>",
                            "<tr><td>18373</td><td>peter4</td><td>2016-08-01</td><td>2016-08-10</td><td>NULL</td><td>Posta</td><td>Bankkártya</td><td>NULL</td><td>NULL</td></tr>",
                            "<tr><td>18390</td><td>peter4</td><td>2016-08-02</td><td>2016-08-11</td><td>NULL</td><td>Posta</td><td>Bankkártya</td><td>NULL</td><td>NULL</td></tr>",
                            "<tr><td>18414</td><td>peter4</td><td>2016-08-02</td><td>2016-08-09</td><td>Jászkisér, Fő u. 2.</td><td>Posta</td><td>Átutalás</td><td>5137 Jászkisér, Fő u. 2.</td><td>5137</td></tr>",
                            "<tr><td>18425</td><td>peter4</td><td>2016-08-03</td><td>2016-08-07</td><td>NULL</td><td>Személyes átvétel</td><td>Átutalás</td><td>NULL</td><td>NULL</td></tr>",
                            "<tr><td>18480</td><td>peter4</td><td>2016-08-04</td><td>2016-08-08</td><td>NULL</td><td>Posta</td><td>Bankkártya</td><td>NULL</td><td>NULL</td></tr>",
                            "<tr><td>18500</td><td>peter4</td><td>2016-08-04</td><td>2016-08-10</td><td>NULL</td><td>Posta</td><td>Átutalás</td><td>NULL</td><td>NULL</td></tr>",
                            "<tr><td>18504</td><td>peter4</td><td>2016-08-04</td><td>2016-08-14</td><td>Jászkisér, Fő u. 2.</td><td>Posta</td><td>Átutalás</td><td>NULL</td><td>NULL</td></tr>",
                            "<tr><td>18511</td><td>peter4</td><td>2016-08-05</td><td>2016-08-14</td><td>NULL</td><td>Személyes átvétel</td><td>Átutalás</td><td>NULL</td><td>NULL</td></tr>",
                            "<tr><td>18550</td><td>peter4</td><td>2016-08-06</td><td>2016-08-10</td><td>NULL</td><td>Posta</td><td>Átutalás</td><td>NULL</td><td>NULL</td></tr>",
                            "<tr><td>18555</td><td>peter4</td><td>2016-08-06</td><td>2016-08-08</td><td>NULL</td><td>GLS</td><td>Bankkártya</td><td>NULL</td><td>NULL</td></tr>",
                            "<tr><td>18628</td><td>peter4</td><td>2016-08-07</td><td>2016-08-13</td><td>NULL</td><td>Posta</td><td>Bankkártya</td><td>NULL</td><td>NULL</td></tr>",
                            "<tr><td>18646</td><td>peter4</td><td>2016-08-08</td><td>2016-08-18</td><td>NULL</td><td>Személyes átvétel</td><td>Bankkártya</td><td>NULL</td><td>NULL</td></tr>",
                            "<tr><td>18663</td><td>peter4</td><td>2016-08-08</td><td>2016-08-18</td><td>NULL</td><td>Posta</td><td>Bankkártya</td><td>NULL</td><td>NULL</td></tr>",
                            "<tr><td>18694</td><td>peter4</td><td>2016-08-09</td><td>2016-08-19</td><td>Jászkisér, Kiss u. 32.</td><td>GLS</td><td>Bankkártya</td><td>5137 Jászkisér, Kiss u. 32.</td><td>5137</td></tr>",
                            "<tr><td>18707</td><td>peter4</td><td>2016-08-10</td><td>2016-08-20</td><td>Jászkisér, Kiss u. 32.</td><td>Személyes átvétel</td><td>Bankkártya</td><td>NULL</td><td>NULL</td></tr>",
                            "<tr><td>18726</td><td>peter4</td><td>2016-08-10</td><td>2016-08-15</td><td>NULL</td><td>Személyes átvétel</td><td>Átutalás</td><td>NULL</td><td>NULL</td></tr>",
                            "<tr><td>18736</td><td>peter4</td><td>2016-08-10</td><td>2016-08-13</td><td>NULL</td><td>Posta</td><td>Bankkártya</td><td>NULL</td><td>NULL</td></tr>",
                            "<tr><td>18746</td><td>peter4</td><td>2016-08-10</td><td>2016-08-14</td><td>Jászkisér, Kiss u. 32.</td><td>Posta</td><td>Bankkártya</td><td>5137 Jászkisér, Kiss u. 32.</td><td>5137</td></tr>",
                            "<tr><td>18768</td><td>peter4</td><td>2016-08-11</td><td>2016-08-20</td><td>Jászkisér, Nagy u.14.</td><td>Személyes átvétel</td><td>Bankkártya</td><td>5137 Jászkisér, Nagy u.14.</td><td>5137</td></tr>",
                            "<tr><td>18787</td><td>peter4</td><td>2016-08-11</td><td>2016-08-13</td><td>NULL</td><td>GLS</td><td>Átutalás</td><td>NULL</td><td>NULL</td></tr>",
                            "<tr><td>18830</td><td>peter4</td><td>2016-08-12</td><td>2016-08-14</td><td>NULL</td><td>Posta</td><td>Bankkártya</td><td>NULL</td><td>NULL</td></tr>",
                            "<tr><td>18851</td><td>peter4</td><td>2016-08-13</td><td>2016-08-17</td><td>NULL</td><td>Posta</td><td>Bankkártya</td><td>NULL</td><td>NULL</td></tr>",
                            "<tr><td>18852</td><td>peter4</td><td>2016-08-13</td><td>2016-08-17</td><td>NULL</td><td>Posta</td><td>Bankkártya</td><td>NULL</td><td>NULL</td></tr>",
                            "<tr><td>18938</td><td>peter4</td><td>2016-08-15</td><td>2016-08-18</td><td>Jászkisér, Nagy u.14.</td><td>Személyes átvétel</td><td>Átutalás</td><td>NULL</td><td>NULL</td></tr>",
                            "<tr><td>18940</td><td>peter4</td><td>2016-08-15</td><td>2016-08-18</td><td>NULL</td><td>GLS</td><td>Készpénz</td><td>NULL</td><td>NULL</td></tr>",
                            "<tr><td>19010</td><td>peter4</td><td>2016-08-16</td><td>2016-08-22</td><td>NULL</td><td>GLS</td><td>Bankkártya</td><td>NULL</td><td>NULL</td></tr>",
                            "<tr><td>19021</td><td>peter4</td><td>2016-08-17</td><td>2016-08-27</td><td>NULL</td><td>Posta</td><td>Átutalás</td><td>NULL</td><td>NULL</td></tr>",
                            "<tr><td>19149</td><td>peter4</td><td>2016-08-20</td><td>2016-08-24</td><td>Jászkisér, Kiss u. 32.</td><td>GLS</td><td>Bankkártya</td><td>NULL</td><td>NULL</td></tr>",
                            "<tr><td>19172</td><td>peter4</td><td>2016-08-20</td><td>2016-08-25</td><td>NULL</td><td>Posta</td><td>Bankkártya</td><td>NULL</td><td>NULL</td></tr>",
                            "<tr><td>19191</td><td>peter4</td><td>2016-08-21</td><td>2016-08-28</td><td>NULL</td><td>GLS</td><td>Bankkártya</td><td>NULL</td><td>NULL</td></tr>",
                            "<tr><td>19246</td><td>peter4</td><td>2016-08-22</td><td>2016-08-30</td><td>NULL</td><td>Posta</td><td>Átutalás</td><td>NULL</td><td>NULL</td></tr>",
                            "<tr><td>19248</td><td>peter4</td><td>2016-08-22</td><td>2016-08-24</td><td>NULL</td><td>Posta</td><td>Bankkártya</td><td>NULL</td><td>NULL</td></tr>",
                            "<tr><td>19266</td><td>peter4</td><td>2016-08-23</td><td>2016-08-30</td><td>Jászkisér, Kiss u. 32.</td><td>Posta</td><td>Átutalás</td><td>5137 Jászkisér, Kiss u. 32.</td><td>5137</td></tr>",
                            "<tr><td>19354</td><td>peter4</td><td>2016-08-25</td><td>2016-09-01</td><td>NULL</td><td>Személyes átvétel</td><td>Átutalás</td><td>NULL</td><td>NULL</td></tr>",
                            "<tr><td>19384</td><td>peter4</td><td>2016-08-26</td><td>2016-08-31</td><td>NULL</td><td>Posta</td><td>Bankkártya</td><td>NULL</td><td>NULL</td></tr>",
                            "<tr><td>19397</td><td>peter4</td><td>2016-08-26</td><td>2016-08-30</td><td>Jászkisér, Nagy u.14.</td><td>GLS</td><td>Bankkártya</td><td>NULL</td><td>NULL</td></tr>",
                            "<tr><td>19417</td><td>peter4</td><td>2016-08-27</td><td>2016-09-06</td><td>NULL</td><td>Személyes átvétel</td><td>Átutalás</td><td>NULL</td><td>NULL</td></tr>",
                            "<tr><td>19483</td><td>peter4</td><td>2016-08-28</td><td>2016-09-04</td><td>NULL</td><td>GLS</td><td>Átutalás</td><td>NULL</td><td>NULL</td></tr>",
                            "<tr><td>19494</td><td>peter4</td><td>2016-08-29</td><td>2016-09-06</td><td>Jászkisér, Fő u. 2.</td><td>Posta</td><td>Bankkártya</td><td>5137 Jászkisér, Fő u. 2.</td><td>5137</td></tr>",
                            "<tr><td>19499</td><td>peter4</td><td>2016-08-29</td><td>2016-09-07</td><td>Jászkisér, Nagy u.14.</td><td>Személyes átvétel</td><td>Bankkártya</td><td>NULL</td><td>NULL</td></tr>",
                            "<tr><td>19506</td><td>peter4</td><td>2016-08-29</td><td>2016-09-01</td><td>NULL</td><td>Posta</td><td>Bankkártya</td><td>NULL</td><td>NULL</td></tr>",
                            "<tr><td>19615</td><td>peter4</td><td>2016-09-01</td><td>2016-09-09</td><td>NULL</td><td>Személyes átvétel</td><td>Bankkártya</td><td>NULL</td><td>NULL</td></tr>",
                            "<tr><td>19664</td><td>peter4</td><td>2016-09-02</td><td>2016-09-11</td><td>NULL</td><td>Személyes átvétel</td><td>Bankkártya</td><td>NULL</td><td>NULL</td></tr>",
                            "<tr><td>19666</td><td>peter4</td><td>2016-09-02</td><td>2016-09-05</td><td>NULL</td><td>Posta</td><td>Átutalás</td><td>NULL</td><td>NULL</td></tr>",
                            "<tr><td>19691</td><td>peter4</td><td>2016-09-02</td><td>2016-09-10</td><td>NULL</td><td>GLS</td><td>Átutalás</td><td>NULL</td><td>NULL</td></tr>",
                            "<tr><td>19794</td><td>peter4</td><td>2016-09-05</td><td>2016-09-11</td><td>NULL</td><td>GLS</td><td>Átutalás</td><td>NULL</td><td>NULL</td></tr>",
                            "<tr><td>19797</td><td>peter4</td><td>2016-09-05</td><td>2016-09-09</td><td>NULL</td><td>Posta</td><td>Bankkártya</td><td>NULL</td><td>NULL</td></tr>",
                            "<tr><td>19862</td><td>peter4</td><td>2016-09-06</td><td>2016-09-13</td><td>NULL</td><td>Posta</td><td>Átutalás</td><td>NULL</td><td>NULL</td></tr>",
                            "<tr><td>19934</td><td>peter4</td><td>2016-09-08</td><td>2016-09-13</td><td>NULL</td><td>Személyes átvétel</td><td>Bankkártya</td><td>NULL</td><td>NULL</td></tr>",
                            "<tr><td>19974</td><td>peter4</td><td>2016-09-09</td><td>2016-09-14</td><td>NULL</td><td>Posta</td><td>Bankkártya</td><td>NULL</td><td>NULL</td></tr>",
                            "<tr><td>19976</td><td>peter4</td><td>2016-09-09</td><td>2016-09-14</td><td>NULL</td><td>Posta</td><td>Átutalás</td><td>NULL</td><td>NULL</td></tr>",
                            "<tr><td>19992</td><td>peter4</td><td>2016-09-09</td><td>2016-09-12</td><td>Jászkisér, Nagy u.14.</td><td>Posta</td><td>Átutalás</td><td>5137 Jászkisér, Nagy u.14.</td><td>5137</td></tr>",
                            "<tr><td>20048</td><td>peter4</td><td>2016-09-11</td><td>2016-09-14</td><td>NULL</td><td>Posta</td><td>Átutalás</td><td>NULL</td><td>NULL</td></tr>",
                            "<tr><td>20052</td><td>peter4</td><td>2016-09-11</td><td>2016-09-16</td><td>Jászkisér, Fő u. 2.</td><td>GLS</td><td>Átutalás</td><td>NULL</td><td>NULL</td></tr>",
                            "<tr><td>20109</td><td>peter4</td><td>2016-09-13</td><td>2016-09-16</td><td>NULL</td><td>Posta</td><td>Átutalás</td><td>NULL</td><td>NULL</td></tr>",
                            "<tr><td>20128</td><td>peter4</td><td>2016-09-13</td><td>2016-09-16</td><td>Jászkisér, Nagy u.14.</td><td>Posta</td><td>Bankkártya</td><td>NULL</td><td>NULL</td></tr>",
                            "<tr><td>20242</td><td>peter4</td><td>2016-09-16</td><td>2016-09-23</td><td>NULL</td><td>Posta</td><td>Készpénz</td><td>NULL</td><td>NULL</td></tr>",
                            "<tr><td>20248</td><td>peter4</td><td>2016-09-16</td><td>2016-09-23</td><td>NULL</td><td>GLS</td><td>Bankkártya</td><td>NULL</td><td>NULL</td></tr>",
                            "<tr><td>20264</td><td>peter4</td><td>2016-09-17</td><td>2016-09-25</td><td>Jászkisér, Nagy u.14.</td><td>GLS</td><td>Bankkártya</td><td>NULL</td><td>NULL</td></tr>",
                            "<tr><td>20375</td><td>peter4</td><td>2016-09-20</td><td>2016-09-29</td><td>NULL</td><td>Posta</td><td>Átutalás</td><td>NULL</td><td>NULL</td></tr>",
                            "<tr><td>20426</td><td>peter4</td><td>2016-09-21</td><td>2016-09-27</td><td>NULL</td><td>Személyes átvétel</td><td>Bankkártya</td><td>NULL</td><td>NULL</td></tr>",
                            "<tr><td>20462</td><td>peter4</td><td>2016-09-22</td><td>2016-09-28</td><td>Jászkisér, Kiss u. 32.</td><td>Személyes átvétel</td><td>Bankkártya</td><td>5137 Jászkisér, Kiss u. 32.</td><td>5137</td></tr>",
                            "<tr><td>20469</td><td>peter4</td><td>2016-09-22</td><td>2016-09-24</td><td>NULL</td><td>GLS</td><td>Bankkártya</td><td>NULL</td><td>NULL</td></tr>",
                            "<tr><td>20489</td><td>peter4</td><td>2016-09-23</td><td>2016-10-03</td><td>NULL</td><td>GLS</td><td>Bankkártya</td><td>NULL</td><td>NULL</td></tr>",
                            "<tr><td>20563</td><td>peter4</td><td>2016-09-24</td><td>2016-10-02</td><td>NULL</td><td>Posta</td><td>Bankkártya</td><td>NULL</td><td>NULL</td></tr>",
                            "<tr><td>20576</td><td>peter4</td><td>2016-09-25</td><td>2016-09-27</td><td>NULL</td><td>Posta</td><td>Átutalás</td><td>NULL</td><td>NULL</td></tr>",
                            "<tr><td>20586</td><td>peter4</td><td>2016-09-25</td><td>2016-09-29</td><td>NULL</td><td>GLS</td><td>Bankkártya</td><td>NULL</td><td>NULL</td></tr>",
                            "<tr><td>20638</td><td>peter4</td><td>2016-09-26</td><td>2016-10-01</td><td>Jászkisér, Nagy u.14.</td><td>Személyes átvétel</td><td>Bankkártya</td><td>NULL</td><td>NULL</td></tr>",
                            "<tr><td>20649</td><td>peter4</td><td>2016-09-27</td><td>2016-10-06</td><td>NULL</td><td>Posta</td><td>Átutalás</td><td>NULL</td><td>NULL</td></tr>",
                            "<tr><td>20660</td><td>peter4</td><td>2016-09-27</td><td>2016-10-01</td><td>NULL</td><td>GLS</td><td>Bankkártya</td><td>NULL</td><td>NULL</td></tr>",
                            "<tr><td>20672</td><td>peter4</td><td>2016-09-27</td><td>2016-10-01</td><td>Jászkisér, Nagy u.14.</td><td>GLS</td><td>Bankkártya</td><td>NULL</td><td>NULL</td></tr>",
                            "<tr><td>20771</td><td>peter4</td><td>2016-09-30</td><td>2016-10-10</td><td>NULL</td><td>Személyes átvétel</td><td>Átutalás</td><td>NULL</td><td>NULL</td></tr>",
                            "<tr><td>20787</td><td>peter4</td><td>2016-09-30</td><td>2016-10-09</td><td>Jászkisér, Kiss u. 32.</td><td>Posta</td><td>Bankkártya</td><td>NULL</td><td>NULL</td></tr>",
                            "<tr><td>20817</td><td>peter4</td><td>2016-10-01</td><td>2016-10-07</td><td>Jászkisér, Fő u. 2.</td><td>Személyes átvétel</td><td>Átutalás</td><td>5137 Jászkisér, Fő u. 2.</td><td>5137</td></tr>",
                            "<tr><td>20840</td><td>peter4</td><td>2016-10-01</td><td>2016-10-09</td><td>NULL</td><td>Személyes átvétel</td><td>Bankkártya</td><td>NULL</td><td>NULL</td></tr>",
                            "<tr><td>20850</td><td>peter4</td><td>2016-10-02</td><td>2016-10-04</td><td>NULL</td><td>Személyes átvétel</td><td>Bankkártya</td><td>NULL</td><td>NULL</td></tr>",
                            "<tr><td>20903</td><td>peter4</td><td>2016-10-03</td><td>2016-10-13</td><td>NULL</td><td>Személyes átvétel</td><td>Bankkártya</td><td>NULL</td><td>NULL</td></tr>",
                            "<tr><td>20917</td><td>peter4</td><td>2016-10-03</td><td>2016-10-12</td><td>Jászkisér, Kiss u. 32.</td><td>Posta</td><td>Bankkártya</td><td>NULL</td><td>NULL</td></tr>",
                            "<tr><td>20951</td><td>peter4</td><td>2016-10-04</td><td>2016-10-12</td><td>NULL</td><td>Személyes átvétel</td><td>Átutalás</td><td>NULL</td><td>NULL</td></tr>",
                            "<tr><td>20973</td><td>peter4</td><td>2016-10-05</td><td>2016-10-08</td><td>NULL</td><td>Posta</td><td>Átutalás</td><td>NULL</td><td>NULL</td></tr>",
                            "<tr><td>20977</td><td>peter4</td><td>2016-10-05</td><td>2016-10-11</td><td>NULL</td><td>GLS</td><td>Átutalás</td><td>NULL</td><td>NULL</td></tr>",
                            "<tr><td>21011</td><td>peter4</td><td>2016-10-05</td><td>2016-10-10</td><td>NULL</td><td>GLS</td><td>Átutalás</td><td>NULL</td><td>NULL</td></tr>",
                            "<tr><td>21035</td><td>peter4</td><td>2016-10-06</td><td>2016-10-16</td><td>NULL</td><td>Posta</td><td>Bankkártya</td><td>NULL</td><td>NULL</td></tr>",
                            "<tr><td>21043</td><td>peter4</td><td>2016-10-06</td><td>2016-10-16</td><td>NULL</td><td>Személyes átvétel</td><td>Bankkártya</td><td>NULL</td><td>NULL</td></tr>",
                            "<tr><td>21075</td><td>peter4</td><td>2016-10-07</td><td>2016-10-13</td><td>NULL</td><td>Posta</td><td>Bankkártya</td><td>NULL</td><td>NULL</td></tr>",
                            "<tr><td>21086</td><td>peter4</td><td>2016-10-07</td><td>2016-10-13</td><td>Jászkisér, Kiss u. 32.</td><td>GLS</td><td>Átutalás</td><td>5137 Jászkisér, Kiss u. 32.</td><td>5137</td></tr>",
                            "<tr><td>21089</td><td>peter4</td><td>2016-10-07</td><td>2016-10-11</td><td>NULL</td><td>Személyes átvétel</td><td>Átutalás</td><td>NULL</td><td>NULL</td></tr>",
                            "<tr><td>21118</td><td>peter4</td><td>2016-10-08</td><td>2016-10-10</td><td>NULL</td><td>GLS</td><td>Átutalás</td><td>NULL</td><td>NULL</td></tr>",
                            "<tr><td>21173</td><td>peter4</td><td>2016-10-09</td><td>2016-10-19</td><td>NULL</td><td>Posta</td><td>Átutalás</td><td>NULL</td><td>NULL</td></tr>",
                            "<tr><td>21245</td><td>peter4</td><td>2016-10-11</td><td>2016-10-19</td><td>NULL</td><td>Posta</td><td>Átutalás</td><td>NULL</td><td>NULL</td></tr>",
                            "<tr><td>21251</td><td>peter4</td><td>2016-10-11</td><td>2016-10-21</td><td>NULL</td><td>GLS</td><td>Átutalás</td><td>NULL</td><td>NULL</td></tr>",
                            "<tr><td>21275</td><td>peter4</td><td>2016-10-11</td><td>2016-10-17</td><td>NULL</td><td>Személyes átvétel</td><td>Bankkártya</td><td>NULL</td><td>NULL</td></tr>",
                            "<tr><td>21290</td><td>peter4</td><td>2016-10-12</td><td>2016-10-21</td><td>NULL</td><td>Posta</td><td>Átutalás</td><td>NULL</td><td>NULL</td></tr>",
                            "<tr><td>21314</td><td>peter4</td><td>2016-10-12</td><td>2016-10-15</td><td>NULL</td><td>Személyes átvétel</td><td>Bankkártya</td><td>NULL</td><td>NULL</td></tr>",
                            "<tr><td>21316</td><td>peter4</td><td>2016-10-13</td><td>2016-10-20</td><td>NULL</td><td>GLS</td><td>Bankkártya</td><td>NULL</td><td>NULL</td></tr>",
                            "<tr><td>21347</td><td>peter4</td><td>2016-10-13</td><td>2016-10-15</td><td>NULL</td><td>Posta</td><td>Bankkártya</td><td>NULL</td><td>NULL</td></tr>",
                            "<tr><td>21348</td><td>peter4</td><td>2016-10-13</td><td>2016-10-17</td><td>Jászkisér, Fő u. 2.</td><td>GLS</td><td>Átutalás</td><td>NULL</td><td>NULL</td></tr>",
                            "<tr><td>21372</td><td>peter4</td><td>2016-10-14</td><td>2016-10-16</td><td>Jászkisér, Kiss u. 32.</td><td>Posta</td><td>Bankkártya</td><td>5137 Jászkisér, Kiss u. 32.</td><td>5137</td></tr>",
                            "<tr><td>21376</td><td>peter4</td><td>2016-10-14</td><td>2016-10-20</td><td>NULL</td><td>GLS</td><td>Átutalás</td><td>NULL</td><td>NULL</td></tr>",
                            "<tr><td>21501</td><td>peter4</td><td>2016-10-17</td><td>2016-10-23</td><td>Jászkisér, Fő u. 2.</td><td>Posta</td><td>Készpénz</td><td>NULL</td><td>NULL</td></tr>",
                            "<tr><td>21509</td><td>peter4</td><td>2016-10-17</td><td>2016-10-22</td><td>NULL</td><td>Személyes átvétel</td><td>Bankkártya</td><td>NULL</td><td>NULL</td></tr>",
                            "<tr><td>21591</td><td>peter4</td><td>2016-10-19</td><td>2016-10-29</td><td>Jászkisér, Fő u. 2.</td><td>Személyes átvétel</td><td>Átutalás</td><td>NULL</td><td>NULL</td></tr>",
                            "<tr><td>21597</td><td>peter4</td><td>2016-10-19</td><td>2016-10-21</td><td>NULL</td><td>Posta</td><td>Készpénz</td><td>NULL</td><td>NULL</td></tr>",
                            "<tr><td>21632</td><td>peter4</td><td>2016-10-20</td><td>2016-10-30</td><td>Jászkisér, Kiss u. 32.</td><td>Posta</td><td>Átutalás</td><td>5137 Jászkisér, Kiss u. 32.</td><td>5137</td></tr>",
                            "<tr><td>21693</td><td>peter4</td><td>2016-10-22</td><td>2016-10-26</td><td>NULL</td><td>Személyes átvétel</td><td>Bankkártya</td><td>NULL</td><td>NULL</td></tr>",
                            "<tr><td>21713</td><td>peter4</td><td>2016-10-22</td><td>2016-10-28</td><td>NULL</td><td>Posta</td><td>Átutalás</td><td>NULL</td><td>NULL</td></tr>",
                            "<tr><td>21746</td><td>peter4</td><td>2016-10-23</td><td>2016-11-01</td><td>NULL</td><td>Posta</td><td>Bankkártya</td><td>NULL</td><td>NULL</td></tr>",
                            "<tr><td>21837</td><td>peter4</td><td>2016-10-25</td><td>2016-10-31</td><td>NULL</td><td>Személyes átvétel</td><td>Bankkártya</td><td>NULL</td><td>NULL</td></tr>",
                            "<tr><td>21880</td><td>peter4</td><td>2016-10-26</td><td>2016-11-04</td><td>NULL</td><td>Személyes átvétel</td><td>Átutalás</td><td>NULL</td><td>NULL</td></tr>",
                            "<tr><td>21890</td><td>peter4</td><td>2016-10-26</td><td>2016-11-05</td><td>NULL</td><td>Posta</td><td>Átutalás</td><td>NULL</td><td>NULL</td></tr>",
                            "<tr><td>21907</td><td>peter4</td><td>2016-10-27</td><td>2016-11-05</td><td>NULL</td><td>Posta</td><td>Bankkártya</td><td>NULL</td><td>NULL</td></tr>",
                            "<tr><td>21935</td><td>peter4</td><td>2016-10-28</td><td>2016-11-07</td><td>NULL</td><td>Személyes átvétel</td><td>Bankkártya</td><td>NULL</td><td>NULL</td></tr>",
                            "<tr><td>21955</td><td>peter4</td><td>2016-10-28</td><td>2016-11-02</td><td>NULL</td><td>Posta</td><td>Átutalás</td><td>NULL</td><td>NULL</td></tr>",
                            "<tr><td>21971</td><td>peter4</td><td>2016-10-29</td><td>2016-10-31</td><td>NULL</td><td>GLS</td><td>Bankkártya</td><td>NULL</td><td>NULL</td></tr>",
                            "<tr><td>22013</td><td>peter4</td><td>2016-10-30</td><td>2016-11-06</td><td>NULL</td><td>GLS</td><td>Átutalás</td><td>NULL</td><td>NULL</td></tr>",
                            "<tr><td>22055</td><td>peter4</td><td>2016-10-31</td><td>2016-11-02</td><td>NULL</td><td>Posta</td><td>Bankkártya</td><td>NULL</td><td>NULL</td></tr>",
                            "<tr><td>22072</td><td>peter4</td><td>2016-10-31</td><td>2016-11-08</td><td>NULL</td><td>Posta</td><td>Átutalás</td><td>NULL</td><td>NULL</td></tr>",
                            "<tr><td>22081</td><td>peter4</td><td>2016-10-31</td><td>2016-11-05</td><td>NULL</td><td>Személyes átvétel</td><td>Átutalás</td><td>NULL</td><td>NULL</td></tr>",
                            "<tr><td>22192</td><td>peter4</td><td>2016-11-03</td><td>2016-11-05</td><td>NULL</td><td>Posta</td><td>Bankkártya</td><td>NULL</td><td>NULL</td></tr>",
                            "<tr><td>22222</td><td>peter4</td><td>2016-11-04</td><td>2016-11-12</td><td>NULL</td><td>Posta</td><td>Bankkártya</td><td>NULL</td><td>NULL</td></tr>",
                            "<tr><td>22248</td><td>peter4</td><td>2016-11-04</td><td>2016-11-12</td><td>Jászkisér, Fő u. 2.</td><td>Posta</td><td>Készpénz</td><td>5137 Jászkisér, Fő u. 2.</td><td>5137</td></tr>",
                            "<tr><td>22252</td><td>peter4</td><td>2016-11-04</td><td>2016-11-14</td><td>NULL</td><td>Posta</td><td>Átutalás</td><td>NULL</td><td>NULL</td></tr>",
                            "<tr><td>22274</td><td>peter4</td><td>2016-11-05</td><td>2016-11-13</td><td>NULL</td><td>Személyes átvétel</td><td>Átutalás</td><td>NULL</td><td>NULL</td></tr>",
                            "<tr><td>22283</td><td>peter4</td><td>2016-11-05</td><td>2016-11-13</td><td>NULL</td><td>Személyes átvétel</td><td>Készpénz</td><td>NULL</td><td>NULL</td></tr>",
                            "<tr><td>22298</td><td>peter4</td><td>2016-11-06</td><td>2016-11-14</td><td>NULL</td><td>GLS</td><td>Bankkártya</td><td>NULL</td><td>NULL</td></tr>",
                            "<tr><td>22341</td><td>peter4</td><td>2016-11-07</td><td>2016-11-12</td><td>NULL</td><td>Személyes átvétel</td><td>Bankkártya</td><td>NULL</td><td>NULL</td></tr>",
                            "<tr><td>22452</td><td>peter4</td><td>2016-11-09</td><td>2016-11-19</td><td>NULL</td><td>Személyes átvétel</td><td>Bankkártya</td><td>NULL</td><td>NULL</td></tr>",
                            "<tr><td>22505</td><td>peter4</td><td>2016-11-11</td><td>2016-11-13</td><td>NULL</td><td>Posta</td><td>Bankkártya</td><td>NULL</td><td>NULL</td></tr>",
                            "<tr><td>22538</td><td>peter4</td><td>2016-11-12</td><td>2016-11-15</td><td>NULL</td><td>GLS</td><td>Átutalás</td><td>NULL</td><td>NULL</td></tr>",
                            "<tr><td>22564</td><td>peter4</td><td>2016-11-12</td><td>2016-11-19</td><td>NULL</td><td>GLS</td><td>Bankkártya</td><td>NULL</td><td>NULL</td></tr>",
                            "<tr><td>22575</td><td>peter4</td><td>2016-11-12</td><td>2016-11-19</td><td>NULL</td><td>Posta</td><td>Bankkártya</td><td>NULL</td><td>NULL</td></tr>",
                            "<tr><td>22631</td><td>peter4</td><td>2016-11-14</td><td>2016-11-22</td><td>NULL</td><td>Személyes átvétel</td><td>Bankkártya</td><td>NULL</td><td>NULL</td></tr>",
                            "<tr><td>22655</td><td>peter4</td><td>2016-11-14</td><td>2016-11-23</td><td>NULL</td><td>Posta</td><td>Bankkártya</td><td>NULL</td><td>NULL</td></tr>",
                            "<tr><td>22699</td><td>peter4</td><td>2016-11-16</td><td>2016-11-18</td><td>NULL</td><td>Posta</td><td>Bankkártya</td><td>NULL</td><td>NULL</td></tr>",
                            "<tr><td>22707</td><td>peter4</td><td>2016-11-16</td><td>2016-11-18</td><td>Jászkisér, Fő u. 2.</td><td>Személyes átvétel</td><td>Készpénz</td><td>5137 Jászkisér, Fő u. 2.</td><td>5137</td></tr>",
                            "<tr><td>22732</td><td>peter4</td><td>2016-11-17</td><td>2016-11-19</td><td>NULL</td><td>Személyes átvétel</td><td>Bankkártya</td><td>NULL</td><td>NULL</td></tr>",
                            "<tr><td>22748</td><td>peter4</td><td>2016-11-17</td><td>2016-11-23</td><td>NULL</td><td>Posta</td><td>Átutalás</td><td>NULL</td><td>NULL</td></tr>",
                            "<tr><td>22796</td><td>peter4</td><td>2016-11-18</td><td>2016-11-26</td><td>NULL</td><td>GLS</td><td>Bankkártya</td><td>NULL</td><td>NULL</td></tr>",
                            "<tr><td>22812</td><td>peter4</td><td>2016-11-19</td><td>2016-11-22</td><td>NULL</td><td>Posta</td><td>Átutalás</td><td>NULL</td><td>NULL</td></tr>",
                            "<tr><td>22818</td><td>peter4</td><td>2016-11-19</td><td>2016-11-29</td><td>NULL</td><td>GLS</td><td>Bankkártya</td><td>NULL</td><td>NULL</td></tr>",
                            "<tr><td>22821</td><td>peter4</td><td>2016-11-19</td><td>2016-11-27</td><td>NULL</td><td>Személyes átvétel</td><td>Átutalás</td><td>NULL</td><td>NULL</td></tr>",
                            "<tr><td>22862</td><td>peter4</td><td>2016-11-20</td><td>2016-11-22</td><td>NULL</td><td>Posta</td><td>Átutalás</td><td>NULL</td><td>NULL</td></tr>",
                            "<tr><td>22870</td><td>peter4</td><td>2016-11-20</td><td>2016-11-29</td><td>NULL</td><td>GLS</td><td>Átutalás</td><td>NULL</td><td>NULL</td></tr>",
                            "<tr><td>22888</td><td>peter4</td><td>2016-11-21</td><td>2016-11-24</td><td>NULL</td><td>GLS</td><td>Átutalás</td><td>NULL</td><td>NULL</td></tr>",
                            "<tr><td>22890</td><td>peter4</td><td>2016-11-21</td><td>2016-11-29</td><td>NULL</td><td>GLS</td><td>Bankkártya</td><td>NULL</td><td>NULL</td></tr>",
                            "<tr><td>22929</td><td>peter4</td><td>2016-11-22</td><td>2016-11-25</td><td>NULL</td><td>Posta</td><td>Átutalás</td><td>NULL</td><td>NULL</td></tr>",
                            "<tr><td>22949</td><td>peter4</td><td>2016-11-22</td><td>2016-11-27</td><td>NULL</td><td>GLS</td><td>Átutalás</td><td>NULL</td><td>NULL</td></tr>",
                            "<tr><td>23002</td><td>peter4</td><td>2016-11-23</td><td>2016-11-25</td><td>NULL</td><td>Posta</td><td>Bankkártya</td><td>NULL</td><td>NULL</td></tr>",
                            "<tr><td>23113</td><td>peter4</td><td>2016-11-26</td><td>2016-11-30</td><td>NULL</td><td>GLS</td><td>Készpénz</td><td>NULL</td><td>NULL</td></tr>",
                            "<tr><td>23204</td><td>peter4</td><td>2016-11-28</td><td>2016-12-04</td><td>NULL</td><td>Személyes átvétel</td><td>Átutalás</td><td>NULL</td><td>NULL</td></tr>",
                            "<tr><td>23219</td><td>peter4</td><td>2016-11-29</td><td>2016-12-01</td><td>NULL</td><td>GLS</td><td>Készpénz</td><td>NULL</td><td>NULL</td></tr>",
                            "<tr><td>23273</td><td>peter4</td><td>2016-11-30</td><td>2016-12-06</td><td>Jászkisér, Nagy u.14.</td><td>Posta</td><td>Bankkártya</td><td>NULL</td><td>NULL</td></tr>",
                            "<tr><td>23278</td><td>peter4</td><td>2016-11-30</td><td>2016-12-05</td><td>NULL</td><td>Személyes átvétel</td><td>Bankkártya</td><td>NULL</td><td>NULL</td></tr>",
                            "<tr><td>23279</td><td>peter4</td><td>2016-11-30</td><td>2016-12-06</td><td>NULL</td><td>GLS</td><td>Bankkártya</td><td>NULL</td><td>NULL</td></tr>",
                            "<tr><td>23321</td><td>peter4</td><td>2016-12-01</td><td>2016-12-04</td><td>NULL</td><td>Személyes átvétel</td><td>Átutalás</td><td>NULL</td><td>NULL</td></tr>",
                            "<tr><td>23430</td><td>peter4</td><td>2016-12-04</td><td>2016-12-13</td><td>NULL</td><td>Személyes átvétel</td><td>Átutalás</td><td>NULL</td><td>NULL</td></tr>",
                            "<tr><td>23471</td><td>peter4</td><td>2016-12-05</td><td>2016-12-09</td><td>NULL</td><td>Posta</td><td>Készpénz</td><td>NULL</td><td>NULL</td></tr>",
                            "<tr><td>23541</td><td>peter4</td><td>2016-12-07</td><td>2016-12-10</td><td>NULL</td><td>Posta</td><td>Bankkártya</td><td>NULL</td><td>NULL</td></tr>",
                            "<tr><td>23576</td><td>peter4</td><td>2016-12-08</td><td>2016-12-17</td><td>NULL</td><td>GLS</td><td>Készpénz</td><td>NULL</td><td>NULL</td></tr>",
                            "<tr><td>23598</td><td>peter4</td><td>2016-12-08</td><td>2016-12-10</td><td>Jászkisér, Fő u. 2.</td><td>GLS</td><td>Átutalás</td><td>5137 Jászkisér, Fő u. 2.</td><td>5137</td></tr>",
                            "<tr><td>23674</td><td>peter4</td><td>2016-12-10</td><td>2016-12-16</td><td>NULL</td><td>Posta</td><td>Bankkártya</td><td>NULL</td><td>NULL</td></tr>",
                            "<tr><td>23701</td><td>peter4</td><td>2016-12-11</td><td>2016-12-16</td><td>NULL</td><td>GLS</td><td>Átutalás</td><td>NULL</td><td>NULL</td></tr>",
                            "<tr><td>23733</td><td>peter4</td><td>2016-12-12</td><td>2016-12-20</td><td>Jászkisér, Fő u. 2.</td><td>Posta</td><td>Bankkártya</td><td>5137 Jászkisér, Fő u. 2.</td><td>5137</td></tr>",
                            "<tr><td>23740</td><td>peter4</td><td>2016-12-12</td><td>2016-12-21</td><td>NULL</td><td>Posta</td><td>Átutalás</td><td>NULL</td><td>NULL</td></tr>",
                            "<tr><td>23788</td><td>peter4</td><td>2016-12-13</td><td>2016-12-18</td><td>NULL</td><td>Posta</td><td>Átutalás</td><td>NULL</td><td>NULL</td></tr>",
                            "<tr><td>23855</td><td>peter4</td><td>2016-12-15</td><td>2016-12-17</td><td>Jászkisér, Kiss u. 32.</td><td>GLS</td><td>Bankkártya</td><td>NULL</td><td>NULL</td></tr>",
                            "<tr><td>23885</td><td>peter4</td><td>2016-12-16</td><td>2016-12-26</td><td>Jászkisér, Nagy u.14.</td><td>GLS</td><td>Átutalás</td><td>NULL</td><td>NULL</td></tr>",
                            "<tr><td>23910</td><td>peter4</td><td>2016-12-16</td><td>2016-12-18</td><td>NULL</td><td>Posta</td><td>Átutalás</td><td>NULL</td><td>NULL</td></tr>",
                            "<tr><td>23920</td><td>peter4</td><td>2016-12-17</td><td>2016-12-26</td><td>Jászkisér, Kiss u. 32.</td><td>Személyes átvétel</td><td>Átutalás</td><td>5137 Jászkisér, Kiss u. 32.</td><td>5137</td></tr>",
                            "<tr><td>24036</td><td>peter4</td><td>2016-12-20</td><td>2016-12-30</td><td>NULL</td><td>Posta</td><td>Bankkártya</td><td>NULL</td><td>NULL</td></tr>",
                            "<tr><td>24058</td><td>peter4</td><td>2016-12-20</td><td>2016-12-30</td><td>NULL</td><td>GLS</td><td>Bankkártya</td><td>NULL</td><td>NULL</td></tr>",
                            "<tr><td>24079</td><td>peter4</td><td>2016-12-21</td><td>2016-12-25</td><td>NULL</td><td>Posta</td><td>Készpénz</td><td>NULL</td><td>NULL</td></tr>",
                            "<tr><td>24139</td><td>peter4</td><td>2016-12-22</td><td>2016-12-29</td><td>NULL</td><td>GLS</td><td>Készpénz</td><td>NULL</td><td>NULL</td></tr>",
                            "<tr><td>24152</td><td>peter4</td><td>2016-12-22</td><td>2016-12-24</td><td>NULL</td><td>GLS</td><td>Átutalás</td><td>NULL</td><td>NULL</td></tr>",
                            "<tr><td>24163</td><td>peter4</td><td>2016-12-23</td><td>2016-12-27</td><td>NULL</td><td>Személyes átvétel</td><td>Bankkártya</td><td>NULL</td><td>NULL</td></tr>",
                            "<tr><td>24170</td><td>peter4</td><td>2016-12-23</td><td>2016-12-25</td><td>NULL</td><td>Személyes átvétel</td><td>Átutalás</td><td>NULL</td><td>NULL</td></tr>",
                            "<tr><td>24205</td><td>peter4</td><td>2016-12-24</td><td>2016-12-26</td><td>NULL</td><td>Posta</td><td>Bankkártya</td><td>NULL</td><td>NULL</td></tr>",
                            "<tr><td>24217</td><td>peter4</td><td>2016-12-24</td><td>2016-12-27</td><td>NULL</td><td>Posta</td><td>Átutalás</td><td>NULL</td><td>NULL</td></tr>",
                            "<tr><td>24226</td><td>peter4</td><td>2016-12-24</td><td>2016-12-30</td><td>NULL</td><td>Posta</td><td>Bankkártya</td><td>NULL</td><td>NULL</td></tr>",
                            "<tr><td>24244</td><td>peter4</td><td>2016-12-25</td><td>2016-12-30</td><td>NULL</td><td>Posta</td><td>Bankkártya</td><td>NULL</td><td>NULL</td></tr>",
                            "<tr><td>24278</td><td>peter4</td><td>2016-12-25</td><td>2016-12-28</td><td>NULL</td><td>Személyes átvétel</td><td>Bankkártya</td><td>NULL</td><td>NULL</td></tr>",
                            "<tr><td>24294</td><td>peter4</td><td>2016-12-26</td><td>2016-12-28</td><td>NULL</td><td>GLS</td><td>Bankkártya</td><td>NULL</td><td>NULL</td></tr>",
                            "<tr><td>24324</td><td>peter4</td><td>2016-12-27</td><td>2016-12-31</td><td>NULL</td><td>GLS</td><td>Átutalás</td><td>NULL</td><td>NULL</td></tr>",
                            "<tr><td>24326</td><td>peter4</td><td>2016-12-27</td><td>2017-01-05</td><td>NULL</td><td>Személyes átvétel</td><td>Bankkártya</td><td>NULL</td><td>NULL</td></tr>",
                            "<tr><td>24342</td><td>peter4</td><td>2016-12-27</td><td>2017-01-05</td><td>NULL</td><td>GLS</td><td>Bankkártya</td><td>NULL</td><td>NULL</td></tr>",
                            "<tr><td>24354</td><td>peter4</td><td>2016-12-27</td><td>2016-12-30</td><td>Jászkisér, Fő u. 2.</td><td>Posta</td><td>Átutalás</td><td>5137 Jászkisér, Fő u. 2.</td><td>5137</td></tr>",
                            "<tr><td>24378</td><td>peter4</td><td>2016-12-28</td><td>2016-12-30</td><td>Jászkisér, Nagy u.14.</td><td>GLS</td><td>Bankkártya</td><td>5137 Jászkisér, Nagy u.14.</td><td>5137</td></tr>",
                            "<tr><td>24397</td><td>peter4</td><td>2016-12-28</td><td>2016-12-30</td><td>NULL</td><td>GLS</td><td>Átutalás</td><td>NULL</td><td>NULL</td></tr>",
                            "<tr><td>24400</td><td>peter4</td><td>2016-12-29</td><td>2016-12-31</td><td>NULL</td><td>GLS</td><td>Átutalás</td><td>NULL</td><td>NULL</td></tr>",
                            "<tr><td>24494</td><td>peter4</td><td>2016-12-31</td><td>2017-01-03</td><td>NULL</td><td>GLS</td><td>Készpénz</td><td>NULL</td><td>NULL</td></tr>",
                            "<tr><td>24547</td><td>peter4</td><td>2017-01-01</td><td>2017-01-05</td><td>NULL</td><td>GLS</td><td>Bankkártya</td><td>NULL</td><td>NULL</td></tr>",
                            "<tr><td>24588</td><td>peter4</td><td>2017-01-02</td><td>2017-01-08</td><td>Jászkisér, Fő u. 2.</td><td>Posta</td><td>Átutalás</td><td>NULL</td><td>NULL</td></tr>",
                            "<tr><td>24612</td><td>peter4</td><td>2017-01-03</td><td>2017-01-05</td><td>NULL</td><td>Személyes átvétel</td><td>Bankkártya</td><td>NULL</td><td>NULL</td></tr>",
                            "<tr><td>24614</td><td>peter4</td><td>2017-01-03</td><td>2017-01-09</td><td>NULL</td><td>Posta</td><td>Bankkártya</td><td>NULL</td><td>NULL</td></tr>",
                            "<tr><td>24617</td><td>peter4</td><td>2017-01-03</td><td>2017-01-09</td><td>NULL</td><td>GLS</td><td>Bankkártya</td><td>NULL</td><td>NULL</td></tr>",
                            "<tr><td>24754</td><td>peter4</td><td>2017-01-06</td><td>2017-01-15</td><td>NULL</td><td>Személyes átvétel</td><td>Bankkártya</td><td>NULL</td><td>NULL</td></tr>",
                            "<tr><td>24767</td><td>peter4</td><td>2017-01-07</td><td>2017-01-11</td><td>NULL</td><td>Posta</td><td>Bankkártya</td><td>NULL</td><td>NULL</td></tr>",
                            "<tr><td>24818</td><td>peter4</td><td>2017-01-08</td><td>2017-01-18</td><td>NULL</td><td>Személyes átvétel</td><td>Átutalás</td><td>NULL</td><td>NULL</td></tr>",
                            "<tr><td>24826</td><td>peter4</td><td>2017-01-08</td><td>2017-01-18</td><td>NULL</td><td>GLS</td><td>Bankkártya</td><td>NULL</td><td>NULL</td></tr>",
                            "<tr><td>24840</td><td>peter4</td><td>2017-01-08</td><td>2017-01-18</td><td>Jászkisér, Fő u. 2.</td><td>Posta</td><td>Átutalás</td><td>5137 Jászkisér, Fő u. 2.</td><td>5137</td></tr>",
                            "<tr><td>24878</td><td>peter4</td><td>2017-01-09</td><td>2017-01-12</td><td>NULL</td><td>Posta</td><td>Készpénz</td><td>NULL</td><td>NULL</td></tr>",
                            "<tr><td>24882</td><td>peter4</td><td>2017-01-10</td><td>2017-01-17</td><td>Jászkisér, Kiss u. 32.</td><td>Posta</td><td>Bankkártya</td><td>5137 Jászkisér, Kiss u. 32.</td><td>5137</td></tr>",
                            "<tr><td>24891</td><td>peter4</td><td>2017-01-10</td><td>2017-01-19</td><td>NULL</td><td>GLS</td><td>Bankkártya</td><td>NULL</td><td>NULL</td></tr>",
                            "<tr><td>24896</td><td>peter4</td><td>2017-01-10</td><td>2017-01-20</td><td>NULL</td><td>GLS</td><td>Bankkártya</td><td>NULL</td><td>NULL</td></tr>",
                            "<tr><td>24915</td><td>peter4</td><td>2017-01-10</td><td>2017-01-18</td><td>NULL</td><td>Posta</td><td>Bankkártya</td><td>NULL</td><td>NULL</td></tr>",
                            "<tr><td>24991</td><td>peter4</td><td>2017-01-12</td><td>2017-01-21</td><td>NULL</td><td>Posta</td><td>Bankkártya</td><td>NULL</td><td>NULL</td></tr>",
                            "<tr><td>25013</td><td>peter4</td><td>2017-01-13</td><td>2017-01-19</td><td>NULL</td><td>GLS</td><td>Készpénz</td><td>NULL</td><td>NULL</td></tr>",
                            "<tr><td>25067</td><td>peter4</td><td>2017-01-14</td><td>2017-01-23</td><td>NULL</td><td>Posta</td><td>Bankkártya</td><td>NULL</td><td>NULL</td></tr>",
                            "<tr><td>25154</td><td>peter4</td><td>2017-01-16</td><td>2017-01-26</td><td>NULL</td><td>GLS</td><td>Bankkártya</td><td>NULL</td><td>NULL</td></tr>",
                            "<tr><td>25166</td><td>peter4</td><td>2017-01-17</td><td>2017-01-22</td><td>NULL</td><td>Személyes átvétel</td><td>Átutalás</td><td>NULL</td><td>NULL</td></tr>",
                            "<tr><td>25169</td><td>peter4</td><td>2017-01-17</td><td>2017-01-25</td><td>NULL</td><td>Személyes átvétel</td><td>Bankkártya</td><td>NULL</td><td>NULL</td></tr>",
                            "<tr><td>25198</td><td>peter4</td><td>2017-01-17</td><td>2017-01-25</td><td>NULL</td><td>Posta</td><td>Bankkártya</td><td>NULL</td><td>NULL</td></tr>",
                            "<tr><td>25216</td><td>peter4</td><td>2017-01-18</td><td>2017-01-25</td><td>NULL</td><td>Posta</td><td>Átutalás</td><td>NULL</td><td>NULL</td></tr>",
                            "<tr><td>25221</td><td>peter4</td><td>2017-01-18</td><td>2017-01-26</td><td>NULL</td><td>Személyes átvétel</td><td>Készpénz</td><td>NULL</td><td>NULL</td></tr>",
                            "<tr><td>25259</td><td>peter4</td><td>2017-01-19</td><td>2017-01-22</td><td>Jászkisér, Kiss u. 32.</td><td>GLS</td><td>Bankkártya</td><td>NULL</td><td>NULL</td></tr>",
                            "<tr><td>25272</td><td>peter4</td><td>2017-01-20</td><td>2017-01-22</td><td>Jászkisér, Fő u. 2.</td><td>GLS</td><td>Átutalás</td><td>5137 Jászkisér, Fő u. 2.</td><td>5137</td></tr>",
                            "<tr><td>25276</td><td>peter4</td><td>2017-01-20</td><td>2017-01-29</td><td>NULL</td><td>Posta</td><td>Bankkártya</td><td>NULL</td><td>NULL</td></tr>",
                            "<tr><td>25332</td><td>peter4</td><td>2017-01-21</td><td>2017-01-26</td><td>NULL</td><td>GLS</td><td>Átutalás</td><td>NULL</td><td>NULL</td></tr>",
                            "<tr><td>25342</td><td>peter4</td><td>2017-01-21</td><td>2017-01-30</td><td>NULL</td><td>Személyes átvétel</td><td>Átutalás</td><td>NULL</td><td>NULL</td></tr>",
                            "<tr><td>25351</td><td>peter4</td><td>2017-01-22</td><td>2017-01-24</td><td>NULL</td><td>Posta</td><td>Bankkártya</td><td>NULL</td><td>NULL</td></tr>",
                            "<tr><td>25380</td><td>peter4</td><td>2017-01-23</td><td>2017-01-30</td><td>Jászkisér, Fő u. 2.</td><td>GLS</td><td>Átutalás</td><td>5137 Jászkisér, Fő u. 2.</td><td>5137</td></tr>",
                            "<tr><td>25397</td><td>peter4</td><td>2017-01-23</td><td>2017-01-29</td><td>NULL</td><td>GLS</td><td>Bankkártya</td><td>NULL</td><td>NULL</td></tr>",
                            "<tr><td>25463</td><td>peter4</td><td>2017-01-24</td><td>2017-01-27</td><td>NULL</td><td>Posta</td><td>Átutalás</td><td>NULL</td><td>NULL</td></tr>",
                            "<tr><td>25530</td><td>peter4</td><td>2017-01-26</td><td>2017-01-31</td><td>NULL</td><td>Személyes átvétel</td><td>Átutalás</td><td>NULL</td><td>NULL</td></tr>",
                            "<tr><td>25566</td><td>peter4</td><td>2017-01-27</td><td>2017-02-06</td><td>NULL</td><td>Személyes átvétel</td><td>Átutalás</td><td>NULL</td><td>NULL</td></tr>",
                            "<tr><td>25603</td><td>peter4</td><td>2017-01-28</td><td>2017-02-07</td><td>NULL</td><td>Posta</td><td>Bankkártya</td><td>NULL</td><td>NULL</td></tr>",
                            "<tr><td>25652</td><td>peter4</td><td>2017-01-30</td><td>2017-02-03</td><td>NULL</td><td>Posta</td><td>Bankkártya</td><td>NULL</td><td>NULL</td></tr>",
                            "<tr><td>25665</td><td>peter4</td><td>2017-01-30</td><td>2017-02-01</td><td>NULL</td><td>Posta</td><td>Átutalás</td><td>NULL</td><td>NULL</td></tr>",
                            "<tr><td>25666</td><td>peter4</td><td>2017-01-30</td><td>2017-02-09</td><td>NULL</td><td>Személyes átvétel</td><td>Bankkártya</td><td>NULL</td><td>NULL</td></tr>",
                            "<tr><td>25667</td><td>peter4</td><td>2017-01-30</td><td>2017-02-07</td><td>NULL</td><td>Személyes átvétel</td><td>Bankkártya</td><td>NULL</td><td>NULL</td></tr>",
                            "<tr><td>25669</td><td>peter4</td><td>2017-01-30</td><td>2017-02-05</td><td>NULL</td><td>Személyes átvétel</td><td>Bankkártya</td><td>NULL</td><td>NULL</td></tr>",
                            "<tr><td>25678</td><td>peter4</td><td>2017-01-30</td><td>2017-02-08</td><td>NULL</td><td>GLS</td><td>Készpénz</td><td>NULL</td><td>NULL</td></tr>",
                            "<tr><td>25733</td><td>peter4</td><td>2017-02-01</td><td>2017-02-07</td><td>NULL</td><td>Posta</td><td>Bankkártya</td><td>NULL</td><td>NULL</td></tr>",
                            "<tr><td>25766</td><td>peter4</td><td>2017-02-02</td><td>2017-02-04</td><td>Jászkisér, Kiss u. 32.</td><td>Posta</td><td>Bankkártya</td><td>5137 Jászkisér, Kiss u. 32.</td><td>5137</td></tr>",
                            "<tr><td>25846</td><td>peter4</td><td>2017-02-04</td><td>2017-02-12</td><td>NULL</td><td>Posta</td><td>Bankkártya</td><td>NULL</td><td>NULL</td></tr>",
                            "<tr><td>25866</td><td>peter4</td><td>2017-02-04</td><td>2017-02-09</td><td>Jászkisér, Fő u. 2.</td><td>Személyes átvétel</td><td>Bankkártya</td><td>5137 Jászkisér, Fő u. 2.</td><td>5137</td></tr>",
                            "<tr><td>25874</td><td>peter4</td><td>2017-02-05</td><td>2017-02-09</td><td>Jászkisér, Nagy u.14.</td><td>Posta</td><td>Bankkártya</td><td>NULL</td><td>NULL</td></tr>",
                            "<tr><td>25877</td><td>peter4</td><td>2017-02-05</td><td>2017-02-11</td><td>NULL</td><td>Személyes átvétel</td><td>Bankkártya</td><td>NULL</td><td>NULL</td></tr>",
                            "<tr><td>25887</td><td>peter4</td><td>2017-02-05</td><td>2017-02-13</td><td>NULL</td><td>Posta</td><td>Bankkártya</td><td>NULL</td><td>NULL</td></tr>",
                            "<tr><td>25911</td><td>peter4</td><td>2017-02-05</td><td>2017-02-15</td><td>Jászkisér, Fő u. 2.</td><td>GLS</td><td>Bankkártya</td><td>NULL</td><td>NULL</td></tr>",
                            "<tr><td>25913</td><td>peter4</td><td>2017-02-06</td><td>2017-02-16</td><td>NULL</td><td>Posta</td><td>Bankkártya</td><td>NULL</td><td>NULL</td></tr>",
                            "<tr><td>25916</td><td>peter4</td><td>2017-02-06</td><td>2017-02-13</td><td>NULL</td><td>GLS</td><td>Bankkártya</td><td>NULL</td><td>NULL</td></tr>",
                            "<tr><td>25919</td><td>peter4</td><td>2017-02-06</td><td>2017-02-10</td><td>NULL</td><td>Személyes átvétel</td><td>Átutalás</td><td>NULL</td><td>NULL</td></tr>",
                            "<tr><td>25979</td><td>peter4</td><td>2017-02-07</td><td>2017-02-14</td><td>NULL</td><td>GLS</td><td>Átutalás</td><td>NULL</td><td>NULL</td></tr>",
                            "<tr><td>25986</td><td>peter4</td><td>2017-02-07</td><td>2017-02-14</td><td>NULL</td><td>Személyes átvétel</td><td>Átutalás</td><td>NULL</td><td>NULL</td></tr>",
                            "<tr><td>25995</td><td>peter4</td><td>2017-02-08</td><td>2017-02-18</td><td>NULL</td><td>Személyes átvétel</td><td>Készpénz</td><td>NULL</td><td>NULL</td></tr>",
                            "<tr><td>26010</td><td>peter4</td><td>2017-02-08</td><td>2017-02-17</td><td>Jászkisér, Fő u. 2.</td><td>Személyes átvétel</td><td>Bankkártya</td><td>5137 Jászkisér, Fő u. 2.</td><td>5137</td></tr>",
                            "<tr><td>26058</td><td>peter4</td><td>2017-02-09</td><td>2017-02-15</td><td>NULL</td><td>Posta</td><td>Átutalás</td><td>NULL</td><td>NULL</td></tr>",
                            "<tr><td>26061</td><td>peter4</td><td>2017-02-09</td><td>2017-02-17</td><td>Jászkisér, Nagy u.14.</td><td>Posta</td><td>Átutalás</td><td>5137 Jászkisér, Nagy u.14.</td><td>5137</td></tr>",
                            "<tr><td>26087</td><td>peter4</td><td>2017-02-10</td><td>2017-02-12</td><td>NULL</td><td>GLS</td><td>Átutalás</td><td>NULL</td><td>NULL</td></tr>",
                            "<tr><td>26098</td><td>peter4</td><td>2017-02-10</td><td>2017-02-14</td><td>NULL</td><td>Posta</td><td>Bankkártya</td><td>NULL</td><td>NULL</td></tr>",
                            "<tr><td>26099</td><td>peter4</td><td>2017-02-10</td><td>2017-02-17</td><td>NULL</td><td>GLS</td><td>Bankkártya</td><td>NULL</td><td>NULL</td></tr>",
                            "<tr><td>26204</td><td>peter4</td><td>2017-02-13</td><td>2017-02-22</td><td>NULL</td><td>Személyes átvétel</td><td>Átutalás</td><td>NULL</td><td>NULL</td></tr>",
                            "<tr><td>26208</td><td>peter4</td><td>2017-02-13</td><td>2017-02-22</td><td>Jászkisér, Fő u. 2.</td><td>Posta</td><td>Átutalás</td><td>5137 Jászkisér, Fő u. 2.</td><td>5137</td></tr>",
                            "<tr><td>26286</td><td>peter4</td><td>2017-02-15</td><td>2017-02-22</td><td>Jászkisér, Kiss u. 32.</td><td>Személyes átvétel</td><td>Készpénz</td><td>5137 Jászkisér, Kiss u. 32.</td><td>5137</td></tr>",
                            "<tr><td>26308</td><td>peter4</td><td>2017-02-15</td><td>2017-02-18</td><td>NULL</td><td>Posta</td><td>Átutalás</td><td>NULL</td><td>NULL</td></tr>",
                            "<tr><td>26320</td><td>peter4</td><td>2017-02-16</td><td>2017-02-26</td><td>NULL</td><td>Posta</td><td>Bankkártya</td><td>NULL</td><td>NULL</td></tr>",
                            "<tr><td>26324</td><td>peter4</td><td>2017-02-16</td><td>2017-02-24</td><td>NULL</td><td>Személyes átvétel</td><td>Bankkártya</td><td>NULL</td><td>NULL</td></tr>",
                            "<tr><td>26371</td><td>peter4</td><td>2017-02-17</td><td>2017-02-21</td><td>NULL</td><td>Személyes átvétel</td><td>Készpénz</td><td>NULL</td><td>NULL</td></tr>",
                            "<tr><td>26460</td><td>peter4</td><td>2017-02-20</td><td>2017-02-22</td><td>Jászkisér, Fő u. 2.</td><td>Posta</td><td>Bankkártya</td><td>5137 Jászkisér, Fő u. 2.</td><td>5137</td></tr>",
                            "<tr><td>26474</td><td>peter4</td><td>2017-02-20</td><td>2017-02-26</td><td>NULL</td><td>Posta</td><td>Átutalás</td><td>NULL</td><td>NULL</td></tr>",
                            "<tr><td>26489</td><td>peter4</td><td>2017-02-20</td><td>2017-02-24</td><td>NULL</td><td>Személyes átvétel</td><td>Átutalás</td><td>NULL</td><td>NULL</td></tr>",
                            "<tr><td>26725</td><td>peter4</td><td>2017-02-26</td><td>2017-03-04</td><td>NULL</td><td>Posta</td><td>Átutalás</td><td>NULL</td><td>NULL</td></tr>",
                            "<tr><td>26792</td><td>peter4</td><td>2017-02-28</td><td>2017-03-07</td><td>Jászkisér, Nagy u.14.</td><td>Posta</td><td>Bankkártya</td><td>NULL</td><td>NULL</td></tr>",
                            "<tr><td>26826</td><td>peter4</td><td>2017-03-01</td><td>2017-03-07</td><td>Jászkisér, Nagy u.14.</td><td>Személyes átvétel</td><td>Bankkártya</td><td>5137 Jászkisér, Nagy u.14.</td><td>5137</td></tr>",
                            "<tr><td>26890</td><td>peter4</td><td>2017-03-03</td><td>2017-03-12</td><td>NULL</td><td>Személyes átvétel</td><td>Bankkártya</td><td>NULL</td><td>NULL</td></tr>",
                            "<tr><td>26979</td><td>peter4</td><td>2017-03-05</td><td>2017-03-11</td><td>Jászkisér, Nagy u.14.</td><td>Személyes átvétel</td><td>Átutalás</td><td>5137 Jászkisér, Nagy u.14.</td><td>5137</td></tr>",
                            "<tr><td>27240</td><td>peter4</td><td>2017-03-11</td><td>2017-03-16</td><td>NULL</td><td>GLS</td><td>Bankkártya</td><td>NULL</td><td>NULL</td></tr>",
                            "<tr><td>27287</td><td>peter4</td><td>2017-03-13</td><td>2017-03-21</td><td>Jászkisér, Kiss u. 32.</td><td>GLS</td><td>Átutalás</td><td>NULL</td><td>NULL</td></tr>",
                            "<tr><td>27312</td><td>peter4</td><td>2017-03-13</td><td>2017-03-17</td><td>NULL</td><td>Személyes átvétel</td><td>Készpénz</td><td>NULL</td><td>NULL</td></tr>",
                            "<tr><td>27432</td><td>peter4</td><td>2017-03-16</td><td>2017-03-23</td><td>Jászkisér, Fő u. 2.</td><td>Személyes átvétel</td><td>Átutalás</td><td>5137 Jászkisér, Fő u. 2.</td><td>5137</td></tr>",
                            "<tr><td>27467</td><td>peter4</td><td>2017-03-17</td><td>2017-03-26</td><td>NULL</td><td>Személyes átvétel</td><td>Készpénz</td><td>NULL</td><td>NULL</td></tr>",
                            "<tr><td>27476</td><td>peter4</td><td>2017-03-17</td><td>2017-03-20</td><td>NULL</td><td>GLS</td><td>Bankkártya</td><td>NULL</td><td>NULL</td></tr>",
                            "<tr><td>27632</td><td>peter4</td><td>2017-03-21</td><td>2017-03-23</td><td>NULL</td><td>Posta</td><td>Átutalás</td><td>NULL</td><td>NULL</td></tr>",
                            "<tr><td>27668</td><td>peter4</td><td>2017-03-22</td><td>2017-03-26</td><td>NULL</td><td>GLS</td><td>Átutalás</td><td>NULL</td><td>NULL</td></tr>",
                            "<tr><td>27712</td><td>peter4</td><td>2017-03-23</td><td>2017-03-26</td><td>NULL</td><td>Személyes átvétel</td><td>Átutalás</td><td>NULL</td><td>NULL</td></tr>",
                            "<tr><td>27715</td><td>peter4</td><td>2017-03-23</td><td>2017-03-29</td><td>NULL</td><td>Személyes átvétel</td><td>Átutalás</td><td>NULL</td><td>NULL</td></tr>",
                            "<tr><td>27721</td><td>peter4</td><td>2017-03-23</td><td>2017-03-31</td><td>NULL</td><td>Posta</td><td>Átutalás</td><td>NULL</td><td>NULL</td></tr>",
                            "<tr><td>27790</td><td>peter4</td><td>2017-03-25</td><td>2017-03-27</td><td>NULL</td><td>Posta</td><td>Készpénz</td><td>NULL</td><td>NULL</td></tr>",
                            "<tr><td>28021</td><td>peter4</td><td>2017-03-31</td><td>2017-04-10</td><td>NULL</td><td>Személyes átvétel</td><td>Átutalás</td><td>NULL</td><td>NULL</td></tr>",
                            "</table>"
                        ]
                    }
                }
            ],
            "execution_count": 29
        },
        {
            "cell_type": "code",
            "source": [
                "SELECT MIN(SZALL_CIM) AS 'ABC elso', \r\n",
                "       MAX(SZALL_CIM) AS 'ABC utolso',\r\n",
                "       AVG(LEN(SZALL_CIM)) AS 'atlagos hosszusag',\r\n",
                "       Min(LEN(SZALL_CIM)) AS 'legrovidebb cim',\r\n",
                "       MAX(LEN(SZALL_CIM)) AS 'leghosszabb cim'\r\n",
                "FROM Rendeles\r\n",
                "WHERE SZALL_CIM IS NOT NULL\r\n",
                "AND LEN(SZALL_CIM) > 0\r\n",
                "\r\n",
                ""
            ],
            "metadata": {
                "azdata_cell_guid": "13443fc4-1f8e-42c3-b2cf-57ae10f5d41f",
                "language": "sql"
            },
            "outputs": [
                {
                    "output_type": "display_data",
                    "data": {
                        "text/html": "(1 row affected)"
                    },
                    "metadata": {}
                },
                {
                    "output_type": "display_data",
                    "data": {
                        "text/html": "Total execution time: 00:00:00.075"
                    },
                    "metadata": {}
                },
                {
                    "output_type": "execute_result",
                    "metadata": {},
                    "execution_count": 10,
                    "data": {
                        "application/vnd.dataresource+json": {
                            "schema": {
                                "fields": [
                                    {
                                        "name": "ABC elso"
                                    },
                                    {
                                        "name": "ABC utolso"
                                    },
                                    {
                                        "name": "atlagos hosszusag"
                                    },
                                    {
                                        "name": "legrovidebb cim"
                                    },
                                    {
                                        "name": "leghosszabb cim"
                                    }
                                ]
                            },
                            "data": [
                                {
                                    "ABC elso": "Abaújszántó, Fő u. 2.",
                                    "ABC utolso": "Zsadány, Nagy u.14.",
                                    "atlagos hosszusag": "19",
                                    "legrovidebb cim": "13",
                                    "leghosszabb cim": "29"
                                }
                            ]
                        },
                        "text/html": [
                            "<table>",
                            "<tr><th>ABC elso</th><th>ABC utolso</th><th>atlagos hosszusag</th><th>legrovidebb cim</th><th>leghosszabb cim</th></tr>",
                            "<tr><td>Abaújszántó, Fő u. 2.</td><td>Zsadány, Nagy u.14.</td><td>19</td><td>13</td><td>29</td></tr>",
                            "</table>"
                        ]
                    }
                }
            ],
            "execution_count": 10
        },
        {
            "cell_type": "code",
            "source": [
                "SELECT kitöltöttség,\r\n",
                "    COUNT(*) sorok_szama\r\n",
                "FROM \r\n",
                "    (SELECT \r\n",
                "        CASE WHEN szamla_cim IS NULL THEN 'Nincs adat'\r\n",
                "            ELSE 'kitöltve' \r\n",
                "            END AS kitöltöttség\r\n",
                "        FROM Rendeles) rows\r\n",
                "GROUP BY kitöltöttség"
            ],
            "metadata": {
                "azdata_cell_guid": "8b81f1c6-5f3a-45f3-a393-aef62f4f21a7",
                "language": "sql"
            },
            "outputs": [
                {
                    "output_type": "display_data",
                    "data": {
                        "text/html": "(2 rows affected)"
                    },
                    "metadata": {}
                },
                {
                    "output_type": "display_data",
                    "data": {
                        "text/html": "Total execution time: 00:00:00.058"
                    },
                    "metadata": {}
                },
                {
                    "output_type": "execute_result",
                    "metadata": {
                        "azdata_chartOptions": {
                            "type": "pie",
                            "dataDirection": "vertical",
                            "columnsAsLabels": true,
                            "labelFirstColumn": false,
                            "legendPosition": "top"
                        }
                    },
                    "execution_count": 9,
                    "data": {
                        "application/vnd.dataresource+json": {
                            "schema": {
                                "fields": [
                                    {
                                        "name": "kitöltöttség"
                                    },
                                    {
                                        "name": "sorok_szama"
                                    }
                                ]
                            },
                            "data": [
                                {
                                    "kitöltöttség": "kitöltve",
                                    "sorok_szama": "2550"
                                },
                                {
                                    "kitöltöttség": "Nincs adat",
                                    "sorok_szama": "25535"
                                }
                            ]
                        },
                        "text/html": [
                            "<table>",
                            "<tr><th>kitöltöttség</th><th>sorok_szama</th></tr>",
                            "<tr><td>kitöltve</td><td>2550</td></tr>",
                            "<tr><td>Nincs adat</td><td>25535</td></tr>",
                            "</table>"
                        ]
                    }
                }
            ],
            "execution_count": 9
        },
        {
            "cell_type": "code",
            "source": [
                "SELECT COUNT(Distinct LEFT(SZAMLA_CIM, 4)) AS egyedi_iranyitoszam\r\n",
                "From Rendeles\r\n",
                "WHERE SZAMLA_CIM IS NOT NULL"
            ],
            "metadata": {
                "azdata_cell_guid": "a733fd26-25cc-4e24-9426-33e7b4812e00",
                "language": "sql"
            },
            "outputs": [
                {
                    "output_type": "display_data",
                    "data": {
                        "text/html": "(1 row affected)"
                    },
                    "metadata": {}
                },
                {
                    "output_type": "display_data",
                    "data": {
                        "text/html": "Total execution time: 00:00:00.020"
                    },
                    "metadata": {}
                },
                {
                    "output_type": "execute_result",
                    "metadata": {},
                    "execution_count": 12,
                    "data": {
                        "application/vnd.dataresource+json": {
                            "schema": {
                                "fields": [
                                    {
                                        "name": "egyedi_iranyitoszam"
                                    }
                                ]
                            },
                            "data": [
                                {
                                    "egyedi_iranyitoszam": "118"
                                }
                            ]
                        },
                        "text/html": [
                            "<table>",
                            "<tr><th>egyedi_iranyitoszam</th></tr>",
                            "<tr><td>118</td></tr>",
                            "</table>"
                        ]
                    }
                }
            ],
            "execution_count": 12
        },
        {
            "cell_type": "code",
            "source": [
                "SELECT LEFT(SZAMLA_CIM, 4) AS \"Iranyítószám\",\r\n",
                "COUNT(SZAMLA_CIM) AS \"Számlát kérő vásárlók száma\",\r\n",
                "From Rendeles\r\n",
                "WHERE szamla_cim IS NOT NULL\r\n",
                "GROUP BY LEFT(SZAMLA_CIM, 4)"
            ],
            "metadata": {
                "azdata_cell_guid": "ca0eff21-3803-4aa8-bff1-14b41192f496",
                "language": "sql"
            },
            "outputs": [
                {
                    "output_type": "display_data",
                    "data": {
                        "text/html": "(118 rows affected)"
                    },
                    "metadata": {}
                },
                {
                    "output_type": "display_data",
                    "data": {
                        "text/html": "Total execution time: 00:00:00.029"
                    },
                    "metadata": {}
                },
                {
                    "output_type": "execute_result",
                    "metadata": {},
                    "execution_count": 21,
                    "data": {
                        "application/vnd.dataresource+json": {
                            "schema": {
                                "fields": [
                                    {
                                        "name": "Iranyítószám"
                                    },
                                    {
                                        "name": "Számlát kérő vásárlók száma"
                                    }
                                ]
                            },
                            "data": [
                                {
                                    "Iranyítószám": "1124",
                                    "Számlát kérő vásárlók száma": "2"
                                },
                                {
                                    "Iranyítószám": "6700",
                                    "Számlát kérő vásárlók száma": "50"
                                },
                                {
                                    "Iranyítószám": "1155",
                                    "Számlát kérő vásárlók száma": "1"
                                },
                                {
                                    "Iranyítószám": "9023",
                                    "Számlát kérő vásárlók száma": "110"
                                },
                                {
                                    "Iranyítószám": "2053",
                                    "Számlát kérő vásárlók száma": "2"
                                },
                                {
                                    "Iranyítószám": "6060",
                                    "Számlát kérő vásárlók száma": "2"
                                },
                                {
                                    "Iranyítószám": "4440",
                                    "Számlát kérő vásárlók száma": "40"
                                },
                                {
                                    "Iranyítószám": "1107",
                                    "Számlát kérő vásárlók száma": "2"
                                },
                                {
                                    "Iranyítószám": "8315",
                                    "Számlát kérő vásárlók száma": "1"
                                },
                                {
                                    "Iranyítószám": "4071",
                                    "Számlát kérő vásárlók száma": "4"
                                },
                                {
                                    "Iranyítószám": "9071",
                                    "Számlát kérő vásárlók száma": "2"
                                },
                                {
                                    "Iranyítószám": "2855",
                                    "Számlát kérő vásárlók száma": "41"
                                },
                                {
                                    "Iranyítószám": "4060",
                                    "Számlát kérő vásárlók száma": "34"
                                },
                                {
                                    "Iranyítószám": "8237",
                                    "Számlát kérő vásárlók száma": "3"
                                },
                                {
                                    "Iranyítószám": "2300",
                                    "Számlát kérő vásárlók száma": "38"
                                },
                                {
                                    "Iranyítószám": "8630",
                                    "Számlát kérő vásárlók száma": "1"
                                },
                                {
                                    "Iranyítószám": "5630",
                                    "Számlát kérő vásárlók száma": "39"
                                },
                                {
                                    "Iranyítószám": "7086",
                                    "Számlát kérő vásárlók száma": "44"
                                },
                                {
                                    "Iranyítószám": "8254",
                                    "Számlát kérő vásárlók száma": "5"
                                },
                                {
                                    "Iranyítószám": "2241",
                                    "Számlát kérő vásárlók száma": "33"
                                },
                                {
                                    "Iranyítószám": "5200",
                                    "Számlát kérő vásárlók száma": "74"
                                },
                                {
                                    "Iranyítószám": "7511",
                                    "Számlát kérő vásárlók száma": "2"
                                },
                                {
                                    "Iranyítószám": "3973",
                                    "Számlát kérő vásárlók száma": "33"
                                },
                                {
                                    "Iranyítószám": "7349",
                                    "Számlát kérő vásárlók száma": "2"
                                },
                                {
                                    "Iranyítószám": "3860",
                                    "Számlát kérő vásárlók száma": "1"
                                },
                                {
                                    "Iranyítószám": "8638",
                                    "Számlát kérő vásárlók száma": "1"
                                },
                                {
                                    "Iranyítószám": "6430",
                                    "Számlát kérő vásárlók száma": "37"
                                },
                                {
                                    "Iranyítószám": "7220",
                                    "Számlát kérő vásárlók száma": "3"
                                },
                                {
                                    "Iranyítószám": "5537",
                                    "Számlát kérő vásárlók száma": "39"
                                },
                                {
                                    "Iranyítószám": "2117",
                                    "Számlát kérő vásárlók száma": "4"
                                },
                                {
                                    "Iranyítószám": "1047",
                                    "Számlát kérő vásárlók száma": "3"
                                },
                                {
                                    "Iranyítószám": "9155",
                                    "Számlát kérő vásárlók száma": "39"
                                },
                                {
                                    "Iranyítószám": "5465",
                                    "Számlát kérő vásárlók száma": "1"
                                },
                                {
                                    "Iranyítószám": "9653",
                                    "Számlát kérő vásárlók száma": "41"
                                },
                                {
                                    "Iranyítószám": "5065",
                                    "Számlát kérő vásárlók száma": "39"
                                },
                                {
                                    "Iranyítószám": "7149",
                                    "Számlát kérő vásárlók száma": "39"
                                },
                                {
                                    "Iranyítószám": "4800",
                                    "Számlát kérő vásárlók száma": "3"
                                },
                                {
                                    "Iranyítószám": "6412",
                                    "Számlát kérő vásárlók száma": "3"
                                },
                                {
                                    "Iranyítószám": "2532",
                                    "Számlát kérő vásárlók száma": "2"
                                },
                                {
                                    "Iranyítószám": "2730",
                                    "Számlát kérő vásárlók száma": "41"
                                },
                                {
                                    "Iranyítószám": "6762",
                                    "Számlát kérő vásárlók száma": "2"
                                },
                                {
                                    "Iranyítószám": "2600",
                                    "Számlát kérő vásárlók száma": "2"
                                },
                                {
                                    "Iranyítószám": "4244",
                                    "Számlát kérő vásárlók száma": "28"
                                },
                                {
                                    "Iranyítószám": "5940",
                                    "Számlát kérő vásárlók száma": "3"
                                },
                                {
                                    "Iranyítószám": "5530",
                                    "Számlát kérő vásárlók száma": "3"
                                },
                                {
                                    "Iranyítószám": "3783",
                                    "Számlát kérő vásárlók száma": "1"
                                },
                                {
                                    "Iranyítószám": "1173",
                                    "Számlát kérő vásárlók száma": "36"
                                },
                                {
                                    "Iranyítószám": "1149",
                                    "Számlát kérő vásárlók száma": "40"
                                },
                                {
                                    "Iranyítószám": "8200",
                                    "Számlát kérő vásárlók száma": "43"
                                },
                                {
                                    "Iranyítószám": "5920",
                                    "Számlát kérő vásárlók száma": "46"
                                },
                                {
                                    "Iranyítószám": "4400",
                                    "Számlát kérő vásárlók száma": "42"
                                },
                                {
                                    "Iranyítószám": "5310",
                                    "Számlát kérő vásárlók száma": "46"
                                },
                                {
                                    "Iranyítószám": "7396",
                                    "Számlát kérő vásárlók száma": "43"
                                },
                                {
                                    "Iranyítószám": "1183",
                                    "Számlát kérő vásárlók száma": "37"
                                },
                                {
                                    "Iranyítószám": "8283",
                                    "Számlát kérő vásárlók száma": "4"
                                },
                                {
                                    "Iranyítószám": "4172",
                                    "Számlát kérő vásárlók száma": "2"
                                },
                                {
                                    "Iranyítószám": "3630",
                                    "Számlát kérő vásárlók száma": "2"
                                },
                                {
                                    "Iranyítószám": "2131",
                                    "Számlát kérő vásárlók száma": "2"
                                },
                                {
                                    "Iranyítószám": "6913",
                                    "Számlát kérő vásárlók száma": "43"
                                },
                                {
                                    "Iranyítószám": "5083",
                                    "Számlát kérő vásárlók száma": "1"
                                },
                                {
                                    "Iranyítószám": "6760",
                                    "Számlát kérő vásárlók száma": "38"
                                },
                                {
                                    "Iranyítószám": "3643",
                                    "Számlát kérő vásárlók száma": "42"
                                },
                                {
                                    "Iranyítószám": "1035",
                                    "Számlát kérő vásárlók száma": "6"
                                },
                                {
                                    "Iranyítószám": "6646",
                                    "Számlát kérő vásárlók száma": "49"
                                },
                                {
                                    "Iranyítószám": "8313",
                                    "Számlát kérő vásárlók száma": "40"
                                },
                                {
                                    "Iranyítószám": "2085",
                                    "Számlát kérő vásárlók száma": "30"
                                },
                                {
                                    "Iranyítószám": "1192",
                                    "Számlát kérő vásárlók száma": "31"
                                },
                                {
                                    "Iranyítószám": "8220",
                                    "Számlát kérő vásárlók száma": "2"
                                },
                                {
                                    "Iranyítószám": "6131",
                                    "Számlát kérő vásárlók száma": "2"
                                },
                                {
                                    "Iranyítószám": "2000",
                                    "Számlát kérő vásárlók száma": "33"
                                },
                                {
                                    "Iranyítószám": "8800",
                                    "Számlát kérő vásárlók száma": "2"
                                },
                                {
                                    "Iranyítószám": "6050",
                                    "Számlát kérő vásárlók száma": "38"
                                },
                                {
                                    "Iranyítószám": "2800",
                                    "Számlát kérő vásárlók száma": "2"
                                },
                                {
                                    "Iranyítószám": "3500",
                                    "Számlát kérő vásárlók száma": "1"
                                },
                                {
                                    "Iranyítószám": "7130",
                                    "Számlát kérő vásárlók száma": "4"
                                },
                                {
                                    "Iranyítószám": "1102",
                                    "Számlát kérő vásárlók száma": "44"
                                },
                                {
                                    "Iranyítószám": "8640",
                                    "Számlát kérő vásárlók száma": "2"
                                },
                                {
                                    "Iranyítószám": "5931",
                                    "Számlát kérő vásárlók száma": "36"
                                },
                                {
                                    "Iranyítószám": "7100",
                                    "Számlát kérő vásárlók száma": "34"
                                },
                                {
                                    "Iranyítószám": "7000",
                                    "Számlát kérő vásárlók száma": "2"
                                },
                                {
                                    "Iranyítószám": "7900",
                                    "Számlát kérő vásárlók száma": "43"
                                },
                                {
                                    "Iranyítószám": "5071",
                                    "Számlát kérő vásárlók száma": "50"
                                },
                                {
                                    "Iranyítószám": "5061",
                                    "Számlát kérő vásárlók száma": "28"
                                },
                                {
                                    "Iranyítószám": "2381",
                                    "Számlát kérő vásárlók száma": "1"
                                },
                                {
                                    "Iranyítószám": "7960",
                                    "Számlát kérő vásárlók száma": "43"
                                },
                                {
                                    "Iranyítószám": "5137",
                                    "Számlát kérő vásárlók száma": "114"
                                },
                                {
                                    "Iranyítószám": "2330",
                                    "Számlát kérő vásárlók száma": "3"
                                },
                                {
                                    "Iranyítószám": "9970",
                                    "Számlát kérő vásárlók száma": "2"
                                },
                                {
                                    "Iranyítószám": "2377",
                                    "Számlát kérő vásárlók száma": "2"
                                },
                                {
                                    "Iranyítószám": "1077",
                                    "Számlát kérő vásárlók száma": "38"
                                },
                                {
                                    "Iranyítószám": "4200",
                                    "Számlát kérő vásárlók száma": "2"
                                },
                                {
                                    "Iranyítószám": "1067",
                                    "Számlát kérő vásárlók száma": "4"
                                },
                                {
                                    "Iranyítószám": "3895",
                                    "Számlát kérő vásárlók száma": "2"
                                },
                                {
                                    "Iranyítószám": "6500",
                                    "Számlát kérő vásárlók száma": "2"
                                },
                                {
                                    "Iranyítószám": "6786",
                                    "Számlát kérő vásárlók száma": "67"
                                },
                                {
                                    "Iranyítószám": "1011",
                                    "Számlát kérő vásárlók száma": "3"
                                },
                                {
                                    "Iranyítószám": "4231",
                                    "Számlát kérő vásárlók száma": "34"
                                },
                                {
                                    "Iranyítószám": "3300",
                                    "Számlát kérő vásárlók száma": "1"
                                },
                                {
                                    "Iranyítószám": "6900",
                                    "Számlát kérő vásárlók száma": "1"
                                },
                                {
                                    "Iranyítószám": "2484",
                                    "Számlát kérő vásárlók száma": "47"
                                },
                                {
                                    "Iranyítószám": "3910",
                                    "Számlát kérő vásárlók száma": "3"
                                },
                                {
                                    "Iranyítószám": "8391",
                                    "Számlát kérő vásárlók száma": "4"
                                },
                                {
                                    "Iranyítószám": "2424",
                                    "Számlát kérő vásárlók száma": "37"
                                },
                                {
                                    "Iranyítószám": "1084",
                                    "Számlát kérő vásárlók száma": "1"
                                },
                                {
                                    "Iranyítószám": "9181",
                                    "Számlát kérő vásárlók száma": "47"
                                },
                                {
                                    "Iranyítószám": "2462",
                                    "Számlát kérő vásárlók száma": "40"
                                },
                                {
                                    "Iranyítószám": "7150",
                                    "Számlát kérő vásárlók száma": "3"
                                },
                                {
                                    "Iranyítószám": "3980",
                                    "Számlát kérő vásárlók száma": "1"
                                },
                                {
                                    "Iranyítószám": "2115",
                                    "Számlát kérő vásárlók száma": "7"
                                },
                                {
                                    "Iranyítószám": "7133",
                                    "Számlát kérő vásárlók száma": "30"
                                },
                                {
                                    "Iranyítószám": "3580",
                                    "Számlát kérő vásárlók száma": "35"
                                },
                                {
                                    "Iranyítószám": "2100",
                                    "Számlát kérő vásárlók száma": "53"
                                },
                                {
                                    "Iranyítószám": "5085",
                                    "Számlát kérő vásárlók száma": "1"
                                },
                                {
                                    "Iranyítószám": "2370",
                                    "Számlát kérő vásárlók száma": "5"
                                },
                                {
                                    "Iranyítószám": "6080",
                                    "Számlát kérő vásárlók száma": "32"
                                },
                                {
                                    "Iranyítószám": "2700",
                                    "Számlát kérő vásárlók száma": "36"
                                },
                                {
                                    "Iranyítószám": "1072",
                                    "Számlát kérő vásárlók száma": "2"
                                },
                                {
                                    "Iranyítószám": "4600",
                                    "Számlát kérő vásárlók száma": "1"
                                }
                            ]
                        },
                        "text/html": [
                            "<table>",
                            "<tr><th>Iranyítószám</th><th>Számlát kérő vásárlók száma</th></tr>",
                            "<tr><td>1124</td><td>2</td></tr>",
                            "<tr><td>6700</td><td>50</td></tr>",
                            "<tr><td>1155</td><td>1</td></tr>",
                            "<tr><td>9023</td><td>110</td></tr>",
                            "<tr><td>2053</td><td>2</td></tr>",
                            "<tr><td>6060</td><td>2</td></tr>",
                            "<tr><td>4440</td><td>40</td></tr>",
                            "<tr><td>1107</td><td>2</td></tr>",
                            "<tr><td>8315</td><td>1</td></tr>",
                            "<tr><td>4071</td><td>4</td></tr>",
                            "<tr><td>9071</td><td>2</td></tr>",
                            "<tr><td>2855</td><td>41</td></tr>",
                            "<tr><td>4060</td><td>34</td></tr>",
                            "<tr><td>8237</td><td>3</td></tr>",
                            "<tr><td>2300</td><td>38</td></tr>",
                            "<tr><td>8630</td><td>1</td></tr>",
                            "<tr><td>5630</td><td>39</td></tr>",
                            "<tr><td>7086</td><td>44</td></tr>",
                            "<tr><td>8254</td><td>5</td></tr>",
                            "<tr><td>2241</td><td>33</td></tr>",
                            "<tr><td>5200</td><td>74</td></tr>",
                            "<tr><td>7511</td><td>2</td></tr>",
                            "<tr><td>3973</td><td>33</td></tr>",
                            "<tr><td>7349</td><td>2</td></tr>",
                            "<tr><td>3860</td><td>1</td></tr>",
                            "<tr><td>8638</td><td>1</td></tr>",
                            "<tr><td>6430</td><td>37</td></tr>",
                            "<tr><td>7220</td><td>3</td></tr>",
                            "<tr><td>5537</td><td>39</td></tr>",
                            "<tr><td>2117</td><td>4</td></tr>",
                            "<tr><td>1047</td><td>3</td></tr>",
                            "<tr><td>9155</td><td>39</td></tr>",
                            "<tr><td>5465</td><td>1</td></tr>",
                            "<tr><td>9653</td><td>41</td></tr>",
                            "<tr><td>5065</td><td>39</td></tr>",
                            "<tr><td>7149</td><td>39</td></tr>",
                            "<tr><td>4800</td><td>3</td></tr>",
                            "<tr><td>6412</td><td>3</td></tr>",
                            "<tr><td>2532</td><td>2</td></tr>",
                            "<tr><td>2730</td><td>41</td></tr>",
                            "<tr><td>6762</td><td>2</td></tr>",
                            "<tr><td>2600</td><td>2</td></tr>",
                            "<tr><td>4244</td><td>28</td></tr>",
                            "<tr><td>5940</td><td>3</td></tr>",
                            "<tr><td>5530</td><td>3</td></tr>",
                            "<tr><td>3783</td><td>1</td></tr>",
                            "<tr><td>1173</td><td>36</td></tr>",
                            "<tr><td>1149</td><td>40</td></tr>",
                            "<tr><td>8200</td><td>43</td></tr>",
                            "<tr><td>5920</td><td>46</td></tr>",
                            "<tr><td>4400</td><td>42</td></tr>",
                            "<tr><td>5310</td><td>46</td></tr>",
                            "<tr><td>7396</td><td>43</td></tr>",
                            "<tr><td>1183</td><td>37</td></tr>",
                            "<tr><td>8283</td><td>4</td></tr>",
                            "<tr><td>4172</td><td>2</td></tr>",
                            "<tr><td>3630</td><td>2</td></tr>",
                            "<tr><td>2131</td><td>2</td></tr>",
                            "<tr><td>6913</td><td>43</td></tr>",
                            "<tr><td>5083</td><td>1</td></tr>",
                            "<tr><td>6760</td><td>38</td></tr>",
                            "<tr><td>3643</td><td>42</td></tr>",
                            "<tr><td>1035</td><td>6</td></tr>",
                            "<tr><td>6646</td><td>49</td></tr>",
                            "<tr><td>8313</td><td>40</td></tr>",
                            "<tr><td>2085</td><td>30</td></tr>",
                            "<tr><td>1192</td><td>31</td></tr>",
                            "<tr><td>8220</td><td>2</td></tr>",
                            "<tr><td>6131</td><td>2</td></tr>",
                            "<tr><td>2000</td><td>33</td></tr>",
                            "<tr><td>8800</td><td>2</td></tr>",
                            "<tr><td>6050</td><td>38</td></tr>",
                            "<tr><td>2800</td><td>2</td></tr>",
                            "<tr><td>3500</td><td>1</td></tr>",
                            "<tr><td>7130</td><td>4</td></tr>",
                            "<tr><td>1102</td><td>44</td></tr>",
                            "<tr><td>8640</td><td>2</td></tr>",
                            "<tr><td>5931</td><td>36</td></tr>",
                            "<tr><td>7100</td><td>34</td></tr>",
                            "<tr><td>7000</td><td>2</td></tr>",
                            "<tr><td>7900</td><td>43</td></tr>",
                            "<tr><td>5071</td><td>50</td></tr>",
                            "<tr><td>5061</td><td>28</td></tr>",
                            "<tr><td>2381</td><td>1</td></tr>",
                            "<tr><td>7960</td><td>43</td></tr>",
                            "<tr><td>5137</td><td>114</td></tr>",
                            "<tr><td>2330</td><td>3</td></tr>",
                            "<tr><td>9970</td><td>2</td></tr>",
                            "<tr><td>2377</td><td>2</td></tr>",
                            "<tr><td>1077</td><td>38</td></tr>",
                            "<tr><td>4200</td><td>2</td></tr>",
                            "<tr><td>1067</td><td>4</td></tr>",
                            "<tr><td>3895</td><td>2</td></tr>",
                            "<tr><td>6500</td><td>2</td></tr>",
                            "<tr><td>6786</td><td>67</td></tr>",
                            "<tr><td>1011</td><td>3</td></tr>",
                            "<tr><td>4231</td><td>34</td></tr>",
                            "<tr><td>3300</td><td>1</td></tr>",
                            "<tr><td>6900</td><td>1</td></tr>",
                            "<tr><td>2484</td><td>47</td></tr>",
                            "<tr><td>3910</td><td>3</td></tr>",
                            "<tr><td>8391</td><td>4</td></tr>",
                            "<tr><td>2424</td><td>37</td></tr>",
                            "<tr><td>1084</td><td>1</td></tr>",
                            "<tr><td>9181</td><td>47</td></tr>",
                            "<tr><td>2462</td><td>40</td></tr>",
                            "<tr><td>7150</td><td>3</td></tr>",
                            "<tr><td>3980</td><td>1</td></tr>",
                            "<tr><td>2115</td><td>7</td></tr>",
                            "<tr><td>7133</td><td>30</td></tr>",
                            "<tr><td>3580</td><td>35</td></tr>",
                            "<tr><td>2100</td><td>53</td></tr>",
                            "<tr><td>5085</td><td>1</td></tr>",
                            "<tr><td>2370</td><td>5</td></tr>",
                            "<tr><td>6080</td><td>32</td></tr>",
                            "<tr><td>2700</td><td>36</td></tr>",
                            "<tr><td>1072</td><td>2</td></tr>",
                            "<tr><td>4600</td><td>1</td></tr>",
                            "</table>"
                        ]
                    }
                }
            ],
            "execution_count": 21
        },
        {
            "cell_type": "code",
            "source": [
                "SELECT LEFT(SZAMLA_CIM, 4) AS \"Iranyítószám\",\r\n",
                "COUNT(SZAMLA_CIM) AS \"Számlát kérő vásárlók száma\",\r\n",
                "RIGHT(LEFT(SZAmla_CIM, CHARINDEX(',', SZAMLA_CIM) - 1), LEN(LEFT(SZALL_CIM, CHARINDEX(',', SZAMLA_CIM) - 1))-4) as \"település\"\r\n",
                "From Rendeles\r\n",
                "WHERE szamla_cim IS NOT NULL\r\n",
                "GROUP BY LEFT(SZAMLA_CIM, 4), RIGHT(LEFT(SZAmla_CIM, CHARINDEX(',', SZAMLA_CIM) - 1), LEN(LEFT(SZALL_CIM, CHARINDEX(',', SZAMLA_CIM) - 1))-4)"
            ],
            "metadata": {
                "azdata_cell_guid": "6ba14aea-c090-49cc-819b-303cc19b6bd0",
                "language": "sql"
            },
            "outputs": [
                {
                    "output_type": "display_data",
                    "data": {
                        "text/html": "(208 rows affected)"
                    },
                    "metadata": {}
                },
                {
                    "output_type": "display_data",
                    "data": {
                        "text/html": "Total execution time: 00:00:00.060"
                    },
                    "metadata": {}
                },
                {
                    "output_type": "execute_result",
                    "metadata": {},
                    "execution_count": 41,
                    "data": {
                        "application/vnd.dataresource+json": {
                            "schema": {
                                "fields": [
                                    {
                                        "name": "Iranyítószám"
                                    },
                                    {
                                        "name": "Számlát kérő vásárlók száma"
                                    },
                                    {
                                        "name": "település"
                                    }
                                ]
                            },
                            "data": [
                                {
                                    "Iranyítószám": "2484",
                                    "Számlát kérő vásárlók száma": "19",
                                    "település": " Agárd"
                                },
                                {
                                    "Iranyítószám": "2730",
                                    "Számlát kérő vásárlók száma": "24",
                                    "település": " Albertirsa"
                                },
                                {
                                    "Iranyítószám": "6430",
                                    "Számlát kérő vásárlók száma": "20",
                                    "település": " Bácsalmás"
                                },
                                {
                                    "Iranyítószám": "6500",
                                    "Számlát kérő vásárlók száma": "1",
                                    "település": " Baja"
                                },
                                {
                                    "Iranyítószám": "8220",
                                    "Számlát kérő vásárlók száma": "1",
                                    "település": " Balatonalmádi"
                                },
                                {
                                    "Iranyítószám": "8313",
                                    "Számlát kérő vásárlók száma": "19",
                                    "település": " Balatongyörök"
                                },
                                {
                                    "Iranyítószám": "8638",
                                    "Számlát kérő vásárlók száma": "1",
                                    "település": " Balatonlelle"
                                },
                                {
                                    "Iranyítószám": "4060",
                                    "Számlát kérő vásárlók száma": "18",
                                    "település": " Balmazújváros"
                                },
                                {
                                    "Iranyítószám": "7149",
                                    "Számlát kérő vásárlók száma": "20",
                                    "település": " Báta"
                                },
                                {
                                    "Iranyítószám": "5630",
                                    "Számlát kérő vásárlók száma": "26",
                                    "település": " Békés"
                                },
                                {
                                    "Iranyítószám": "5071",
                                    "Számlát kérő vásárlók száma": "21",
                                    "település": " Besenyszög"
                                },
                                {
                                    "Iranyítószám": "4172",
                                    "Számlát kérő vásárlók száma": "2",
                                    "település": " Biharnagybajom"
                                },
                                {
                                    "Iranyítószám": "2855",
                                    "Számlát kérő vásárlók száma": "23",
                                    "település": " Bokod"
                                },
                                {
                                    "Iranyítószám": "7150",
                                    "Számlát kérő vásárlók száma": "1",
                                    "település": " Bonyhád"
                                },
                                {
                                    "Iranyítószám": "4231",
                                    "Számlát kérő vásárlók száma": "19",
                                    "település": " Bököny"
                                },
                                {
                                    "Iranyítószám": "1011",
                                    "Számlát kérő vásárlók száma": "3",
                                    "település": " Budapest"
                                },
                                {
                                    "Iranyítószám": "1035",
                                    "Számlát kérő vásárlók száma": "4",
                                    "település": " Budapest"
                                },
                                {
                                    "Iranyítószám": "1047",
                                    "Számlát kérő vásárlók száma": "2",
                                    "település": " Budapest"
                                },
                                {
                                    "Iranyítószám": "1067",
                                    "Számlát kérő vásárlók száma": "2",
                                    "település": " Budapest"
                                },
                                {
                                    "Iranyítószám": "1077",
                                    "Számlát kérő vásárlók száma": "23",
                                    "település": " Budapest"
                                },
                                {
                                    "Iranyítószám": "1084",
                                    "Számlát kérő vásárlók száma": "1",
                                    "település": " Budapest"
                                },
                                {
                                    "Iranyítószám": "1102",
                                    "Számlát kérő vásárlók száma": "21",
                                    "település": " Budapest"
                                },
                                {
                                    "Iranyítószám": "1107",
                                    "Számlát kérő vásárlók száma": "2",
                                    "település": " Budapest"
                                },
                                {
                                    "Iranyítószám": "1124",
                                    "Számlát kérő vásárlók száma": "1",
                                    "település": " Budapest"
                                },
                                {
                                    "Iranyítószám": "1149",
                                    "Számlát kérő vásárlók száma": "22",
                                    "település": " Budapest"
                                },
                                {
                                    "Iranyítószám": "1155",
                                    "Számlát kérő vásárlók száma": "1",
                                    "település": " Budapest"
                                },
                                {
                                    "Iranyítószám": "1173",
                                    "Számlát kérő vásárlók száma": "17",
                                    "település": " Budapest"
                                },
                                {
                                    "Iranyítószám": "1183",
                                    "Számlát kérő vásárlók száma": "21",
                                    "település": " Budapest"
                                },
                                {
                                    "Iranyítószám": "1192",
                                    "Számlát kérő vásárlók száma": "23",
                                    "település": " Budapest"
                                },
                                {
                                    "Iranyítószám": "2700",
                                    "Számlát kérő vásárlók száma": "19",
                                    "település": " Cegléd"
                                },
                                {
                                    "Iranyítószám": "3973",
                                    "Számlát kérő vásárlók száma": "18",
                                    "település": " Cigánd"
                                },
                                {
                                    "Iranyítószám": "6913",
                                    "Számlát kérő vásárlók száma": "24",
                                    "település": " Csanádpalota"
                                },
                                {
                                    "Iranyítószám": "5920",
                                    "Számlát kérő vásárlók száma": "21",
                                    "település": " Csorvás"
                                },
                                {
                                    "Iranyítószám": "2370",
                                    "Számlát kérő vásárlók száma": "3",
                                    "település": " Dabas"
                                },
                                {
                                    "Iranyítószám": "3643",
                                    "Számlát kérő vásárlók száma": "24",
                                    "település": " Dédestapolcsány"
                                },
                                {
                                    "Iranyítószám": "2330",
                                    "Számlát kérő vásárlók száma": "1",
                                    "település": " Dunaharaszti"
                                },
                                {
                                    "Iranyítószám": "3300",
                                    "Számlát kérő vásárlók száma": "1",
                                    "település": " Eger"
                                },
                                {
                                    "Iranyítószám": "4071",
                                    "Számlát kérő vásárlók száma": "3",
                                    "település": " Egyek"
                                },
                                {
                                    "Iranyítószám": "2424",
                                    "Számlát kérő vásárlók száma": "16",
                                    "település": " Előszállás"
                                },
                                {
                                    "Iranyítószám": "3860",
                                    "Számlát kérő vásárlók száma": "1",
                                    "település": " Encs"
                                },
                                {
                                    "Iranyítószám": "7133",
                                    "Számlát kérő vásárlók száma": "15",
                                    "település": " Fadd"
                                },
                                {
                                    "Iranyítószám": "8640",
                                    "Számlát kérő vásárlók száma": "1",
                                    "település": " Fonyód"
                                },
                                {
                                    "Iranyítószám": "2131",
                                    "Számlát kérő vásárlók száma": "1",
                                    "település": " Göd"
                                },
                                {
                                    "Iranyítószám": "2100",
                                    "Számlát kérő vásárlók száma": "26",
                                    "település": " Gödöllő"
                                },
                                {
                                    "Iranyítószám": "3895",
                                    "Számlát kérő vásárlók száma": "1",
                                    "település": " Gönc"
                                },
                                {
                                    "Iranyítószám": "9023",
                                    "Számlát kérő vásárlók száma": "49",
                                    "település": " Győr"
                                },
                                {
                                    "Iranyítószám": "4200",
                                    "Számlát kérő vásárlók száma": "1",
                                    "település": " Hajdúszoboszló"
                                },
                                {
                                    "Iranyítószám": "2053",
                                    "Számlát kérő vásárlók száma": "1",
                                    "település": " Herceghalom"
                                },
                                {
                                    "Iranyítószám": "2117",
                                    "Számlát kérő vásárlók száma": "1",
                                    "település": " Isaszeg"
                                },
                                {
                                    "Iranyítószám": "5137",
                                    "Számlát kérő vásárlók száma": "60",
                                    "település": " Jászkisér"
                                },
                                {
                                    "Iranyítószám": "8283",
                                    "Számlát kérő vásárlók száma": "3",
                                    "település": " Káptalantóti"
                                },
                                {
                                    "Iranyítószám": "5083",
                                    "Számlát kérő vásárlók száma": "1",
                                    "település": " Kengyel"
                                },
                                {
                                    "Iranyítószám": "9181",
                                    "Számlát kérő vásárlók száma": "21",
                                    "település": " Kimle"
                                },
                                {
                                    "Iranyítószám": "6760",
                                    "Számlát kérő vásárlók száma": "15",
                                    "település": " Kistelek"
                                },
                                {
                                    "Iranyítószám": "5310",
                                    "Számlát kérő vásárlók száma": "23",
                                    "település": " Kisújszállás"
                                },
                                {
                                    "Iranyítószám": "8254",
                                    "Számlát kérő vásárlók száma": "1",
                                    "település": " Kővágóörs"
                                },
                                {
                                    "Iranyítószám": "6050",
                                    "Számlát kérő vásárlók száma": "22",
                                    "település": " Lajosmizse"
                                },
                                {
                                    "Iranyítószám": "9155",
                                    "Számlát kérő vásárlók száma": "24",
                                    "település": " Lébény"
                                },
                                {
                                    "Iranyítószám": "7396",
                                    "Számlát kérő vásárlók száma": "22",
                                    "település": " Magyarszék"
                                },
                                {
                                    "Iranyítószám": "6900",
                                    "Számlát kérő vásárlók száma": "1",
                                    "település": " Makó"
                                },
                                {
                                    "Iranyítószám": "2462",
                                    "Számlát kérő vásárlók száma": "22",
                                    "település": " Martonvásár"
                                },
                                {
                                    "Iranyítószám": "3500",
                                    "Számlát kérő vásárlók száma": "1",
                                    "település": " Miskolc"
                                },
                                {
                                    "Iranyítószám": "8800",
                                    "Számlát kérő vásárlók száma": "1",
                                    "település": " Nagykanizsa"
                                },
                                {
                                    "Iranyítószám": "5065",
                                    "Számlát kérő vásárlók száma": "17",
                                    "település": " Nagykörű"
                                },
                                {
                                    "Iranyítószám": "5931",
                                    "Számlát kérő vásárlók száma": "18",
                                    "település": " Nagyszénás"
                                },
                                {
                                    "Iranyítószám": "4400",
                                    "Számlát kérő vásárlók száma": "25",
                                    "település": " Nyíregyháza"
                                },
                                {
                                    "Iranyítószám": "7086",
                                    "Számlát kérő vásárlók száma": "29",
                                    "település": " Ozora"
                                },
                                {
                                    "Iranyítószám": "7511",
                                    "Számlát kérő vásárlók száma": "2",
                                    "település": " Ötvöskónyi"
                                },
                                {
                                    "Iranyítószám": "2085",
                                    "Számlát kérő vásárlók száma": "17",
                                    "település": " Pilisvörösvár"
                                },
                                {
                                    "Iranyítószám": "3630",
                                    "Számlát kérő vásárlók száma": "1",
                                    "település": " Putnok"
                                },
                                {
                                    "Iranyítószám": "2300",
                                    "Számlát kérő vásárlók száma": "16",
                                    "település": " Ráckeve"
                                },
                                {
                                    "Iranyítószám": "5085",
                                    "Számlát kérő vásárlók száma": "1",
                                    "település": " Rákóczifalva"
                                },
                                {
                                    "Iranyítószám": "9653",
                                    "Számlát kérő vásárlók száma": "20",
                                    "település": " Répcelak"
                                },
                                {
                                    "Iranyítószám": "6786",
                                    "Számlát kérő vásárlók száma": "39",
                                    "település": " Ruzsa"
                                },
                                {
                                    "Iranyítószám": "6762",
                                    "Számlát kérő vásárlók száma": "1",
                                    "település": " Sándorfalva"
                                },
                                {
                                    "Iranyítószám": "7000",
                                    "Számlát kérő vásárlók száma": "1",
                                    "település": " Sárbogárd"
                                },
                                {
                                    "Iranyítószám": "7220",
                                    "Számlát kérő vásárlók száma": "1",
                                    "település": " Sarkad"
                                },
                                {
                                    "Iranyítószám": "8391",
                                    "Számlát kérő vásárlók száma": "1",
                                    "település": " Sármellék"
                                },
                                {
                                    "Iranyítószám": "7960",
                                    "Számlát kérő vásárlók száma": "16",
                                    "település": " Sellye"
                                },
                                {
                                    "Iranyítószám": "2241",
                                    "Számlát kérő vásárlók száma": "18",
                                    "település": " Sülysáp"
                                },
                                {
                                    "Iranyítószám": "6080",
                                    "Számlát kérő vásárlók száma": "19",
                                    "település": " Szabadszállás"
                                },
                                {
                                    "Iranyítószám": "6131",
                                    "Számlát kérő vásárlók száma": "1",
                                    "település": " Szank"
                                },
                                {
                                    "Iranyítószám": "7349",
                                    "Számlát kérő vásárlók száma": "1",
                                    "település": " Szászvár"
                                },
                                {
                                    "Iranyítószám": "6700",
                                    "Számlát kérő vásárlók száma": "27",
                                    "település": " Szeged"
                                },
                                {
                                    "Iranyítószám": "7100",
                                    "Számlát kérő vásárlók száma": "20",
                                    "település": " Szekszárd"
                                },
                                {
                                    "Iranyítószám": "2000",
                                    "Számlát kérő vásárlók száma": "20",
                                    "település": " Szentendre"
                                },
                                {
                                    "Iranyítószám": "9970",
                                    "Számlát kérő vásárlók száma": "2",
                                    "település": " Szentgotthárd"
                                },
                                {
                                    "Iranyítószám": "7900",
                                    "Számlát kérő vásárlók száma": "20",
                                    "település": " Szigetvár"
                                },
                                {
                                    "Iranyítószám": "2381",
                                    "Számlát kérő vásárlók száma": "1",
                                    "település": " Táborfalva"
                                },
                                {
                                    "Iranyítószám": "2800",
                                    "Számlát kérő vásárlók száma": "1",
                                    "település": " Tatabánya"
                                },
                                {
                                    "Iranyítószám": "8237",
                                    "Számlát kérő vásárlók száma": "2",
                                    "település": " Tihany"
                                },
                                {
                                    "Iranyítószám": "5061",
                                    "Számlát kérő vásárlók száma": "15",
                                    "település": " Tiszasüly"
                                },
                                {
                                    "Iranyítószám": "3580",
                                    "Számlát kérő vásárlók száma": "13",
                                    "település": " Tiszaújváros"
                                },
                                {
                                    "Iranyítószám": "4440",
                                    "Számlát kérő vásárlók száma": "21",
                                    "település": " Tiszavasvári"
                                },
                                {
                                    "Iranyítószám": "3910",
                                    "Számlát kérő vásárlók száma": "1",
                                    "település": " Tokaj"
                                },
                                {
                                    "Iranyítószám": "2532",
                                    "Számlát kérő vásárlók száma": "2",
                                    "település": " Tokodaltáró"
                                },
                                {
                                    "Iranyítószám": "7130",
                                    "Számlát kérő vásárlók száma": "2",
                                    "település": " Tolna"
                                },
                                {
                                    "Iranyítószám": "5940",
                                    "Számlát kérő vásárlók száma": "2",
                                    "település": " Tótkomlós"
                                },
                                {
                                    "Iranyítószám": "6646",
                                    "Számlát kérő vásárlók száma": "22",
                                    "település": " Tömörkény"
                                },
                                {
                                    "Iranyítószám": "5200",
                                    "Számlát kérő vásárlók száma": "35",
                                    "település": " Törökszentmiklós"
                                },
                                {
                                    "Iranyítószám": "4244",
                                    "Számlát kérő vásárlók száma": "14",
                                    "település": " Újfehértó"
                                },
                                {
                                    "Iranyítószám": "2600",
                                    "Számlát kérő vásárlók száma": "2",
                                    "település": " Vác"
                                },
                                {
                                    "Iranyítószám": "2115",
                                    "Számlát kérő vásárlók száma": "4",
                                    "település": " Vácszentlászló"
                                },
                                {
                                    "Iranyítószám": "4800",
                                    "Számlát kérő vásárlók száma": "2",
                                    "település": " Vásárosnamény"
                                },
                                {
                                    "Iranyítószám": "8200",
                                    "Számlát kérő vásárlók száma": "21",
                                    "település": " Veszprém"
                                },
                                {
                                    "Iranyítószám": "5530",
                                    "Számlát kérő vásárlók száma": "1",
                                    "település": " Vésztő"
                                },
                                {
                                    "Iranyítószám": "5537",
                                    "Számlát kérő vásárlók száma": "17",
                                    "település": " Zsadány"
                                },
                                {
                                    "Iranyítószám": "2484",
                                    "Számlát kérő vásárlók száma": "28",
                                    "település": "Agárd"
                                },
                                {
                                    "Iranyítószám": "2730",
                                    "Számlát kérő vásárlók száma": "17",
                                    "település": "Albertirsa"
                                },
                                {
                                    "Iranyítószám": "6430",
                                    "Számlát kérő vásárlók száma": "17",
                                    "település": "Bácsalmás"
                                },
                                {
                                    "Iranyítószám": "6500",
                                    "Számlát kérő vásárlók száma": "1",
                                    "település": "Baja"
                                },
                                {
                                    "Iranyítószám": "8220",
                                    "Számlát kérő vásárlók száma": "1",
                                    "település": "Balatonalmádi"
                                },
                                {
                                    "Iranyítószám": "8630",
                                    "Számlát kérő vásárlók száma": "1",
                                    "település": "Balatonboglár"
                                },
                                {
                                    "Iranyítószám": "8313",
                                    "Számlát kérő vásárlók száma": "21",
                                    "település": "Balatongyörök"
                                },
                                {
                                    "Iranyítószám": "4060",
                                    "Számlát kérő vásárlók száma": "16",
                                    "település": "Balmazújváros"
                                },
                                {
                                    "Iranyítószám": "6412",
                                    "Számlát kérő vásárlók száma": "3",
                                    "település": "Balotaszállás"
                                },
                                {
                                    "Iranyítószám": "7149",
                                    "Számlát kérő vásárlók száma": "19",
                                    "település": "Báta"
                                },
                                {
                                    "Iranyítószám": "5630",
                                    "Számlát kérő vásárlók száma": "13",
                                    "település": "Békés"
                                },
                                {
                                    "Iranyítószám": "5071",
                                    "Számlát kérő vásárlók száma": "29",
                                    "település": "Besenyszög"
                                },
                                {
                                    "Iranyítószám": "2855",
                                    "Számlát kérő vásárlók száma": "18",
                                    "település": "Bokod"
                                },
                                {
                                    "Iranyítószám": "7150",
                                    "Számlát kérő vásárlók száma": "2",
                                    "település": "Bonyhád"
                                },
                                {
                                    "Iranyítószám": "4231",
                                    "Számlát kérő vásárlók száma": "15",
                                    "település": "Bököny"
                                },
                                {
                                    "Iranyítószám": "1035",
                                    "Számlát kérő vásárlók száma": "2",
                                    "település": "Budapest"
                                },
                                {
                                    "Iranyítószám": "1047",
                                    "Számlát kérő vásárlók száma": "1",
                                    "település": "Budapest"
                                },
                                {
                                    "Iranyítószám": "1067",
                                    "Számlát kérő vásárlók száma": "2",
                                    "település": "Budapest"
                                },
                                {
                                    "Iranyítószám": "1072",
                                    "Számlát kérő vásárlók száma": "2",
                                    "település": "Budapest"
                                },
                                {
                                    "Iranyítószám": "1077",
                                    "Számlát kérő vásárlók száma": "15",
                                    "település": "Budapest"
                                },
                                {
                                    "Iranyítószám": "1102",
                                    "Számlát kérő vásárlók száma": "23",
                                    "település": "Budapest"
                                },
                                {
                                    "Iranyítószám": "1124",
                                    "Számlát kérő vásárlók száma": "1",
                                    "település": "Budapest"
                                },
                                {
                                    "Iranyítószám": "1149",
                                    "Számlát kérő vásárlók száma": "18",
                                    "település": "Budapest"
                                },
                                {
                                    "Iranyítószám": "1173",
                                    "Számlát kérő vásárlók száma": "19",
                                    "település": "Budapest"
                                },
                                {
                                    "Iranyítószám": "1183",
                                    "Számlát kérő vásárlók száma": "16",
                                    "település": "Budapest"
                                },
                                {
                                    "Iranyítószám": "1192",
                                    "Számlát kérő vásárlók száma": "8",
                                    "település": "Budapest"
                                },
                                {
                                    "Iranyítószám": "2700",
                                    "Számlát kérő vásárlók száma": "17",
                                    "település": "Cegléd"
                                },
                                {
                                    "Iranyítószám": "3973",
                                    "Számlát kérő vásárlók száma": "15",
                                    "település": "Cigánd"
                                },
                                {
                                    "Iranyítószám": "6913",
                                    "Számlát kérő vásárlók száma": "19",
                                    "település": "Csanádpalota"
                                },
                                {
                                    "Iranyítószám": "5465",
                                    "Számlát kérő vásárlók száma": "1",
                                    "település": "Cserkeszőlő"
                                },
                                {
                                    "Iranyítószám": "5920",
                                    "Számlát kérő vásárlók száma": "25",
                                    "település": "Csorvás"
                                },
                                {
                                    "Iranyítószám": "2370",
                                    "Számlát kérő vásárlók száma": "2",
                                    "település": "Dabas"
                                },
                                {
                                    "Iranyítószám": "3643",
                                    "Számlát kérő vásárlók száma": "18",
                                    "település": "Dédestapolcsány"
                                },
                                {
                                    "Iranyítószám": "2330",
                                    "Számlát kérő vásárlók száma": "2",
                                    "település": "Dunaharaszti"
                                },
                                {
                                    "Iranyítószám": "3783",
                                    "Számlát kérő vásárlók száma": "1",
                                    "település": "Edelény"
                                },
                                {
                                    "Iranyítószám": "4071",
                                    "Számlát kérő vásárlók száma": "1",
                                    "település": "Egyek"
                                },
                                {
                                    "Iranyítószám": "2424",
                                    "Számlát kérő vásárlók száma": "21",
                                    "település": "Előszállás"
                                },
                                {
                                    "Iranyítószám": "7133",
                                    "Számlát kérő vásárlók száma": "15",
                                    "település": "Fadd"
                                },
                                {
                                    "Iranyítószám": "8640",
                                    "Számlát kérő vásárlók száma": "1",
                                    "település": "Fonyód"
                                },
                                {
                                    "Iranyítószám": "2131",
                                    "Számlát kérő vásárlók száma": "1",
                                    "település": "Göd"
                                },
                                {
                                    "Iranyítószám": "2100",
                                    "Számlát kérő vásárlók száma": "27",
                                    "település": "Gödöllő"
                                },
                                {
                                    "Iranyítószám": "3895",
                                    "Számlát kérő vásárlók száma": "1",
                                    "település": "Gönc"
                                },
                                {
                                    "Iranyítószám": "9071",
                                    "Számlát kérő vásárlók száma": "2",
                                    "település": "Görbeháza"
                                },
                                {
                                    "Iranyítószám": "8315",
                                    "Számlát kérő vásárlók száma": "1",
                                    "település": "Gyenesdiás"
                                },
                                {
                                    "Iranyítószám": "9023",
                                    "Számlát kérő vásárlók száma": "61",
                                    "település": "Győr"
                                },
                                {
                                    "Iranyítószám": "4200",
                                    "Számlát kérő vásárlók száma": "1",
                                    "település": "Hajdúszoboszló"
                                },
                                {
                                    "Iranyítószám": "2053",
                                    "Számlát kérő vásárlók száma": "1",
                                    "település": "Herceghalom"
                                },
                                {
                                    "Iranyítószám": "2117",
                                    "Számlát kérő vásárlók száma": "3",
                                    "település": "Isaszeg"
                                },
                                {
                                    "Iranyítószám": "5137",
                                    "Számlát kérő vásárlók száma": "54",
                                    "település": "Jászkisér"
                                },
                                {
                                    "Iranyítószám": "8283",
                                    "Számlát kérő vásárlók száma": "1",
                                    "település": "Káptalantóti"
                                },
                                {
                                    "Iranyítószám": "9181",
                                    "Számlát kérő vásárlók száma": "26",
                                    "település": "Kimle"
                                },
                                {
                                    "Iranyítószám": "6760",
                                    "Számlát kérő vásárlók száma": "23",
                                    "település": "Kistelek"
                                },
                                {
                                    "Iranyítószám": "5310",
                                    "Számlát kérő vásárlók száma": "23",
                                    "település": "Kisújszállás"
                                },
                                {
                                    "Iranyítószám": "4600",
                                    "Számlát kérő vásárlók száma": "1",
                                    "település": "Kisvárda"
                                },
                                {
                                    "Iranyítószám": "8254",
                                    "Számlát kérő vásárlók száma": "4",
                                    "település": "Kővágóörs"
                                },
                                {
                                    "Iranyítószám": "6050",
                                    "Számlát kérő vásárlók száma": "16",
                                    "település": "Lajosmizse"
                                },
                                {
                                    "Iranyítószám": "9155",
                                    "Számlát kérő vásárlók száma": "15",
                                    "település": "Lébény"
                                },
                                {
                                    "Iranyítószám": "7396",
                                    "Számlát kérő vásárlók száma": "21",
                                    "település": "Magyarszék"
                                },
                                {
                                    "Iranyítószám": "2462",
                                    "Számlát kérő vásárlók száma": "18",
                                    "település": "Martonvásár"
                                },
                                {
                                    "Iranyítószám": "8800",
                                    "Számlát kérő vásárlók száma": "1",
                                    "település": "Nagykanizsa"
                                },
                                {
                                    "Iranyítószám": "5065",
                                    "Számlát kérő vásárlók száma": "22",
                                    "település": "Nagykörű"
                                },
                                {
                                    "Iranyítószám": "5931",
                                    "Számlát kérő vásárlók száma": "18",
                                    "település": "Nagyszénás"
                                },
                                {
                                    "Iranyítószám": "4400",
                                    "Számlát kérő vásárlók száma": "17",
                                    "település": "Nyíregyháza"
                                },
                                {
                                    "Iranyítószám": "7086",
                                    "Számlát kérő vásárlók száma": "15",
                                    "település": "Ozora"
                                },
                                {
                                    "Iranyítószám": "2377",
                                    "Számlát kérő vásárlók száma": "2",
                                    "település": "Örkény"
                                },
                                {
                                    "Iranyítószám": "2085",
                                    "Számlát kérő vásárlók száma": "13",
                                    "település": "Pilisvörösvár"
                                },
                                {
                                    "Iranyítószám": "3630",
                                    "Számlát kérő vásárlók száma": "1",
                                    "település": "Putnok"
                                },
                                {
                                    "Iranyítószám": "2300",
                                    "Számlát kérő vásárlók száma": "22",
                                    "település": "Ráckeve"
                                },
                                {
                                    "Iranyítószám": "9653",
                                    "Számlát kérő vásárlók száma": "21",
                                    "település": "Répcelak"
                                },
                                {
                                    "Iranyítószám": "6786",
                                    "Számlát kérő vásárlók száma": "28",
                                    "település": "Ruzsa"
                                },
                                {
                                    "Iranyítószám": "6762",
                                    "Számlát kérő vásárlók száma": "1",
                                    "település": "Sándorfalva"
                                },
                                {
                                    "Iranyítószám": "7000",
                                    "Számlát kérő vásárlók száma": "1",
                                    "település": "Sárbogárd"
                                },
                                {
                                    "Iranyítószám": "7220",
                                    "Számlát kérő vásárlók száma": "2",
                                    "település": "Sarkad"
                                },
                                {
                                    "Iranyítószám": "8391",
                                    "Számlát kérő vásárlók száma": "3",
                                    "település": "Sármellék"
                                },
                                {
                                    "Iranyítószám": "3980",
                                    "Számlát kérő vásárlók száma": "1",
                                    "település": "Sátoraljaújhely"
                                },
                                {
                                    "Iranyítószám": "7960",
                                    "Számlát kérő vásárlók száma": "27",
                                    "település": "Sellye"
                                },
                                {
                                    "Iranyítószám": "2241",
                                    "Számlát kérő vásárlók száma": "15",
                                    "település": "Sülysáp"
                                },
                                {
                                    "Iranyítószám": "6080",
                                    "Számlát kérő vásárlók száma": "13",
                                    "település": "Szabadszállás"
                                },
                                {
                                    "Iranyítószám": "6131",
                                    "Számlát kérő vásárlók száma": "1",
                                    "település": "Szank"
                                },
                                {
                                    "Iranyítószám": "7349",
                                    "Számlát kérő vásárlók száma": "1",
                                    "település": "Szászvár"
                                },
                                {
                                    "Iranyítószám": "6700",
                                    "Számlát kérő vásárlók száma": "23",
                                    "település": "Szeged"
                                },
                                {
                                    "Iranyítószám": "7100",
                                    "Számlát kérő vásárlók száma": "14",
                                    "település": "Szekszárd"
                                },
                                {
                                    "Iranyítószám": "2000",
                                    "Számlát kérő vásárlók száma": "13",
                                    "település": "Szentendre"
                                },
                                {
                                    "Iranyítószám": "7900",
                                    "Számlát kérő vásárlók száma": "23",
                                    "település": "Szigetvár"
                                },
                                {
                                    "Iranyítószám": "2800",
                                    "Számlát kérő vásárlók száma": "1",
                                    "település": "Tatabánya"
                                },
                                {
                                    "Iranyítószám": "8237",
                                    "Számlát kérő vásárlók száma": "1",
                                    "település": "Tihany"
                                },
                                {
                                    "Iranyítószám": "6060",
                                    "Számlát kérő vásárlók száma": "2",
                                    "település": "Tiszakécske"
                                },
                                {
                                    "Iranyítószám": "5061",
                                    "Számlát kérő vásárlók száma": "13",
                                    "település": "Tiszasüly"
                                },
                                {
                                    "Iranyítószám": "3580",
                                    "Számlát kérő vásárlók száma": "22",
                                    "település": "Tiszaújváros"
                                },
                                {
                                    "Iranyítószám": "4440",
                                    "Számlát kérő vásárlók száma": "19",
                                    "település": "Tiszavasvári"
                                },
                                {
                                    "Iranyítószám": "3910",
                                    "Számlát kérő vásárlók száma": "2",
                                    "település": "Tokaj"
                                },
                                {
                                    "Iranyítószám": "7130",
                                    "Számlát kérő vásárlók száma": "2",
                                    "település": "Tolna"
                                },
                                {
                                    "Iranyítószám": "5940",
                                    "Számlát kérő vásárlók száma": "1",
                                    "település": "Tótkomlós"
                                },
                                {
                                    "Iranyítószám": "6646",
                                    "Számlát kérő vásárlók száma": "27",
                                    "település": "Tömörkény"
                                },
                                {
                                    "Iranyítószám": "5200",
                                    "Számlát kérő vásárlók száma": "39",
                                    "település": "Törökszentmiklós"
                                },
                                {
                                    "Iranyítószám": "4244",
                                    "Számlát kérő vásárlók száma": "14",
                                    "település": "Újfehértó"
                                },
                                {
                                    "Iranyítószám": "2115",
                                    "Számlát kérő vásárlók száma": "3",
                                    "település": "Vácszentlászló"
                                },
                                {
                                    "Iranyítószám": "4800",
                                    "Számlát kérő vásárlók száma": "1",
                                    "település": "Vásárosnamény"
                                },
                                {
                                    "Iranyítószám": "8200",
                                    "Számlát kérő vásárlók száma": "22",
                                    "település": "Veszprém"
                                },
                                {
                                    "Iranyítószám": "5530",
                                    "Számlát kérő vásárlók száma": "2",
                                    "település": "Vésztő"
                                },
                                {
                                    "Iranyítószám": "5537",
                                    "Számlát kérő vásárlók száma": "22",
                                    "település": "Zsadány"
                                }
                            ]
                        },
                        "text/html": [
                            "<table>",
                            "<tr><th>Iranyítószám</th><th>Számlát kérő vásárlók száma</th><th>település</th></tr>",
                            "<tr><td>2484</td><td>19</td><td> Agárd</td></tr>",
                            "<tr><td>2730</td><td>24</td><td> Albertirsa</td></tr>",
                            "<tr><td>6430</td><td>20</td><td> Bácsalmás</td></tr>",
                            "<tr><td>6500</td><td>1</td><td> Baja</td></tr>",
                            "<tr><td>8220</td><td>1</td><td> Balatonalmádi</td></tr>",
                            "<tr><td>8313</td><td>19</td><td> Balatongyörök</td></tr>",
                            "<tr><td>8638</td><td>1</td><td> Balatonlelle</td></tr>",
                            "<tr><td>4060</td><td>18</td><td> Balmazújváros</td></tr>",
                            "<tr><td>7149</td><td>20</td><td> Báta</td></tr>",
                            "<tr><td>5630</td><td>26</td><td> Békés</td></tr>",
                            "<tr><td>5071</td><td>21</td><td> Besenyszög</td></tr>",
                            "<tr><td>4172</td><td>2</td><td> Biharnagybajom</td></tr>",
                            "<tr><td>2855</td><td>23</td><td> Bokod</td></tr>",
                            "<tr><td>7150</td><td>1</td><td> Bonyhád</td></tr>",
                            "<tr><td>4231</td><td>19</td><td> Bököny</td></tr>",
                            "<tr><td>1011</td><td>3</td><td> Budapest</td></tr>",
                            "<tr><td>1035</td><td>4</td><td> Budapest</td></tr>",
                            "<tr><td>1047</td><td>2</td><td> Budapest</td></tr>",
                            "<tr><td>1067</td><td>2</td><td> Budapest</td></tr>",
                            "<tr><td>1077</td><td>23</td><td> Budapest</td></tr>",
                            "<tr><td>1084</td><td>1</td><td> Budapest</td></tr>",
                            "<tr><td>1102</td><td>21</td><td> Budapest</td></tr>",
                            "<tr><td>1107</td><td>2</td><td> Budapest</td></tr>",
                            "<tr><td>1124</td><td>1</td><td> Budapest</td></tr>",
                            "<tr><td>1149</td><td>22</td><td> Budapest</td></tr>",
                            "<tr><td>1155</td><td>1</td><td> Budapest</td></tr>",
                            "<tr><td>1173</td><td>17</td><td> Budapest</td></tr>",
                            "<tr><td>1183</td><td>21</td><td> Budapest</td></tr>",
                            "<tr><td>1192</td><td>23</td><td> Budapest</td></tr>",
                            "<tr><td>2700</td><td>19</td><td> Cegléd</td></tr>",
                            "<tr><td>3973</td><td>18</td><td> Cigánd</td></tr>",
                            "<tr><td>6913</td><td>24</td><td> Csanádpalota</td></tr>",
                            "<tr><td>5920</td><td>21</td><td> Csorvás</td></tr>",
                            "<tr><td>2370</td><td>3</td><td> Dabas</td></tr>",
                            "<tr><td>3643</td><td>24</td><td> Dédestapolcsány</td></tr>",
                            "<tr><td>2330</td><td>1</td><td> Dunaharaszti</td></tr>",
                            "<tr><td>3300</td><td>1</td><td> Eger</td></tr>",
                            "<tr><td>4071</td><td>3</td><td> Egyek</td></tr>",
                            "<tr><td>2424</td><td>16</td><td> Előszállás</td></tr>",
                            "<tr><td>3860</td><td>1</td><td> Encs</td></tr>",
                            "<tr><td>7133</td><td>15</td><td> Fadd</td></tr>",
                            "<tr><td>8640</td><td>1</td><td> Fonyód</td></tr>",
                            "<tr><td>2131</td><td>1</td><td> Göd</td></tr>",
                            "<tr><td>2100</td><td>26</td><td> Gödöllő</td></tr>",
                            "<tr><td>3895</td><td>1</td><td> Gönc</td></tr>",
                            "<tr><td>9023</td><td>49</td><td> Győr</td></tr>",
                            "<tr><td>4200</td><td>1</td><td> Hajdúszoboszló</td></tr>",
                            "<tr><td>2053</td><td>1</td><td> Herceghalom</td></tr>",
                            "<tr><td>2117</td><td>1</td><td> Isaszeg</td></tr>",
                            "<tr><td>5137</td><td>60</td><td> Jászkisér</td></tr>",
                            "<tr><td>8283</td><td>3</td><td> Káptalantóti</td></tr>",
                            "<tr><td>5083</td><td>1</td><td> Kengyel</td></tr>",
                            "<tr><td>9181</td><td>21</td><td> Kimle</td></tr>",
                            "<tr><td>6760</td><td>15</td><td> Kistelek</td></tr>",
                            "<tr><td>5310</td><td>23</td><td> Kisújszállás</td></tr>",
                            "<tr><td>8254</td><td>1</td><td> Kővágóörs</td></tr>",
                            "<tr><td>6050</td><td>22</td><td> Lajosmizse</td></tr>",
                            "<tr><td>9155</td><td>24</td><td> Lébény</td></tr>",
                            "<tr><td>7396</td><td>22</td><td> Magyarszék</td></tr>",
                            "<tr><td>6900</td><td>1</td><td> Makó</td></tr>",
                            "<tr><td>2462</td><td>22</td><td> Martonvásár</td></tr>",
                            "<tr><td>3500</td><td>1</td><td> Miskolc</td></tr>",
                            "<tr><td>8800</td><td>1</td><td> Nagykanizsa</td></tr>",
                            "<tr><td>5065</td><td>17</td><td> Nagykörű</td></tr>",
                            "<tr><td>5931</td><td>18</td><td> Nagyszénás</td></tr>",
                            "<tr><td>4400</td><td>25</td><td> Nyíregyháza</td></tr>",
                            "<tr><td>7086</td><td>29</td><td> Ozora</td></tr>",
                            "<tr><td>7511</td><td>2</td><td> Ötvöskónyi</td></tr>",
                            "<tr><td>2085</td><td>17</td><td> Pilisvörösvár</td></tr>",
                            "<tr><td>3630</td><td>1</td><td> Putnok</td></tr>",
                            "<tr><td>2300</td><td>16</td><td> Ráckeve</td></tr>",
                            "<tr><td>5085</td><td>1</td><td> Rákóczifalva</td></tr>",
                            "<tr><td>9653</td><td>20</td><td> Répcelak</td></tr>",
                            "<tr><td>6786</td><td>39</td><td> Ruzsa</td></tr>",
                            "<tr><td>6762</td><td>1</td><td> Sándorfalva</td></tr>",
                            "<tr><td>7000</td><td>1</td><td> Sárbogárd</td></tr>",
                            "<tr><td>7220</td><td>1</td><td> Sarkad</td></tr>",
                            "<tr><td>8391</td><td>1</td><td> Sármellék</td></tr>",
                            "<tr><td>7960</td><td>16</td><td> Sellye</td></tr>",
                            "<tr><td>2241</td><td>18</td><td> Sülysáp</td></tr>",
                            "<tr><td>6080</td><td>19</td><td> Szabadszállás</td></tr>",
                            "<tr><td>6131</td><td>1</td><td> Szank</td></tr>",
                            "<tr><td>7349</td><td>1</td><td> Szászvár</td></tr>",
                            "<tr><td>6700</td><td>27</td><td> Szeged</td></tr>",
                            "<tr><td>7100</td><td>20</td><td> Szekszárd</td></tr>",
                            "<tr><td>2000</td><td>20</td><td> Szentendre</td></tr>",
                            "<tr><td>9970</td><td>2</td><td> Szentgotthárd</td></tr>",
                            "<tr><td>7900</td><td>20</td><td> Szigetvár</td></tr>",
                            "<tr><td>2381</td><td>1</td><td> Táborfalva</td></tr>",
                            "<tr><td>2800</td><td>1</td><td> Tatabánya</td></tr>",
                            "<tr><td>8237</td><td>2</td><td> Tihany</td></tr>",
                            "<tr><td>5061</td><td>15</td><td> Tiszasüly</td></tr>",
                            "<tr><td>3580</td><td>13</td><td> Tiszaújváros</td></tr>",
                            "<tr><td>4440</td><td>21</td><td> Tiszavasvári</td></tr>",
                            "<tr><td>3910</td><td>1</td><td> Tokaj</td></tr>",
                            "<tr><td>2532</td><td>2</td><td> Tokodaltáró</td></tr>",
                            "<tr><td>7130</td><td>2</td><td> Tolna</td></tr>",
                            "<tr><td>5940</td><td>2</td><td> Tótkomlós</td></tr>",
                            "<tr><td>6646</td><td>22</td><td> Tömörkény</td></tr>",
                            "<tr><td>5200</td><td>35</td><td> Törökszentmiklós</td></tr>",
                            "<tr><td>4244</td><td>14</td><td> Újfehértó</td></tr>",
                            "<tr><td>2600</td><td>2</td><td> Vác</td></tr>",
                            "<tr><td>2115</td><td>4</td><td> Vácszentlászló</td></tr>",
                            "<tr><td>4800</td><td>2</td><td> Vásárosnamény</td></tr>",
                            "<tr><td>8200</td><td>21</td><td> Veszprém</td></tr>",
                            "<tr><td>5530</td><td>1</td><td> Vésztő</td></tr>",
                            "<tr><td>5537</td><td>17</td><td> Zsadány</td></tr>",
                            "<tr><td>2484</td><td>28</td><td>Agárd</td></tr>",
                            "<tr><td>2730</td><td>17</td><td>Albertirsa</td></tr>",
                            "<tr><td>6430</td><td>17</td><td>Bácsalmás</td></tr>",
                            "<tr><td>6500</td><td>1</td><td>Baja</td></tr>",
                            "<tr><td>8220</td><td>1</td><td>Balatonalmádi</td></tr>",
                            "<tr><td>8630</td><td>1</td><td>Balatonboglár</td></tr>",
                            "<tr><td>8313</td><td>21</td><td>Balatongyörök</td></tr>",
                            "<tr><td>4060</td><td>16</td><td>Balmazújváros</td></tr>",
                            "<tr><td>6412</td><td>3</td><td>Balotaszállás</td></tr>",
                            "<tr><td>7149</td><td>19</td><td>Báta</td></tr>",
                            "<tr><td>5630</td><td>13</td><td>Békés</td></tr>",
                            "<tr><td>5071</td><td>29</td><td>Besenyszög</td></tr>",
                            "<tr><td>2855</td><td>18</td><td>Bokod</td></tr>",
                            "<tr><td>7150</td><td>2</td><td>Bonyhád</td></tr>",
                            "<tr><td>4231</td><td>15</td><td>Bököny</td></tr>",
                            "<tr><td>1035</td><td>2</td><td>Budapest</td></tr>",
                            "<tr><td>1047</td><td>1</td><td>Budapest</td></tr>",
                            "<tr><td>1067</td><td>2</td><td>Budapest</td></tr>",
                            "<tr><td>1072</td><td>2</td><td>Budapest</td></tr>",
                            "<tr><td>1077</td><td>15</td><td>Budapest</td></tr>",
                            "<tr><td>1102</td><td>23</td><td>Budapest</td></tr>",
                            "<tr><td>1124</td><td>1</td><td>Budapest</td></tr>",
                            "<tr><td>1149</td><td>18</td><td>Budapest</td></tr>",
                            "<tr><td>1173</td><td>19</td><td>Budapest</td></tr>",
                            "<tr><td>1183</td><td>16</td><td>Budapest</td></tr>",
                            "<tr><td>1192</td><td>8</td><td>Budapest</td></tr>",
                            "<tr><td>2700</td><td>17</td><td>Cegléd</td></tr>",
                            "<tr><td>3973</td><td>15</td><td>Cigánd</td></tr>",
                            "<tr><td>6913</td><td>19</td><td>Csanádpalota</td></tr>",
                            "<tr><td>5465</td><td>1</td><td>Cserkeszőlő</td></tr>",
                            "<tr><td>5920</td><td>25</td><td>Csorvás</td></tr>",
                            "<tr><td>2370</td><td>2</td><td>Dabas</td></tr>",
                            "<tr><td>3643</td><td>18</td><td>Dédestapolcsány</td></tr>",
                            "<tr><td>2330</td><td>2</td><td>Dunaharaszti</td></tr>",
                            "<tr><td>3783</td><td>1</td><td>Edelény</td></tr>",
                            "<tr><td>4071</td><td>1</td><td>Egyek</td></tr>",
                            "<tr><td>2424</td><td>21</td><td>Előszállás</td></tr>",
                            "<tr><td>7133</td><td>15</td><td>Fadd</td></tr>",
                            "<tr><td>8640</td><td>1</td><td>Fonyód</td></tr>",
                            "<tr><td>2131</td><td>1</td><td>Göd</td></tr>",
                            "<tr><td>2100</td><td>27</td><td>Gödöllő</td></tr>",
                            "<tr><td>3895</td><td>1</td><td>Gönc</td></tr>",
                            "<tr><td>9071</td><td>2</td><td>Görbeháza</td></tr>",
                            "<tr><td>8315</td><td>1</td><td>Gyenesdiás</td></tr>",
                            "<tr><td>9023</td><td>61</td><td>Győr</td></tr>",
                            "<tr><td>4200</td><td>1</td><td>Hajdúszoboszló</td></tr>",
                            "<tr><td>2053</td><td>1</td><td>Herceghalom</td></tr>",
                            "<tr><td>2117</td><td>3</td><td>Isaszeg</td></tr>",
                            "<tr><td>5137</td><td>54</td><td>Jászkisér</td></tr>",
                            "<tr><td>8283</td><td>1</td><td>Káptalantóti</td></tr>",
                            "<tr><td>9181</td><td>26</td><td>Kimle</td></tr>",
                            "<tr><td>6760</td><td>23</td><td>Kistelek</td></tr>",
                            "<tr><td>5310</td><td>23</td><td>Kisújszállás</td></tr>",
                            "<tr><td>4600</td><td>1</td><td>Kisvárda</td></tr>",
                            "<tr><td>8254</td><td>4</td><td>Kővágóörs</td></tr>",
                            "<tr><td>6050</td><td>16</td><td>Lajosmizse</td></tr>",
                            "<tr><td>9155</td><td>15</td><td>Lébény</td></tr>",
                            "<tr><td>7396</td><td>21</td><td>Magyarszék</td></tr>",
                            "<tr><td>2462</td><td>18</td><td>Martonvásár</td></tr>",
                            "<tr><td>8800</td><td>1</td><td>Nagykanizsa</td></tr>",
                            "<tr><td>5065</td><td>22</td><td>Nagykörű</td></tr>",
                            "<tr><td>5931</td><td>18</td><td>Nagyszénás</td></tr>",
                            "<tr><td>4400</td><td>17</td><td>Nyíregyháza</td></tr>",
                            "<tr><td>7086</td><td>15</td><td>Ozora</td></tr>",
                            "<tr><td>2377</td><td>2</td><td>Örkény</td></tr>",
                            "<tr><td>2085</td><td>13</td><td>Pilisvörösvár</td></tr>",
                            "<tr><td>3630</td><td>1</td><td>Putnok</td></tr>",
                            "<tr><td>2300</td><td>22</td><td>Ráckeve</td></tr>",
                            "<tr><td>9653</td><td>21</td><td>Répcelak</td></tr>",
                            "<tr><td>6786</td><td>28</td><td>Ruzsa</td></tr>",
                            "<tr><td>6762</td><td>1</td><td>Sándorfalva</td></tr>",
                            "<tr><td>7000</td><td>1</td><td>Sárbogárd</td></tr>",
                            "<tr><td>7220</td><td>2</td><td>Sarkad</td></tr>",
                            "<tr><td>8391</td><td>3</td><td>Sármellék</td></tr>",
                            "<tr><td>3980</td><td>1</td><td>Sátoraljaújhely</td></tr>",
                            "<tr><td>7960</td><td>27</td><td>Sellye</td></tr>",
                            "<tr><td>2241</td><td>15</td><td>Sülysáp</td></tr>",
                            "<tr><td>6080</td><td>13</td><td>Szabadszállás</td></tr>",
                            "<tr><td>6131</td><td>1</td><td>Szank</td></tr>",
                            "<tr><td>7349</td><td>1</td><td>Szászvár</td></tr>",
                            "<tr><td>6700</td><td>23</td><td>Szeged</td></tr>",
                            "<tr><td>7100</td><td>14</td><td>Szekszárd</td></tr>",
                            "<tr><td>2000</td><td>13</td><td>Szentendre</td></tr>",
                            "<tr><td>7900</td><td>23</td><td>Szigetvár</td></tr>",
                            "<tr><td>2800</td><td>1</td><td>Tatabánya</td></tr>",
                            "<tr><td>8237</td><td>1</td><td>Tihany</td></tr>",
                            "<tr><td>6060</td><td>2</td><td>Tiszakécske</td></tr>",
                            "<tr><td>5061</td><td>13</td><td>Tiszasüly</td></tr>",
                            "<tr><td>3580</td><td>22</td><td>Tiszaújváros</td></tr>",
                            "<tr><td>4440</td><td>19</td><td>Tiszavasvári</td></tr>",
                            "<tr><td>3910</td><td>2</td><td>Tokaj</td></tr>",
                            "<tr><td>7130</td><td>2</td><td>Tolna</td></tr>",
                            "<tr><td>5940</td><td>1</td><td>Tótkomlós</td></tr>",
                            "<tr><td>6646</td><td>27</td><td>Tömörkény</td></tr>",
                            "<tr><td>5200</td><td>39</td><td>Törökszentmiklós</td></tr>",
                            "<tr><td>4244</td><td>14</td><td>Újfehértó</td></tr>",
                            "<tr><td>2115</td><td>3</td><td>Vácszentlászló</td></tr>",
                            "<tr><td>4800</td><td>1</td><td>Vásárosnamény</td></tr>",
                            "<tr><td>8200</td><td>22</td><td>Veszprém</td></tr>",
                            "<tr><td>5530</td><td>2</td><td>Vésztő</td></tr>",
                            "<tr><td>5537</td><td>22</td><td>Zsadány</td></tr>",
                            "</table>"
                        ]
                    }
                }
            ],
            "execution_count": 41
        },
        {
            "cell_type": "code",
            "source": [
                "SELECT TOP 10\r\n",
                "    [LOGIN] AS 'legtöbbet vásárlók', \r\n",
                "    COUNT(*) As 'rendelések száma'\r\n",
                "from Rendeles\r\n",
                "WHERE LOGIN IS NOT null\r\n",
                "GROUP BY LOGIN\r\n",
                "ORDER BY COUNT(*) desc"
            ],
            "metadata": {
                "azdata_cell_guid": "bffeebcd-b9a8-4535-b33b-7940511cf0bf",
                "language": "sql"
            },
            "outputs": [
                {
                    "output_type": "display_data",
                    "data": {
                        "text/html": "(10 rows affected)"
                    },
                    "metadata": {}
                },
                {
                    "output_type": "display_data",
                    "data": {
                        "text/html": "Total execution time: 00:00:00.050"
                    },
                    "metadata": {}
                },
                {
                    "output_type": "execute_result",
                    "metadata": {},
                    "execution_count": 31,
                    "data": {
                        "application/vnd.dataresource+json": {
                            "schema": {
                                "fields": [
                                    {
                                        "name": "legtöbbet vásárlók"
                                    },
                                    {
                                        "name": "rendelések száma"
                                    }
                                ]
                            },
                            "data": [
                                {
                                    "legtöbbet vásárlók": "peter4",
                                    "rendelések száma": "852"
                                },
                                {
                                    "legtöbbet vásárlók": "szabolcs",
                                    "rendelések száma": "471"
                                },
                                {
                                    "legtöbbet vásárlók": "eva2",
                                    "rendelések száma": "462"
                                },
                                {
                                    "legtöbbet vásárlók": "balint1",
                                    "rendelések száma": "462"
                                },
                                {
                                    "legtöbbet vásárlók": "krisztina",
                                    "rendelések száma": "456"
                                },
                                {
                                    "legtöbbet vásárlók": "david",
                                    "rendelések száma": "451"
                                },
                                {
                                    "legtöbbet vásárlók": "JUDITH",
                                    "rendelések száma": "450"
                                },
                                {
                                    "legtöbbet vásárlók": "LASZLOA",
                                    "rendelések száma": "446"
                                },
                                {
                                    "legtöbbet vásárlók": "szilvia1",
                                    "rendelések száma": "445"
                                },
                                {
                                    "legtöbbet vásárlók": "pal",
                                    "rendelések száma": "438"
                                }
                            ]
                        },
                        "text/html": [
                            "<table>",
                            "<tr><th>legtöbbet vásárlók</th><th>rendelések száma</th></tr>",
                            "<tr><td>peter4</td><td>852</td></tr>",
                            "<tr><td>szabolcs</td><td>471</td></tr>",
                            "<tr><td>eva2</td><td>462</td></tr>",
                            "<tr><td>balint1</td><td>462</td></tr>",
                            "<tr><td>krisztina</td><td>456</td></tr>",
                            "<tr><td>david</td><td>451</td></tr>",
                            "<tr><td>JUDITH</td><td>450</td></tr>",
                            "<tr><td>LASZLOA</td><td>446</td></tr>",
                            "<tr><td>szilvia1</td><td>445</td></tr>",
                            "<tr><td>pal</td><td>438</td></tr>",
                            "</table>"
                        ]
                    }
                }
            ],
            "execution_count": 31
        }
    ]
}