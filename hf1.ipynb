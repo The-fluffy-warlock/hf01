{
    "metadata": {
        "kernelspec": {
            "name": "SQL",
            "display_name": "SQL",
            "language": "sql"
        },
        "language_info": {
            "name": "sql",
            "version": ""
        }
    },
    "nbformat_minor": 2,
    "nbformat": 4,
    "cells": [
        {
            "cell_type": "code",
            "source": [
                "SELECT MIN(SZALL_CIM) AS 'ABC elso', \r\n",
                "       MAX(SZALL_CIM) AS 'ABC utolso',\r\n",
                "       AVG(LEN(SZALL_CIM)) AS 'atlagos hosszusag',\r\n",
                "       Min(LEN(SZALL_CIM)) AS 'legrovidebb cim',\r\n",
                "       MAX(LEN(SZALL_CIM)) AS 'leghosszabb cim'\r\n",
                "FROM Rendeles\r\n",
                "WHERE SZALL_CIM IS NOT NULL\r\n",
                "AND LEN(SZALL_CIM) > 0\r\n",
                "\r\n",
                ""
            ],
            "metadata": {
                "azdata_cell_guid": "13443fc4-1f8e-42c3-b2cf-57ae10f5d41f",
                "language": "sql"
            },
            "outputs": [
                {
                    "output_type": "display_data",
                    "data": {
                        "text/html": "(1 row affected)"
                    },
                    "metadata": {}
                },
                {
                    "output_type": "display_data",
                    "data": {
                        "text/html": "Total execution time: 00:00:00.075"
                    },
                    "metadata": {}
                },
                {
                    "output_type": "execute_result",
                    "execution_count": 10,
                    "data": {
                        "application/vnd.dataresource+json": {
                            "schema": {
                                "fields": [
                                    {
                                        "name": "ABC elso"
                                    },
                                    {
                                        "name": "ABC utolso"
                                    },
                                    {
                                        "name": "atlagos hosszusag"
                                    },
                                    {
                                        "name": "legrovidebb cim"
                                    },
                                    {
                                        "name": "leghosszabb cim"
                                    }
                                ]
                            },
                            "data": [
                                {
                                    "ABC elso": "Abaújszántó, Fő u. 2.",
                                    "ABC utolso": "Zsadány, Nagy u.14.",
                                    "atlagos hosszusag": "19",
                                    "legrovidebb cim": "13",
                                    "leghosszabb cim": "29"
                                }
                            ]
                        },
                        "text/html": "<table><tr><th>ABC elso</th><th>ABC utolso</th><th>atlagos hosszusag</th><th>legrovidebb cim</th><th>leghosszabb cim</th></tr><tr><td>Abaújszántó, Fő u. 2.</td><td>Zsadány, Nagy u.14.</td><td>19</td><td>13</td><td>29</td></tr></table>"
                    },
                    "metadata": {}
                }
            ],
            "execution_count": 10
        },
        {
            "cell_type": "code",
            "source": [
                "SELECT kitöltöttség,\r\n",
                "    COUNT(*) sorok_szama\r\n",
                "FROM \r\n",
                "    (SELECT \r\n",
                "        CASE WHEN szamla_cim IS NULL THEN 'Nincs adat'\r\n",
                "            ELSE 'kitöltve' \r\n",
                "            END AS kitöltöttség\r\n",
                "        FROM Rendeles) rows\r\n",
                "GROUP BY kitöltöttség"
            ],
            "metadata": {
                "azdata_cell_guid": "8b81f1c6-5f3a-45f3-a393-aef62f4f21a7",
                "language": "sql"
            },
            "outputs": [
                {
                    "output_type": "display_data",
                    "data": {
                        "text/html": "(2 rows affected)"
                    },
                    "metadata": {}
                },
                {
                    "output_type": "display_data",
                    "data": {
                        "text/html": "Total execution time: 00:00:00.058"
                    },
                    "metadata": {}
                },
                {
                    "output_type": "execute_result",
                    "execution_count": 9,
                    "data": {
                        "application/vnd.dataresource+json": {
                            "schema": {
                                "fields": [
                                    {
                                        "name": "kitöltöttség"
                                    },
                                    {
                                        "name": "sorok_szama"
                                    }
                                ]
                            },
                            "data": [
                                {
                                    "kitöltöttség": "kitöltve",
                                    "sorok_szama": "2550"
                                },
                                {
                                    "kitöltöttség": "Nincs adat",
                                    "sorok_szama": "25535"
                                }
                            ]
                        },
                        "text/html": "<table><tr><th>kitöltöttség</th><th>sorok_szama</th></tr><tr><td>kitöltve</td><td>2550</td></tr><tr><td>Nincs adat</td><td>25535</td></tr></table>"
                    },
                    "metadata": {
                        "azdata_chartOptions": {
                            "type": "pie",
                            "dataDirection": "vertical",
                            "columnsAsLabels": true,
                            "labelFirstColumn": false,
                            "legendPosition": "top"
                        }
                    }
                }
            ],
            "execution_count": 9
        },
        {
            "cell_type": "code",
            "source": [
                "SELECT COUNT(Distinct LEFT(SZAMLA_CIM, 4)) AS egyedi_iranyitoszam\r\n",
                "From Rendeles\r\n",
                "WHERE SZAMLA_CIM IS NOT NULL"
            ],
            "metadata": {
                "azdata_cell_guid": "a733fd26-25cc-4e24-9426-33e7b4812e00",
                "language": "sql"
            },
            "outputs": [
                {
                    "output_type": "display_data",
                    "data": {
                        "text/html": "(1 row affected)"
                    },
                    "metadata": {}
                },
                {
                    "output_type": "display_data",
                    "data": {
                        "text/html": "Total execution time: 00:00:00.020"
                    },
                    "metadata": {}
                },
                {
                    "output_type": "execute_result",
                    "execution_count": 12,
                    "data": {
                        "application/vnd.dataresource+json": {
                            "schema": {
                                "fields": [
                                    {
                                        "name": "egyedi_iranyitoszam"
                                    }
                                ]
                            },
                            "data": [
                                {
                                    "egyedi_iranyitoszam": "118"
                                }
                            ]
                        },
                        "text/html": "<table><tr><th>egyedi_iranyitoszam</th></tr><tr><td>118</td></tr></table>"
                    },
                    "metadata": {}
                }
            ],
            "execution_count": 12
        },
        {
            "cell_type": "code",
            "source": [
                "SELECT LEFT(SZAMLA_CIM, 4) AS \"Iranyítószám\",\r\n",
                "COUNT(SZAMLA_CIM) AS \"Számlát kérő vásárlók száma\",\r\n",
                "From Rendeles\r\n",
                "WHERE szamla_cim IS NOT NULL\r\n",
                "GROUP BY LEFT(SZAMLA_CIM, 4)"
            ],
            "metadata": {
                "azdata_cell_guid": "ca0eff21-3803-4aa8-bff1-14b41192f496",
                "language": "sql"
            },
            "outputs": [
                {
                    "output_type": "display_data",
                    "data": {
                        "text/html": "(118 rows affected)"
                    },
                    "metadata": {}
                },
                {
                    "output_type": "display_data",
                    "data": {
                        "text/html": "Total execution time: 00:00:00.029"
                    },
                    "metadata": {}
                },
                {
                    "output_type": "execute_result",
                    "execution_count": 21,
                    "data": {
                        "application/vnd.dataresource+json": {
                            "schema": {
                                "fields": [
                                    {
                                        "name": "Iranyítószám"
                                    },
                                    {
                                        "name": "Számlát kérő vásárlók száma"
                                    }
                                ]
                            },
                            "data": [
                                {
                                    "Iranyítószám": "1124",
                                    "Számlát kérő vásárlók száma": "2"
                                },
                                {
                                    "Iranyítószám": "6700",
                                    "Számlát kérő vásárlók száma": "50"
                                },
                                {
                                    "Iranyítószám": "1155",
                                    "Számlát kérő vásárlók száma": "1"
                                },
                                {
                                    "Iranyítószám": "9023",
                                    "Számlát kérő vásárlók száma": "110"
                                },
                                {
                                    "Iranyítószám": "2053",
                                    "Számlát kérő vásárlók száma": "2"
                                },
                                {
                                    "Iranyítószám": "6060",
                                    "Számlát kérő vásárlók száma": "2"
                                },
                                {
                                    "Iranyítószám": "4440",
                                    "Számlát kérő vásárlók száma": "40"
                                },
                                {
                                    "Iranyítószám": "1107",
                                    "Számlát kérő vásárlók száma": "2"
                                },
                                {
                                    "Iranyítószám": "8315",
                                    "Számlát kérő vásárlók száma": "1"
                                },
                                {
                                    "Iranyítószám": "4071",
                                    "Számlát kérő vásárlók száma": "4"
                                },
                                {
                                    "Iranyítószám": "9071",
                                    "Számlát kérő vásárlók száma": "2"
                                },
                                {
                                    "Iranyítószám": "2855",
                                    "Számlát kérő vásárlók száma": "41"
                                },
                                {
                                    "Iranyítószám": "4060",
                                    "Számlát kérő vásárlók száma": "34"
                                },
                                {
                                    "Iranyítószám": "8237",
                                    "Számlát kérő vásárlók száma": "3"
                                },
                                {
                                    "Iranyítószám": "2300",
                                    "Számlát kérő vásárlók száma": "38"
                                },
                                {
                                    "Iranyítószám": "8630",
                                    "Számlát kérő vásárlók száma": "1"
                                },
                                {
                                    "Iranyítószám": "5630",
                                    "Számlát kérő vásárlók száma": "39"
                                },
                                {
                                    "Iranyítószám": "7086",
                                    "Számlát kérő vásárlók száma": "44"
                                },
                                {
                                    "Iranyítószám": "8254",
                                    "Számlát kérő vásárlók száma": "5"
                                },
                                {
                                    "Iranyítószám": "2241",
                                    "Számlát kérő vásárlók száma": "33"
                                },
                                {
                                    "Iranyítószám": "5200",
                                    "Számlát kérő vásárlók száma": "74"
                                },
                                {
                                    "Iranyítószám": "7511",
                                    "Számlát kérő vásárlók száma": "2"
                                },
                                {
                                    "Iranyítószám": "3973",
                                    "Számlát kérő vásárlók száma": "33"
                                },
                                {
                                    "Iranyítószám": "7349",
                                    "Számlát kérő vásárlók száma": "2"
                                },
                                {
                                    "Iranyítószám": "3860",
                                    "Számlát kérő vásárlók száma": "1"
                                },
                                {
                                    "Iranyítószám": "8638",
                                    "Számlát kérő vásárlók száma": "1"
                                },
                                {
                                    "Iranyítószám": "6430",
                                    "Számlát kérő vásárlók száma": "37"
                                },
                                {
                                    "Iranyítószám": "7220",
                                    "Számlát kérő vásárlók száma": "3"
                                },
                                {
                                    "Iranyítószám": "5537",
                                    "Számlát kérő vásárlók száma": "39"
                                },
                                {
                                    "Iranyítószám": "2117",
                                    "Számlát kérő vásárlók száma": "4"
                                },
                                {
                                    "Iranyítószám": "1047",
                                    "Számlát kérő vásárlók száma": "3"
                                },
                                {
                                    "Iranyítószám": "9155",
                                    "Számlát kérő vásárlók száma": "39"
                                },
                                {
                                    "Iranyítószám": "5465",
                                    "Számlát kérő vásárlók száma": "1"
                                },
                                {
                                    "Iranyítószám": "9653",
                                    "Számlát kérő vásárlók száma": "41"
                                },
                                {
                                    "Iranyítószám": "5065",
                                    "Számlát kérő vásárlók száma": "39"
                                },
                                {
                                    "Iranyítószám": "7149",
                                    "Számlát kérő vásárlók száma": "39"
                                },
                                {
                                    "Iranyítószám": "4800",
                                    "Számlát kérő vásárlók száma": "3"
                                },
                                {
                                    "Iranyítószám": "6412",
                                    "Számlát kérő vásárlók száma": "3"
                                },
                                {
                                    "Iranyítószám": "2532",
                                    "Számlát kérő vásárlók száma": "2"
                                },
                                {
                                    "Iranyítószám": "2730",
                                    "Számlát kérő vásárlók száma": "41"
                                },
                                {
                                    "Iranyítószám": "6762",
                                    "Számlát kérő vásárlók száma": "2"
                                },
                                {
                                    "Iranyítószám": "2600",
                                    "Számlát kérő vásárlók száma": "2"
                                },
                                {
                                    "Iranyítószám": "4244",
                                    "Számlát kérő vásárlók száma": "28"
                                },
                                {
                                    "Iranyítószám": "5940",
                                    "Számlát kérő vásárlók száma": "3"
                                },
                                {
                                    "Iranyítószám": "5530",
                                    "Számlát kérő vásárlók száma": "3"
                                },
                                {
                                    "Iranyítószám": "3783",
                                    "Számlát kérő vásárlók száma": "1"
                                },
                                {
                                    "Iranyítószám": "1173",
                                    "Számlát kérő vásárlók száma": "36"
                                },
                                {
                                    "Iranyítószám": "1149",
                                    "Számlát kérő vásárlók száma": "40"
                                },
                                {
                                    "Iranyítószám": "8200",
                                    "Számlát kérő vásárlók száma": "43"
                                },
                                {
                                    "Iranyítószám": "5920",
                                    "Számlát kérő vásárlók száma": "46"
                                },
                                {
                                    "Iranyítószám": "4400",
                                    "Számlát kérő vásárlók száma": "42"
                                },
                                {
                                    "Iranyítószám": "5310",
                                    "Számlát kérő vásárlók száma": "46"
                                },
                                {
                                    "Iranyítószám": "7396",
                                    "Számlát kérő vásárlók száma": "43"
                                },
                                {
                                    "Iranyítószám": "1183",
                                    "Számlát kérő vásárlók száma": "37"
                                },
                                {
                                    "Iranyítószám": "8283",
                                    "Számlát kérő vásárlók száma": "4"
                                },
                                {
                                    "Iranyítószám": "4172",
                                    "Számlát kérő vásárlók száma": "2"
                                },
                                {
                                    "Iranyítószám": "3630",
                                    "Számlát kérő vásárlók száma": "2"
                                },
                                {
                                    "Iranyítószám": "2131",
                                    "Számlát kérő vásárlók száma": "2"
                                },
                                {
                                    "Iranyítószám": "6913",
                                    "Számlát kérő vásárlók száma": "43"
                                },
                                {
                                    "Iranyítószám": "5083",
                                    "Számlát kérő vásárlók száma": "1"
                                },
                                {
                                    "Iranyítószám": "6760",
                                    "Számlát kérő vásárlók száma": "38"
                                },
                                {
                                    "Iranyítószám": "3643",
                                    "Számlát kérő vásárlók száma": "42"
                                },
                                {
                                    "Iranyítószám": "1035",
                                    "Számlát kérő vásárlók száma": "6"
                                },
                                {
                                    "Iranyítószám": "6646",
                                    "Számlát kérő vásárlók száma": "49"
                                },
                                {
                                    "Iranyítószám": "8313",
                                    "Számlát kérő vásárlók száma": "40"
                                },
                                {
                                    "Iranyítószám": "2085",
                                    "Számlát kérő vásárlók száma": "30"
                                },
                                {
                                    "Iranyítószám": "1192",
                                    "Számlát kérő vásárlók száma": "31"
                                },
                                {
                                    "Iranyítószám": "8220",
                                    "Számlát kérő vásárlók száma": "2"
                                },
                                {
                                    "Iranyítószám": "6131",
                                    "Számlát kérő vásárlók száma": "2"
                                },
                                {
                                    "Iranyítószám": "2000",
                                    "Számlát kérő vásárlók száma": "33"
                                },
                                {
                                    "Iranyítószám": "8800",
                                    "Számlát kérő vásárlók száma": "2"
                                },
                                {
                                    "Iranyítószám": "6050",
                                    "Számlát kérő vásárlók száma": "38"
                                },
                                {
                                    "Iranyítószám": "2800",
                                    "Számlát kérő vásárlók száma": "2"
                                },
                                {
                                    "Iranyítószám": "3500",
                                    "Számlát kérő vásárlók száma": "1"
                                },
                                {
                                    "Iranyítószám": "7130",
                                    "Számlát kérő vásárlók száma": "4"
                                },
                                {
                                    "Iranyítószám": "1102",
                                    "Számlát kérő vásárlók száma": "44"
                                },
                                {
                                    "Iranyítószám": "8640",
                                    "Számlát kérő vásárlók száma": "2"
                                },
                                {
                                    "Iranyítószám": "5931",
                                    "Számlát kérő vásárlók száma": "36"
                                },
                                {
                                    "Iranyítószám": "7100",
                                    "Számlát kérő vásárlók száma": "34"
                                },
                                {
                                    "Iranyítószám": "7000",
                                    "Számlát kérő vásárlók száma": "2"
                                },
                                {
                                    "Iranyítószám": "7900",
                                    "Számlát kérő vásárlók száma": "43"
                                },
                                {
                                    "Iranyítószám": "5071",
                                    "Számlát kérő vásárlók száma": "50"
                                },
                                {
                                    "Iranyítószám": "5061",
                                    "Számlát kérő vásárlók száma": "28"
                                },
                                {
                                    "Iranyítószám": "2381",
                                    "Számlát kérő vásárlók száma": "1"
                                },
                                {
                                    "Iranyítószám": "7960",
                                    "Számlát kérő vásárlók száma": "43"
                                },
                                {
                                    "Iranyítószám": "5137",
                                    "Számlát kérő vásárlók száma": "114"
                                },
                                {
                                    "Iranyítószám": "2330",
                                    "Számlát kérő vásárlók száma": "3"
                                },
                                {
                                    "Iranyítószám": "9970",
                                    "Számlát kérő vásárlók száma": "2"
                                },
                                {
                                    "Iranyítószám": "2377",
                                    "Számlát kérő vásárlók száma": "2"
                                },
                                {
                                    "Iranyítószám": "1077",
                                    "Számlát kérő vásárlók száma": "38"
                                },
                                {
                                    "Iranyítószám": "4200",
                                    "Számlát kérő vásárlók száma": "2"
                                },
                                {
                                    "Iranyítószám": "1067",
                                    "Számlát kérő vásárlók száma": "4"
                                },
                                {
                                    "Iranyítószám": "3895",
                                    "Számlát kérő vásárlók száma": "2"
                                },
                                {
                                    "Iranyítószám": "6500",
                                    "Számlát kérő vásárlók száma": "2"
                                },
                                {
                                    "Iranyítószám": "6786",
                                    "Számlát kérő vásárlók száma": "67"
                                },
                                {
                                    "Iranyítószám": "1011",
                                    "Számlát kérő vásárlók száma": "3"
                                },
                                {
                                    "Iranyítószám": "4231",
                                    "Számlát kérő vásárlók száma": "34"
                                },
                                {
                                    "Iranyítószám": "3300",
                                    "Számlát kérő vásárlók száma": "1"
                                },
                                {
                                    "Iranyítószám": "6900",
                                    "Számlát kérő vásárlók száma": "1"
                                },
                                {
                                    "Iranyítószám": "2484",
                                    "Számlát kérő vásárlók száma": "47"
                                },
                                {
                                    "Iranyítószám": "3910",
                                    "Számlát kérő vásárlók száma": "3"
                                },
                                {
                                    "Iranyítószám": "8391",
                                    "Számlát kérő vásárlók száma": "4"
                                },
                                {
                                    "Iranyítószám": "2424",
                                    "Számlát kérő vásárlók száma": "37"
                                },
                                {
                                    "Iranyítószám": "1084",
                                    "Számlát kérő vásárlók száma": "1"
                                },
                                {
                                    "Iranyítószám": "9181",
                                    "Számlát kérő vásárlók száma": "47"
                                },
                                {
                                    "Iranyítószám": "2462",
                                    "Számlát kérő vásárlók száma": "40"
                                },
                                {
                                    "Iranyítószám": "7150",
                                    "Számlát kérő vásárlók száma": "3"
                                },
                                {
                                    "Iranyítószám": "3980",
                                    "Számlát kérő vásárlók száma": "1"
                                },
                                {
                                    "Iranyítószám": "2115",
                                    "Számlát kérő vásárlók száma": "7"
                                },
                                {
                                    "Iranyítószám": "7133",
                                    "Számlát kérő vásárlók száma": "30"
                                },
                                {
                                    "Iranyítószám": "3580",
                                    "Számlát kérő vásárlók száma": "35"
                                },
                                {
                                    "Iranyítószám": "2100",
                                    "Számlát kérő vásárlók száma": "53"
                                },
                                {
                                    "Iranyítószám": "5085",
                                    "Számlát kérő vásárlók száma": "1"
                                },
                                {
                                    "Iranyítószám": "2370",
                                    "Számlát kérő vásárlók száma": "5"
                                },
                                {
                                    "Iranyítószám": "6080",
                                    "Számlát kérő vásárlók száma": "32"
                                },
                                {
                                    "Iranyítószám": "2700",
                                    "Számlát kérő vásárlók száma": "36"
                                },
                                {
                                    "Iranyítószám": "1072",
                                    "Számlát kérő vásárlók száma": "2"
                                },
                                {
                                    "Iranyítószám": "4600",
                                    "Számlát kérő vásárlók száma": "1"
                                }
                            ]
                        },
                        "text/html": "<table><tr><th>Iranyítószám</th><th>Számlát kérő vásárlók száma</th></tr><tr><td>1124</td><td>2</td></tr><tr><td>6700</td><td>50</td></tr><tr><td>1155</td><td>1</td></tr><tr><td>9023</td><td>110</td></tr><tr><td>2053</td><td>2</td></tr><tr><td>6060</td><td>2</td></tr><tr><td>4440</td><td>40</td></tr><tr><td>1107</td><td>2</td></tr><tr><td>8315</td><td>1</td></tr><tr><td>4071</td><td>4</td></tr><tr><td>9071</td><td>2</td></tr><tr><td>2855</td><td>41</td></tr><tr><td>4060</td><td>34</td></tr><tr><td>8237</td><td>3</td></tr><tr><td>2300</td><td>38</td></tr><tr><td>8630</td><td>1</td></tr><tr><td>5630</td><td>39</td></tr><tr><td>7086</td><td>44</td></tr><tr><td>8254</td><td>5</td></tr><tr><td>2241</td><td>33</td></tr><tr><td>5200</td><td>74</td></tr><tr><td>7511</td><td>2</td></tr><tr><td>3973</td><td>33</td></tr><tr><td>7349</td><td>2</td></tr><tr><td>3860</td><td>1</td></tr><tr><td>8638</td><td>1</td></tr><tr><td>6430</td><td>37</td></tr><tr><td>7220</td><td>3</td></tr><tr><td>5537</td><td>39</td></tr><tr><td>2117</td><td>4</td></tr><tr><td>1047</td><td>3</td></tr><tr><td>9155</td><td>39</td></tr><tr><td>5465</td><td>1</td></tr><tr><td>9653</td><td>41</td></tr><tr><td>5065</td><td>39</td></tr><tr><td>7149</td><td>39</td></tr><tr><td>4800</td><td>3</td></tr><tr><td>6412</td><td>3</td></tr><tr><td>2532</td><td>2</td></tr><tr><td>2730</td><td>41</td></tr><tr><td>6762</td><td>2</td></tr><tr><td>2600</td><td>2</td></tr><tr><td>4244</td><td>28</td></tr><tr><td>5940</td><td>3</td></tr><tr><td>5530</td><td>3</td></tr><tr><td>3783</td><td>1</td></tr><tr><td>1173</td><td>36</td></tr><tr><td>1149</td><td>40</td></tr><tr><td>8200</td><td>43</td></tr><tr><td>5920</td><td>46</td></tr><tr><td>4400</td><td>42</td></tr><tr><td>5310</td><td>46</td></tr><tr><td>7396</td><td>43</td></tr><tr><td>1183</td><td>37</td></tr><tr><td>8283</td><td>4</td></tr><tr><td>4172</td><td>2</td></tr><tr><td>3630</td><td>2</td></tr><tr><td>2131</td><td>2</td></tr><tr><td>6913</td><td>43</td></tr><tr><td>5083</td><td>1</td></tr><tr><td>6760</td><td>38</td></tr><tr><td>3643</td><td>42</td></tr><tr><td>1035</td><td>6</td></tr><tr><td>6646</td><td>49</td></tr><tr><td>8313</td><td>40</td></tr><tr><td>2085</td><td>30</td></tr><tr><td>1192</td><td>31</td></tr><tr><td>8220</td><td>2</td></tr><tr><td>6131</td><td>2</td></tr><tr><td>2000</td><td>33</td></tr><tr><td>8800</td><td>2</td></tr><tr><td>6050</td><td>38</td></tr><tr><td>2800</td><td>2</td></tr><tr><td>3500</td><td>1</td></tr><tr><td>7130</td><td>4</td></tr><tr><td>1102</td><td>44</td></tr><tr><td>8640</td><td>2</td></tr><tr><td>5931</td><td>36</td></tr><tr><td>7100</td><td>34</td></tr><tr><td>7000</td><td>2</td></tr><tr><td>7900</td><td>43</td></tr><tr><td>5071</td><td>50</td></tr><tr><td>5061</td><td>28</td></tr><tr><td>2381</td><td>1</td></tr><tr><td>7960</td><td>43</td></tr><tr><td>5137</td><td>114</td></tr><tr><td>2330</td><td>3</td></tr><tr><td>9970</td><td>2</td></tr><tr><td>2377</td><td>2</td></tr><tr><td>1077</td><td>38</td></tr><tr><td>4200</td><td>2</td></tr><tr><td>1067</td><td>4</td></tr><tr><td>3895</td><td>2</td></tr><tr><td>6500</td><td>2</td></tr><tr><td>6786</td><td>67</td></tr><tr><td>1011</td><td>3</td></tr><tr><td>4231</td><td>34</td></tr><tr><td>3300</td><td>1</td></tr><tr><td>6900</td><td>1</td></tr><tr><td>2484</td><td>47</td></tr><tr><td>3910</td><td>3</td></tr><tr><td>8391</td><td>4</td></tr><tr><td>2424</td><td>37</td></tr><tr><td>1084</td><td>1</td></tr><tr><td>9181</td><td>47</td></tr><tr><td>2462</td><td>40</td></tr><tr><td>7150</td><td>3</td></tr><tr><td>3980</td><td>1</td></tr><tr><td>2115</td><td>7</td></tr><tr><td>7133</td><td>30</td></tr><tr><td>3580</td><td>35</td></tr><tr><td>2100</td><td>53</td></tr><tr><td>5085</td><td>1</td></tr><tr><td>2370</td><td>5</td></tr><tr><td>6080</td><td>32</td></tr><tr><td>2700</td><td>36</td></tr><tr><td>1072</td><td>2</td></tr><tr><td>4600</td><td>1</td></tr></table>"
                    },
                    "metadata": {}
                }
            ],
            "execution_count": 21
        },
        {
            "cell_type": "code",
            "source": [
                "SELECT LEFT(SZAMLA_CIM, 4) AS \"Iranyítószám\",\r\n",
                "COUNT(SZAMLA_CIM) AS \"Számlát kérő vásárlók száma\",\r\n",
                "RIGHT(LEFT(SZAmla_CIM, CHARINDEX(',', SZAMLA_CIM) - 1), LEN(LEFT(SZALL_CIM, CHARINDEX(',', SZAMLA_CIM) - 1))-4) as \"település\"\r\n",
                "From Rendeles\r\n",
                "WHERE szamla_cim IS NOT NULL\r\n",
                "GROUP BY LEFT(SZAMLA_CIM, 4), RIGHT(LEFT(SZAmla_CIM, CHARINDEX(',', SZAMLA_CIM) - 1), LEN(LEFT(SZALL_CIM, CHARINDEX(',', SZAMLA_CIM) - 1))-4)"
            ],
            "metadata": {
                "azdata_cell_guid": "6ba14aea-c090-49cc-819b-303cc19b6bd0",
                "language": "sql"
            },
            "outputs": [
                {
                    "output_type": "display_data",
                    "data": {
                        "text/html": "(208 rows affected)"
                    },
                    "metadata": {}
                },
                {
                    "output_type": "display_data",
                    "data": {
                        "text/html": "Total execution time: 00:00:00.060"
                    },
                    "metadata": {}
                },
                {
                    "output_type": "execute_result",
                    "execution_count": 41,
                    "data": {
                        "application/vnd.dataresource+json": {
                            "schema": {
                                "fields": [
                                    {
                                        "name": "Iranyítószám"
                                    },
                                    {
                                        "name": "Számlát kérő vásárlók száma"
                                    },
                                    {
                                        "name": "település"
                                    }
                                ]
                            },
                            "data": [
                                {
                                    "Iranyítószám": "2484",
                                    "Számlát kérő vásárlók száma": "19",
                                    "település": " Agárd"
                                },
                                {
                                    "Iranyítószám": "2730",
                                    "Számlát kérő vásárlók száma": "24",
                                    "település": " Albertirsa"
                                },
                                {
                                    "Iranyítószám": "6430",
                                    "Számlát kérő vásárlók száma": "20",
                                    "település": " Bácsalmás"
                                },
                                {
                                    "Iranyítószám": "6500",
                                    "Számlát kérő vásárlók száma": "1",
                                    "település": " Baja"
                                },
                                {
                                    "Iranyítószám": "8220",
                                    "Számlát kérő vásárlók száma": "1",
                                    "település": " Balatonalmádi"
                                },
                                {
                                    "Iranyítószám": "8313",
                                    "Számlát kérő vásárlók száma": "19",
                                    "település": " Balatongyörök"
                                },
                                {
                                    "Iranyítószám": "8638",
                                    "Számlát kérő vásárlók száma": "1",
                                    "település": " Balatonlelle"
                                },
                                {
                                    "Iranyítószám": "4060",
                                    "Számlát kérő vásárlók száma": "18",
                                    "település": " Balmazújváros"
                                },
                                {
                                    "Iranyítószám": "7149",
                                    "Számlát kérő vásárlók száma": "20",
                                    "település": " Báta"
                                },
                                {
                                    "Iranyítószám": "5630",
                                    "Számlát kérő vásárlók száma": "26",
                                    "település": " Békés"
                                },
                                {
                                    "Iranyítószám": "5071",
                                    "Számlát kérő vásárlók száma": "21",
                                    "település": " Besenyszög"
                                },
                                {
                                    "Iranyítószám": "4172",
                                    "Számlát kérő vásárlók száma": "2",
                                    "település": " Biharnagybajom"
                                },
                                {
                                    "Iranyítószám": "2855",
                                    "Számlát kérő vásárlók száma": "23",
                                    "település": " Bokod"
                                },
                                {
                                    "Iranyítószám": "7150",
                                    "Számlát kérő vásárlók száma": "1",
                                    "település": " Bonyhád"
                                },
                                {
                                    "Iranyítószám": "4231",
                                    "Számlát kérő vásárlók száma": "19",
                                    "település": " Bököny"
                                },
                                {
                                    "Iranyítószám": "1011",
                                    "Számlát kérő vásárlók száma": "3",
                                    "település": " Budapest"
                                },
                                {
                                    "Iranyítószám": "1035",
                                    "Számlát kérő vásárlók száma": "4",
                                    "település": " Budapest"
                                },
                                {
                                    "Iranyítószám": "1047",
                                    "Számlát kérő vásárlók száma": "2",
                                    "település": " Budapest"
                                },
                                {
                                    "Iranyítószám": "1067",
                                    "Számlát kérő vásárlók száma": "2",
                                    "település": " Budapest"
                                },
                                {
                                    "Iranyítószám": "1077",
                                    "Számlát kérő vásárlók száma": "23",
                                    "település": " Budapest"
                                },
                                {
                                    "Iranyítószám": "1084",
                                    "Számlát kérő vásárlók száma": "1",
                                    "település": " Budapest"
                                },
                                {
                                    "Iranyítószám": "1102",
                                    "Számlát kérő vásárlók száma": "21",
                                    "település": " Budapest"
                                },
                                {
                                    "Iranyítószám": "1107",
                                    "Számlát kérő vásárlók száma": "2",
                                    "település": " Budapest"
                                },
                                {
                                    "Iranyítószám": "1124",
                                    "Számlát kérő vásárlók száma": "1",
                                    "település": " Budapest"
                                },
                                {
                                    "Iranyítószám": "1149",
                                    "Számlát kérő vásárlók száma": "22",
                                    "település": " Budapest"
                                },
                                {
                                    "Iranyítószám": "1155",
                                    "Számlát kérő vásárlók száma": "1",
                                    "település": " Budapest"
                                },
                                {
                                    "Iranyítószám": "1173",
                                    "Számlát kérő vásárlók száma": "17",
                                    "település": " Budapest"
                                },
                                {
                                    "Iranyítószám": "1183",
                                    "Számlát kérő vásárlók száma": "21",
                                    "település": " Budapest"
                                },
                                {
                                    "Iranyítószám": "1192",
                                    "Számlát kérő vásárlók száma": "23",
                                    "település": " Budapest"
                                },
                                {
                                    "Iranyítószám": "2700",
                                    "Számlát kérő vásárlók száma": "19",
                                    "település": " Cegléd"
                                },
                                {
                                    "Iranyítószám": "3973",
                                    "Számlát kérő vásárlók száma": "18",
                                    "település": " Cigánd"
                                },
                                {
                                    "Iranyítószám": "6913",
                                    "Számlát kérő vásárlók száma": "24",
                                    "település": " Csanádpalota"
                                },
                                {
                                    "Iranyítószám": "5920",
                                    "Számlát kérő vásárlók száma": "21",
                                    "település": " Csorvás"
                                },
                                {
                                    "Iranyítószám": "2370",
                                    "Számlát kérő vásárlók száma": "3",
                                    "település": " Dabas"
                                },
                                {
                                    "Iranyítószám": "3643",
                                    "Számlát kérő vásárlók száma": "24",
                                    "település": " Dédestapolcsány"
                                },
                                {
                                    "Iranyítószám": "2330",
                                    "Számlát kérő vásárlók száma": "1",
                                    "település": " Dunaharaszti"
                                },
                                {
                                    "Iranyítószám": "3300",
                                    "Számlát kérő vásárlók száma": "1",
                                    "település": " Eger"
                                },
                                {
                                    "Iranyítószám": "4071",
                                    "Számlát kérő vásárlók száma": "3",
                                    "település": " Egyek"
                                },
                                {
                                    "Iranyítószám": "2424",
                                    "Számlát kérő vásárlók száma": "16",
                                    "település": " Előszállás"
                                },
                                {
                                    "Iranyítószám": "3860",
                                    "Számlát kérő vásárlók száma": "1",
                                    "település": " Encs"
                                },
                                {
                                    "Iranyítószám": "7133",
                                    "Számlát kérő vásárlók száma": "15",
                                    "település": " Fadd"
                                },
                                {
                                    "Iranyítószám": "8640",
                                    "Számlát kérő vásárlók száma": "1",
                                    "település": " Fonyód"
                                },
                                {
                                    "Iranyítószám": "2131",
                                    "Számlát kérő vásárlók száma": "1",
                                    "település": " Göd"
                                },
                                {
                                    "Iranyítószám": "2100",
                                    "Számlát kérő vásárlók száma": "26",
                                    "település": " Gödöllő"
                                },
                                {
                                    "Iranyítószám": "3895",
                                    "Számlát kérő vásárlók száma": "1",
                                    "település": " Gönc"
                                },
                                {
                                    "Iranyítószám": "9023",
                                    "Számlát kérő vásárlók száma": "49",
                                    "település": " Győr"
                                },
                                {
                                    "Iranyítószám": "4200",
                                    "Számlát kérő vásárlók száma": "1",
                                    "település": " Hajdúszoboszló"
                                },
                                {
                                    "Iranyítószám": "2053",
                                    "Számlát kérő vásárlók száma": "1",
                                    "település": " Herceghalom"
                                },
                                {
                                    "Iranyítószám": "2117",
                                    "Számlát kérő vásárlók száma": "1",
                                    "település": " Isaszeg"
                                },
                                {
                                    "Iranyítószám": "5137",
                                    "Számlát kérő vásárlók száma": "60",
                                    "település": " Jászkisér"
                                },
                                {
                                    "Iranyítószám": "8283",
                                    "Számlát kérő vásárlók száma": "3",
                                    "település": " Káptalantóti"
                                },
                                {
                                    "Iranyítószám": "5083",
                                    "Számlát kérő vásárlók száma": "1",
                                    "település": " Kengyel"
                                },
                                {
                                    "Iranyítószám": "9181",
                                    "Számlát kérő vásárlók száma": "21",
                                    "település": " Kimle"
                                },
                                {
                                    "Iranyítószám": "6760",
                                    "Számlát kérő vásárlók száma": "15",
                                    "település": " Kistelek"
                                },
                                {
                                    "Iranyítószám": "5310",
                                    "Számlát kérő vásárlók száma": "23",
                                    "település": " Kisújszállás"
                                },
                                {
                                    "Iranyítószám": "8254",
                                    "Számlát kérő vásárlók száma": "1",
                                    "település": " Kővágóörs"
                                },
                                {
                                    "Iranyítószám": "6050",
                                    "Számlát kérő vásárlók száma": "22",
                                    "település": " Lajosmizse"
                                },
                                {
                                    "Iranyítószám": "9155",
                                    "Számlát kérő vásárlók száma": "24",
                                    "település": " Lébény"
                                },
                                {
                                    "Iranyítószám": "7396",
                                    "Számlát kérő vásárlók száma": "22",
                                    "település": " Magyarszék"
                                },
                                {
                                    "Iranyítószám": "6900",
                                    "Számlát kérő vásárlók száma": "1",
                                    "település": " Makó"
                                },
                                {
                                    "Iranyítószám": "2462",
                                    "Számlát kérő vásárlók száma": "22",
                                    "település": " Martonvásár"
                                },
                                {
                                    "Iranyítószám": "3500",
                                    "Számlát kérő vásárlók száma": "1",
                                    "település": " Miskolc"
                                },
                                {
                                    "Iranyítószám": "8800",
                                    "Számlát kérő vásárlók száma": "1",
                                    "település": " Nagykanizsa"
                                },
                                {
                                    "Iranyítószám": "5065",
                                    "Számlát kérő vásárlók száma": "17",
                                    "település": " Nagykörű"
                                },
                                {
                                    "Iranyítószám": "5931",
                                    "Számlát kérő vásárlók száma": "18",
                                    "település": " Nagyszénás"
                                },
                                {
                                    "Iranyítószám": "4400",
                                    "Számlát kérő vásárlók száma": "25",
                                    "település": " Nyíregyháza"
                                },
                                {
                                    "Iranyítószám": "7086",
                                    "Számlát kérő vásárlók száma": "29",
                                    "település": " Ozora"
                                },
                                {
                                    "Iranyítószám": "7511",
                                    "Számlát kérő vásárlók száma": "2",
                                    "település": " Ötvöskónyi"
                                },
                                {
                                    "Iranyítószám": "2085",
                                    "Számlát kérő vásárlók száma": "17",
                                    "település": " Pilisvörösvár"
                                },
                                {
                                    "Iranyítószám": "3630",
                                    "Számlát kérő vásárlók száma": "1",
                                    "település": " Putnok"
                                },
                                {
                                    "Iranyítószám": "2300",
                                    "Számlát kérő vásárlók száma": "16",
                                    "település": " Ráckeve"
                                },
                                {
                                    "Iranyítószám": "5085",
                                    "Számlát kérő vásárlók száma": "1",
                                    "település": " Rákóczifalva"
                                },
                                {
                                    "Iranyítószám": "9653",
                                    "Számlát kérő vásárlók száma": "20",
                                    "település": " Répcelak"
                                },
                                {
                                    "Iranyítószám": "6786",
                                    "Számlát kérő vásárlók száma": "39",
                                    "település": " Ruzsa"
                                },
                                {
                                    "Iranyítószám": "6762",
                                    "Számlát kérő vásárlók száma": "1",
                                    "település": " Sándorfalva"
                                },
                                {
                                    "Iranyítószám": "7000",
                                    "Számlát kérő vásárlók száma": "1",
                                    "település": " Sárbogárd"
                                },
                                {
                                    "Iranyítószám": "7220",
                                    "Számlát kérő vásárlók száma": "1",
                                    "település": " Sarkad"
                                },
                                {
                                    "Iranyítószám": "8391",
                                    "Számlát kérő vásárlók száma": "1",
                                    "település": " Sármellék"
                                },
                                {
                                    "Iranyítószám": "7960",
                                    "Számlát kérő vásárlók száma": "16",
                                    "település": " Sellye"
                                },
                                {
                                    "Iranyítószám": "2241",
                                    "Számlát kérő vásárlók száma": "18",
                                    "település": " Sülysáp"
                                },
                                {
                                    "Iranyítószám": "6080",
                                    "Számlát kérő vásárlók száma": "19",
                                    "település": " Szabadszállás"
                                },
                                {
                                    "Iranyítószám": "6131",
                                    "Számlát kérő vásárlók száma": "1",
                                    "település": " Szank"
                                },
                                {
                                    "Iranyítószám": "7349",
                                    "Számlát kérő vásárlók száma": "1",
                                    "település": " Szászvár"
                                },
                                {
                                    "Iranyítószám": "6700",
                                    "Számlát kérő vásárlók száma": "27",
                                    "település": " Szeged"
                                },
                                {
                                    "Iranyítószám": "7100",
                                    "Számlát kérő vásárlók száma": "20",
                                    "település": " Szekszárd"
                                },
                                {
                                    "Iranyítószám": "2000",
                                    "Számlát kérő vásárlók száma": "20",
                                    "település": " Szentendre"
                                },
                                {
                                    "Iranyítószám": "9970",
                                    "Számlát kérő vásárlók száma": "2",
                                    "település": " Szentgotthárd"
                                },
                                {
                                    "Iranyítószám": "7900",
                                    "Számlát kérő vásárlók száma": "20",
                                    "település": " Szigetvár"
                                },
                                {
                                    "Iranyítószám": "2381",
                                    "Számlát kérő vásárlók száma": "1",
                                    "település": " Táborfalva"
                                },
                                {
                                    "Iranyítószám": "2800",
                                    "Számlát kérő vásárlók száma": "1",
                                    "település": " Tatabánya"
                                },
                                {
                                    "Iranyítószám": "8237",
                                    "Számlát kérő vásárlók száma": "2",
                                    "település": " Tihany"
                                },
                                {
                                    "Iranyítószám": "5061",
                                    "Számlát kérő vásárlók száma": "15",
                                    "település": " Tiszasüly"
                                },
                                {
                                    "Iranyítószám": "3580",
                                    "Számlát kérő vásárlók száma": "13",
                                    "település": " Tiszaújváros"
                                },
                                {
                                    "Iranyítószám": "4440",
                                    "Számlát kérő vásárlók száma": "21",
                                    "település": " Tiszavasvári"
                                },
                                {
                                    "Iranyítószám": "3910",
                                    "Számlát kérő vásárlók száma": "1",
                                    "település": " Tokaj"
                                },
                                {
                                    "Iranyítószám": "2532",
                                    "Számlát kérő vásárlók száma": "2",
                                    "település": " Tokodaltáró"
                                },
                                {
                                    "Iranyítószám": "7130",
                                    "Számlát kérő vásárlók száma": "2",
                                    "település": " Tolna"
                                },
                                {
                                    "Iranyítószám": "5940",
                                    "Számlát kérő vásárlók száma": "2",
                                    "település": " Tótkomlós"
                                },
                                {
                                    "Iranyítószám": "6646",
                                    "Számlát kérő vásárlók száma": "22",
                                    "település": " Tömörkény"
                                },
                                {
                                    "Iranyítószám": "5200",
                                    "Számlát kérő vásárlók száma": "35",
                                    "település": " Törökszentmiklós"
                                },
                                {
                                    "Iranyítószám": "4244",
                                    "Számlát kérő vásárlók száma": "14",
                                    "település": " Újfehértó"
                                },
                                {
                                    "Iranyítószám": "2600",
                                    "Számlát kérő vásárlók száma": "2",
                                    "település": " Vác"
                                },
                                {
                                    "Iranyítószám": "2115",
                                    "Számlát kérő vásárlók száma": "4",
                                    "település": " Vácszentlászló"
                                },
                                {
                                    "Iranyítószám": "4800",
                                    "Számlát kérő vásárlók száma": "2",
                                    "település": " Vásárosnamény"
                                },
                                {
                                    "Iranyítószám": "8200",
                                    "Számlát kérő vásárlók száma": "21",
                                    "település": " Veszprém"
                                },
                                {
                                    "Iranyítószám": "5530",
                                    "Számlát kérő vásárlók száma": "1",
                                    "település": " Vésztő"
                                },
                                {
                                    "Iranyítószám": "5537",
                                    "Számlát kérő vásárlók száma": "17",
                                    "település": " Zsadány"
                                },
                                {
                                    "Iranyítószám": "2484",
                                    "Számlát kérő vásárlók száma": "28",
                                    "település": "Agárd"
                                },
                                {
                                    "Iranyítószám": "2730",
                                    "Számlát kérő vásárlók száma": "17",
                                    "település": "Albertirsa"
                                },
                                {
                                    "Iranyítószám": "6430",
                                    "Számlát kérő vásárlók száma": "17",
                                    "település": "Bácsalmás"
                                },
                                {
                                    "Iranyítószám": "6500",
                                    "Számlát kérő vásárlók száma": "1",
                                    "település": "Baja"
                                },
                                {
                                    "Iranyítószám": "8220",
                                    "Számlát kérő vásárlók száma": "1",
                                    "település": "Balatonalmádi"
                                },
                                {
                                    "Iranyítószám": "8630",
                                    "Számlát kérő vásárlók száma": "1",
                                    "település": "Balatonboglár"
                                },
                                {
                                    "Iranyítószám": "8313",
                                    "Számlát kérő vásárlók száma": "21",
                                    "település": "Balatongyörök"
                                },
                                {
                                    "Iranyítószám": "4060",
                                    "Számlát kérő vásárlók száma": "16",
                                    "település": "Balmazújváros"
                                },
                                {
                                    "Iranyítószám": "6412",
                                    "Számlát kérő vásárlók száma": "3",
                                    "település": "Balotaszállás"
                                },
                                {
                                    "Iranyítószám": "7149",
                                    "Számlát kérő vásárlók száma": "19",
                                    "település": "Báta"
                                },
                                {
                                    "Iranyítószám": "5630",
                                    "Számlát kérő vásárlók száma": "13",
                                    "település": "Békés"
                                },
                                {
                                    "Iranyítószám": "5071",
                                    "Számlát kérő vásárlók száma": "29",
                                    "település": "Besenyszög"
                                },
                                {
                                    "Iranyítószám": "2855",
                                    "Számlát kérő vásárlók száma": "18",
                                    "település": "Bokod"
                                },
                                {
                                    "Iranyítószám": "7150",
                                    "Számlát kérő vásárlók száma": "2",
                                    "település": "Bonyhád"
                                },
                                {
                                    "Iranyítószám": "4231",
                                    "Számlát kérő vásárlók száma": "15",
                                    "település": "Bököny"
                                },
                                {
                                    "Iranyítószám": "1035",
                                    "Számlát kérő vásárlók száma": "2",
                                    "település": "Budapest"
                                },
                                {
                                    "Iranyítószám": "1047",
                                    "Számlát kérő vásárlók száma": "1",
                                    "település": "Budapest"
                                },
                                {
                                    "Iranyítószám": "1067",
                                    "Számlát kérő vásárlók száma": "2",
                                    "település": "Budapest"
                                },
                                {
                                    "Iranyítószám": "1072",
                                    "Számlát kérő vásárlók száma": "2",
                                    "település": "Budapest"
                                },
                                {
                                    "Iranyítószám": "1077",
                                    "Számlát kérő vásárlók száma": "15",
                                    "település": "Budapest"
                                },
                                {
                                    "Iranyítószám": "1102",
                                    "Számlát kérő vásárlók száma": "23",
                                    "település": "Budapest"
                                },
                                {
                                    "Iranyítószám": "1124",
                                    "Számlát kérő vásárlók száma": "1",
                                    "település": "Budapest"
                                },
                                {
                                    "Iranyítószám": "1149",
                                    "Számlát kérő vásárlók száma": "18",
                                    "település": "Budapest"
                                },
                                {
                                    "Iranyítószám": "1173",
                                    "Számlát kérő vásárlók száma": "19",
                                    "település": "Budapest"
                                },
                                {
                                    "Iranyítószám": "1183",
                                    "Számlát kérő vásárlók száma": "16",
                                    "település": "Budapest"
                                },
                                {
                                    "Iranyítószám": "1192",
                                    "Számlát kérő vásárlók száma": "8",
                                    "település": "Budapest"
                                },
                                {
                                    "Iranyítószám": "2700",
                                    "Számlát kérő vásárlók száma": "17",
                                    "település": "Cegléd"
                                },
                                {
                                    "Iranyítószám": "3973",
                                    "Számlát kérő vásárlók száma": "15",
                                    "település": "Cigánd"
                                },
                                {
                                    "Iranyítószám": "6913",
                                    "Számlát kérő vásárlók száma": "19",
                                    "település": "Csanádpalota"
                                },
                                {
                                    "Iranyítószám": "5465",
                                    "Számlát kérő vásárlók száma": "1",
                                    "település": "Cserkeszőlő"
                                },
                                {
                                    "Iranyítószám": "5920",
                                    "Számlát kérő vásárlók száma": "25",
                                    "település": "Csorvás"
                                },
                                {
                                    "Iranyítószám": "2370",
                                    "Számlát kérő vásárlók száma": "2",
                                    "település": "Dabas"
                                },
                                {
                                    "Iranyítószám": "3643",
                                    "Számlát kérő vásárlók száma": "18",
                                    "település": "Dédestapolcsány"
                                },
                                {
                                    "Iranyítószám": "2330",
                                    "Számlát kérő vásárlók száma": "2",
                                    "település": "Dunaharaszti"
                                },
                                {
                                    "Iranyítószám": "3783",
                                    "Számlát kérő vásárlók száma": "1",
                                    "település": "Edelény"
                                },
                                {
                                    "Iranyítószám": "4071",
                                    "Számlát kérő vásárlók száma": "1",
                                    "település": "Egyek"
                                },
                                {
                                    "Iranyítószám": "2424",
                                    "Számlát kérő vásárlók száma": "21",
                                    "település": "Előszállás"
                                },
                                {
                                    "Iranyítószám": "7133",
                                    "Számlát kérő vásárlók száma": "15",
                                    "település": "Fadd"
                                },
                                {
                                    "Iranyítószám": "8640",
                                    "Számlát kérő vásárlók száma": "1",
                                    "település": "Fonyód"
                                },
                                {
                                    "Iranyítószám": "2131",
                                    "Számlát kérő vásárlók száma": "1",
                                    "település": "Göd"
                                },
                                {
                                    "Iranyítószám": "2100",
                                    "Számlát kérő vásárlók száma": "27",
                                    "település": "Gödöllő"
                                },
                                {
                                    "Iranyítószám": "3895",
                                    "Számlát kérő vásárlók száma": "1",
                                    "település": "Gönc"
                                },
                                {
                                    "Iranyítószám": "9071",
                                    "Számlát kérő vásárlók száma": "2",
                                    "település": "Görbeháza"
                                },
                                {
                                    "Iranyítószám": "8315",
                                    "Számlát kérő vásárlók száma": "1",
                                    "település": "Gyenesdiás"
                                },
                                {
                                    "Iranyítószám": "9023",
                                    "Számlát kérő vásárlók száma": "61",
                                    "település": "Győr"
                                },
                                {
                                    "Iranyítószám": "4200",
                                    "Számlát kérő vásárlók száma": "1",
                                    "település": "Hajdúszoboszló"
                                },
                                {
                                    "Iranyítószám": "2053",
                                    "Számlát kérő vásárlók száma": "1",
                                    "település": "Herceghalom"
                                },
                                {
                                    "Iranyítószám": "2117",
                                    "Számlát kérő vásárlók száma": "3",
                                    "település": "Isaszeg"
                                },
                                {
                                    "Iranyítószám": "5137",
                                    "Számlát kérő vásárlók száma": "54",
                                    "település": "Jászkisér"
                                },
                                {
                                    "Iranyítószám": "8283",
                                    "Számlát kérő vásárlók száma": "1",
                                    "település": "Káptalantóti"
                                },
                                {
                                    "Iranyítószám": "9181",
                                    "Számlát kérő vásárlók száma": "26",
                                    "település": "Kimle"
                                },
                                {
                                    "Iranyítószám": "6760",
                                    "Számlát kérő vásárlók száma": "23",
                                    "település": "Kistelek"
                                },
                                {
                                    "Iranyítószám": "5310",
                                    "Számlát kérő vásárlók száma": "23",
                                    "település": "Kisújszállás"
                                },
                                {
                                    "Iranyítószám": "4600",
                                    "Számlát kérő vásárlók száma": "1",
                                    "település": "Kisvárda"
                                },
                                {
                                    "Iranyítószám": "8254",
                                    "Számlát kérő vásárlók száma": "4",
                                    "település": "Kővágóörs"
                                },
                                {
                                    "Iranyítószám": "6050",
                                    "Számlát kérő vásárlók száma": "16",
                                    "település": "Lajosmizse"
                                },
                                {
                                    "Iranyítószám": "9155",
                                    "Számlát kérő vásárlók száma": "15",
                                    "település": "Lébény"
                                },
                                {
                                    "Iranyítószám": "7396",
                                    "Számlát kérő vásárlók száma": "21",
                                    "település": "Magyarszék"
                                },
                                {
                                    "Iranyítószám": "2462",
                                    "Számlát kérő vásárlók száma": "18",
                                    "település": "Martonvásár"
                                },
                                {
                                    "Iranyítószám": "8800",
                                    "Számlát kérő vásárlók száma": "1",
                                    "település": "Nagykanizsa"
                                },
                                {
                                    "Iranyítószám": "5065",
                                    "Számlát kérő vásárlók száma": "22",
                                    "település": "Nagykörű"
                                },
                                {
                                    "Iranyítószám": "5931",
                                    "Számlát kérő vásárlók száma": "18",
                                    "település": "Nagyszénás"
                                },
                                {
                                    "Iranyítószám": "4400",
                                    "Számlát kérő vásárlók száma": "17",
                                    "település": "Nyíregyháza"
                                },
                                {
                                    "Iranyítószám": "7086",
                                    "Számlát kérő vásárlók száma": "15",
                                    "település": "Ozora"
                                },
                                {
                                    "Iranyítószám": "2377",
                                    "Számlát kérő vásárlók száma": "2",
                                    "település": "Örkény"
                                },
                                {
                                    "Iranyítószám": "2085",
                                    "Számlát kérő vásárlók száma": "13",
                                    "település": "Pilisvörösvár"
                                },
                                {
                                    "Iranyítószám": "3630",
                                    "Számlát kérő vásárlók száma": "1",
                                    "település": "Putnok"
                                },
                                {
                                    "Iranyítószám": "2300",
                                    "Számlát kérő vásárlók száma": "22",
                                    "település": "Ráckeve"
                                },
                                {
                                    "Iranyítószám": "9653",
                                    "Számlát kérő vásárlók száma": "21",
                                    "település": "Répcelak"
                                },
                                {
                                    "Iranyítószám": "6786",
                                    "Számlát kérő vásárlók száma": "28",
                                    "település": "Ruzsa"
                                },
                                {
                                    "Iranyítószám": "6762",
                                    "Számlát kérő vásárlók száma": "1",
                                    "település": "Sándorfalva"
                                },
                                {
                                    "Iranyítószám": "7000",
                                    "Számlát kérő vásárlók száma": "1",
                                    "település": "Sárbogárd"
                                },
                                {
                                    "Iranyítószám": "7220",
                                    "Számlát kérő vásárlók száma": "2",
                                    "település": "Sarkad"
                                },
                                {
                                    "Iranyítószám": "8391",
                                    "Számlát kérő vásárlók száma": "3",
                                    "település": "Sármellék"
                                },
                                {
                                    "Iranyítószám": "3980",
                                    "Számlát kérő vásárlók száma": "1",
                                    "település": "Sátoraljaújhely"
                                },
                                {
                                    "Iranyítószám": "7960",
                                    "Számlát kérő vásárlók száma": "27",
                                    "település": "Sellye"
                                },
                                {
                                    "Iranyítószám": "2241",
                                    "Számlát kérő vásárlók száma": "15",
                                    "település": "Sülysáp"
                                },
                                {
                                    "Iranyítószám": "6080",
                                    "Számlát kérő vásárlók száma": "13",
                                    "település": "Szabadszállás"
                                },
                                {
                                    "Iranyítószám": "6131",
                                    "Számlát kérő vásárlók száma": "1",
                                    "település": "Szank"
                                },
                                {
                                    "Iranyítószám": "7349",
                                    "Számlát kérő vásárlók száma": "1",
                                    "település": "Szászvár"
                                },
                                {
                                    "Iranyítószám": "6700",
                                    "Számlát kérő vásárlók száma": "23",
                                    "település": "Szeged"
                                },
                                {
                                    "Iranyítószám": "7100",
                                    "Számlát kérő vásárlók száma": "14",
                                    "település": "Szekszárd"
                                },
                                {
                                    "Iranyítószám": "2000",
                                    "Számlát kérő vásárlók száma": "13",
                                    "település": "Szentendre"
                                },
                                {
                                    "Iranyítószám": "7900",
                                    "Számlát kérő vásárlók száma": "23",
                                    "település": "Szigetvár"
                                },
                                {
                                    "Iranyítószám": "2800",
                                    "Számlát kérő vásárlók száma": "1",
                                    "település": "Tatabánya"
                                },
                                {
                                    "Iranyítószám": "8237",
                                    "Számlát kérő vásárlók száma": "1",
                                    "település": "Tihany"
                                },
                                {
                                    "Iranyítószám": "6060",
                                    "Számlát kérő vásárlók száma": "2",
                                    "település": "Tiszakécske"
                                },
                                {
                                    "Iranyítószám": "5061",
                                    "Számlát kérő vásárlók száma": "13",
                                    "település": "Tiszasüly"
                                },
                                {
                                    "Iranyítószám": "3580",
                                    "Számlát kérő vásárlók száma": "22",
                                    "település": "Tiszaújváros"
                                },
                                {
                                    "Iranyítószám": "4440",
                                    "Számlát kérő vásárlók száma": "19",
                                    "település": "Tiszavasvári"
                                },
                                {
                                    "Iranyítószám": "3910",
                                    "Számlát kérő vásárlók száma": "2",
                                    "település": "Tokaj"
                                },
                                {
                                    "Iranyítószám": "7130",
                                    "Számlát kérő vásárlók száma": "2",
                                    "település": "Tolna"
                                },
                                {
                                    "Iranyítószám": "5940",
                                    "Számlát kérő vásárlók száma": "1",
                                    "település": "Tótkomlós"
                                },
                                {
                                    "Iranyítószám": "6646",
                                    "Számlát kérő vásárlók száma": "27",
                                    "település": "Tömörkény"
                                },
                                {
                                    "Iranyítószám": "5200",
                                    "Számlát kérő vásárlók száma": "39",
                                    "település": "Törökszentmiklós"
                                },
                                {
                                    "Iranyítószám": "4244",
                                    "Számlát kérő vásárlók száma": "14",
                                    "település": "Újfehértó"
                                },
                                {
                                    "Iranyítószám": "2115",
                                    "Számlát kérő vásárlók száma": "3",
                                    "település": "Vácszentlászló"
                                },
                                {
                                    "Iranyítószám": "4800",
                                    "Számlát kérő vásárlók száma": "1",
                                    "település": "Vásárosnamény"
                                },
                                {
                                    "Iranyítószám": "8200",
                                    "Számlát kérő vásárlók száma": "22",
                                    "település": "Veszprém"
                                },
                                {
                                    "Iranyítószám": "5530",
                                    "Számlát kérő vásárlók száma": "2",
                                    "település": "Vésztő"
                                },
                                {
                                    "Iranyítószám": "5537",
                                    "Számlát kérő vásárlók száma": "22",
                                    "település": "Zsadány"
                                }
                            ]
                        },
                        "text/html": "<table><tr><th>Iranyítószám</th><th>Számlát kérő vásárlók száma</th><th>település</th></tr><tr><td>2484</td><td>19</td><td> Agárd</td></tr><tr><td>2730</td><td>24</td><td> Albertirsa</td></tr><tr><td>6430</td><td>20</td><td> Bácsalmás</td></tr><tr><td>6500</td><td>1</td><td> Baja</td></tr><tr><td>8220</td><td>1</td><td> Balatonalmádi</td></tr><tr><td>8313</td><td>19</td><td> Balatongyörök</td></tr><tr><td>8638</td><td>1</td><td> Balatonlelle</td></tr><tr><td>4060</td><td>18</td><td> Balmazújváros</td></tr><tr><td>7149</td><td>20</td><td> Báta</td></tr><tr><td>5630</td><td>26</td><td> Békés</td></tr><tr><td>5071</td><td>21</td><td> Besenyszög</td></tr><tr><td>4172</td><td>2</td><td> Biharnagybajom</td></tr><tr><td>2855</td><td>23</td><td> Bokod</td></tr><tr><td>7150</td><td>1</td><td> Bonyhád</td></tr><tr><td>4231</td><td>19</td><td> Bököny</td></tr><tr><td>1011</td><td>3</td><td> Budapest</td></tr><tr><td>1035</td><td>4</td><td> Budapest</td></tr><tr><td>1047</td><td>2</td><td> Budapest</td></tr><tr><td>1067</td><td>2</td><td> Budapest</td></tr><tr><td>1077</td><td>23</td><td> Budapest</td></tr><tr><td>1084</td><td>1</td><td> Budapest</td></tr><tr><td>1102</td><td>21</td><td> Budapest</td></tr><tr><td>1107</td><td>2</td><td> Budapest</td></tr><tr><td>1124</td><td>1</td><td> Budapest</td></tr><tr><td>1149</td><td>22</td><td> Budapest</td></tr><tr><td>1155</td><td>1</td><td> Budapest</td></tr><tr><td>1173</td><td>17</td><td> Budapest</td></tr><tr><td>1183</td><td>21</td><td> Budapest</td></tr><tr><td>1192</td><td>23</td><td> Budapest</td></tr><tr><td>2700</td><td>19</td><td> Cegléd</td></tr><tr><td>3973</td><td>18</td><td> Cigánd</td></tr><tr><td>6913</td><td>24</td><td> Csanádpalota</td></tr><tr><td>5920</td><td>21</td><td> Csorvás</td></tr><tr><td>2370</td><td>3</td><td> Dabas</td></tr><tr><td>3643</td><td>24</td><td> Dédestapolcsány</td></tr><tr><td>2330</td><td>1</td><td> Dunaharaszti</td></tr><tr><td>3300</td><td>1</td><td> Eger</td></tr><tr><td>4071</td><td>3</td><td> Egyek</td></tr><tr><td>2424</td><td>16</td><td> Előszállás</td></tr><tr><td>3860</td><td>1</td><td> Encs</td></tr><tr><td>7133</td><td>15</td><td> Fadd</td></tr><tr><td>8640</td><td>1</td><td> Fonyód</td></tr><tr><td>2131</td><td>1</td><td> Göd</td></tr><tr><td>2100</td><td>26</td><td> Gödöllő</td></tr><tr><td>3895</td><td>1</td><td> Gönc</td></tr><tr><td>9023</td><td>49</td><td> Győr</td></tr><tr><td>4200</td><td>1</td><td> Hajdúszoboszló</td></tr><tr><td>2053</td><td>1</td><td> Herceghalom</td></tr><tr><td>2117</td><td>1</td><td> Isaszeg</td></tr><tr><td>5137</td><td>60</td><td> Jászkisér</td></tr><tr><td>8283</td><td>3</td><td> Káptalantóti</td></tr><tr><td>5083</td><td>1</td><td> Kengyel</td></tr><tr><td>9181</td><td>21</td><td> Kimle</td></tr><tr><td>6760</td><td>15</td><td> Kistelek</td></tr><tr><td>5310</td><td>23</td><td> Kisújszállás</td></tr><tr><td>8254</td><td>1</td><td> Kővágóörs</td></tr><tr><td>6050</td><td>22</td><td> Lajosmizse</td></tr><tr><td>9155</td><td>24</td><td> Lébény</td></tr><tr><td>7396</td><td>22</td><td> Magyarszék</td></tr><tr><td>6900</td><td>1</td><td> Makó</td></tr><tr><td>2462</td><td>22</td><td> Martonvásár</td></tr><tr><td>3500</td><td>1</td><td> Miskolc</td></tr><tr><td>8800</td><td>1</td><td> Nagykanizsa</td></tr><tr><td>5065</td><td>17</td><td> Nagykörű</td></tr><tr><td>5931</td><td>18</td><td> Nagyszénás</td></tr><tr><td>4400</td><td>25</td><td> Nyíregyháza</td></tr><tr><td>7086</td><td>29</td><td> Ozora</td></tr><tr><td>7511</td><td>2</td><td> Ötvöskónyi</td></tr><tr><td>2085</td><td>17</td><td> Pilisvörösvár</td></tr><tr><td>3630</td><td>1</td><td> Putnok</td></tr><tr><td>2300</td><td>16</td><td> Ráckeve</td></tr><tr><td>5085</td><td>1</td><td> Rákóczifalva</td></tr><tr><td>9653</td><td>20</td><td> Répcelak</td></tr><tr><td>6786</td><td>39</td><td> Ruzsa</td></tr><tr><td>6762</td><td>1</td><td> Sándorfalva</td></tr><tr><td>7000</td><td>1</td><td> Sárbogárd</td></tr><tr><td>7220</td><td>1</td><td> Sarkad</td></tr><tr><td>8391</td><td>1</td><td> Sármellék</td></tr><tr><td>7960</td><td>16</td><td> Sellye</td></tr><tr><td>2241</td><td>18</td><td> Sülysáp</td></tr><tr><td>6080</td><td>19</td><td> Szabadszállás</td></tr><tr><td>6131</td><td>1</td><td> Szank</td></tr><tr><td>7349</td><td>1</td><td> Szászvár</td></tr><tr><td>6700</td><td>27</td><td> Szeged</td></tr><tr><td>7100</td><td>20</td><td> Szekszárd</td></tr><tr><td>2000</td><td>20</td><td> Szentendre</td></tr><tr><td>9970</td><td>2</td><td> Szentgotthárd</td></tr><tr><td>7900</td><td>20</td><td> Szigetvár</td></tr><tr><td>2381</td><td>1</td><td> Táborfalva</td></tr><tr><td>2800</td><td>1</td><td> Tatabánya</td></tr><tr><td>8237</td><td>2</td><td> Tihany</td></tr><tr><td>5061</td><td>15</td><td> Tiszasüly</td></tr><tr><td>3580</td><td>13</td><td> Tiszaújváros</td></tr><tr><td>4440</td><td>21</td><td> Tiszavasvári</td></tr><tr><td>3910</td><td>1</td><td> Tokaj</td></tr><tr><td>2532</td><td>2</td><td> Tokodaltáró</td></tr><tr><td>7130</td><td>2</td><td> Tolna</td></tr><tr><td>5940</td><td>2</td><td> Tótkomlós</td></tr><tr><td>6646</td><td>22</td><td> Tömörkény</td></tr><tr><td>5200</td><td>35</td><td> Törökszentmiklós</td></tr><tr><td>4244</td><td>14</td><td> Újfehértó</td></tr><tr><td>2600</td><td>2</td><td> Vác</td></tr><tr><td>2115</td><td>4</td><td> Vácszentlászló</td></tr><tr><td>4800</td><td>2</td><td> Vásárosnamény</td></tr><tr><td>8200</td><td>21</td><td> Veszprém</td></tr><tr><td>5530</td><td>1</td><td> Vésztő</td></tr><tr><td>5537</td><td>17</td><td> Zsadány</td></tr><tr><td>2484</td><td>28</td><td>Agárd</td></tr><tr><td>2730</td><td>17</td><td>Albertirsa</td></tr><tr><td>6430</td><td>17</td><td>Bácsalmás</td></tr><tr><td>6500</td><td>1</td><td>Baja</td></tr><tr><td>8220</td><td>1</td><td>Balatonalmádi</td></tr><tr><td>8630</td><td>1</td><td>Balatonboglár</td></tr><tr><td>8313</td><td>21</td><td>Balatongyörök</td></tr><tr><td>4060</td><td>16</td><td>Balmazújváros</td></tr><tr><td>6412</td><td>3</td><td>Balotaszállás</td></tr><tr><td>7149</td><td>19</td><td>Báta</td></tr><tr><td>5630</td><td>13</td><td>Békés</td></tr><tr><td>5071</td><td>29</td><td>Besenyszög</td></tr><tr><td>2855</td><td>18</td><td>Bokod</td></tr><tr><td>7150</td><td>2</td><td>Bonyhád</td></tr><tr><td>4231</td><td>15</td><td>Bököny</td></tr><tr><td>1035</td><td>2</td><td>Budapest</td></tr><tr><td>1047</td><td>1</td><td>Budapest</td></tr><tr><td>1067</td><td>2</td><td>Budapest</td></tr><tr><td>1072</td><td>2</td><td>Budapest</td></tr><tr><td>1077</td><td>15</td><td>Budapest</td></tr><tr><td>1102</td><td>23</td><td>Budapest</td></tr><tr><td>1124</td><td>1</td><td>Budapest</td></tr><tr><td>1149</td><td>18</td><td>Budapest</td></tr><tr><td>1173</td><td>19</td><td>Budapest</td></tr><tr><td>1183</td><td>16</td><td>Budapest</td></tr><tr><td>1192</td><td>8</td><td>Budapest</td></tr><tr><td>2700</td><td>17</td><td>Cegléd</td></tr><tr><td>3973</td><td>15</td><td>Cigánd</td></tr><tr><td>6913</td><td>19</td><td>Csanádpalota</td></tr><tr><td>5465</td><td>1</td><td>Cserkeszőlő</td></tr><tr><td>5920</td><td>25</td><td>Csorvás</td></tr><tr><td>2370</td><td>2</td><td>Dabas</td></tr><tr><td>3643</td><td>18</td><td>Dédestapolcsány</td></tr><tr><td>2330</td><td>2</td><td>Dunaharaszti</td></tr><tr><td>3783</td><td>1</td><td>Edelény</td></tr><tr><td>4071</td><td>1</td><td>Egyek</td></tr><tr><td>2424</td><td>21</td><td>Előszállás</td></tr><tr><td>7133</td><td>15</td><td>Fadd</td></tr><tr><td>8640</td><td>1</td><td>Fonyód</td></tr><tr><td>2131</td><td>1</td><td>Göd</td></tr><tr><td>2100</td><td>27</td><td>Gödöllő</td></tr><tr><td>3895</td><td>1</td><td>Gönc</td></tr><tr><td>9071</td><td>2</td><td>Görbeháza</td></tr><tr><td>8315</td><td>1</td><td>Gyenesdiás</td></tr><tr><td>9023</td><td>61</td><td>Győr</td></tr><tr><td>4200</td><td>1</td><td>Hajdúszoboszló</td></tr><tr><td>2053</td><td>1</td><td>Herceghalom</td></tr><tr><td>2117</td><td>3</td><td>Isaszeg</td></tr><tr><td>5137</td><td>54</td><td>Jászkisér</td></tr><tr><td>8283</td><td>1</td><td>Káptalantóti</td></tr><tr><td>9181</td><td>26</td><td>Kimle</td></tr><tr><td>6760</td><td>23</td><td>Kistelek</td></tr><tr><td>5310</td><td>23</td><td>Kisújszállás</td></tr><tr><td>4600</td><td>1</td><td>Kisvárda</td></tr><tr><td>8254</td><td>4</td><td>Kővágóörs</td></tr><tr><td>6050</td><td>16</td><td>Lajosmizse</td></tr><tr><td>9155</td><td>15</td><td>Lébény</td></tr><tr><td>7396</td><td>21</td><td>Magyarszék</td></tr><tr><td>2462</td><td>18</td><td>Martonvásár</td></tr><tr><td>8800</td><td>1</td><td>Nagykanizsa</td></tr><tr><td>5065</td><td>22</td><td>Nagykörű</td></tr><tr><td>5931</td><td>18</td><td>Nagyszénás</td></tr><tr><td>4400</td><td>17</td><td>Nyíregyháza</td></tr><tr><td>7086</td><td>15</td><td>Ozora</td></tr><tr><td>2377</td><td>2</td><td>Örkény</td></tr><tr><td>2085</td><td>13</td><td>Pilisvörösvár</td></tr><tr><td>3630</td><td>1</td><td>Putnok</td></tr><tr><td>2300</td><td>22</td><td>Ráckeve</td></tr><tr><td>9653</td><td>21</td><td>Répcelak</td></tr><tr><td>6786</td><td>28</td><td>Ruzsa</td></tr><tr><td>6762</td><td>1</td><td>Sándorfalva</td></tr><tr><td>7000</td><td>1</td><td>Sárbogárd</td></tr><tr><td>7220</td><td>2</td><td>Sarkad</td></tr><tr><td>8391</td><td>3</td><td>Sármellék</td></tr><tr><td>3980</td><td>1</td><td>Sátoraljaújhely</td></tr><tr><td>7960</td><td>27</td><td>Sellye</td></tr><tr><td>2241</td><td>15</td><td>Sülysáp</td></tr><tr><td>6080</td><td>13</td><td>Szabadszállás</td></tr><tr><td>6131</td><td>1</td><td>Szank</td></tr><tr><td>7349</td><td>1</td><td>Szászvár</td></tr><tr><td>6700</td><td>23</td><td>Szeged</td></tr><tr><td>7100</td><td>14</td><td>Szekszárd</td></tr><tr><td>2000</td><td>13</td><td>Szentendre</td></tr><tr><td>7900</td><td>23</td><td>Szigetvár</td></tr><tr><td>2800</td><td>1</td><td>Tatabánya</td></tr><tr><td>8237</td><td>1</td><td>Tihany</td></tr><tr><td>6060</td><td>2</td><td>Tiszakécske</td></tr><tr><td>5061</td><td>13</td><td>Tiszasüly</td></tr><tr><td>3580</td><td>22</td><td>Tiszaújváros</td></tr><tr><td>4440</td><td>19</td><td>Tiszavasvári</td></tr><tr><td>3910</td><td>2</td><td>Tokaj</td></tr><tr><td>7130</td><td>2</td><td>Tolna</td></tr><tr><td>5940</td><td>1</td><td>Tótkomlós</td></tr><tr><td>6646</td><td>27</td><td>Tömörkény</td></tr><tr><td>5200</td><td>39</td><td>Törökszentmiklós</td></tr><tr><td>4244</td><td>14</td><td>Újfehértó</td></tr><tr><td>2115</td><td>3</td><td>Vácszentlászló</td></tr><tr><td>4800</td><td>1</td><td>Vásárosnamény</td></tr><tr><td>8200</td><td>22</td><td>Veszprém</td></tr><tr><td>5530</td><td>2</td><td>Vésztő</td></tr><tr><td>5537</td><td>22</td><td>Zsadány</td></tr></table>"
                    },
                    "metadata": {}
                }
            ],
            "execution_count": 41
        },
        {
            "cell_type": "code",
            "source": [
                "SELECT TOP 10\r\n",
                "    [LOGIN] AS 'legtöbbet vásárlók', \r\n",
                "    COUNT(*) As 'rendelések száma'\r\n",
                "from Rendeles\r\n",
                "WHERE LOGIN IS NOT null\r\n",
                "GROUP BY LOGIN\r\n",
                "ORDER BY COUNT(*) desc"
            ],
            "metadata": {
                "azdata_cell_guid": "bffeebcd-b9a8-4535-b33b-7940511cf0bf",
                "language": "sql"
            },
            "outputs": [
                {
                    "output_type": "display_data",
                    "data": {
                        "text/html": "(10 rows affected)"
                    },
                    "metadata": {}
                },
                {
                    "output_type": "display_data",
                    "data": {
                        "text/html": "Total execution time: 00:00:00.050"
                    },
                    "metadata": {}
                },
                {
                    "output_type": "execute_result",
                    "execution_count": 31,
                    "data": {
                        "application/vnd.dataresource+json": {
                            "schema": {
                                "fields": [
                                    {
                                        "name": "legtöbbet vásárlók"
                                    },
                                    {
                                        "name": "rendelések száma"
                                    }
                                ]
                            },
                            "data": [
                                {
                                    "legtöbbet vásárlók": "peter4",
                                    "rendelések száma": "852"
                                },
                                {
                                    "legtöbbet vásárlók": "szabolcs",
                                    "rendelések száma": "471"
                                },
                                {
                                    "legtöbbet vásárlók": "eva2",
                                    "rendelések száma": "462"
                                },
                                {
                                    "legtöbbet vásárlók": "balint1",
                                    "rendelések száma": "462"
                                },
                                {
                                    "legtöbbet vásárlók": "krisztina",
                                    "rendelések száma": "456"
                                },
                                {
                                    "legtöbbet vásárlók": "david",
                                    "rendelések száma": "451"
                                },
                                {
                                    "legtöbbet vásárlók": "JUDITH",
                                    "rendelések száma": "450"
                                },
                                {
                                    "legtöbbet vásárlók": "LASZLOA",
                                    "rendelések száma": "446"
                                },
                                {
                                    "legtöbbet vásárlók": "szilvia1",
                                    "rendelések száma": "445"
                                },
                                {
                                    "legtöbbet vásárlók": "pal",
                                    "rendelések száma": "438"
                                }
                            ]
                        },
                        "text/html": "<table><tr><th>legtöbbet vásárlók</th><th>rendelések száma</th></tr><tr><td>peter4</td><td>852</td></tr><tr><td>szabolcs</td><td>471</td></tr><tr><td>eva2</td><td>462</td></tr><tr><td>balint1</td><td>462</td></tr><tr><td>krisztina</td><td>456</td></tr><tr><td>david</td><td>451</td></tr><tr><td>JUDITH</td><td>450</td></tr><tr><td>LASZLOA</td><td>446</td></tr><tr><td>szilvia1</td><td>445</td></tr><tr><td>pal</td><td>438</td></tr></table>"
                    },
                    "metadata": {
                        "azdata_chartOptions": {
                            "type": "bar",
                            "dataDirection": "vertical",
                            "columnsAsLabels": true,
                            "labelFirstColumn": false,
                            "legendPosition": "top",
                            "dataType": "number",
                            "encoding": "hex",
                            "imageFormat": "jpeg"
                        }
                    }
                }
            ],
            "execution_count": 31
        }
    ]
}